{
 "cells": [
  {
   "attachments": {},
   "cell_type": "markdown",
   "metadata": {},
   "source": [
    "# INFO 4271 - Exercise 6 - Link Analysis\n",
    "\n",
    "Issued: May 20, 2025\n",
    "\n",
    "Due: May 26, 2025\n",
    "\n",
    "Please submit this filled sheet via Ilias by the due date.\n",
    "\n",
    "---"
   ]
  },
  {
   "attachments": {},
   "cell_type": "markdown",
   "metadata": {},
   "source": [
    "# 1. Co-Linking Similarity \n",
    "The directed graph of resource pointers (e.g., hyperlinks on the Internet, or citations in academic publishing) implicitly encodes topic information but can be much cheaper to process than the content words of the individual documents.\n",
    "\n",
    "a) Implement a document similarity measure based only on graph topology, assuming that documents are similar if they link to similar documents."
   ]
  },
  {
   "cell_type": "code",
   "execution_count": 16,
   "metadata": {},
   "outputs": [
    {
     "name": "stdout",
     "output_type": "stream",
     "text": [
      "\tD1\tD2\tD3\tD4\tD5\tD6\tD7\tD8\tD9\tD10\tD11\tD12\tD13\tD14\tD15\tD16\tD17\tD18\tD19\tD20\t\n",
      "D1\t\u001b[32m1.000\u001b[37m\t0.000\u001b[37m\t\u001b[33m0.167\u001b[37m\t\u001b[33m0.250\u001b[37m\t0.000\u001b[37m\t0.000\u001b[37m\t0.000\u001b[37m\t\u001b[33m0.077\u001b[37m\t0.000\u001b[37m\t\u001b[33m0.250\u001b[37m\t0.000\u001b[37m\t\u001b[33m0.167\u001b[37m\t0.000\u001b[37m\t\u001b[33m0.333\u001b[37m\t0.000\u001b[37m\t\u001b[33m0.250\u001b[37m\t0.000\u001b[37m\t\u001b[33m0.250\u001b[37m\t0.000\u001b[37m\t0.000\u001b[37m\t\n",
      "D2\t0.000\u001b[37m\t\u001b[32m1.000\u001b[37m\t0.000\u001b[37m\t0.000\u001b[37m\t0.000\u001b[37m\t0.000\u001b[37m\t0.000\u001b[37m\t\u001b[33m0.071\u001b[37m\t0.000\u001b[37m\t0.000\u001b[37m\t\u001b[33m0.333\u001b[37m\t0.000\u001b[37m\t0.000\u001b[37m\t0.000\u001b[37m\t\u001b[33m0.333\u001b[37m\t0.000\u001b[37m\t\u001b[33m0.286\u001b[37m\t0.000\u001b[37m\t0.000\u001b[37m\t0.000\u001b[37m\t\n",
      "D3\t\u001b[33m0.167\u001b[37m\t0.000\u001b[37m\t\u001b[32m1.000\u001b[37m\t\u001b[33m0.143\u001b[37m\t0.000\u001b[37m\t\u001b[33m0.125\u001b[37m\t\u001b[33m0.167\u001b[37m\t\u001b[33m0.214\u001b[37m\t0.000\u001b[37m\t\u001b[33m0.333\u001b[37m\t0.000\u001b[37m\t\u001b[33m0.111\u001b[37m\t\u001b[33m0.333\u001b[37m\t\u001b[33m0.167\u001b[37m\t0.000\u001b[37m\t0.000\u001b[37m\t\u001b[33m0.100\u001b[37m\t\u001b[33m0.143\u001b[37m\t0.000\u001b[37m\t0.000\u001b[37m\t\n",
      "D4\t\u001b[33m0.250\u001b[37m\t0.000\u001b[37m\t\u001b[33m0.143\u001b[37m\t\u001b[32m1.000\u001b[37m\t\u001b[33m0.200\u001b[37m\t0.000\u001b[37m\t0.000\u001b[37m\t\u001b[33m0.250\u001b[37m\t0.000\u001b[37m\t\u001b[33m0.200\u001b[37m\t0.000\u001b[37m\t\u001b[33m0.143\u001b[37m\t\u001b[33m0.200\u001b[37m\t\u001b[33m0.667\u001b[37m\t0.000\u001b[37m\t\u001b[33m0.200\u001b[37m\t0.000\u001b[37m\t\u001b[32m1.000\u001b[37m\t0.000\u001b[37m\t0.000\u001b[37m\t\n",
      "D5\t0.000\u001b[37m\t0.000\u001b[37m\t0.000\u001b[37m\t\u001b[33m0.200\u001b[37m\t\u001b[32m1.000\u001b[37m\t\u001b[33m0.167\u001b[37m\t0.000\u001b[37m\t\u001b[33m0.154\u001b[37m\t0.000\u001b[37m\t0.000\u001b[37m\t0.000\u001b[37m\t0.000\u001b[37m\t\u001b[33m0.200\u001b[37m\t\u001b[33m0.250\u001b[37m\t0.000\u001b[37m\t\u001b[33m0.200\u001b[37m\t0.000\u001b[37m\t\u001b[33m0.200\u001b[37m\t0.000\u001b[37m\t0.000\u001b[37m\t\n",
      "D6\t0.000\u001b[37m\t0.000\u001b[37m\t\u001b[33m0.125\u001b[37m\t0.000\u001b[37m\t\u001b[33m0.167\u001b[37m\t\u001b[32m1.000\u001b[37m\t\u001b[33m0.200\u001b[37m\t\u001b[33m0.143\u001b[37m\t0.000\u001b[37m\t0.000\u001b[37m\t0.000\u001b[37m\t0.000\u001b[37m\t0.000\u001b[37m\t0.000\u001b[37m\t0.000\u001b[37m\t0.000\u001b[37m\t\u001b[33m0.111\u001b[37m\t0.000\u001b[37m\t0.000\u001b[37m\t\u001b[33m0.250\u001b[37m\t\n",
      "D7\t0.000\u001b[37m\t0.000\u001b[37m\t\u001b[33m0.167\u001b[37m\t0.000\u001b[37m\t0.000\u001b[37m\t\u001b[33m0.200\u001b[37m\t\u001b[32m1.000\u001b[37m\t\u001b[33m0.167\u001b[37m\t0.000\u001b[37m\t\u001b[33m0.250\u001b[37m\t0.000\u001b[37m\t0.000\u001b[37m\t0.000\u001b[37m\t0.000\u001b[37m\t0.000\u001b[37m\t0.000\u001b[37m\t0.000\u001b[37m\t0.000\u001b[37m\t0.000\u001b[37m\t0.000\u001b[37m\t\n",
      "D8\t\u001b[33m0.077\u001b[37m\t\u001b[33m0.071\u001b[37m\t\u001b[33m0.214\u001b[37m\t\u001b[33m0.250\u001b[37m\t\u001b[33m0.154\u001b[37m\t\u001b[33m0.143\u001b[37m\t\u001b[33m0.167\u001b[37m\t\u001b[32m1.000\u001b[37m\t0.000\u001b[37m\t\u001b[33m0.250\u001b[37m\t0.000\u001b[37m\t\u001b[33m0.214\u001b[37m\t\u001b[33m0.071\u001b[37m\t\u001b[33m0.167\u001b[37m\t0.000\u001b[37m\t\u001b[33m0.154\u001b[37m\t\u001b[33m0.125\u001b[37m\t\u001b[33m0.250\u001b[37m\t0.000\u001b[37m\t0.000\u001b[37m\t\n",
      "D9\t0.000\u001b[37m\t0.000\u001b[37m\t0.000\u001b[37m\t0.000\u001b[37m\t0.000\u001b[37m\t0.000\u001b[37m\t0.000\u001b[37m\t0.000\u001b[37m\t\u001b[32m1.000\u001b[37m\t0.000\u001b[37m\t0.000\u001b[37m\t0.000\u001b[37m\t0.000\u001b[37m\t0.000\u001b[37m\t0.000\u001b[37m\t0.000\u001b[37m\t0.000\u001b[37m\t0.000\u001b[37m\t\u001b[32m1.000\u001b[37m\t0.000\u001b[37m\t\n",
      "D10\t\u001b[33m0.250\u001b[37m\t0.000\u001b[37m\t\u001b[33m0.333\u001b[37m\t\u001b[33m0.200\u001b[37m\t0.000\u001b[37m\t0.000\u001b[37m\t\u001b[33m0.250\u001b[37m\t\u001b[33m0.250\u001b[37m\t0.000\u001b[37m\t\u001b[32m1.000\u001b[37m\t0.000\u001b[37m\t0.000\u001b[37m\t0.000\u001b[37m\t\u001b[33m0.250\u001b[37m\t0.000\u001b[37m\t0.000\u001b[37m\t\u001b[33m0.125\u001b[37m\t\u001b[33m0.200\u001b[37m\t0.000\u001b[37m\t0.000\u001b[37m\t\n",
      "D11\t0.000\u001b[37m\t\u001b[33m0.333\u001b[37m\t0.000\u001b[37m\t0.000\u001b[37m\t0.000\u001b[37m\t0.000\u001b[37m\t0.000\u001b[37m\t0.000\u001b[37m\t0.000\u001b[37m\t0.000\u001b[37m\t\u001b[32m1.000\u001b[37m\t0.000\u001b[37m\t0.000\u001b[37m\t0.000\u001b[37m\t0.000\u001b[37m\t0.000\u001b[37m\t\u001b[33m0.167\u001b[37m\t0.000\u001b[37m\t0.000\u001b[37m\t0.000\u001b[37m\t\n",
      "D12\t\u001b[33m0.167\u001b[37m\t0.000\u001b[37m\t\u001b[33m0.111\u001b[37m\t\u001b[33m0.143\u001b[37m\t0.000\u001b[37m\t0.000\u001b[37m\t0.000\u001b[37m\t\u001b[33m0.214\u001b[37m\t0.000\u001b[37m\t0.000\u001b[37m\t0.000\u001b[37m\t\u001b[32m1.000\u001b[37m\t\u001b[33m0.143\u001b[37m\t0.000\u001b[37m\t0.000\u001b[37m\t\u001b[33m0.143\u001b[37m\t\u001b[33m0.100\u001b[37m\t\u001b[33m0.143\u001b[37m\t0.000\u001b[37m\t0.000\u001b[37m\t\n",
      "D13\t0.000\u001b[37m\t0.000\u001b[37m\t\u001b[33m0.333\u001b[37m\t\u001b[33m0.200\u001b[37m\t\u001b[33m0.200\u001b[37m\t0.000\u001b[37m\t0.000\u001b[37m\t\u001b[33m0.071\u001b[37m\t0.000\u001b[37m\t0.000\u001b[37m\t0.000\u001b[37m\t\u001b[33m0.143\u001b[37m\t\u001b[32m1.000\u001b[37m\t\u001b[33m0.250\u001b[37m\t0.000\u001b[37m\t\u001b[33m0.200\u001b[37m\t\u001b[33m0.125\u001b[37m\t\u001b[33m0.200\u001b[37m\t0.000\u001b[37m\t0.000\u001b[37m\t\n",
      "D14\t\u001b[33m0.333\u001b[37m\t0.000\u001b[37m\t\u001b[33m0.167\u001b[37m\t\u001b[33m0.667\u001b[37m\t\u001b[33m0.250\u001b[37m\t0.000\u001b[37m\t0.000\u001b[37m\t\u001b[33m0.167\u001b[37m\t0.000\u001b[37m\t\u001b[33m0.250\u001b[37m\t0.000\u001b[37m\t0.000\u001b[37m\t\u001b[33m0.250\u001b[37m\t\u001b[32m1.000\u001b[37m\t0.000\u001b[37m\t\u001b[33m0.250\u001b[37m\t0.000\u001b[37m\t\u001b[33m0.667\u001b[37m\t0.000\u001b[37m\t0.000\u001b[37m\t\n",
      "D15\t0.000\u001b[37m\t\u001b[33m0.333\u001b[37m\t0.000\u001b[37m\t0.000\u001b[37m\t0.000\u001b[37m\t0.000\u001b[37m\t0.000\u001b[37m\t0.000\u001b[37m\t0.000\u001b[37m\t0.000\u001b[37m\t0.000\u001b[37m\t0.000\u001b[37m\t0.000\u001b[37m\t0.000\u001b[37m\t\u001b[32m1.000\u001b[37m\t0.000\u001b[37m\t\u001b[33m0.167\u001b[37m\t0.000\u001b[37m\t0.000\u001b[37m\t0.000\u001b[37m\t\n",
      "D16\t\u001b[33m0.250\u001b[37m\t0.000\u001b[37m\t0.000\u001b[37m\t\u001b[33m0.200\u001b[37m\t\u001b[33m0.200\u001b[37m\t0.000\u001b[37m\t0.000\u001b[37m\t\u001b[33m0.154\u001b[37m\t0.000\u001b[37m\t0.000\u001b[37m\t0.000\u001b[37m\t\u001b[33m0.143\u001b[37m\t\u001b[33m0.200\u001b[37m\t\u001b[33m0.250\u001b[37m\t0.000\u001b[37m\t\u001b[32m1.000\u001b[37m\t0.000\u001b[37m\t\u001b[33m0.200\u001b[37m\t0.000\u001b[37m\t0.000\u001b[37m\t\n",
      "D17\t0.000\u001b[37m\t\u001b[33m0.286\u001b[37m\t\u001b[33m0.100\u001b[37m\t0.000\u001b[37m\t0.000\u001b[37m\t\u001b[33m0.111\u001b[37m\t0.000\u001b[37m\t\u001b[33m0.125\u001b[37m\t0.000\u001b[37m\t\u001b[33m0.125\u001b[37m\t\u001b[33m0.167\u001b[37m\t\u001b[33m0.100\u001b[37m\t\u001b[33m0.125\u001b[37m\t0.000\u001b[37m\t\u001b[33m0.167\u001b[37m\t0.000\u001b[37m\t\u001b[32m1.000\u001b[37m\t0.000\u001b[37m\t0.000\u001b[37m\t\u001b[33m0.167\u001b[37m\t\n",
      "D18\t\u001b[33m0.250\u001b[37m\t0.000\u001b[37m\t\u001b[33m0.143\u001b[37m\t\u001b[32m1.000\u001b[37m\t\u001b[33m0.200\u001b[37m\t0.000\u001b[37m\t0.000\u001b[37m\t\u001b[33m0.250\u001b[37m\t0.000\u001b[37m\t\u001b[33m0.200\u001b[37m\t0.000\u001b[37m\t\u001b[33m0.143\u001b[37m\t\u001b[33m0.200\u001b[37m\t\u001b[33m0.667\u001b[37m\t0.000\u001b[37m\t\u001b[33m0.200\u001b[37m\t0.000\u001b[37m\t\u001b[32m1.000\u001b[37m\t0.000\u001b[37m\t0.000\u001b[37m\t\n",
      "D19\t0.000\u001b[37m\t0.000\u001b[37m\t0.000\u001b[37m\t0.000\u001b[37m\t0.000\u001b[37m\t0.000\u001b[37m\t0.000\u001b[37m\t0.000\u001b[37m\t\u001b[32m1.000\u001b[37m\t0.000\u001b[37m\t0.000\u001b[37m\t0.000\u001b[37m\t0.000\u001b[37m\t0.000\u001b[37m\t0.000\u001b[37m\t0.000\u001b[37m\t0.000\u001b[37m\t0.000\u001b[37m\t\u001b[32m1.000\u001b[37m\t0.000\u001b[37m\t\n",
      "D20\t0.000\u001b[37m\t0.000\u001b[37m\t0.000\u001b[37m\t0.000\u001b[37m\t0.000\u001b[37m\t\u001b[33m0.250\u001b[37m\t0.000\u001b[37m\t0.000\u001b[37m\t0.000\u001b[37m\t0.000\u001b[37m\t0.000\u001b[37m\t0.000\u001b[37m\t0.000\u001b[37m\t0.000\u001b[37m\t0.000\u001b[37m\t0.000\u001b[37m\t\u001b[33m0.167\u001b[37m\t0.000\u001b[37m\t0.000\u001b[37m\t\u001b[32m1.000\u001b[37m\t\n"
     ]
    }
   ],
   "source": [
    "#An example graph topology. Each entry represents a document alongside the outgoing links found in its content.\n",
    "graph = {'D1' : ['D14', 'D16'],\n",
    "\t\t 'D2' : ['D5', 'D6', 'D7'],\n",
    "\t\t 'D3' : ['D4', 'D14', 'D15', 'D18', 'D19'],\n",
    "\t\t 'D4' : ['D2', 'D9', 'D14'],\n",
    "\t\t 'D5' : ['D2', 'D8', 'D17'],\n",
    "\t\t 'D6' : ['D3', 'D8', 'D12', 'D15'],\n",
    "\t\t 'D7' : ['D3', 'D19'],\n",
    "\t\t 'D8' : ['D1', 'D2', 'D3', 'D5', 'D9', 'D10', 'D11', 'D13', 'D14', 'D15', 'D17', 'D19'],\n",
    "\t\t 'D9' : [],\n",
    "\t\t 'D10' : ['D1', 'D14', 'D19'],\n",
    "\t\t 'D11' : ['D6'],\n",
    "\t\t 'D12' : ['D9', 'D11', 'D13', 'D16', 'D18'],\n",
    "\t\t 'D13' : ['D2', 'D4', 'D18'],\n",
    "\t\t 'D14' : ['D2', 'D14'],\n",
    "\t\t 'D15' : ['D7'],\n",
    "\t\t 'D16' : ['D2', 'D10', 'D16'],\n",
    "\t\t 'D17' : ['D1', 'D4', 'D6', 'D7', 'D11', 'D12'],\n",
    "\t\t 'D18' : ['D2', 'D9', 'D14'],\n",
    "\t\t 'D19' : [],\n",
    "\t\t 'D20' : ['D12']\n",
    "\t\t}\n",
    "\n",
    "#Measure the similarity between two documents x and y in a graph based on their outgoing links.\n",
    "def sim_out(x, y, graph):\n",
    "\tset_x = set(graph[x])\n",
    "\tset_y = set(graph[y])\n",
    "\tif len(set_x) == 0 or len(set_y) == 0: return int(set_x == set_y)\n",
    "\treturn len(set_x.intersection(set_y)) / len(set_x.union(set_y))\n",
    "\n",
    "#Print a document simialrity matrix\n",
    "l = '\\t'\n",
    "for doc in graph:\n",
    "\tl += doc+'\\t'\n",
    "print(l)\n",
    "for doc in graph:\n",
    "\tl = doc+'\\t'\n",
    "\tfor d in graph:\n",
    "\t\tv = sim_out(doc, d, graph)\n",
    "\t\tc = \"\"\n",
    "\t\tif v >= 0.99: c = \"\\33[32m\"\n",
    "\t\telif v > 0: c = \"\\33[33m\"\n",
    "\t\tl += c + f\"{v:.3f}\\33[37m\\t\"\n",
    "\tprint(l)"
   ]
  },
  {
   "attachments": {},
   "cell_type": "markdown",
   "metadata": {},
   "source": [
    "b) Now let us modify the above scheme to also use the documents' incoming links in the calculation of the similarity score."
   ]
  },
  {
   "cell_type": "code",
   "execution_count": 18,
   "metadata": {},
   "outputs": [
    {
     "name": "stdout",
     "output_type": "stream",
     "text": [
      "\tD1\tD2\tD3\tD4\tD5\tD6\tD7\tD8\tD9\tD10\tD11\tD12\tD13\tD14\tD15\tD16\tD17\tD18\tD19\tD20\t\n",
      "D1\t\u001b[32m1.000\u001b[37m\t\u001b[33m0.056\u001b[37m\t\u001b[33m0.183\u001b[37m\t\u001b[33m0.225\u001b[37m\t\u001b[33m0.125\u001b[37m\t\u001b[33m0.100\u001b[37m\t\u001b[33m0.100\u001b[37m\t\u001b[33m0.038\u001b[37m\t\u001b[33m0.083\u001b[37m\t\u001b[33m0.250\u001b[37m\t\u001b[33m0.250\u001b[37m\t\u001b[33m0.183\u001b[37m\t\u001b[33m0.125\u001b[37m\t\u001b[33m0.292\u001b[37m\t\u001b[33m0.100\u001b[37m\t\u001b[33m0.125\u001b[37m\t\u001b[33m0.125\u001b[37m\t\u001b[33m0.125\u001b[37m\t\u001b[33m0.200\u001b[37m\t0.000\u001b[37m\t\n",
      "D2\t\u001b[33m0.056\u001b[37m\t\u001b[32m1.000\u001b[37m\t\u001b[33m0.056\u001b[37m\t\u001b[33m0.056\u001b[37m\t\u001b[33m0.062\u001b[37m\t0.000\u001b[37m\t0.000\u001b[37m\t\u001b[33m0.098\u001b[37m\t\u001b[33m0.188\u001b[37m\t\u001b[33m0.143\u001b[37m\t\u001b[33m0.222\u001b[37m\t0.000\u001b[37m\t\u001b[33m0.062\u001b[37m\t\u001b[33m0.200\u001b[37m\t\u001b[33m0.222\u001b[37m\t\u001b[33m0.056\u001b[37m\t\u001b[33m0.286\u001b[37m\t\u001b[33m0.056\u001b[37m\t\u001b[33m0.050\u001b[37m\t0.000\u001b[37m\t\n",
      "D3\t\u001b[33m0.183\u001b[37m\t\u001b[33m0.056\u001b[37m\t\u001b[32m1.000\u001b[37m\t\u001b[33m0.071\u001b[37m\t\u001b[33m0.125\u001b[37m\t\u001b[33m0.062\u001b[37m\t\u001b[33m0.083\u001b[37m\t\u001b[33m0.232\u001b[37m\t\u001b[33m0.083\u001b[37m\t\u001b[33m0.292\u001b[37m\t\u001b[33m0.100\u001b[37m\t\u001b[33m0.156\u001b[37m\t\u001b[33m0.292\u001b[37m\t\u001b[33m0.139\u001b[37m\t\u001b[33m0.250\u001b[37m\t0.000\u001b[37m\t\u001b[33m0.175\u001b[37m\t\u001b[33m0.071\u001b[37m\t\u001b[33m0.200\u001b[37m\t0.000\u001b[37m\t\n",
      "D4\t\u001b[33m0.225\u001b[37m\t\u001b[33m0.056\u001b[37m\t\u001b[33m0.071\u001b[37m\t\u001b[32m1.000\u001b[37m\t\u001b[33m0.100\u001b[37m\t\u001b[33m0.100\u001b[37m\t\u001b[33m0.100\u001b[37m\t\u001b[33m0.125\u001b[37m\t0.000\u001b[37m\t\u001b[33m0.100\u001b[37m\t\u001b[33m0.100\u001b[37m\t\u001b[33m0.171\u001b[37m\t\u001b[33m0.100\u001b[37m\t\u001b[33m0.389\u001b[37m\t\u001b[33m0.100\u001b[37m\t\u001b[33m0.100\u001b[37m\t0.000\u001b[37m\t\u001b[33m0.750\u001b[37m\t\u001b[33m0.083\u001b[37m\t0.000\u001b[37m\t\n",
      "D5\t\u001b[33m0.125\u001b[37m\t\u001b[33m0.062\u001b[37m\t\u001b[33m0.125\u001b[37m\t\u001b[33m0.100\u001b[37m\t\u001b[32m1.000\u001b[37m\t\u001b[33m0.208\u001b[37m\t\u001b[33m0.125\u001b[37m\t\u001b[33m0.077\u001b[37m\t\u001b[33m0.100\u001b[37m\t\u001b[33m0.167\u001b[37m\t\u001b[33m0.125\u001b[37m\t0.000\u001b[37m\t\u001b[33m0.267\u001b[37m\t\u001b[33m0.188\u001b[37m\t\u001b[33m0.125\u001b[37m\t\u001b[33m0.100\u001b[37m\t\u001b[33m0.167\u001b[37m\t\u001b[33m0.100\u001b[37m\t\u001b[33m0.100\u001b[37m\t0.000\u001b[37m\t\n",
      "D6\t\u001b[33m0.100\u001b[37m\t0.000\u001b[37m\t\u001b[33m0.062\u001b[37m\t\u001b[33m0.100\u001b[37m\t\u001b[33m0.208\u001b[37m\t\u001b[32m1.000\u001b[37m\t\u001b[33m0.350\u001b[37m\t\u001b[33m0.071\u001b[37m\t0.000\u001b[37m\t0.000\u001b[37m\t\u001b[33m0.100\u001b[37m\t\u001b[33m0.100\u001b[37m\t0.000\u001b[37m\t0.000\u001b[37m\t0.000\u001b[37m\t0.000\u001b[37m\t\u001b[33m0.056\u001b[37m\t0.000\u001b[37m\t0.000\u001b[37m\t\u001b[33m0.125\u001b[37m\t\n",
      "D7\t\u001b[33m0.100\u001b[37m\t0.000\u001b[37m\t\u001b[33m0.083\u001b[37m\t\u001b[33m0.100\u001b[37m\t\u001b[33m0.125\u001b[37m\t\u001b[33m0.350\u001b[37m\t\u001b[32m1.000\u001b[37m\t\u001b[33m0.083\u001b[37m\t0.000\u001b[37m\t\u001b[33m0.125\u001b[37m\t\u001b[33m0.100\u001b[37m\t\u001b[33m0.100\u001b[37m\t0.000\u001b[37m\t0.000\u001b[37m\t0.000\u001b[37m\t0.000\u001b[37m\t0.000\u001b[37m\t0.000\u001b[37m\t0.000\u001b[37m\t0.000\u001b[37m\t\n",
      "D8\t\u001b[33m0.038\u001b[37m\t\u001b[33m0.098\u001b[37m\t\u001b[33m0.232\u001b[37m\t\u001b[33m0.125\u001b[37m\t\u001b[33m0.077\u001b[37m\t\u001b[33m0.071\u001b[37m\t\u001b[33m0.083\u001b[37m\t\u001b[32m1.000\u001b[37m\t0.000\u001b[37m\t\u001b[33m0.125\u001b[37m\t0.000\u001b[37m\t\u001b[33m0.232\u001b[37m\t\u001b[33m0.036\u001b[37m\t\u001b[33m0.083\u001b[37m\t\u001b[33m0.125\u001b[37m\t\u001b[33m0.077\u001b[37m\t\u001b[33m0.229\u001b[37m\t\u001b[33m0.125\u001b[37m\t0.000\u001b[37m\t0.000\u001b[37m\t\n",
      "D9\t\u001b[33m0.083\u001b[37m\t\u001b[33m0.188\u001b[37m\t\u001b[33m0.083\u001b[37m\t0.000\u001b[37m\t\u001b[33m0.100\u001b[37m\t0.000\u001b[37m\t0.000\u001b[37m\t0.000\u001b[37m\t\u001b[32m1.000\u001b[37m\t\u001b[33m0.100\u001b[37m\t\u001b[33m0.200\u001b[37m\t0.000\u001b[37m\t\u001b[33m0.250\u001b[37m\t\u001b[33m0.188\u001b[37m\t\u001b[33m0.083\u001b[37m\t\u001b[33m0.083\u001b[37m\t\u001b[33m0.100\u001b[37m\t\u001b[33m0.083\u001b[37m\t\u001b[33m0.571\u001b[37m\t0.000\u001b[37m\t\n",
      "D10\t\u001b[33m0.250\u001b[37m\t\u001b[33m0.143\u001b[37m\t\u001b[33m0.292\u001b[37m\t\u001b[33m0.100\u001b[37m\t\u001b[33m0.167\u001b[37m\t0.000\u001b[37m\t\u001b[33m0.125\u001b[37m\t\u001b[33m0.125\u001b[37m\t\u001b[33m0.100\u001b[37m\t\u001b[32m1.000\u001b[37m\t\u001b[33m0.125\u001b[37m\t0.000\u001b[37m\t\u001b[33m0.167\u001b[37m\t\u001b[33m0.188\u001b[37m\t\u001b[33m0.125\u001b[37m\t\u001b[33m0.125\u001b[37m\t\u001b[33m0.229\u001b[37m\t\u001b[33m0.100\u001b[37m\t\u001b[33m0.100\u001b[37m\t0.000\u001b[37m\t\n",
      "D11\t\u001b[33m0.250\u001b[37m\t\u001b[33m0.222\u001b[37m\t\u001b[33m0.100\u001b[37m\t\u001b[33m0.100\u001b[37m\t\u001b[33m0.125\u001b[37m\t\u001b[33m0.100\u001b[37m\t\u001b[33m0.100\u001b[37m\t0.000\u001b[37m\t\u001b[33m0.200\u001b[37m\t\u001b[33m0.125\u001b[37m\t\u001b[32m1.000\u001b[37m\t\u001b[33m0.100\u001b[37m\t\u001b[33m0.333\u001b[37m\t\u001b[33m0.056\u001b[37m\t\u001b[33m0.100\u001b[37m\t\u001b[33m0.100\u001b[37m\t\u001b[33m0.208\u001b[37m\t\u001b[33m0.100\u001b[37m\t\u001b[33m0.083\u001b[37m\t0.000\u001b[37m\t\n",
      "D12\t\u001b[33m0.183\u001b[37m\t0.000\u001b[37m\t\u001b[33m0.156\u001b[37m\t\u001b[33m0.171\u001b[37m\t0.000\u001b[37m\t\u001b[33m0.100\u001b[37m\t\u001b[33m0.100\u001b[37m\t\u001b[33m0.232\u001b[37m\t0.000\u001b[37m\t0.000\u001b[37m\t\u001b[33m0.100\u001b[37m\t\u001b[32m1.000\u001b[37m\t\u001b[33m0.071\u001b[37m\t0.000\u001b[37m\t\u001b[33m0.100\u001b[37m\t\u001b[33m0.071\u001b[37m\t\u001b[33m0.050\u001b[37m\t\u001b[33m0.071\u001b[37m\t0.000\u001b[37m\t0.000\u001b[37m\t\n",
      "D13\t\u001b[33m0.125\u001b[37m\t\u001b[33m0.062\u001b[37m\t\u001b[33m0.292\u001b[37m\t\u001b[33m0.100\u001b[37m\t\u001b[33m0.267\u001b[37m\t0.000\u001b[37m\t0.000\u001b[37m\t\u001b[33m0.036\u001b[37m\t\u001b[33m0.250\u001b[37m\t\u001b[33m0.167\u001b[37m\t\u001b[33m0.333\u001b[37m\t\u001b[33m0.071\u001b[37m\t\u001b[32m1.000\u001b[37m\t\u001b[33m0.188\u001b[37m\t\u001b[33m0.125\u001b[37m\t\u001b[33m0.225\u001b[37m\t\u001b[33m0.229\u001b[37m\t\u001b[33m0.225\u001b[37m\t\u001b[33m0.100\u001b[37m\t0.000\u001b[37m\t\n",
      "D14\t\u001b[33m0.292\u001b[37m\t\u001b[33m0.200\u001b[37m\t\u001b[33m0.139\u001b[37m\t\u001b[33m0.389\u001b[37m\t\u001b[33m0.188\u001b[37m\t0.000\u001b[37m\t0.000\u001b[37m\t\u001b[33m0.083\u001b[37m\t\u001b[33m0.188\u001b[37m\t\u001b[33m0.188\u001b[37m\t\u001b[33m0.056\u001b[37m\t0.000\u001b[37m\t\u001b[33m0.188\u001b[37m\t\u001b[32m1.000\u001b[37m\t\u001b[33m0.125\u001b[37m\t\u001b[33m0.181\u001b[37m\t\u001b[33m0.062\u001b[37m\t\u001b[33m0.389\u001b[37m\t\u001b[33m0.188\u001b[37m\t0.000\u001b[37m\t\n",
      "D15\t\u001b[33m0.100\u001b[37m\t\u001b[33m0.222\u001b[37m\t\u001b[33m0.250\u001b[37m\t\u001b[33m0.100\u001b[37m\t\u001b[33m0.125\u001b[37m\t0.000\u001b[37m\t0.000\u001b[37m\t\u001b[33m0.125\u001b[37m\t\u001b[33m0.083\u001b[37m\t\u001b[33m0.125\u001b[37m\t\u001b[33m0.100\u001b[37m\t\u001b[33m0.100\u001b[37m\t\u001b[33m0.125\u001b[37m\t\u001b[33m0.125\u001b[37m\t\u001b[32m1.000\u001b[37m\t0.000\u001b[37m\t\u001b[33m0.208\u001b[37m\t\u001b[33m0.100\u001b[37m\t\u001b[33m0.200\u001b[37m\t0.000\u001b[37m\t\n",
      "D16\t\u001b[33m0.125\u001b[37m\t\u001b[33m0.056\u001b[37m\t0.000\u001b[37m\t\u001b[33m0.100\u001b[37m\t\u001b[33m0.100\u001b[37m\t0.000\u001b[37m\t0.000\u001b[37m\t\u001b[33m0.077\u001b[37m\t\u001b[33m0.083\u001b[37m\t\u001b[33m0.125\u001b[37m\t\u001b[33m0.100\u001b[37m\t\u001b[33m0.071\u001b[37m\t\u001b[33m0.225\u001b[37m\t\u001b[33m0.181\u001b[37m\t0.000\u001b[37m\t\u001b[32m1.000\u001b[37m\t0.000\u001b[37m\t\u001b[33m0.200\u001b[37m\t0.000\u001b[37m\t0.000\u001b[37m\t\n",
      "D17\t\u001b[33m0.125\u001b[37m\t\u001b[33m0.286\u001b[37m\t\u001b[33m0.175\u001b[37m\t0.000\u001b[37m\t\u001b[33m0.167\u001b[37m\t\u001b[33m0.056\u001b[37m\t0.000\u001b[37m\t\u001b[33m0.229\u001b[37m\t\u001b[33m0.100\u001b[37m\t\u001b[33m0.229\u001b[37m\t\u001b[33m0.208\u001b[37m\t\u001b[33m0.050\u001b[37m\t\u001b[33m0.229\u001b[37m\t\u001b[33m0.062\u001b[37m\t\u001b[33m0.208\u001b[37m\t0.000\u001b[37m\t\u001b[32m1.000\u001b[37m\t0.000\u001b[37m\t\u001b[33m0.100\u001b[37m\t\u001b[33m0.083\u001b[37m\t\n",
      "D18\t\u001b[33m0.125\u001b[37m\t\u001b[33m0.056\u001b[37m\t\u001b[33m0.071\u001b[37m\t\u001b[33m0.750\u001b[37m\t\u001b[33m0.100\u001b[37m\t0.000\u001b[37m\t0.000\u001b[37m\t\u001b[33m0.125\u001b[37m\t\u001b[33m0.083\u001b[37m\t\u001b[33m0.100\u001b[37m\t\u001b[33m0.100\u001b[37m\t\u001b[33m0.071\u001b[37m\t\u001b[33m0.225\u001b[37m\t\u001b[33m0.389\u001b[37m\t\u001b[33m0.100\u001b[37m\t\u001b[33m0.200\u001b[37m\t0.000\u001b[37m\t\u001b[32m1.000\u001b[37m\t\u001b[33m0.083\u001b[37m\t0.000\u001b[37m\t\n",
      "D19\t\u001b[33m0.200\u001b[37m\t\u001b[33m0.050\u001b[37m\t\u001b[33m0.200\u001b[37m\t\u001b[33m0.083\u001b[37m\t\u001b[33m0.100\u001b[37m\t0.000\u001b[37m\t0.000\u001b[37m\t0.000\u001b[37m\t\u001b[33m0.571\u001b[37m\t\u001b[33m0.100\u001b[37m\t\u001b[33m0.083\u001b[37m\t0.000\u001b[37m\t\u001b[33m0.100\u001b[37m\t\u001b[33m0.188\u001b[37m\t\u001b[33m0.200\u001b[37m\t0.000\u001b[37m\t\u001b[33m0.100\u001b[37m\t\u001b[33m0.083\u001b[37m\t\u001b[32m1.000\u001b[37m\t0.000\u001b[37m\t\n",
      "D20\t0.000\u001b[37m\t0.000\u001b[37m\t0.000\u001b[37m\t0.000\u001b[37m\t0.000\u001b[37m\t\u001b[33m0.125\u001b[37m\t0.000\u001b[37m\t0.000\u001b[37m\t0.000\u001b[37m\t0.000\u001b[37m\t0.000\u001b[37m\t0.000\u001b[37m\t0.000\u001b[37m\t0.000\u001b[37m\t0.000\u001b[37m\t0.000\u001b[37m\t\u001b[33m0.083\u001b[37m\t0.000\u001b[37m\t0.000\u001b[37m\t\u001b[32m1.000\u001b[37m\t\n"
     ]
    }
   ],
   "source": [
    "#Measure the similarity between two documents x and y in a graph based on their incoming and outgoing links.\n",
    "def sim_inout(x, y, graph):\n",
    "    out = sim_out(x, y, graph)\n",
    "    set_x = set([k for k, v in graph.items() if x in v])\n",
    "    set_y = set([k for k, v in graph.items() if y in v])\n",
    "    i = int(set_x == set_y) if len(set_x) == 0 or len(set_y) == 0 else len(set_x.intersection(set_y)) / len(set_x.union(set_y))\n",
    "    return (out + i) / 2\n",
    "\n",
    "#Print a document simialrity matrix\n",
    "l = '\\t'\n",
    "for doc in graph:\n",
    "\tl += doc+'\\t'\n",
    "print(l)\n",
    "for doc in graph:\n",
    "\tl = doc+'\\t'\n",
    "\tfor d in graph:\n",
    "\t\tv = sim_inout(doc, d, graph)\n",
    "\t\tc = \"\"\n",
    "\t\tif v >= 0.99: c = \"\\33[32m\"\n",
    "\t\telif v > 0: c = \"\\33[33m\"\n",
    "\t\tl += c + f\"{v:.3f}\\33[37m\\t\"\n",
    "\tprint(l)"
   ]
  },
  {
   "attachments": {},
   "cell_type": "markdown",
   "metadata": {},
   "source": [
    "c) Discuss the differences between these two simialrity score variants. What are the salient advantages and disadvantages they offer?"
   ]
  },
  {
   "attachments": {},
   "cell_type": "markdown",
   "metadata": {},
   "source": [
    "The implementation of these methods may vary. In my implementation the second method results in more documents having a similarity score > 0 but the similarity scores are lower on average. More scores > 0 helps with giving as many documents as possible a rank with which they can be compared and selected. While less scores > 0 could reduce the amount of documents and keep the documents with scores > 0 more relevant. Also the first method makes it easier to have scores of 1 meaning perfect matches if only perfect matches are used as a result this method will yield more results."
   ]
  },
  {
   "attachments": {},
   "cell_type": "markdown",
   "metadata": {},
   "source": [
    "# 2. PageRank\n",
    "\n",
    "The PageRank algorithm models page authoritativeness. Is it robust to tempering? Can you think of ways to game the PageRank scheme and give your website an artificially high score? What are ways to defend against such attacks?"
   ]
  },
  {
   "attachments": {},
   "cell_type": "markdown",
   "metadata": {},
   "source": [
    "Creating pages that link to your page could skew the results. To avoid this pages which don't get linked to could be removed. But this could be avoided by having your pages also link to each other. If they don't have large pages pointing to them or are themselves large their scores will be rather small, then could be prevented by removing pages with low ranks."
   ]
  }
 ],
 "metadata": {
  "kernelspec": {
   "display_name": "MSE",
   "language": "python",
   "name": "python3"
  },
  "language_info": {
   "codemirror_mode": {
    "name": "ipython",
    "version": 3
   },
   "file_extension": ".py",
   "mimetype": "text/x-python",
   "name": "python",
   "nbconvert_exporter": "python",
   "pygments_lexer": "ipython3",
   "version": "3.11.11"
  },
  "orig_nbformat": 4
 },
 "nbformat": 4,
 "nbformat_minor": 2
}
