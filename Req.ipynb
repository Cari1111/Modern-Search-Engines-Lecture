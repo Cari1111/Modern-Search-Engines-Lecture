{
 "cells": [
  {
   "cell_type": "code",
   "execution_count": 1,
   "id": "b1b150d7",
   "metadata": {},
   "outputs": [],
   "source": [
    "# Jupyter notebook cell: generate requirements.txt without version pins\n",
    "import pkg_resources\n",
    "\n",
    "# Collect all installed distribution names\n",
    "package_names = {dist.project_name for dist in pkg_resources.working_set}\n",
    "\n",
    "# Sort and write to requirements.txt without version specifiers\n",
    "sorted_packages = sorted(package_names)\n",
    "with open('requirements.txt', 'w') as req_file:\n",
    "    req_file.write(\"\\n\".join(sorted_packages))"
   ]
  }
 ],
 "metadata": {
  "kernelspec": {
   "display_name": "MSE",
   "language": "python",
   "name": "python3"
  },
  "language_info": {
   "codemirror_mode": {
    "name": "ipython",
    "version": 3
   },
   "file_extension": ".py",
   "mimetype": "text/x-python",
   "name": "python",
   "nbconvert_exporter": "python",
   "pygments_lexer": "ipython3",
   "version": "3.11.11"
  }
 },
 "nbformat": 4,
 "nbformat_minor": 5
}
