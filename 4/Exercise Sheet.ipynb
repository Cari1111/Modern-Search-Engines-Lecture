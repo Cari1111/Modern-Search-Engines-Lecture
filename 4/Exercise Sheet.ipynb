{
 "cells": [
  {
   "attachments": {},
   "cell_type": "markdown",
   "metadata": {},
   "source": [
    "# INFO 4271 - Exercise 4 - Statistical Ranking\n",
    "\n",
    "Issued: May 6, 2025\n",
    "\n",
    "Due: May 12, 2025\n",
    "\n",
    "Please submit this filled sheet via Ilias by the due date.\n",
    "\n",
    "---"
   ]
  },
  {
   "attachments": {},
   "cell_type": "markdown",
   "metadata": {},
   "source": [
    "# 1. Generative Relevance Models\n",
    "Generative retrieval models use the probabilistic language model framework for matching queries and documents.\n",
    "\n",
    "a) Implement the `rank()` function sketched below. In class, we discussed two alternative model variants. Choose the query likelihood model."
   ]
  },
  {
   "cell_type": "code",
   "execution_count": null,
   "metadata": {},
   "outputs": [],
   "source": [
    "#Rank a collection of documents relative to a query using the query likelihood model\n",
    "def rank(Q, D):\n",
    "\tpass #TODO: Implement me\n",
    "\n",
    "\n",
    "Q = 'french bulldog'\n",
    "D = ['the french revolution was a period of upheaval in france',\n",
    "     'the french bulldog is a small breed of domestic dog',\n",
    "     'french is a very french language spoken by the french']\n",
    "\n",
    "print(rank(Q, D))"
   ]
  },
  {
   "attachments": {},
   "cell_type": "markdown",
   "metadata": {},
   "source": [
    "b) Probabilistic language models may encounter previously unseen query terms. Explain why this can become problematic and how you would address the issue. "
   ]
  },
  {
   "attachments": {},
   "cell_type": "markdown",
   "metadata": {},
   "source": []
  },
  {
   "attachments": {},
   "cell_type": "markdown",
   "metadata": {},
   "source": [
    "# 2. Relevance Feedback\n",
    "Relevance Feedback allows us to refine the query representation after a round of user interaction with the search results. If organic feedback is not available, we can assume highly ranked documents to be *pseudo* relevant. Discuss the advantages and disadvantages of the pseudo relevance feedback scheme. Think in particular about single versus multiple rounds of feedback."
   ]
  },
  {
   "attachments": {},
   "cell_type": "markdown",
   "metadata": {},
   "source": []
  }
 ],
 "metadata": {
  "kernelspec": {
   "display_name": "Python 3",
   "language": "python",
   "name": "python3"
  },
  "language_info": {
   "codemirror_mode": {
    "name": "ipython",
    "version": 3
   },
   "file_extension": ".py",
   "mimetype": "text/x-python",
   "name": "python",
   "nbconvert_exporter": "python",
   "pygments_lexer": "ipython3",
   "version": "3.11.3"
  },
  "orig_nbformat": 4
 },
 "nbformat": 4,
 "nbformat_minor": 2
}
