{
 "cells": [
  {
   "cell_type": "markdown",
   "id": "48879cab",
   "metadata": {},
   "source": [
    "## Boolean Matching"
   ]
  },
  {
   "cell_type": "code",
   "execution_count": 107,
   "id": "1007636d",
   "metadata": {},
   "outputs": [
    {
     "name": "stdout",
     "output_type": "stream",
     "text": [
      "[12724819  2459139  4329574 ...  1071756 19691820 11997889]\n",
      "(19443,)\n"
     ]
    }
   ],
   "source": [
    "from collections import Counter\n",
    "import numpy as np\n",
    "\n",
    "def get_matching(*lists):\n",
    "  acc = np.concatenate(lists)\n",
    "  counts = np.array(list(Counter(acc).items()))\n",
    "  counts = counts[counts[:,1] == len(lists)]\n",
    "  return counts[:,0]\n",
    "\n",
    "def rand_list(size): return np.random.choice(np.arange(size*2), size=size, replace=False)\n",
    "\n",
    "array_dim = (int(1e1), int(1e7))\n",
    "\n",
    "array = np.empty(array_dim)\n",
    "# array = np.apply_along_axis(rand_list(array_dim[1]), 0, array)\n",
    "array = [rand_list(int(array_dim[1])) for _ in range(int(array_dim[0]))]\n",
    "# print(test)\n",
    "res = get_matching(*array)\n",
    "print(res)\n",
    "print(res.shape)"
   ]
  },
  {
   "cell_type": "markdown",
   "id": "2e93ad52",
   "metadata": {},
   "source": [
    "## Vector Space Model"
   ]
  },
  {
   "cell_type": "code",
   "execution_count": 3,
   "id": "531f87b7",
   "metadata": {},
   "outputs": [
    {
     "name": "stdout",
     "output_type": "stream",
     "text": [
      "[('the french bulldog is a small breed of domestic dog', np.float64(1.04)), ('french is a very french language spoken by the french', np.float64(0.12)), ('the french revolution was a period of upheaval in france', np.float64(0.04000000000000001))]\n"
     ]
    }
   ],
   "source": [
    "from collections import Counter\n",
    "import numpy as np\n",
    "\n",
    "Q = \"french bulldog\"\n",
    "d_1 = \"the french revolution was a period of upheaval in france\"\n",
    "d_2 = \"the french bulldog is a small breed of domestic dog\"\n",
    "d_3 = \"french is a very french language spoken by the french\"\n",
    "docs = [d_1, d_2, d_3]\n",
    "counts = Counter(np.concatenate([doc.lower().split() for doc in docs]))\n",
    "lex = counts.keys()\n",
    "\n",
    "def get_vector(doc):\n",
    "    words = Counter(doc.lower().split())\n",
    "    v = dict.fromkeys(lex, 0)\n",
    "    for word in words:\n",
    "        v[word] = words[word]/counts[word]\n",
    "    return np.array(list(v.values()))\n",
    "vs = []\n",
    "for d in docs:\n",
    "    v = get_vector(d)\n",
    "    vs.append(v)\n",
    "\n",
    "qv = get_vector(Q)\n",
    "\n",
    "sim = []\n",
    "for d, v in zip(docs,vs): sim.append((d, np.dot(qv, v)))\n",
    "srtd = sorted(sim, key=lambda x: x[1], reverse=True)\n",
    "print(srtd)"
   ]
  }
 ],
 "metadata": {
  "kernelspec": {
   "display_name": "MSE",
   "language": "python",
   "name": "python3"
  },
  "language_info": {
   "codemirror_mode": {
    "name": "ipython",
    "version": 3
   },
   "file_extension": ".py",
   "mimetype": "text/x-python",
   "name": "python",
   "nbconvert_exporter": "python",
   "pygments_lexer": "ipython3",
   "version": "3.11.11"
  }
 },
 "nbformat": 4,
 "nbformat_minor": 5
}
