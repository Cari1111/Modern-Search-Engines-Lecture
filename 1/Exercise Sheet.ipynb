{
 "cells": [
  {
   "attachments": {},
   "cell_type": "markdown",
   "metadata": {},
   "source": [
    "# INFO 4271 - Exercise 1 - Web Crawling\n",
    "\n",
    "Issued: April 16, 2024\n",
    "\n",
    "Due: April 22, 2024\n",
    "\n",
    "Please submit this filled sheet via Ilias by the due date.\n",
    "\n",
    "---"
   ]
  },
  {
   "attachments": {},
   "cell_type": "markdown",
   "metadata": {},
   "source": [
    "# 1. Duplicate Detection\n",
    "When crawling large numbers of Web pages we are likely to encounter a considerable number of duplicate documents. To not flood our index with replicas of the same documents, we need a duplicate detection scheme.\n",
    "\n",
    "a) Using python's built-in hash() function, process the following documents in order of appearance and flag up any exact duplicates.\n",
    "\n",
    "- **D1** \"This is just some document\"\n",
    "- **D2** \"This is another piece of text\"\n",
    "- **D3** \"This is another piece of text\"\n",
    "- **D4** \"This is just some documents\"\n",
    "- **D5** \"Totally different stuff\""
   ]
  },
  {
   "cell_type": "code",
   "execution_count": null,
   "metadata": {},
   "outputs": [
    {
     "data": {
      "text/plain": [
       "-5025021057738467412"
      ]
     },
     "execution_count": 28,
     "metadata": {},
     "output_type": "execute_result"
    }
   ],
   "source": [
    "(hash(\"This is just some document\") & hash(\"This is just some document\")).bit_count"
   ]
  },
  {
   "cell_type": "code",
   "execution_count": 49,
   "metadata": {},
   "outputs": [
    {
     "data": {
      "text/plain": [
       "66"
      ]
     },
     "execution_count": 49,
     "metadata": {},
     "output_type": "execute_result"
    }
   ],
   "source": [
    "len(bin(hash(\"This is just some document\")))"
   ]
  },
  {
   "cell_type": "code",
   "execution_count": null,
   "metadata": {},
   "outputs": [],
   "source": [
    "#Check a single document against an existing collection of previsouly seen documents for exact duplicates.\n",
    "def check_exct(doc, docs):\n",
    "    #TODO: Implement exact duplicate detection\n",
    "    return hash(doc[1]) in [hash(d[1]) for d in docs] #TODO: Return True if the document is a duplicate"
   ]
  },
  {
   "attachments": {},
   "cell_type": "markdown",
   "metadata": {},
   "source": [
    "b) Going beyond exact duplicates, we want to also identify any near-duplicates that are very similar but not identical to previously seen content. Implement the SimHash method discussed in class and again process the five documents, this time flagging up exact and near duplicates."
   ]
  },
  {
   "cell_type": "code",
   "execution_count": null,
   "metadata": {},
   "outputs": [],
   "source": [
    "def create_simhash(words: list[str]):\n",
    "    weights = {hash(i): words.count(i) for i in words}\n",
    "    max_len = max([len(bin(w)) for w in weights.keys()])\n",
    "    counts = []\n",
    "    for i in range(max_len-1, -1, -1):\n",
    "        count = 0\n",
    "        for word, weight in weights.items():\n",
    "            if i >= len(bin(word)): continue\n",
    "            count += weight * (1 if bin(word)[i] == '1' else -1)\n",
    "        counts.append(count)\n",
    "    return bin(int(''.join(map(str, [1 if c>0 else 0 for c in counts])), 2) << 1)\n",
    "#Check a single document against an existing collection of previsouly seen documents for near duplicates\n",
    "def check_simhash(doc, docs):\n",
    "    #TODO: Implement near duplicate detection\n",
    "    doc_simhash = create_simhash(doc[1].split(\" \"))\n",
    "    for _, compare_doc in docs:\n",
    "        compare_simhash = create_simhash(compare_doc.split(\" \"))\n",
    "        if (bin(doc_simhash) ^ bin(compare_simhash)).count(\"1\")<10: return True\n",
    "    return False #TODO: Return True if the document is a duplicate"
   ]
  },
  {
   "cell_type": "code",
   "execution_count": 82,
   "metadata": {},
   "outputs": [
    {
     "ename": "TypeError",
     "evalue": "unsupported operand type(s) for ^: 'str' and 'str'",
     "output_type": "error",
     "traceback": [
      "\u001b[31m---------------------------------------------------------------------------\u001b[39m",
      "\u001b[31mTypeError\u001b[39m                                 Traceback (most recent call last)",
      "\u001b[36mCell\u001b[39m\u001b[36m \u001b[39m\u001b[32mIn[82]\u001b[39m\u001b[32m, line 12\u001b[39m\n\u001b[32m      9\u001b[39m         \u001b[38;5;28;01melse\u001b[39;00m:\n\u001b[32m     10\u001b[39m             docs.append(doc)\n\u001b[32m---> \u001b[39m\u001b[32m12\u001b[39m \u001b[43mprocess\u001b[49m\u001b[43m(\u001b[49m\u001b[43mcrawl\u001b[49m\u001b[43m)\u001b[49m\n",
      "\u001b[36mCell\u001b[39m\u001b[36m \u001b[39m\u001b[32mIn[82]\u001b[39m\u001b[32m, line 7\u001b[39m, in \u001b[36mprocess\u001b[39m\u001b[34m(crawl)\u001b[39m\n\u001b[32m      5\u001b[39m docs = []\n\u001b[32m      6\u001b[39m \u001b[38;5;28;01mfor\u001b[39;00m doc \u001b[38;5;129;01min\u001b[39;00m crawl:\n\u001b[32m----> \u001b[39m\u001b[32m7\u001b[39m     \u001b[38;5;28;01mif\u001b[39;00m \u001b[43mcheck_simhash\u001b[49m\u001b[43m(\u001b[49m\u001b[43mdoc\u001b[49m\u001b[43m,\u001b[49m\u001b[43m \u001b[49m\u001b[43mdocs\u001b[49m\u001b[43m)\u001b[49m: \u001b[38;5;66;03m#Can be exchanged for check_simhash()\u001b[39;00m\n\u001b[32m      8\u001b[39m         \u001b[38;5;28mprint\u001b[39m(\u001b[33m'\u001b[39m\u001b[33mDUPLICATE: \u001b[39m\u001b[33m'\u001b[39m+doc[\u001b[32m0\u001b[39m])\n\u001b[32m      9\u001b[39m     \u001b[38;5;28;01melse\u001b[39;00m:\n",
      "\u001b[36mCell\u001b[39m\u001b[36m \u001b[39m\u001b[32mIn[81]\u001b[39m\u001b[32m, line 18\u001b[39m, in \u001b[36mcheck_simhash\u001b[39m\u001b[34m(doc, docs)\u001b[39m\n\u001b[32m     16\u001b[39m \u001b[38;5;28;01mfor\u001b[39;00m _, compare_doc \u001b[38;5;129;01min\u001b[39;00m docs:\n\u001b[32m     17\u001b[39m     compare_simhash = create_simhash(compare_doc.split(\u001b[33m\"\u001b[39m\u001b[33m \u001b[39m\u001b[33m\"\u001b[39m))\n\u001b[32m---> \u001b[39m\u001b[32m18\u001b[39m     \u001b[38;5;28;01mif\u001b[39;00m (\u001b[43mdoc_simhash\u001b[49m\u001b[43m \u001b[49m\u001b[43m^\u001b[49m\u001b[43m \u001b[49m\u001b[43mcompare_simhash\u001b[49m).count(\u001b[33m\"\u001b[39m\u001b[33m1\u001b[39m\u001b[33m\"\u001b[39m)<\u001b[32m10\u001b[39m: \u001b[38;5;28;01mreturn\u001b[39;00m \u001b[38;5;28;01mTrue\u001b[39;00m\n\u001b[32m     19\u001b[39m \u001b[38;5;28;01mreturn\u001b[39;00m \u001b[38;5;28;01mFalse\u001b[39;00m\n",
      "\u001b[31mTypeError\u001b[39m: unsupported operand type(s) for ^: 'str' and 'str'"
     ]
    }
   ],
   "source": [
    "crawl = [['D1', 'This is just some document'], ['D2', 'This is another piece of text'], ['D3', 'This is another piece of text'], ['D4', 'This is just some documents'], ['D5', 'Totally different stuff']]\n",
    "\n",
    "#Process raw crawled website content\n",
    "def process(crawl):\n",
    "    docs = []\n",
    "    for doc in crawl:\n",
    "        if check_simhash(doc, docs): #Can be exchanged for check_simhash()\n",
    "            print('DUPLICATE: '+doc[0])\n",
    "        else:\n",
    "            docs.append(doc)\n",
    "\n",
    "process(crawl)"
   ]
  },
  {
   "cell_type": "code",
   "execution_count": 75,
   "metadata": {},
   "outputs": [
    {
     "data": {
      "text/plain": [
       "['D4', 'This is just some documents']"
      ]
     },
     "execution_count": 75,
     "metadata": {},
     "output_type": "execute_result"
    }
   ],
   "source": [
    "crawl[3]"
   ]
  },
  {
   "cell_type": "code",
   "execution_count": 80,
   "metadata": {},
   "outputs": [
    {
     "name": "stdout",
     "output_type": "stream",
     "text": [
      "0b1010101010011100110001001011111011111100110110000000011010100010000\n",
      "0b1010101110011100110001011011011000101100110100110000011010100010000\n"
     ]
    }
   ],
   "source": [
    "print(create_simhash(crawl[0][1].split(' ')))\n",
    "print(create_simhash(crawl[3][1].split(' ')))"
   ]
  },
  {
   "attachments": {},
   "cell_type": "markdown",
   "metadata": {},
   "source": [
    "# 2. Focused Search Engines\n",
    "Suppose you were to build a COVID-19 Web search engine for which you want to collect and eventually serve only COVID-19 information. The general web crawling process follows this scheme:\n",
    "\n",
    "1. Create a seed set of known URLs (a.k.a the frontier)\n",
    "2. Pull a URL from the frontier and visit it\n",
    "3. Save the page content for our search engine (indexing)\n",
    "4. Once on the page, note down all URLs linked there\n",
    "5. Put all encountered URLs in the queue\n",
    "6. Repeat from Step 2 until the queue is empty\n",
    "\n",
    "In this particular setting, how should the generic step-by-step crawling process be modified/extended? Discuss all relevant considerations:"
   ]
  },
  {
   "attachments": {},
   "cell_type": "markdown",
   "metadata": {},
   "source": []
  }
 ],
 "metadata": {
  "kernelspec": {
   "display_name": "Meders-Search-Engines-Lecture",
   "language": "python",
   "name": "python3"
  },
  "language_info": {
   "codemirror_mode": {
    "name": "ipython",
    "version": 3
   },
   "file_extension": ".py",
   "mimetype": "text/x-python",
   "name": "python",
   "nbconvert_exporter": "python",
   "pygments_lexer": "ipython3",
   "version": "3.13.3"
  },
  "orig_nbformat": 4
 },
 "nbformat": 4,
 "nbformat_minor": 2
}
