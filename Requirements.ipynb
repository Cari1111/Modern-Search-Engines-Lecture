{
 "cells": [
  {
   "cell_type": "code",
   "execution_count": null,
   "id": "b1b150d7",
   "metadata": {},
   "outputs": [],
   "source": [
    "import pkg_resources\n",
    "\n",
    "# Collect all installed distribution names\n",
    "package_names = {dist.project_name for dist in pkg_resources.working_set}\n",
    "\n",
    "# Sort and write to requirements.txt without version specifiers\n",
    "sorted_packages = sorted(package_names)\n",
    "filtered = filter(lambda x: \"torch\" not in x, sorted_packages)\n",
    "\n",
    "with open('requirements.txt', 'w') as req_file:\n",
    "    req_file.write(\"\\n\".join(filtered))"
   ]
  }
 ],
 "metadata": {
  "kernelspec": {
   "display_name": "MSE",
   "language": "python",
   "name": "python3"
  },
  "language_info": {
   "codemirror_mode": {
    "name": "ipython",
    "version": 3
   },
   "file_extension": ".py",
   "mimetype": "text/x-python",
   "name": "python",
   "nbconvert_exporter": "python",
   "pygments_lexer": "ipython3",
   "version": "3.11.11"
  }
 },
 "nbformat": 4,
 "nbformat_minor": 5
}
