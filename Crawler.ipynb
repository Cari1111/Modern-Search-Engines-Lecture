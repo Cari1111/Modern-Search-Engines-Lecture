{
 "cells": [
  {
   "cell_type": "code",
   "execution_count": 1,
   "id": "bbe8b873",
   "metadata": {},
   "outputs": [
    {
     "name": "stdout",
     "output_type": "stream",
     "text": [
      "Google:\n",
      "False\n",
      "False\n",
      "\n",
      "Wiki:\n",
      "False\n",
      "False\n",
      "True\n",
      "True\n"
     ]
    }
   ],
   "source": [
    "%load_ext autoreload\n",
    "%autoreload 2\n",
    "\n",
    "import urllib.robotparser as urobot\n",
    "\n",
    "url = \"https://www.google.com\"\n",
    "ggl = urobot.RobotFileParser()\n",
    "ggl.set_url(url + \"/robots.txt\")\n",
    "ggl.read()\n",
    "print(\"Google:\")\n",
    "print(ggl.can_fetch(\"*\", \"/search/about\"))\n",
    "print(ggl.can_fetch(\"*\", \"/search\"))\n",
    "\n",
    "url = \"https://en.wikipedia.org\"\n",
    "wiki = urobot.RobotFileParser()\n",
    "wiki.set_url(url + \"/robots.txt\")\n",
    "wiki.read()\n",
    "print(\"\\nWiki:\")\n",
    "print(wiki.can_fetch(\"*\", \"/api/\"))\n",
    "print(wiki.can_fetch(\"*\", \"/api/More\"))\n",
    "print(wiki.can_fetch(\"*\", \"/api/rest_v1/?doc\"))\n",
    "print(wiki.can_fetch(\"*\", \"/wiki/George_Washington\"))"
   ]
  },
  {
   "cell_type": "code",
   "execution_count": 1,
   "id": "e73dedf9",
   "metadata": {},
   "outputs": [
    {
     "name": "stdout",
     "output_type": "stream",
     "text": [
      "ParseResult(scheme='https', netloc='uni-tuebingen.de', path='/en/universitaet/campusleben/veranstaltungen/veranstaltungskalender/', params='', query='tx_news_pi1%5BoverwriteDemand%5D%5Bday%5D=08&tx_news_pi1%5BoverwriteDemand%5D%5Bmonth%5D=08&tx_news_pi1%5BoverwriteDemand%5D%5Byear%5D=2025&cHash=86dbe8060702c0ffd894e41dc3ad7f18', fragment='')\n",
      "https://uni-tuebingen.de/en/universitaet/campusleben/veranstaltungen/veranstaltungskalender/\n",
      "ParseResult(scheme='https', netloc='uni-tuebingen.de', path='/en/universitaet/campusleben/veranstaltungen/veranstaltungskalender/', params='', query='tx_news_pi1%5BoverwriteDemand%5D%5Bday%5D=01&tx_news_pi1%5BoverwriteDemand%5D%5Bmonth%5D=08&tx_news_pi1%5BoverwriteDemand%5D%5Byear%5D=2025&cHash=4bba79cbafaccf518467d61b9841950d', fragment='')\n",
      "https://uni-tuebingen.de/en/universitaet/campusleben/veranstaltungen/veranstaltungskalender/\n",
      "ParseResult(scheme='https', netloc='uni-tuebingen.de', path='/en/universitaet/campusleben/veranstaltungen/veranstaltungskalender/', params='', query='', fragment='')\n",
      "https://uni-tuebingen.de/en/universitaet/campusleben/veranstaltungen/veranstaltungskalender/\n"
     ]
    }
   ],
   "source": [
    "from urllib.parse import urlparse, urljoin\n",
    "\n",
    "url1 = r\"https://uni-tuebingen.de/en/universitaet/campusleben/veranstaltungen/veranstaltungskalender/?tx_news_pi1%5BoverwriteDemand%5D%5Bday%5D=08&tx_news_pi1%5BoverwriteDemand%5D%5Bmonth%5D=08&tx_news_pi1%5BoverwriteDemand%5D%5Byear%5D=2025&cHash=86dbe8060702c0ffd894e41dc3ad7f18\"\n",
    "url2 = r\"https://uni-tuebingen.de/en/universitaet/campusleben/veranstaltungen/veranstaltungskalender/?tx_news_pi1%5BoverwriteDemand%5D%5Bday%5D=01&tx_news_pi1%5BoverwriteDemand%5D%5Bmonth%5D=08&tx_news_pi1%5BoverwriteDemand%5D%5Byear%5D=2025&cHash=4bba79cbafaccf518467d61b9841950d\"\n",
    "url3 = r\"https://uni-tuebingen.de/en/universitaet/campusleben/veranstaltungen/veranstaltungskalender/\"\n",
    "\n",
    "for url in [url1, url2, url3]:\n",
    "    parse = urlparse(url)\n",
    "    print(parse)\n",
    "    print(urljoin(url, parse.path))"
   ]
  },
  {
   "cell_type": "code",
   "execution_count": 2,
   "id": "97d9a4d2",
   "metadata": {},
   "outputs": [
    {
     "name": "stdout",
     "output_type": "stream",
     "text": [
      "The autoreload extension is already loaded. To reload it, use:\n",
      "  %reload_ext autoreload\n",
      "en\n",
      "und\n"
     ]
    }
   ],
   "source": [
    "%load_ext autoreload\n",
    "%autoreload 2\n",
    "\n",
    "from project import predict_language_from_url\n",
    "\n",
    "urls = [\n",
    "    \"https://www.aeroportomadeira.pt/en/fnc/home\",\n",
    "    \"https://www.qschina.cn/universities/eberhard-karls-universitat-tubingen/more\",\n",
    "]\n",
    "for url in urls:\n",
    "    print(predict_language_from_url(url))"
   ]
  },
  {
   "cell_type": "code",
   "execution_count": 2,
   "id": "ca169f11",
   "metadata": {},
   "outputs": [
    {
     "name": "stdout",
     "output_type": "stream",
     "text": [
      "Pattern: t[^h-]{1,6}bingen\n",
      "Match found in URL: tübingen\n",
      "Match found in URL: tuebingen\n",
      "No match in URL: th-bingen\n",
      "\n",
      "Pattern: neckar island\n",
      "No match in URL: tübingen\n",
      "No match in URL: tuebingen\n",
      "No match in URL: th-bingen\n",
      "\n"
     ]
    }
   ],
   "source": [
    "import re\n",
    "\n",
    "names = [\n",
    "    \"Tübingen\",\n",
    "    \"Tuebingen\",\n",
    "    \"Th-Bingen\"\n",
    "]\n",
    "\n",
    "res = [r't[^h-]{1,6}bingen', 'neckar island']\n",
    "for pattern in res:\n",
    "    print(f\"Pattern: {pattern}\")\n",
    "    for name in names:\n",
    "        name = name.lower()\n",
    "        if re.search(pattern, name):\n",
    "            print(f\"Match found in URL: {name}\")\n",
    "        else:\n",
    "            print(f\"No match in URL: {name}\")\n",
    "    print()"
   ]
  }
 ],
 "metadata": {
  "kernelspec": {
   "display_name": "MSE",
   "language": "python",
   "name": "python3"
  },
  "language_info": {
   "codemirror_mode": {
    "name": "ipython",
    "version": 3
   },
   "file_extension": ".py",
   "mimetype": "text/x-python",
   "name": "python",
   "nbconvert_exporter": "python",
   "pygments_lexer": "ipython3",
   "version": "3.11.11"
  }
 },
 "nbformat": 4,
 "nbformat_minor": 5
}
