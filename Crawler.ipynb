{
 "cells": [
  {
   "cell_type": "code",
   "execution_count": null,
   "id": "f6b8127e",
   "metadata": {},
   "outputs": [],
   "source": [
    "%load_ext autoreload\n",
    "%autoreload 2\n",
    "\n",
    "from project import Crawler\n",
    "\n",
    "start_urls = []\n",
    "with open('seed.txt', 'r') as file:\n",
    "    for line in file: start_urls.append(line.strip())\n",
    "crawler = Crawler(start_urls, max_workers=200, use_proxies=False, auto_resume=True, path=\"data/new\")\n",
    "crawler.run()"
   ]
  }
 ],
 "metadata": {
  "kernelspec": {
   "display_name": "MSE",
   "language": "python",
   "name": "python3"
  },
  "language_info": {
   "codemirror_mode": {
    "name": "ipython",
    "version": 3
   },
   "file_extension": ".py",
   "mimetype": "text/x-python",
   "name": "python",
   "nbconvert_exporter": "python",
   "pygments_lexer": "ipython3",
   "version": "3.11.11"
  }
 },
 "nbformat": 4,
 "nbformat_minor": 5
}
