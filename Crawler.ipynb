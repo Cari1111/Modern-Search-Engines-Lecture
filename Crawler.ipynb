{
 "cells": [
  {
   "cell_type": "code",
   "execution_count": 1,
   "id": "bbe8b873",
   "metadata": {},
   "outputs": [
    {
     "name": "stdout",
     "output_type": "stream",
     "text": [
      "Google:\n",
      "False\n",
      "False\n",
      "\n",
      "Wiki:\n",
      "False\n",
      "False\n",
      "True\n",
      "True\n"
     ]
    }
   ],
   "source": [
    "%load_ext autoreload\n",
    "%autoreload 2\n",
    "\n",
    "import urllib.robotparser as urobot\n",
    "\n",
    "url = \"https://www.google.com\"\n",
    "ggl = urobot.RobotFileParser()\n",
    "ggl.set_url(url + \"/robots.txt\")\n",
    "ggl.read()\n",
    "print(\"Google:\")\n",
    "print(ggl.can_fetch(\"*\", \"/search/about\"))\n",
    "print(ggl.can_fetch(\"*\", \"/search\"))\n",
    "\n",
    "url = \"https://en.wikipedia.org\"\n",
    "wiki = urobot.RobotFileParser()\n",
    "wiki.set_url(url + \"/robots.txt\")\n",
    "wiki.read()\n",
    "print(\"\\nWiki:\")\n",
    "print(wiki.can_fetch(\"*\", \"/api/\"))\n",
    "print(wiki.can_fetch(\"*\", \"/api/More\"))\n",
    "print(wiki.can_fetch(\"*\", \"/api/rest_v1/?doc\"))\n",
    "print(wiki.can_fetch(\"*\", \"/wiki/George_Washington\"))"
   ]
  }
 ],
 "metadata": {
  "kernelspec": {
   "display_name": "MSE",
   "language": "python",
   "name": "python3"
  },
  "language_info": {
   "codemirror_mode": {
    "name": "ipython",
    "version": 3
   },
   "file_extension": ".py",
   "mimetype": "text/x-python",
   "name": "python",
   "nbconvert_exporter": "python",
   "pygments_lexer": "ipython3",
   "version": "3.11.11"
  }
 },
 "nbformat": 4,
 "nbformat_minor": 5
}
