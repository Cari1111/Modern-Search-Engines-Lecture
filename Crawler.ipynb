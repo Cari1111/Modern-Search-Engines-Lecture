{
 "cells": [
  {
   "cell_type": "code",
   "execution_count": 1,
   "id": "bbe8b873",
   "metadata": {},
   "outputs": [
    {
     "name": "stdout",
     "output_type": "stream",
     "text": [
      "Google:\n",
      "False\n",
      "False\n",
      "\n",
      "Wiki:\n",
      "False\n",
      "False\n",
      "True\n",
      "True\n"
     ]
    }
   ],
   "source": [
    "%load_ext autoreload\n",
    "%autoreload 2\n",
    "\n",
    "import urllib.robotparser as urobot\n",
    "\n",
    "url = \"https://www.google.com\"\n",
    "ggl = urobot.RobotFileParser()\n",
    "ggl.set_url(url + \"/robots.txt\")\n",
    "ggl.read()\n",
    "print(\"Google:\")\n",
    "print(ggl.can_fetch(\"*\", \"/search/about\"))\n",
    "print(ggl.can_fetch(\"*\", \"/search\"))\n",
    "\n",
    "url = \"https://en.wikipedia.org\"\n",
    "wiki = urobot.RobotFileParser()\n",
    "wiki.set_url(url + \"/robots.txt\")\n",
    "wiki.read()\n",
    "print(\"\\nWiki:\")\n",
    "print(wiki.can_fetch(\"*\", \"/api/\"))\n",
    "print(wiki.can_fetch(\"*\", \"/api/More\"))\n",
    "print(wiki.can_fetch(\"*\", \"/api/rest_v1/?doc\"))\n",
    "print(wiki.can_fetch(\"*\", \"/wiki/George_Washington\"))"
   ]
  },
  {
   "cell_type": "code",
   "execution_count": 1,
   "id": "27cf739e",
   "metadata": {},
   "outputs": [
    {
     "name": "stderr",
     "output_type": "stream",
     "text": [
      "2025-07-15 20:38:19,224 INFO: Document collection file indexed_docs.jsonl not found. Cannot resume.\n"
     ]
    },
    {
     "name": "stdout",
     "output_type": "stream",
     "text": [
      "Starting crawler...\n"
     ]
    },
    {
     "name": "stderr",
     "output_type": "stream",
     "text": [
      "2025-07-15 20:38:23,491 INFO: [Thread 17804]: Added new document https://en.wikipedia.org/wiki/Baden-W%C3%BCrttemberg to cache. Cache size: 1\n",
      "2025-07-15 20:38:23,834 INFO: [Thread 17804]: Visited 1 pages (Visited https://en.wikipedia.org/wiki/Baden-W%C3%BCrttemberg, english=True, keywords_found=True)\n",
      "2025-07-15 20:38:23,834 INFO: [Thread 17804]: Visited 1 pages (Visited https://en.wikipedia.org/wiki/Baden-W%C3%BCrttemberg, english=True, keywords_found=True)\n",
      "2025-07-15 20:38:25,873 INFO: [Thread 17804]: Added new document https://en.wikipedia.org/wiki/Bebenhausen_Abbey to cache. Cache size: 2\n",
      "2025-07-15 20:38:25,873 INFO: [Thread 17804]: Added new document https://en.wikipedia.org/wiki/Bebenhausen_Abbey to cache. Cache size: 2\n",
      "2025-07-15 20:38:25,969 INFO: [Thread 17804]: Visited 2 pages (Visited https://en.wikipedia.org/wiki/Bebenhausen_Abbey, english=True, keywords_found=True)\n",
      "2025-07-15 20:38:25,969 INFO: [Thread 17804]: Visited 2 pages (Visited https://en.wikipedia.org/wiki/Bebenhausen_Abbey, english=True, keywords_found=True)\n",
      "2025-07-15 20:38:27,854 INFO: [Thread 17804]: Added new document https://en.wikipedia.org/wiki/File:Bebenhausen,_T%C3%BCbingen,_Andreas_Kieser.png to cache. Cache size: 3\n",
      "2025-07-15 20:38:28,012 INFO: [Thread 17804]: Visited 3 pages (Visited https://en.wikipedia.org/wiki/File:Bebenhausen,_T%C3%BCbingen,_Andreas_Kieser.png, english=True, keywords_found=True)\n",
      "2025-07-15 20:38:27,854 INFO: [Thread 17804]: Added new document https://en.wikipedia.org/wiki/File:Bebenhausen,_T%C3%BCbingen,_Andreas_Kieser.png to cache. Cache size: 3\n",
      "2025-07-15 20:38:28,012 INFO: [Thread 17804]: Visited 3 pages (Visited https://en.wikipedia.org/wiki/File:Bebenhausen,_T%C3%BCbingen,_Andreas_Kieser.png, english=True, keywords_found=True)\n",
      "2025-07-15 20:38:29,453 INFO: [Thread 17804]: Added new document https://en.wikipedia.org/wiki/File:Kloster_Bebenhausen_in_T%C3%BCbingen_01.jpg to cache. Cache size: 4\n",
      "2025-07-15 20:38:29,453 INFO: [Thread 17804]: Added new document https://en.wikipedia.org/wiki/File:Kloster_Bebenhausen_in_T%C3%BCbingen_01.jpg to cache. Cache size: 4\n",
      "2025-07-15 20:38:29,489 INFO: [Thread 17804]: Visited 4 pages (Visited https://en.wikipedia.org/wiki/File:Kloster_Bebenhausen_in_T%C3%BCbingen_01.jpg, english=True, keywords_found=True)\n",
      "2025-07-15 20:38:29,489 INFO: [Thread 17804]: Visited 4 pages (Visited https://en.wikipedia.org/wiki/File:Kloster_Bebenhausen_in_T%C3%BCbingen_01.jpg, english=True, keywords_found=True)\n",
      "2025-07-15 20:38:30,238 INFO: Page https://www.gea.de/neckar-alb/kreis-tuebingen_artikel,-barrierefrei-durchs-kloster-bebenhausen-_arid,6138290.html skipped: not detected as English.\n",
      "2025-07-15 20:38:30,239 INFO: [Thread 17804]: Visited 5 pages (Visited https://www.gea.de/neckar-alb/kreis-tuebingen_artikel,-barrierefrei-durchs-kloster-bebenhausen-_arid,6138290.html, english=False, keywords_found=False)\n",
      "2025-07-15 20:38:30,238 INFO: Page https://www.gea.de/neckar-alb/kreis-tuebingen_artikel,-barrierefrei-durchs-kloster-bebenhausen-_arid,6138290.html skipped: not detected as English.\n",
      "2025-07-15 20:38:30,239 INFO: [Thread 17804]: Visited 5 pages (Visited https://www.gea.de/neckar-alb/kreis-tuebingen_artikel,-barrierefrei-durchs-kloster-bebenhausen-_arid,6138290.html, english=False, keywords_found=False)\n",
      "2025-07-15 20:38:31,250 INFO: [Thread 17804]: Added new document https://commons.wikimedia.org/wiki/File:Bebenhausen,_T%C3%BCbingen,_Andreas_Kieser.png to cache. Cache size: 5\n",
      "2025-07-15 20:38:31,389 INFO: [Thread 17804]: Visited 6 pages (Visited https://commons.wikimedia.org/wiki/File:Bebenhausen,_T%C3%BCbingen,_Andreas_Kieser.png, english=True, keywords_found=True)\n",
      "2025-07-15 20:38:31,250 INFO: [Thread 17804]: Added new document https://commons.wikimedia.org/wiki/File:Bebenhausen,_T%C3%BCbingen,_Andreas_Kieser.png to cache. Cache size: 5\n",
      "2025-07-15 20:38:31,389 INFO: [Thread 17804]: Visited 6 pages (Visited https://commons.wikimedia.org/wiki/File:Bebenhausen,_T%C3%BCbingen,_Andreas_Kieser.png, english=True, keywords_found=True)\n",
      "2025-07-15 20:38:32,535 INFO: [Thread 17804]: Added new document https://commons.m.wikimedia.org/w/index.php?title=File:Bebenhausen,_T%C3%BCbingen,_Andreas_Kieser.png&mobileaction=toggle_view_mobile to cache. Cache size: 6\n",
      "2025-07-15 20:38:32,535 INFO: [Thread 17804]: Added new document https://commons.m.wikimedia.org/w/index.php?title=File:Bebenhausen,_T%C3%BCbingen,_Andreas_Kieser.png&mobileaction=toggle_view_mobile to cache. Cache size: 6\n",
      "2025-07-15 20:38:32,565 INFO: [Thread 17804]: Visited 7 pages (Visited https://commons.m.wikimedia.org/w/index.php?title=File:Bebenhausen,_T%C3%BCbingen,_Andreas_Kieser.png&mobileaction=toggle_view_mobile, english=True, keywords_found=True)\n",
      "2025-07-15 20:38:32,565 INFO: [Thread 17804]: Visited 7 pages (Visited https://commons.m.wikimedia.org/w/index.php?title=File:Bebenhausen,_T%C3%BCbingen,_Andreas_Kieser.png&mobileaction=toggle_view_mobile, english=True, keywords_found=True)\n",
      "2025-07-15 20:38:33,028 INFO: [Thread 17804]: Added new document https://commons.m.wikimedia.org/w/index.php?title=File:Bebenhausen,_T%C3%BCbingen,_Andreas_Kieser.png&action=edit to cache. Cache size: 7\n",
      "2025-07-15 20:38:33,036 INFO: [Thread 17804]: Visited 8 pages (Visited https://commons.m.wikimedia.org/w/index.php?title=File:Bebenhausen,_T%C3%BCbingen,_Andreas_Kieser.png&action=edit, english=True, keywords_found=True)\n",
      "2025-07-15 20:38:33,028 INFO: [Thread 17804]: Added new document https://commons.m.wikimedia.org/w/index.php?title=File:Bebenhausen,_T%C3%BCbingen,_Andreas_Kieser.png&action=edit to cache. Cache size: 7\n",
      "2025-07-15 20:38:33,036 INFO: [Thread 17804]: Visited 8 pages (Visited https://commons.m.wikimedia.org/w/index.php?title=File:Bebenhausen,_T%C3%BCbingen,_Andreas_Kieser.png&action=edit, english=True, keywords_found=True)\n",
      "2025-07-15 20:38:34,290 WARNING: Duplicate content detected: https://commons.m.wikimedia.org/w/index.php?title=File:Bebenhausen,_T%C3%BCbingen,_Andreas_Kieser.png&action=edit&section=1 has same content as https://commons.m.wikimedia.org/w/index.php?title=File:Bebenhausen,_T%C3%BCbingen,_Andreas_Kieser.png&action=edit\n",
      "2025-07-15 20:38:34,301 INFO: [Thread 17804]: Visited 9 pages (Visited https://commons.m.wikimedia.org/w/index.php?title=File:Bebenhausen,_T%C3%BCbingen,_Andreas_Kieser.png&action=edit&section=1, english=True, keywords_found=True)\n",
      "2025-07-15 20:38:34,290 WARNING: Duplicate content detected: https://commons.m.wikimedia.org/w/index.php?title=File:Bebenhausen,_T%C3%BCbingen,_Andreas_Kieser.png&action=edit&section=1 has same content as https://commons.m.wikimedia.org/w/index.php?title=File:Bebenhausen,_T%C3%BCbingen,_Andreas_Kieser.png&action=edit\n",
      "2025-07-15 20:38:34,301 INFO: [Thread 17804]: Visited 9 pages (Visited https://commons.m.wikimedia.org/w/index.php?title=File:Bebenhausen,_T%C3%BCbingen,_Andreas_Kieser.png&action=edit&section=1, english=True, keywords_found=True)\n",
      "2025-07-15 20:38:36,984 WARNING: Duplicate content detected: https://commons.m.wikimedia.org/w/index.php?title=File:Bebenhausen,_T%C3%BCbingen,_Andreas_Kieser.png&action=edit&section=2 has same content as https://commons.m.wikimedia.org/w/index.php?title=File:Bebenhausen,_T%C3%BCbingen,_Andreas_Kieser.png&action=edit\n",
      "2025-07-15 20:38:36,992 INFO: [Thread 17804]: Visited 10 pages (Visited https://commons.m.wikimedia.org/w/index.php?title=File:Bebenhausen,_T%C3%BCbingen,_Andreas_Kieser.png&action=edit&section=2, english=True, keywords_found=True)\n",
      "2025-07-15 20:38:36,984 WARNING: Duplicate content detected: https://commons.m.wikimedia.org/w/index.php?title=File:Bebenhausen,_T%C3%BCbingen,_Andreas_Kieser.png&action=edit&section=2 has same content as https://commons.m.wikimedia.org/w/index.php?title=File:Bebenhausen,_T%C3%BCbingen,_Andreas_Kieser.png&action=edit\n",
      "2025-07-15 20:38:36,992 INFO: [Thread 17804]: Visited 10 pages (Visited https://commons.m.wikimedia.org/w/index.php?title=File:Bebenhausen,_T%C3%BCbingen,_Andreas_Kieser.png&action=edit&section=2, english=True, keywords_found=True)\n",
      "2025-07-15 20:38:40,050 INFO: [Thread 17804]: Added new document https://commons.m.wikimedia.org/w/index.php?title=File:Bebenhausen,_T%C3%BCbingen,_Andreas_Kieser.png&action=history to cache. Cache size: 8\n",
      "2025-07-15 20:38:40,081 INFO: [Thread 17804]: Visited 11 pages (Visited https://commons.m.wikimedia.org/w/index.php?title=File:Bebenhausen,_T%C3%BCbingen,_Andreas_Kieser.png&action=history, english=True, keywords_found=True)\n",
      "2025-07-15 20:38:40,082 INFO: Crawler is shutting down, performing cleanup...\n",
      "2025-07-15 20:38:40,085 INFO: Document https://en.wikipedia.org/wiki/Baden-W%C3%BCrttemberg appended to crawled_documents.jsonl\n",
      "2025-07-15 20:38:40,088 INFO: Document https://en.wikipedia.org/wiki/Bebenhausen_Abbey appended to crawled_documents.jsonl\n",
      "2025-07-15 20:38:40,050 INFO: [Thread 17804]: Added new document https://commons.m.wikimedia.org/w/index.php?title=File:Bebenhausen,_T%C3%BCbingen,_Andreas_Kieser.png&action=history to cache. Cache size: 8\n",
      "2025-07-15 20:38:40,081 INFO: [Thread 17804]: Visited 11 pages (Visited https://commons.m.wikimedia.org/w/index.php?title=File:Bebenhausen,_T%C3%BCbingen,_Andreas_Kieser.png&action=history, english=True, keywords_found=True)\n",
      "2025-07-15 20:38:40,082 INFO: Crawler is shutting down, performing cleanup...\n",
      "2025-07-15 20:38:40,085 INFO: Document https://en.wikipedia.org/wiki/Baden-W%C3%BCrttemberg appended to crawled_documents.jsonl\n",
      "2025-07-15 20:38:40,088 INFO: Document https://en.wikipedia.org/wiki/Bebenhausen_Abbey appended to crawled_documents.jsonl\n",
      "2025-07-15 20:38:40,092 INFO: Document https://en.wikipedia.org/wiki/File:Bebenhausen,_T%C3%BCbingen,_Andreas_Kieser.png appended to crawled_documents.jsonl\n",
      "2025-07-15 20:38:40,094 INFO: Document https://en.wikipedia.org/wiki/File:Kloster_Bebenhausen_in_T%C3%BCbingen_01.jpg appended to crawled_documents.jsonl\n",
      "2025-07-15 20:38:40,096 INFO: Document https://commons.wikimedia.org/wiki/File:Bebenhausen,_T%C3%BCbingen,_Andreas_Kieser.png appended to crawled_documents.jsonl\n",
      "2025-07-15 20:38:40,099 INFO: Document https://commons.m.wikimedia.org/w/index.php?title=File:Bebenhausen,_T%C3%BCbingen,_Andreas_Kieser.png&mobileaction=toggle_view_mobile appended to crawled_documents.jsonl\n",
      "2025-07-15 20:38:40,100 INFO: Document https://commons.m.wikimedia.org/w/index.php?title=File:Bebenhausen,_T%C3%BCbingen,_Andreas_Kieser.png&action=edit appended to crawled_documents.jsonl\n",
      "2025-07-15 20:38:40,102 INFO: Document https://commons.m.wikimedia.org/w/index.php?title=File:Bebenhausen,_T%C3%BCbingen,_Andreas_Kieser.png&action=history appended to crawled_documents.jsonl\n",
      "2025-07-15 20:38:40,102 INFO: Appended 8 documents to crawled_documents.jsonl\n",
      "2025-07-15 20:38:40,092 INFO: Document https://en.wikipedia.org/wiki/File:Bebenhausen,_T%C3%BCbingen,_Andreas_Kieser.png appended to crawled_documents.jsonl\n",
      "2025-07-15 20:38:40,094 INFO: Document https://en.wikipedia.org/wiki/File:Kloster_Bebenhausen_in_T%C3%BCbingen_01.jpg appended to crawled_documents.jsonl\n",
      "2025-07-15 20:38:40,096 INFO: Document https://commons.wikimedia.org/wiki/File:Bebenhausen,_T%C3%BCbingen,_Andreas_Kieser.png appended to crawled_documents.jsonl\n",
      "2025-07-15 20:38:40,099 INFO: Document https://commons.m.wikimedia.org/w/index.php?title=File:Bebenhausen,_T%C3%BCbingen,_Andreas_Kieser.png&mobileaction=toggle_view_mobile appended to crawled_documents.jsonl\n",
      "2025-07-15 20:38:40,100 INFO: Document https://commons.m.wikimedia.org/w/index.php?title=File:Bebenhausen,_T%C3%BCbingen,_Andreas_Kieser.png&action=edit appended to crawled_documents.jsonl\n",
      "2025-07-15 20:38:40,102 INFO: Document https://commons.m.wikimedia.org/w/index.php?title=File:Bebenhausen,_T%C3%BCbingen,_Andreas_Kieser.png&action=history appended to crawled_documents.jsonl\n",
      "2025-07-15 20:38:40,102 INFO: Appended 8 documents to crawled_documents.jsonl\n",
      "2025-07-15 20:38:40,112 INFO: Saved 8 documents to crawled_documents_complete.jsonl\n",
      "2025-07-15 20:38:40,113 INFO: Saved backup collection to crawled_documents_complete.jsonl\n",
      "2025-07-15 20:38:40,123 INFO: Saved current state to crawler_state.json\n",
      "2025-07-15 20:38:40,112 INFO: Saved 8 documents to crawled_documents_complete.jsonl\n",
      "2025-07-15 20:38:40,113 INFO: Saved backup collection to crawled_documents_complete.jsonl\n",
      "2025-07-15 20:38:40,123 INFO: Saved current state to crawler_state.json\n",
      "2025-07-15 20:38:40,124 INFO: Final stats: {'total_documents': 8, 'visited_pages': 11, 'frontier': 1483}\n",
      "2025-07-15 20:38:40,125 INFO: Cleanup complete. Crawler has shut down gracefully.\n",
      "2025-07-15 20:38:40,126 INFO: Crawling complete.\n",
      "2025-07-15 20:38:40,124 INFO: Final stats: {'total_documents': 8, 'visited_pages': 11, 'frontier': 1483}\n",
      "2025-07-15 20:38:40,125 INFO: Cleanup complete. Crawler has shut down gracefully.\n",
      "2025-07-15 20:38:40,126 INFO: Crawling complete.\n"
     ]
    },
    {
     "name": "stdout",
     "output_type": "stream",
     "text": [
      "\n",
      "Final stats:\n",
      "{'total_documents': 8, 'visited_pages': 11, 'frontier': 1483}\n"
     ]
    }
   ],
   "source": [
    "# Option 1: Add the project directory to sys.path\n",
    "import sys\n",
    "import os\n",
    "sys.path.append(os.path.join(os.getcwd(), 'project'))\n",
    "\n",
    "# Now import normally\n",
    "from crawler.crawler import Crawler\n",
    "from crawler.document import Document, DocumentCollection\n",
    "\n",
    "# Test the crawler with a single seed URL\n",
    "crawler = Crawler(\n",
    "    seed=[\"https://en.wikipedia.org/wiki/Baden-W%C3%BCrttemberg\"],\n",
    "    auto_resume=True,\n",
    "    verbose=False\n",
    ")\n",
    "\n",
    "print(\"Starting crawler...\")\n",
    "crawler.run(amount=10)  # Start with just 10 pages for testing\n",
    "\n",
    "print(\"\\nFinal stats:\")\n",
    "print(crawler.get_crawling_stats())"
   ]
  },
  {
   "cell_type": "code",
   "execution_count": 3,
   "id": "3c1ba95d",
   "metadata": {},
   "outputs": [
    {
     "name": "stderr",
     "output_type": "stream",
     "text": [
      "2025-07-15 20:46:21,975 INFO: [Thread 22412]: Added new document https://en.wikipedia.org/wiki/Tübingen to cache. Cache size: 1\n",
      "2025-07-15 20:46:22,113 INFO: [Thread 22412]: Visited 1 pages (Visited https://en.wikipedia.org/wiki/Tübingen, english=True, keywords_found=True)\n",
      "2025-07-15 20:46:22,113 INFO: [Thread 22412]: Visited 1 pages (Visited https://en.wikipedia.org/wiki/Tübingen, english=True, keywords_found=True)\n",
      "2025-07-15 20:46:22,972 INFO: [Thread 22412]: Added new document https://en.wikipedia.org/wiki/Neckarinsel,_T%C3%BCbingen to cache. Cache size: 2\n",
      "2025-07-15 20:46:23,004 INFO: [Thread 22412]: Visited 2 pages (Visited https://en.wikipedia.org/wiki/Neckarinsel,_T%C3%BCbingen, english=True, keywords_found=True)\n",
      "2025-07-15 20:46:22,972 INFO: [Thread 22412]: Added new document https://en.wikipedia.org/wiki/Neckarinsel,_T%C3%BCbingen to cache. Cache size: 2\n",
      "2025-07-15 20:46:23,004 INFO: [Thread 22412]: Visited 2 pages (Visited https://en.wikipedia.org/wiki/Neckarinsel,_T%C3%BCbingen, english=True, keywords_found=True)\n",
      "2025-07-15 20:46:24,202 INFO: [Thread 22412]: Added new document https://en.wikipedia.org/wiki/S%C3%BCdstadt_(T%C3%BCbingen) to cache. Cache size: 3\n",
      "2025-07-15 20:46:24,202 INFO: [Thread 22412]: Added new document https://en.wikipedia.org/wiki/S%C3%BCdstadt_(T%C3%BCbingen) to cache. Cache size: 3\n",
      "2025-07-15 20:46:24,226 INFO: [Thread 22412]: Visited 3 pages (Visited https://en.wikipedia.org/wiki/S%C3%BCdstadt_(T%C3%BCbingen), english=True, keywords_found=False)\n",
      "2025-07-15 20:46:24,226 INFO: [Thread 22412]: Visited 3 pages (Visited https://en.wikipedia.org/wiki/S%C3%BCdstadt_(T%C3%BCbingen), english=True, keywords_found=False)\n",
      "2025-07-15 20:46:26,842 INFO: [Thread 22412]: Added new document https://geohack.toolforge.org/geohack.php?pagename=Neckarinsel,_T%C3%BCbingen&params=48_31_04_N_09_03_07_E_type:isle to cache. Cache size: 4\n",
      "2025-07-15 20:46:26,842 INFO: [Thread 22412]: Added new document https://geohack.toolforge.org/geohack.php?pagename=Neckarinsel,_T%C3%BCbingen&params=48_31_04_N_09_03_07_E_type:isle to cache. Cache size: 4\n",
      "2025-07-15 20:46:26,948 INFO: [Thread 22412]: Visited 4 pages (Visited https://geohack.toolforge.org/geohack.php?pagename=Neckarinsel,_T%C3%BCbingen&params=48_31_04_N_09_03_07_E_type:isle, english=True, keywords_found=True)\n",
      "2025-07-15 20:46:26,949 INFO: Crawler is shutting down, performing cleanup...\n",
      "2025-07-15 20:46:26,951 INFO: Document https://en.wikipedia.org/wiki/Tübingen appended to crawled_documents.jsonl\n",
      "2025-07-15 20:46:26,953 INFO: Document https://en.wikipedia.org/wiki/Neckarinsel,_T%C3%BCbingen appended to crawled_documents.jsonl\n",
      "2025-07-15 20:46:26,955 INFO: Document https://en.wikipedia.org/wiki/S%C3%BCdstadt_(T%C3%BCbingen) appended to crawled_documents.jsonl\n",
      "2025-07-15 20:46:26,956 INFO: Document https://geohack.toolforge.org/geohack.php?pagename=Neckarinsel,_T%C3%BCbingen&params=48_31_04_N_09_03_07_E_type:isle appended to crawled_documents.jsonl\n",
      "2025-07-15 20:46:26,957 INFO: Appended 4 documents to crawled_documents.jsonl\n",
      "2025-07-15 20:46:26,961 INFO: Saved 4 documents to crawled_documents_complete.jsonl\n",
      "2025-07-15 20:46:26,948 INFO: [Thread 22412]: Visited 4 pages (Visited https://geohack.toolforge.org/geohack.php?pagename=Neckarinsel,_T%C3%BCbingen&params=48_31_04_N_09_03_07_E_type:isle, english=True, keywords_found=True)\n",
      "2025-07-15 20:46:26,949 INFO: Crawler is shutting down, performing cleanup...\n",
      "2025-07-15 20:46:26,951 INFO: Document https://en.wikipedia.org/wiki/Tübingen appended to crawled_documents.jsonl\n",
      "2025-07-15 20:46:26,953 INFO: Document https://en.wikipedia.org/wiki/Neckarinsel,_T%C3%BCbingen appended to crawled_documents.jsonl\n",
      "2025-07-15 20:46:26,955 INFO: Document https://en.wikipedia.org/wiki/S%C3%BCdstadt_(T%C3%BCbingen) appended to crawled_documents.jsonl\n",
      "2025-07-15 20:46:26,956 INFO: Document https://geohack.toolforge.org/geohack.php?pagename=Neckarinsel,_T%C3%BCbingen&params=48_31_04_N_09_03_07_E_type:isle appended to crawled_documents.jsonl\n",
      "2025-07-15 20:46:26,957 INFO: Appended 4 documents to crawled_documents.jsonl\n",
      "2025-07-15 20:46:26,961 INFO: Saved 4 documents to crawled_documents_complete.jsonl\n",
      "2025-07-15 20:46:26,962 INFO: Saved backup collection to crawled_documents_complete.jsonl\n",
      "2025-07-15 20:46:26,962 INFO: Final stats: {'total_documents': 4, 'visited_pages': 4, 'frontier': 1226}\n",
      "2025-07-15 20:46:26,963 INFO: Cleanup complete. Crawler has shut down gracefully.\n",
      "2025-07-15 20:46:26,963 INFO: Crawling complete.\n",
      "2025-07-15 20:46:26,962 INFO: Saved backup collection to crawled_documents_complete.jsonl\n",
      "2025-07-15 20:46:26,962 INFO: Final stats: {'total_documents': 4, 'visited_pages': 4, 'frontier': 1226}\n",
      "2025-07-15 20:46:26,963 INFO: Cleanup complete. Crawler has shut down gracefully.\n",
      "2025-07-15 20:46:26,963 INFO: Crawling complete.\n"
     ]
    }
   ],
   "source": [
    "# Clear any existing log handlers\n",
    "import logging\n",
    "for handler in logging.root.handlers[:]:\n",
    "    logging.root.removeHandler(handler)\n",
    "\n",
    "# Set up fresh logging\n",
    "logging.basicConfig(level=logging.INFO, format='%(asctime)s %(levelname)s: %(message)s')\n",
    "\n",
    "# Now test your crawler\n",
    "crawler = Crawler(\n",
    "    seed=[\"https://en.wikipedia.org/wiki/Tübingen\"],  # Different URL for clean test\n",
    "    auto_resume=False,  # Start fresh\n",
    "    verbose=True,\n",
    "    max_workers=1\n",
    ")\n",
    "\n",
    "crawler.run(amount=3)"
   ]
  }
 ],
 "metadata": {
  "kernelspec": {
   "display_name": "mse",
   "language": "python",
   "name": "python3"
  },
  "language_info": {
   "codemirror_mode": {
    "name": "ipython",
    "version": 3
   },
   "file_extension": ".py",
   "mimetype": "text/x-python",
   "name": "python",
   "nbconvert_exporter": "python",
   "pygments_lexer": "ipython3",
   "version": "3.13.5"
  }
 },
 "nbformat": 4,
 "nbformat_minor": 5
}
