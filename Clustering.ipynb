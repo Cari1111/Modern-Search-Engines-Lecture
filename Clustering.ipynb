{
 "cells": [
  {
   "cell_type": "code",
   "execution_count": 2,
   "id": "141dc2db",
   "metadata": {},
   "outputs": [],
   "source": [
    "example_urls = [\n",
    "    'https://en.wikipedia.org/wiki/File:TuebingenStiftskirche.jpg',\n",
    " 'https://en.wikipedia.org/wiki/File:Wappen_Tuebingen.svg',\n",
    " 'https://en.wikipedia.org/wiki/Franz_Xaver_von_Funk',\n",
    " 'https://en.wikipedia.org/wiki/Freiburg_im_Breisgau',\n",
    " 'https://en.wikipedia.org/wiki/Friedrich_H%C3%B6lderlin',\n",
    " 'https://en.wikipedia.org/wiki/Friedrich_List',\n",
    " 'https://en.wikipedia.org/wiki/Friedrich_Miescher',\n",
    " 'https://en.wikipedia.org/wiki/Friedrich_Silcher',\n",
    " 'https://en.wikipedia.org/wiki/Friedrich_Wilhelm_Joseph_Schelling',\n",
    " 'https://en.wikipedia.org/wiki/Friedrich_von_Huene',\n",
    " 'https://en.wikipedia.org/wiki/Geoffrey_Elton',\n",
    " 'https://en.wikipedia.org/wiki/Georg_Herwegh',\n",
    " 'https://en.wikipedia.org/wiki/Georg_Wilhelm_Friedrich_Hegel',\n",
    " 'https://en.wikipedia.org/wiki/Gerhard_Ansch%C3%BCtz',\n",
    " 'https://en.wikipedia.org/wiki/Gerhard_Rohlfs',\n",
    " 'https://en.wikipedia.org/wiki/German_rearmament',\n",
    " 'https://en.wikipedia.org/wiki/Germany',\n",
    " 'https://en.wikipedia.org/wiki/Geschwister-Scholl-Schule_(T%C3%BCbingen)',\n",
    " 'https://en.wikipedia.org/wiki/Goethe',\n",
    " 'https://en.wikipedia.org/wiki/Goethe%27s',\n",
    " 'https://en.wikipedia.org/wiki/Gomaringen',\n",
    " 'https://en.wikipedia.org/wiki/Gottfried_Heinrich_Graf_zu_Pappenheim',\n",
    " 'https://en.wikipedia.org/wiki/Gudrun_Ensslin',\n",
    " 'https://en.wikipedia.org/wiki/Gustav_Tschermak_von_Seysenegg',\n",
    " 'https://en.wikipedia.org/wiki/Gymnasium_(school)',\n",
    " 'https://en.wikipedia.org/wiki/Hagelloch',\n",
    " 'https://en.wikipedia.org/wiki/Hamburg',\n",
    " 'https://en.wikipedia.org/wiki/Hanover',\n",
    " 'https://en.wikipedia.org/wiki/Hans-Peter_Uhl',\n",
    " 'https://en.wikipedia.org/wiki/Hans_K%C3%BCng',\n",
    " 'https://en.wikipedia.org/wiki/Hans_Mayer',\n",
    " 'https://en.wikipedia.org/wiki/Hartmut_Zinser',\n",
    " 'https://en.wikipedia.org/wiki/Hechingen',\n",
    " 'https://en.wikipedia.org/wiki/Heilbronn',\n",
    " 'https://en.wikipedia.org/wiki/Helmut_Haussmann',\n",
    " 'https://en.wikipedia.org/wiki/Hermann_Hesse',\n",
    " 'https://en.wikipedia.org/wiki/Herrenberg',\n",
    " 'https://en.wikipedia.org/wiki/Hesse',\n",
    " 'https://en.wikipedia.org/wiki/Hirrlingen',\n",
    " 'https://en.wikipedia.org/wiki/Hirschau_(T%C3%BCbingen)',\n",
    " 'https://en.wikipedia.org/wiki/Hohenzollerische_Landesbahn',\n",
    " 'https://en.wikipedia.org/wiki/Holy_Roman_Empire',\n",
    " 'https://en.wikipedia.org/wiki/Horb',\n",
    " 'https://en.wikipedia.org/wiki/Horst_K%C3%B6hler',\n",
    " 'https://en.wikipedia.org/wiki/Immanuel_Hermann_Fichte',\n",
    " 'https://en.wikipedia.org/wiki/Intercity_(Deutsche_Bahn)',\n",
    " 'https://en.wikipedia.org/wiki/Jeremiah_Meyer',\n",
    " 'https://en.wikipedia.org/wiki/Jewish',\n",
    " 'https://en.wikipedia.org/wiki/Jews',\n",
    " 'https://en.wikipedia.org/wiki/Johann_Friedrich_Cotta',\n",
    " 'https://en.wikipedia.org/wiki/Johann_Friedrich_Gmelin',\n",
    " 'https://en.wikipedia.org/wiki/Johann_Georg_Gmelin',\n",
    " 'https://en.wikipedia.org/wiki/Johann_Gottlieb_Friedrich_von_Bohnenberger',\n",
    " 'https://en.wikipedia.org/wiki/Johann_Ludwig_Brassicanus',\n",
    " 'https://en.wikipedia.org/wiki/Johann_Ludwig_Krapf',\n",
    " 'https://en.wikipedia.org/wiki/Johann_Reuchlin',\n",
    " 'https://en.wikipedia.org/wiki/Johannes_Kepler',\n",
    " 'https://en.wikipedia.org/wiki/Kiel',\n",
    " 'https://en.wikipedia.org/wiki/Kilchberg,_Z%C3%BCrich',\n",
    " 'https://en.wikipedia.org/wiki/Kilchberg_(T%C3%BCbingen)',\n",
    " 'https://en.wikipedia.org/wiki/Kim_Bui',\n",
    " 'https://en.wikipedia.org/wiki/Kingdom_of_W%C3%BCrttemberg',\n",
    " 'https://en.wikipedia.org/wiki/Kirchentellinsfurt',\n",
    " 'https://en.wikipedia.org/wiki/Kunsthalle_T%C3%BCbingen',\n",
    " 'https://en.wikipedia.org/wiki/Kurt_Georg_Kiesinger',\n",
    " 'https://en.wikipedia.org/wiki/Kusterdingen',\n",
    " 'https://en.wikipedia.org/wiki/Leinfelden-Echterdingen',\n",
    " 'https://en.wikipedia.org/wiki/Liberalism',\n",
    " 'https://en.wikipedia.org/wiki/Limes_(Roman_Empire)',\n",
    " 'https://en.wikipedia.org/wiki/List_of_dialling_codes_in_Germany',\n",
    " 'https://en.wikipedia.org/wiki/List_of_twin_towns_and_sister_cities_in_Germany',\n",
    " 'https://en.wikipedia.org/wiki/Lothar_Meyer',\n",
    " 'https://en.wikipedia.org/wiki/Ludwig_Uhland',\n",
    " 'https://en.wikipedia.org/wiki/Lustnau',\n",
    " 'https://en.wikipedia.org/wiki/Lutheran',\n",
    " 'https://en.wikipedia.org/wiki/Lutheranism',\n",
    " 'https://en.wikipedia.org/wiki/M%C3%B6ssingen',\n",
    " 'https://en.wikipedia.org/wiki/Magdeburg',\n",
    " 'https://en.wikipedia.org/wiki/Mainz',\n",
    " 'https://en.wikipedia.org/wiki/Manfred_Korfmann',\n",
    " 'https://en.wikipedia.org/wiki/Mannheim',\n",
    " 'https://en.wikipedia.org/wiki/Marshall_Plan',\n",
    " 'https://en.wikipedia.org/wiki/Martin_Luther',\n",
    " 'https://en.wikipedia.org/wiki/Martin_Walser',\n",
    " 'https://en.wikipedia.org/wiki/Marvin_Compper',\n",
    " 'https://en.wikipedia.org/wiki/Max_Hofmann',\n",
    " 'https://en.wikipedia.org/wiki/Max_Planck_Gesellschaft',\n",
    " 'https://en.wikipedia.org/wiki/Max_Planck_Institute_for_Biological_Cybernetics',\n",
    " 'https://en.wikipedia.org/wiki/Max_Planck_Institute_for_Biology',\n",
    " 'https://en.wikipedia.org/wiki/Max_Planck_Institute_for_Developmental_Biology',\n",
    " 'https://en.wikipedia.org/wiki/Max_Planck_Institute_for_Intelligent_Systems',]"
   ]
  },
  {
   "cell_type": "code",
   "execution_count": 4,
   "id": "7a49e777",
   "metadata": {},
   "outputs": [],
   "source": [
    "import requests\n",
    "from bs4 import BeautifulSoup\n",
    "\n",
    "def clean_me(html):\n",
    "    soup = BeautifulSoup(html)\n",
    "    for s in soup(['script', 'style']):\n",
    "        s.decompose()\n",
    "    return ' '.join(soup.stripped_strings)\n",
    "\n",
    "docs = []\n",
    "\n",
    "for url in example_urls:\n",
    "    resp = requests.get(url, timeout=10)\n",
    "    docs.append(clean_me(resp.text))"
   ]
  },
  {
   "cell_type": "code",
   "execution_count": 5,
   "id": "771de9d5",
   "metadata": {},
   "outputs": [
    {
     "name": "stderr",
     "output_type": "stream",
     "text": [
      "Batches: 100%|██████████| 3/3 [00:12<00:00,  4.03s/it]\n"
     ]
    }
   ],
   "source": [
    "from sentence_transformers import SentenceTransformer\n",
    "#embedding_model = SentenceTransformer(\"thenlper/gte-small\")\n",
    "embedding_model = SentenceTransformer('BAAI/bge-small-zh-v1.5')\n",
    "embeddings = embedding_model.encode(docs, show_progress_bar=True)"
   ]
  },
  {
   "cell_type": "code",
   "execution_count": 6,
   "id": "37b6bb36",
   "metadata": {},
   "outputs": [
    {
     "name": "stderr",
     "output_type": "stream",
     "text": [
      "c:\\Users\\csms\\miniconda3\\envs\\Modern-Search-Engines-Lecture\\Lib\\site-packages\\sklearn\\cluster\\_kmeans.py:1419: UserWarning: KMeans is known to have a memory leak on Windows with MKL, when there are less chunks than available threads. You can avoid it by setting the environment variable OMP_NUM_THREADS=1.\n",
      "  warnings.warn(\n",
      "c:\\Users\\csms\\miniconda3\\envs\\Modern-Search-Engines-Lecture\\Lib\\site-packages\\sklearn\\cluster\\_kmeans.py:1419: UserWarning: KMeans is known to have a memory leak on Windows with MKL, when there are less chunks than available threads. You can avoid it by setting the environment variable OMP_NUM_THREADS=1.\n",
      "  warnings.warn(\n",
      "c:\\Users\\csms\\miniconda3\\envs\\Modern-Search-Engines-Lecture\\Lib\\site-packages\\sklearn\\cluster\\_kmeans.py:1419: UserWarning: KMeans is known to have a memory leak on Windows with MKL, when there are less chunks than available threads. You can avoid it by setting the environment variable OMP_NUM_THREADS=1.\n",
      "  warnings.warn(\n",
      "c:\\Users\\csms\\miniconda3\\envs\\Modern-Search-Engines-Lecture\\Lib\\site-packages\\sklearn\\cluster\\_kmeans.py:1419: UserWarning: KMeans is known to have a memory leak on Windows with MKL, when there are less chunks than available threads. You can avoid it by setting the environment variable OMP_NUM_THREADS=1.\n",
      "  warnings.warn(\n",
      "c:\\Users\\csms\\miniconda3\\envs\\Modern-Search-Engines-Lecture\\Lib\\site-packages\\sklearn\\cluster\\_kmeans.py:1419: UserWarning: KMeans is known to have a memory leak on Windows with MKL, when there are less chunks than available threads. You can avoid it by setting the environment variable OMP_NUM_THREADS=1.\n",
      "  warnings.warn(\n",
      "c:\\Users\\csms\\miniconda3\\envs\\Modern-Search-Engines-Lecture\\Lib\\site-packages\\sklearn\\cluster\\_kmeans.py:1419: UserWarning: KMeans is known to have a memory leak on Windows with MKL, when there are less chunks than available threads. You can avoid it by setting the environment variable OMP_NUM_THREADS=1.\n",
      "  warnings.warn(\n",
      "c:\\Users\\csms\\miniconda3\\envs\\Modern-Search-Engines-Lecture\\Lib\\site-packages\\sklearn\\cluster\\_kmeans.py:1419: UserWarning: KMeans is known to have a memory leak on Windows with MKL, when there are less chunks than available threads. You can avoid it by setting the environment variable OMP_NUM_THREADS=1.\n",
      "  warnings.warn(\n",
      "c:\\Users\\csms\\miniconda3\\envs\\Modern-Search-Engines-Lecture\\Lib\\site-packages\\sklearn\\cluster\\_kmeans.py:1419: UserWarning: KMeans is known to have a memory leak on Windows with MKL, when there are less chunks than available threads. You can avoid it by setting the environment variable OMP_NUM_THREADS=1.\n",
      "  warnings.warn(\n",
      "c:\\Users\\csms\\miniconda3\\envs\\Modern-Search-Engines-Lecture\\Lib\\site-packages\\sklearn\\cluster\\_kmeans.py:1419: UserWarning: KMeans is known to have a memory leak on Windows with MKL, when there are less chunks than available threads. You can avoid it by setting the environment variable OMP_NUM_THREADS=1.\n",
      "  warnings.warn(\n",
      "c:\\Users\\csms\\miniconda3\\envs\\Modern-Search-Engines-Lecture\\Lib\\site-packages\\sklearn\\cluster\\_kmeans.py:1419: UserWarning: KMeans is known to have a memory leak on Windows with MKL, when there are less chunks than available threads. You can avoid it by setting the environment variable OMP_NUM_THREADS=1.\n",
      "  warnings.warn(\n",
      "c:\\Users\\csms\\miniconda3\\envs\\Modern-Search-Engines-Lecture\\Lib\\site-packages\\sklearn\\cluster\\_kmeans.py:1419: UserWarning: KMeans is known to have a memory leak on Windows with MKL, when there are less chunks than available threads. You can avoid it by setting the environment variable OMP_NUM_THREADS=1.\n",
      "  warnings.warn(\n",
      "c:\\Users\\csms\\miniconda3\\envs\\Modern-Search-Engines-Lecture\\Lib\\site-packages\\sklearn\\cluster\\_kmeans.py:1419: UserWarning: KMeans is known to have a memory leak on Windows with MKL, when there are less chunks than available threads. You can avoid it by setting the environment variable OMP_NUM_THREADS=1.\n",
      "  warnings.warn(\n",
      "c:\\Users\\csms\\miniconda3\\envs\\Modern-Search-Engines-Lecture\\Lib\\site-packages\\sklearn\\cluster\\_kmeans.py:1419: UserWarning: KMeans is known to have a memory leak on Windows with MKL, when there are less chunks than available threads. You can avoid it by setting the environment variable OMP_NUM_THREADS=1.\n",
      "  warnings.warn(\n",
      "c:\\Users\\csms\\miniconda3\\envs\\Modern-Search-Engines-Lecture\\Lib\\site-packages\\sklearn\\cluster\\_kmeans.py:1419: UserWarning: KMeans is known to have a memory leak on Windows with MKL, when there are less chunks than available threads. You can avoid it by setting the environment variable OMP_NUM_THREADS=1.\n",
      "  warnings.warn(\n",
      "c:\\Users\\csms\\miniconda3\\envs\\Modern-Search-Engines-Lecture\\Lib\\site-packages\\sklearn\\cluster\\_kmeans.py:1419: UserWarning: KMeans is known to have a memory leak on Windows with MKL, when there are less chunks than available threads. You can avoid it by setting the environment variable OMP_NUM_THREADS=1.\n",
      "  warnings.warn(\n",
      "c:\\Users\\csms\\miniconda3\\envs\\Modern-Search-Engines-Lecture\\Lib\\site-packages\\sklearn\\cluster\\_kmeans.py:1419: UserWarning: KMeans is known to have a memory leak on Windows with MKL, when there are less chunks than available threads. You can avoid it by setting the environment variable OMP_NUM_THREADS=1.\n",
      "  warnings.warn(\n",
      "c:\\Users\\csms\\miniconda3\\envs\\Modern-Search-Engines-Lecture\\Lib\\site-packages\\sklearn\\cluster\\_kmeans.py:1419: UserWarning: KMeans is known to have a memory leak on Windows with MKL, when there are less chunks than available threads. You can avoid it by setting the environment variable OMP_NUM_THREADS=1.\n",
      "  warnings.warn(\n",
      "c:\\Users\\csms\\miniconda3\\envs\\Modern-Search-Engines-Lecture\\Lib\\site-packages\\sklearn\\cluster\\_kmeans.py:1419: UserWarning: KMeans is known to have a memory leak on Windows with MKL, when there are less chunks than available threads. You can avoid it by setting the environment variable OMP_NUM_THREADS=1.\n",
      "  warnings.warn(\n",
      "c:\\Users\\csms\\miniconda3\\envs\\Modern-Search-Engines-Lecture\\Lib\\site-packages\\sklearn\\cluster\\_kmeans.py:1419: UserWarning: KMeans is known to have a memory leak on Windows with MKL, when there are less chunks than available threads. You can avoid it by setting the environment variable OMP_NUM_THREADS=1.\n",
      "  warnings.warn(\n",
      "c:\\Users\\csms\\miniconda3\\envs\\Modern-Search-Engines-Lecture\\Lib\\site-packages\\sklearn\\cluster\\_kmeans.py:1419: UserWarning: KMeans is known to have a memory leak on Windows with MKL, when there are less chunks than available threads. You can avoid it by setting the environment variable OMP_NUM_THREADS=1.\n",
      "  warnings.warn(\n",
      "c:\\Users\\csms\\miniconda3\\envs\\Modern-Search-Engines-Lecture\\Lib\\site-packages\\sklearn\\cluster\\_kmeans.py:1419: UserWarning: KMeans is known to have a memory leak on Windows with MKL, when there are less chunks than available threads. You can avoid it by setting the environment variable OMP_NUM_THREADS=1.\n",
      "  warnings.warn(\n",
      "c:\\Users\\csms\\miniconda3\\envs\\Modern-Search-Engines-Lecture\\Lib\\site-packages\\sklearn\\cluster\\_kmeans.py:1419: UserWarning: KMeans is known to have a memory leak on Windows with MKL, when there are less chunks than available threads. You can avoid it by setting the environment variable OMP_NUM_THREADS=1.\n",
      "  warnings.warn(\n",
      "c:\\Users\\csms\\miniconda3\\envs\\Modern-Search-Engines-Lecture\\Lib\\site-packages\\sklearn\\cluster\\_kmeans.py:1419: UserWarning: KMeans is known to have a memory leak on Windows with MKL, when there are less chunks than available threads. You can avoid it by setting the environment variable OMP_NUM_THREADS=1.\n",
      "  warnings.warn(\n",
      "c:\\Users\\csms\\miniconda3\\envs\\Modern-Search-Engines-Lecture\\Lib\\site-packages\\sklearn\\cluster\\_kmeans.py:1419: UserWarning: KMeans is known to have a memory leak on Windows with MKL, when there are less chunks than available threads. You can avoid it by setting the environment variable OMP_NUM_THREADS=1.\n",
      "  warnings.warn(\n",
      "c:\\Users\\csms\\miniconda3\\envs\\Modern-Search-Engines-Lecture\\Lib\\site-packages\\sklearn\\cluster\\_kmeans.py:1419: UserWarning: KMeans is known to have a memory leak on Windows with MKL, when there are less chunks than available threads. You can avoid it by setting the environment variable OMP_NUM_THREADS=1.\n",
      "  warnings.warn(\n",
      "c:\\Users\\csms\\miniconda3\\envs\\Modern-Search-Engines-Lecture\\Lib\\site-packages\\sklearn\\cluster\\_kmeans.py:1419: UserWarning: KMeans is known to have a memory leak on Windows with MKL, when there are less chunks than available threads. You can avoid it by setting the environment variable OMP_NUM_THREADS=1.\n",
      "  warnings.warn(\n",
      "c:\\Users\\csms\\miniconda3\\envs\\Modern-Search-Engines-Lecture\\Lib\\site-packages\\sklearn\\cluster\\_kmeans.py:1419: UserWarning: KMeans is known to have a memory leak on Windows with MKL, when there are less chunks than available threads. You can avoid it by setting the environment variable OMP_NUM_THREADS=1.\n",
      "  warnings.warn(\n",
      "c:\\Users\\csms\\miniconda3\\envs\\Modern-Search-Engines-Lecture\\Lib\\site-packages\\sklearn\\cluster\\_kmeans.py:1419: UserWarning: KMeans is known to have a memory leak on Windows with MKL, when there are less chunks than available threads. You can avoid it by setting the environment variable OMP_NUM_THREADS=1.\n",
      "  warnings.warn(\n",
      "c:\\Users\\csms\\miniconda3\\envs\\Modern-Search-Engines-Lecture\\Lib\\site-packages\\sklearn\\cluster\\_kmeans.py:1419: UserWarning: KMeans is known to have a memory leak on Windows with MKL, when there are less chunks than available threads. You can avoid it by setting the environment variable OMP_NUM_THREADS=1.\n",
      "  warnings.warn(\n",
      "c:\\Users\\csms\\miniconda3\\envs\\Modern-Search-Engines-Lecture\\Lib\\site-packages\\sklearn\\cluster\\_kmeans.py:1419: UserWarning: KMeans is known to have a memory leak on Windows with MKL, when there are less chunks than available threads. You can avoid it by setting the environment variable OMP_NUM_THREADS=1.\n",
      "  warnings.warn(\n",
      "c:\\Users\\csms\\miniconda3\\envs\\Modern-Search-Engines-Lecture\\Lib\\site-packages\\sklearn\\cluster\\_kmeans.py:1419: UserWarning: KMeans is known to have a memory leak on Windows with MKL, when there are less chunks than available threads. You can avoid it by setting the environment variable OMP_NUM_THREADS=1.\n",
      "  warnings.warn(\n",
      "c:\\Users\\csms\\miniconda3\\envs\\Modern-Search-Engines-Lecture\\Lib\\site-packages\\sklearn\\cluster\\_kmeans.py:1419: UserWarning: KMeans is known to have a memory leak on Windows with MKL, when there are less chunks than available threads. You can avoid it by setting the environment variable OMP_NUM_THREADS=1.\n",
      "  warnings.warn(\n",
      "c:\\Users\\csms\\miniconda3\\envs\\Modern-Search-Engines-Lecture\\Lib\\site-packages\\sklearn\\cluster\\_kmeans.py:1419: UserWarning: KMeans is known to have a memory leak on Windows with MKL, when there are less chunks than available threads. You can avoid it by setting the environment variable OMP_NUM_THREADS=1.\n",
      "  warnings.warn(\n",
      "c:\\Users\\csms\\miniconda3\\envs\\Modern-Search-Engines-Lecture\\Lib\\site-packages\\sklearn\\cluster\\_kmeans.py:1419: UserWarning: KMeans is known to have a memory leak on Windows with MKL, when there are less chunks than available threads. You can avoid it by setting the environment variable OMP_NUM_THREADS=1.\n",
      "  warnings.warn(\n",
      "c:\\Users\\csms\\miniconda3\\envs\\Modern-Search-Engines-Lecture\\Lib\\site-packages\\sklearn\\cluster\\_kmeans.py:1419: UserWarning: KMeans is known to have a memory leak on Windows with MKL, when there are less chunks than available threads. You can avoid it by setting the environment variable OMP_NUM_THREADS=1.\n",
      "  warnings.warn(\n",
      "c:\\Users\\csms\\miniconda3\\envs\\Modern-Search-Engines-Lecture\\Lib\\site-packages\\sklearn\\cluster\\_kmeans.py:1419: UserWarning: KMeans is known to have a memory leak on Windows with MKL, when there are less chunks than available threads. You can avoid it by setting the environment variable OMP_NUM_THREADS=1.\n",
      "  warnings.warn(\n",
      "c:\\Users\\csms\\miniconda3\\envs\\Modern-Search-Engines-Lecture\\Lib\\site-packages\\sklearn\\cluster\\_kmeans.py:1419: UserWarning: KMeans is known to have a memory leak on Windows with MKL, when there are less chunks than available threads. You can avoid it by setting the environment variable OMP_NUM_THREADS=1.\n",
      "  warnings.warn(\n",
      "c:\\Users\\csms\\miniconda3\\envs\\Modern-Search-Engines-Lecture\\Lib\\site-packages\\sklearn\\cluster\\_kmeans.py:1419: UserWarning: KMeans is known to have a memory leak on Windows with MKL, when there are less chunks than available threads. You can avoid it by setting the environment variable OMP_NUM_THREADS=1.\n",
      "  warnings.warn(\n",
      "c:\\Users\\csms\\miniconda3\\envs\\Modern-Search-Engines-Lecture\\Lib\\site-packages\\sklearn\\cluster\\_kmeans.py:1419: UserWarning: KMeans is known to have a memory leak on Windows with MKL, when there are less chunks than available threads. You can avoid it by setting the environment variable OMP_NUM_THREADS=1.\n",
      "  warnings.warn(\n",
      "c:\\Users\\csms\\miniconda3\\envs\\Modern-Search-Engines-Lecture\\Lib\\site-packages\\sklearn\\cluster\\_kmeans.py:1419: UserWarning: KMeans is known to have a memory leak on Windows with MKL, when there are less chunks than available threads. You can avoid it by setting the environment variable OMP_NUM_THREADS=1.\n",
      "  warnings.warn(\n",
      "c:\\Users\\csms\\miniconda3\\envs\\Modern-Search-Engines-Lecture\\Lib\\site-packages\\sklearn\\cluster\\_kmeans.py:1419: UserWarning: KMeans is known to have a memory leak on Windows with MKL, when there are less chunks than available threads. You can avoid it by setting the environment variable OMP_NUM_THREADS=1.\n",
      "  warnings.warn(\n",
      "c:\\Users\\csms\\miniconda3\\envs\\Modern-Search-Engines-Lecture\\Lib\\site-packages\\sklearn\\cluster\\_kmeans.py:1419: UserWarning: KMeans is known to have a memory leak on Windows with MKL, when there are less chunks than available threads. You can avoid it by setting the environment variable OMP_NUM_THREADS=1.\n",
      "  warnings.warn(\n",
      "c:\\Users\\csms\\miniconda3\\envs\\Modern-Search-Engines-Lecture\\Lib\\site-packages\\sklearn\\cluster\\_kmeans.py:1419: UserWarning: KMeans is known to have a memory leak on Windows with MKL, when there are less chunks than available threads. You can avoid it by setting the environment variable OMP_NUM_THREADS=1.\n",
      "  warnings.warn(\n",
      "c:\\Users\\csms\\miniconda3\\envs\\Modern-Search-Engines-Lecture\\Lib\\site-packages\\sklearn\\cluster\\_kmeans.py:1419: UserWarning: KMeans is known to have a memory leak on Windows with MKL, when there are less chunks than available threads. You can avoid it by setting the environment variable OMP_NUM_THREADS=1.\n",
      "  warnings.warn(\n",
      "c:\\Users\\csms\\miniconda3\\envs\\Modern-Search-Engines-Lecture\\Lib\\site-packages\\sklearn\\cluster\\_kmeans.py:1419: UserWarning: KMeans is known to have a memory leak on Windows with MKL, when there are less chunks than available threads. You can avoid it by setting the environment variable OMP_NUM_THREADS=1.\n",
      "  warnings.warn(\n",
      "c:\\Users\\csms\\miniconda3\\envs\\Modern-Search-Engines-Lecture\\Lib\\site-packages\\sklearn\\cluster\\_kmeans.py:1419: UserWarning: KMeans is known to have a memory leak on Windows with MKL, when there are less chunks than available threads. You can avoid it by setting the environment variable OMP_NUM_THREADS=1.\n",
      "  warnings.warn(\n",
      "c:\\Users\\csms\\miniconda3\\envs\\Modern-Search-Engines-Lecture\\Lib\\site-packages\\sklearn\\cluster\\_kmeans.py:1419: UserWarning: KMeans is known to have a memory leak on Windows with MKL, when there are less chunks than available threads. You can avoid it by setting the environment variable OMP_NUM_THREADS=1.\n",
      "  warnings.warn(\n",
      "c:\\Users\\csms\\miniconda3\\envs\\Modern-Search-Engines-Lecture\\Lib\\site-packages\\sklearn\\cluster\\_kmeans.py:1419: UserWarning: KMeans is known to have a memory leak on Windows with MKL, when there are less chunks than available threads. You can avoid it by setting the environment variable OMP_NUM_THREADS=1.\n",
      "  warnings.warn(\n",
      "c:\\Users\\csms\\miniconda3\\envs\\Modern-Search-Engines-Lecture\\Lib\\site-packages\\sklearn\\cluster\\_kmeans.py:1419: UserWarning: KMeans is known to have a memory leak on Windows with MKL, when there are less chunks than available threads. You can avoid it by setting the environment variable OMP_NUM_THREADS=1.\n",
      "  warnings.warn(\n",
      "c:\\Users\\csms\\miniconda3\\envs\\Modern-Search-Engines-Lecture\\Lib\\site-packages\\sklearn\\cluster\\_kmeans.py:1419: UserWarning: KMeans is known to have a memory leak on Windows with MKL, when there are less chunks than available threads. You can avoid it by setting the environment variable OMP_NUM_THREADS=1.\n",
      "  warnings.warn(\n",
      "c:\\Users\\csms\\miniconda3\\envs\\Modern-Search-Engines-Lecture\\Lib\\site-packages\\sklearn\\cluster\\_kmeans.py:1419: UserWarning: KMeans is known to have a memory leak on Windows with MKL, when there are less chunks than available threads. You can avoid it by setting the environment variable OMP_NUM_THREADS=1.\n",
      "  warnings.warn(\n",
      "c:\\Users\\csms\\miniconda3\\envs\\Modern-Search-Engines-Lecture\\Lib\\site-packages\\sklearn\\cluster\\_kmeans.py:1419: UserWarning: KMeans is known to have a memory leak on Windows with MKL, when there are less chunks than available threads. You can avoid it by setting the environment variable OMP_NUM_THREADS=1.\n",
      "  warnings.warn(\n",
      "c:\\Users\\csms\\miniconda3\\envs\\Modern-Search-Engines-Lecture\\Lib\\site-packages\\sklearn\\cluster\\_kmeans.py:1419: UserWarning: KMeans is known to have a memory leak on Windows with MKL, when there are less chunks than available threads. You can avoid it by setting the environment variable OMP_NUM_THREADS=1.\n",
      "  warnings.warn(\n",
      "c:\\Users\\csms\\miniconda3\\envs\\Modern-Search-Engines-Lecture\\Lib\\site-packages\\sklearn\\cluster\\_kmeans.py:1419: UserWarning: KMeans is known to have a memory leak on Windows with MKL, when there are less chunks than available threads. You can avoid it by setting the environment variable OMP_NUM_THREADS=1.\n",
      "  warnings.warn(\n",
      "c:\\Users\\csms\\miniconda3\\envs\\Modern-Search-Engines-Lecture\\Lib\\site-packages\\sklearn\\cluster\\_kmeans.py:1419: UserWarning: KMeans is known to have a memory leak on Windows with MKL, when there are less chunks than available threads. You can avoid it by setting the environment variable OMP_NUM_THREADS=1.\n",
      "  warnings.warn(\n",
      "c:\\Users\\csms\\miniconda3\\envs\\Modern-Search-Engines-Lecture\\Lib\\site-packages\\sklearn\\cluster\\_kmeans.py:1419: UserWarning: KMeans is known to have a memory leak on Windows with MKL, when there are less chunks than available threads. You can avoid it by setting the environment variable OMP_NUM_THREADS=1.\n",
      "  warnings.warn(\n",
      "c:\\Users\\csms\\miniconda3\\envs\\Modern-Search-Engines-Lecture\\Lib\\site-packages\\sklearn\\cluster\\_kmeans.py:1419: UserWarning: KMeans is known to have a memory leak on Windows with MKL, when there are less chunks than available threads. You can avoid it by setting the environment variable OMP_NUM_THREADS=1.\n",
      "  warnings.warn(\n",
      "c:\\Users\\csms\\miniconda3\\envs\\Modern-Search-Engines-Lecture\\Lib\\site-packages\\sklearn\\cluster\\_kmeans.py:1419: UserWarning: KMeans is known to have a memory leak on Windows with MKL, when there are less chunks than available threads. You can avoid it by setting the environment variable OMP_NUM_THREADS=1.\n",
      "  warnings.warn(\n",
      "c:\\Users\\csms\\miniconda3\\envs\\Modern-Search-Engines-Lecture\\Lib\\site-packages\\sklearn\\cluster\\_kmeans.py:1419: UserWarning: KMeans is known to have a memory leak on Windows with MKL, when there are less chunks than available threads. You can avoid it by setting the environment variable OMP_NUM_THREADS=1.\n",
      "  warnings.warn(\n",
      "c:\\Users\\csms\\miniconda3\\envs\\Modern-Search-Engines-Lecture\\Lib\\site-packages\\sklearn\\cluster\\_kmeans.py:1419: UserWarning: KMeans is known to have a memory leak on Windows with MKL, when there are less chunks than available threads. You can avoid it by setting the environment variable OMP_NUM_THREADS=1.\n",
      "  warnings.warn(\n",
      "c:\\Users\\csms\\miniconda3\\envs\\Modern-Search-Engines-Lecture\\Lib\\site-packages\\sklearn\\cluster\\_kmeans.py:1419: UserWarning: KMeans is known to have a memory leak on Windows with MKL, when there are less chunks than available threads. You can avoid it by setting the environment variable OMP_NUM_THREADS=1.\n",
      "  warnings.warn(\n",
      "c:\\Users\\csms\\miniconda3\\envs\\Modern-Search-Engines-Lecture\\Lib\\site-packages\\sklearn\\cluster\\_kmeans.py:1419: UserWarning: KMeans is known to have a memory leak on Windows with MKL, when there are less chunks than available threads. You can avoid it by setting the environment variable OMP_NUM_THREADS=1.\n",
      "  warnings.warn(\n",
      "c:\\Users\\csms\\miniconda3\\envs\\Modern-Search-Engines-Lecture\\Lib\\site-packages\\sklearn\\cluster\\_kmeans.py:1419: UserWarning: KMeans is known to have a memory leak on Windows with MKL, when there are less chunks than available threads. You can avoid it by setting the environment variable OMP_NUM_THREADS=1.\n",
      "  warnings.warn(\n",
      "c:\\Users\\csms\\miniconda3\\envs\\Modern-Search-Engines-Lecture\\Lib\\site-packages\\sklearn\\cluster\\_kmeans.py:1419: UserWarning: KMeans is known to have a memory leak on Windows with MKL, when there are less chunks than available threads. You can avoid it by setting the environment variable OMP_NUM_THREADS=1.\n",
      "  warnings.warn(\n",
      "c:\\Users\\csms\\miniconda3\\envs\\Modern-Search-Engines-Lecture\\Lib\\site-packages\\sklearn\\cluster\\_kmeans.py:1419: UserWarning: KMeans is known to have a memory leak on Windows with MKL, when there are less chunks than available threads. You can avoid it by setting the environment variable OMP_NUM_THREADS=1.\n",
      "  warnings.warn(\n",
      "c:\\Users\\csms\\miniconda3\\envs\\Modern-Search-Engines-Lecture\\Lib\\site-packages\\sklearn\\cluster\\_kmeans.py:1419: UserWarning: KMeans is known to have a memory leak on Windows with MKL, when there are less chunks than available threads. You can avoid it by setting the environment variable OMP_NUM_THREADS=1.\n",
      "  warnings.warn(\n",
      "c:\\Users\\csms\\miniconda3\\envs\\Modern-Search-Engines-Lecture\\Lib\\site-packages\\sklearn\\cluster\\_kmeans.py:1419: UserWarning: KMeans is known to have a memory leak on Windows with MKL, when there are less chunks than available threads. You can avoid it by setting the environment variable OMP_NUM_THREADS=1.\n",
      "  warnings.warn(\n",
      "c:\\Users\\csms\\miniconda3\\envs\\Modern-Search-Engines-Lecture\\Lib\\site-packages\\sklearn\\cluster\\_kmeans.py:1419: UserWarning: KMeans is known to have a memory leak on Windows with MKL, when there are less chunks than available threads. You can avoid it by setting the environment variable OMP_NUM_THREADS=1.\n",
      "  warnings.warn(\n",
      "c:\\Users\\csms\\miniconda3\\envs\\Modern-Search-Engines-Lecture\\Lib\\site-packages\\sklearn\\cluster\\_kmeans.py:1419: UserWarning: KMeans is known to have a memory leak on Windows with MKL, when there are less chunks than available threads. You can avoid it by setting the environment variable OMP_NUM_THREADS=1.\n",
      "  warnings.warn(\n",
      "c:\\Users\\csms\\miniconda3\\envs\\Modern-Search-Engines-Lecture\\Lib\\site-packages\\sklearn\\cluster\\_kmeans.py:1419: UserWarning: KMeans is known to have a memory leak on Windows with MKL, when there are less chunks than available threads. You can avoid it by setting the environment variable OMP_NUM_THREADS=1.\n",
      "  warnings.warn(\n",
      "c:\\Users\\csms\\miniconda3\\envs\\Modern-Search-Engines-Lecture\\Lib\\site-packages\\sklearn\\cluster\\_kmeans.py:1419: UserWarning: KMeans is known to have a memory leak on Windows with MKL, when there are less chunks than available threads. You can avoid it by setting the environment variable OMP_NUM_THREADS=1.\n",
      "  warnings.warn(\n",
      "c:\\Users\\csms\\miniconda3\\envs\\Modern-Search-Engines-Lecture\\Lib\\site-packages\\sklearn\\cluster\\_kmeans.py:1419: UserWarning: KMeans is known to have a memory leak on Windows with MKL, when there are less chunks than available threads. You can avoid it by setting the environment variable OMP_NUM_THREADS=1.\n",
      "  warnings.warn(\n",
      "c:\\Users\\csms\\miniconda3\\envs\\Modern-Search-Engines-Lecture\\Lib\\site-packages\\sklearn\\cluster\\_kmeans.py:1419: UserWarning: KMeans is known to have a memory leak on Windows with MKL, when there are less chunks than available threads. You can avoid it by setting the environment variable OMP_NUM_THREADS=1.\n",
      "  warnings.warn(\n",
      "c:\\Users\\csms\\miniconda3\\envs\\Modern-Search-Engines-Lecture\\Lib\\site-packages\\sklearn\\cluster\\_kmeans.py:1419: UserWarning: KMeans is known to have a memory leak on Windows with MKL, when there are less chunks than available threads. You can avoid it by setting the environment variable OMP_NUM_THREADS=1.\n",
      "  warnings.warn(\n",
      "c:\\Users\\csms\\miniconda3\\envs\\Modern-Search-Engines-Lecture\\Lib\\site-packages\\sklearn\\cluster\\_kmeans.py:1419: UserWarning: KMeans is known to have a memory leak on Windows with MKL, when there are less chunks than available threads. You can avoid it by setting the environment variable OMP_NUM_THREADS=1.\n",
      "  warnings.warn(\n",
      "c:\\Users\\csms\\miniconda3\\envs\\Modern-Search-Engines-Lecture\\Lib\\site-packages\\sklearn\\cluster\\_kmeans.py:1419: UserWarning: KMeans is known to have a memory leak on Windows with MKL, when there are less chunks than available threads. You can avoid it by setting the environment variable OMP_NUM_THREADS=1.\n",
      "  warnings.warn(\n",
      "c:\\Users\\csms\\miniconda3\\envs\\Modern-Search-Engines-Lecture\\Lib\\site-packages\\sklearn\\cluster\\_kmeans.py:1419: UserWarning: KMeans is known to have a memory leak on Windows with MKL, when there are less chunks than available threads. You can avoid it by setting the environment variable OMP_NUM_THREADS=1.\n",
      "  warnings.warn(\n",
      "c:\\Users\\csms\\miniconda3\\envs\\Modern-Search-Engines-Lecture\\Lib\\site-packages\\sklearn\\cluster\\_kmeans.py:1419: UserWarning: KMeans is known to have a memory leak on Windows with MKL, when there are less chunks than available threads. You can avoid it by setting the environment variable OMP_NUM_THREADS=1.\n",
      "  warnings.warn(\n",
      "c:\\Users\\csms\\miniconda3\\envs\\Modern-Search-Engines-Lecture\\Lib\\site-packages\\sklearn\\cluster\\_kmeans.py:1419: UserWarning: KMeans is known to have a memory leak on Windows with MKL, when there are less chunks than available threads. You can avoid it by setting the environment variable OMP_NUM_THREADS=1.\n",
      "  warnings.warn(\n",
      "c:\\Users\\csms\\miniconda3\\envs\\Modern-Search-Engines-Lecture\\Lib\\site-packages\\sklearn\\cluster\\_kmeans.py:1419: UserWarning: KMeans is known to have a memory leak on Windows with MKL, when there are less chunks than available threads. You can avoid it by setting the environment variable OMP_NUM_THREADS=1.\n",
      "  warnings.warn(\n",
      "c:\\Users\\csms\\miniconda3\\envs\\Modern-Search-Engines-Lecture\\Lib\\site-packages\\sklearn\\cluster\\_kmeans.py:1419: UserWarning: KMeans is known to have a memory leak on Windows with MKL, when there are less chunks than available threads. You can avoid it by setting the environment variable OMP_NUM_THREADS=1.\n",
      "  warnings.warn(\n",
      "c:\\Users\\csms\\miniconda3\\envs\\Modern-Search-Engines-Lecture\\Lib\\site-packages\\sklearn\\cluster\\_kmeans.py:1419: UserWarning: KMeans is known to have a memory leak on Windows with MKL, when there are less chunks than available threads. You can avoid it by setting the environment variable OMP_NUM_THREADS=1.\n",
      "  warnings.warn(\n",
      "c:\\Users\\csms\\miniconda3\\envs\\Modern-Search-Engines-Lecture\\Lib\\site-packages\\sklearn\\cluster\\_kmeans.py:1419: UserWarning: KMeans is known to have a memory leak on Windows with MKL, when there are less chunks than available threads. You can avoid it by setting the environment variable OMP_NUM_THREADS=1.\n",
      "  warnings.warn(\n",
      "c:\\Users\\csms\\miniconda3\\envs\\Modern-Search-Engines-Lecture\\Lib\\site-packages\\sklearn\\cluster\\_kmeans.py:1419: UserWarning: KMeans is known to have a memory leak on Windows with MKL, when there are less chunks than available threads. You can avoid it by setting the environment variable OMP_NUM_THREADS=1.\n",
      "  warnings.warn(\n",
      "c:\\Users\\csms\\miniconda3\\envs\\Modern-Search-Engines-Lecture\\Lib\\site-packages\\sklearn\\cluster\\_kmeans.py:1419: UserWarning: KMeans is known to have a memory leak on Windows with MKL, when there are less chunks than available threads. You can avoid it by setting the environment variable OMP_NUM_THREADS=1.\n",
      "  warnings.warn(\n",
      "c:\\Users\\csms\\miniconda3\\envs\\Modern-Search-Engines-Lecture\\Lib\\site-packages\\sklearn\\cluster\\_kmeans.py:1419: UserWarning: KMeans is known to have a memory leak on Windows with MKL, when there are less chunks than available threads. You can avoid it by setting the environment variable OMP_NUM_THREADS=1.\n",
      "  warnings.warn(\n",
      "c:\\Users\\csms\\miniconda3\\envs\\Modern-Search-Engines-Lecture\\Lib\\site-packages\\sklearn\\cluster\\_kmeans.py:1419: UserWarning: KMeans is known to have a memory leak on Windows with MKL, when there are less chunks than available threads. You can avoid it by setting the environment variable OMP_NUM_THREADS=1.\n",
      "  warnings.warn(\n",
      "c:\\Users\\csms\\miniconda3\\envs\\Modern-Search-Engines-Lecture\\Lib\\site-packages\\sklearn\\cluster\\_kmeans.py:1419: UserWarning: KMeans is known to have a memory leak on Windows with MKL, when there are less chunks than available threads. You can avoid it by setting the environment variable OMP_NUM_THREADS=1.\n",
      "  warnings.warn(\n",
      "c:\\Users\\csms\\miniconda3\\envs\\Modern-Search-Engines-Lecture\\Lib\\site-packages\\sklearn\\base.py:1363: ConvergenceWarning: Number of distinct clusters (88) found smaller than n_clusters (89). Possibly due to duplicate points in X.\n",
      "  return fit_method(estimator, *args, **kwargs)\n",
      "c:\\Users\\csms\\miniconda3\\envs\\Modern-Search-Engines-Lecture\\Lib\\site-packages\\sklearn\\cluster\\_kmeans.py:1419: UserWarning: KMeans is known to have a memory leak on Windows with MKL, when there are less chunks than available threads. You can avoid it by setting the environment variable OMP_NUM_THREADS=1.\n",
      "  warnings.warn(\n",
      "c:\\Users\\csms\\miniconda3\\envs\\Modern-Search-Engines-Lecture\\Lib\\site-packages\\sklearn\\base.py:1363: ConvergenceWarning: Number of distinct clusters (88) found smaller than n_clusters (90). Possibly due to duplicate points in X.\n",
      "  return fit_method(estimator, *args, **kwargs)\n"
     ]
    }
   ],
   "source": [
    "from sklearn.mixture import GaussianMixture\n",
    "from sklearn.metrics import silhouette_score\n",
    "\n",
    "scores = []\n",
    "n_topic_candidates = range(2, len(embeddings), 1)\n",
    "\n",
    "for n_topics in n_topic_candidates:\n",
    "    model = GaussianMixture(n_components=n_topics).fit(embeddings)\n",
    "    labels = model.predict(embeddings)\n",
    "    scores.append(silhouette_score(embeddings, labels))"
   ]
  },
  {
   "cell_type": "code",
   "execution_count": 7,
   "id": "df3f4d07",
   "metadata": {},
   "outputs": [
    {
     "data": {
      "text/plain": [
       "array([63, 67, 64, 29, 51, 62, 56, 72, 70, 66, 46, 53, 58, 71, 59, 74, 69,\n",
       "       48, 57, 73, 65, 33, 77, 78, 60, 38, 35, 76, 80, 52, 68, 79,  2, 75,\n",
       "       47, 45, 40, 49, 61, 23, 81, 54, 82, 42, 41, 43, 27, 37, 50, 55, 83,\n",
       "       26,  8, 34, 20, 13, 30, 84, 24, 22, 36, 85, 44, 86, 39, 12,  3, 18,\n",
       "       32, 87, 25, 31,  7, 14, 19, 16, 28, 90, 88, 89, 17, 15, 10, 11,  4,\n",
       "        6,  5, 21,  9])"
      ]
     },
     "execution_count": 7,
     "metadata": {},
     "output_type": "execute_result"
    },
    {
     "data": {
      "image/png": "[encoded data removed]",
      "text/plain": [
       "<Figure size 640x480 with 1 Axes>"
      ]
     },
     "metadata": {},
     "output_type": "display_data"
    }
   ],
   "source": [
    "import matplotlib.pyplot as plt\n",
    "import numpy as np\n",
    "\n",
    "plt.plot(n_topic_candidates, scores)\n",
    "plt.vlines(list(n_topic_candidates)[np.argmax(scores)], 0, 0.1, colors='red')\n",
    "np.argsort(-np.array(scores))+2"
   ]
  },
  {
   "cell_type": "code",
   "execution_count": 21,
   "id": "65dc407e",
   "metadata": {},
   "outputs": [],
   "source": [
    "def print_titles_in_topics(labels, n_topics):\n",
    "    topics = [[] for _ in range(n_topics)]\n",
    "    for i, label in enumerate(labels):\n",
    "        topics[label].append(docs[i])\n",
    "    for i, topic in enumerate(topics):\n",
    "        if len(topic) != 0:\n",
    "            print(i, ':', [doc.split(' - ')[0] for doc in topic])"
   ]
  },
  {
   "cell_type": "code",
   "execution_count": 13,
   "id": "e6add299",
   "metadata": {},
   "outputs": [
    {
     "name": "stderr",
     "output_type": "stream",
     "text": [
      "c:\\Users\\csms\\miniconda3\\envs\\Modern-Search-Engines-Lecture\\Lib\\site-packages\\sklearn\\cluster\\_kmeans.py:1419: UserWarning: KMeans is known to have a memory leak on Windows with MKL, when there are less chunks than available threads. You can avoid it by setting the environment variable OMP_NUM_THREADS=1.\n",
      "  warnings.warn(\n"
     ]
    },
    {
     "name": "stdout",
     "output_type": "stream",
     "text": [
      "0 : ['Liberalism']\n",
      "1 : ['File:TuebingenStiftskirche.jpg', 'File:Wappen Tuebingen.svg', 'Gerhard Rohlfs', 'German rearmament', 'Gomaringen', 'Gottfried Heinrich Graf zu Pappenheim', 'Hagelloch', 'Hechingen', 'Hirrlingen', 'Hirschau (Tübingen)', 'Hohenzollerische Landesbahn', 'Horb am Neckar', 'Intercity (Deutsche Bahn)', 'Kilchberg, Zurich', 'Kirchentellinsfurt', 'Kunsthalle Tübingen', 'Kurt Georg Kiesinger', 'Kusterdingen', 'Leinfelden-Echterdingen', 'Limes (Roman Empire)', 'Lothar Meyer', 'Ludwig Uhland', 'Lustnau', 'Marvin Compper', 'Max Hofmann', 'Max Planck Institute for Biological Cybernetics', 'Max Planck Institute for Biology', 'Max Planck Institute for Biology Tübingen', 'Max Planck Institute for Intelligent Systems']\n",
      "2 : ['Freiburg im Breisgau', 'Friedrich Hölderlin', 'Friedrich List', 'Friedrich Wilhelm Joseph Schelling', 'Johann Wolfgang von Goethe', 'Johann Wolfgang von Goethe', 'Hermann Hesse', 'Herrenberg', 'Horst Köhler', 'Jews', 'Jews', 'Kiel', 'Kingdom of Württemberg', 'Magdeburg']\n",
      "3 : ['Franz Xaver von Funk', 'Friedrich Miescher', 'Friedrich Silcher', 'Friedrich von Huene', 'Geoffrey Elton', 'Georg Herwegh', 'Georg Wilhelm Friedrich Hegel', 'Gerhard Anschütz', 'Geschwister-Scholl-Schule (Tübingen)', 'Gudrun Ensslin', 'Gustav Tschermak von Seysenegg', 'Hartmut Zinser', 'Helmut Haussmann', 'Immanuel Hermann Fichte', 'Jeremiah Meyer', 'Johann Gottlieb Friedrich von Bohnenberger', 'Manfred Korfmann', 'Martin Walser']\n",
      "4 : ['Germany', 'Hamburg', 'Hanover', 'Heilbronn', 'Hesse', 'Holy Roman Empire', 'Johannes Kepler', 'Kim Bui', 'List of dialling codes in Germany', 'List of twin towns and sister cities in Germany', 'Lutheranism', 'Lutheranism', 'Mössingen', 'Mainz', 'Mannheim', 'Marshall Plan', 'Martin Luther', 'Max Planck Society']\n",
      "5 : ['Gymnasium (school)']\n",
      "6 : ['Hans-Peter Uhl', 'Hans Küng', 'Hans Mayer', 'Johann Friedrich Cotta', 'Johann Friedrich Gmelin', 'Johann Georg Gmelin', 'Johann Ludwig Brassicanus', 'Johann Ludwig Krapf', 'Johann Reuchlin']\n",
      "7 : ['Kilchberg (Tübingen)']\n"
     ]
    }
   ],
   "source": [
    "n_topics = 8\n",
    "model = GaussianMixture(n_components=n_topics).fit(embeddings)\n",
    "labels = model.predict(embeddings)\n",
    "print_titles_in_topics(labels, n_topics)"
   ]
  },
  {
   "cell_type": "code",
   "execution_count": 11,
   "id": "5895afea",
   "metadata": {},
   "outputs": [
    {
     "name": "stderr",
     "output_type": "stream",
     "text": [
      "c:\\Users\\csms\\miniconda3\\envs\\Modern-Search-Engines-Lecture\\Lib\\site-packages\\sklearn\\cluster\\_kmeans.py:1419: UserWarning: KMeans is known to have a memory leak on Windows with MKL, when there are less chunks than available threads. You can avoid it by setting the environment variable OMP_NUM_THREADS=1.\n",
      "  warnings.warn(\n"
     ]
    },
    {
     "name": "stdout",
     "output_type": "stream",
     "text": [
      "0 : ['List of dialling codes in Germany']\n",
      "1 : ['Franz Xaver von Funk', 'Geoffrey Elton', 'Georg Herwegh', 'Georg Wilhelm Friedrich Hegel', 'Gerhard Anschütz', 'Gerhard Rohlfs', 'Geschwister-Scholl-Schule (Tübingen)', 'Gudrun Ensslin', 'Gustav Tschermak von Seysenegg', 'Hartmut Zinser', 'Helmut Haussmann', 'Hohenzollerische Landesbahn', 'Immanuel Hermann Fichte', 'Jeremiah Meyer', 'Johann Friedrich Cotta', 'Johann Georg Gmelin', 'Johann Gottlieb Friedrich von Bohnenberger', 'Kilchberg, Zurich', 'Manfred Korfmann', 'Martin Walser', 'Max Hofmann']\n",
      "2 : ['Hans-Peter Uhl', 'Hans Küng', 'Hans Mayer']\n",
      "3 : ['Friedrich Hölderlin', 'Friedrich List', 'Friedrich Miescher', 'Friedrich Silcher', 'Friedrich Wilhelm Joseph Schelling', 'Friedrich von Huene', 'Hermann Hesse', 'Johann Friedrich Gmelin']\n",
      "4 : ['File:TuebingenStiftskirche.jpg', 'File:Wappen Tuebingen.svg', 'Gomaringen', 'Gottfried Heinrich Graf zu Pappenheim', 'Gymnasium (school)', 'Johann Ludwig Brassicanus', 'Johann Ludwig Krapf', 'Johann Reuchlin', 'Kirchentellinsfurt', 'Kunsthalle Tübingen', 'Kurt Georg Kiesinger', 'Kusterdingen', 'Limes (Roman Empire)', 'Lothar Meyer', 'Ludwig Uhland', 'Lustnau', 'Marvin Compper']\n",
      "5 : ['Holy Roman Empire']\n",
      "6 : ['Kilchberg (Tübingen)']\n",
      "7 : ['Freiburg im Breisgau', 'Johann Wolfgang von Goethe', 'Johann Wolfgang von Goethe', 'Horst Köhler', 'Jews', 'Jews', 'Kiel', 'Kingdom of Württemberg', 'Liberalism', 'Magdeburg']\n",
      "8 : ['Max Planck Society', 'Max Planck Institute for Biological Cybernetics', 'Max Planck Institute for Biology', 'Max Planck Institute for Biology Tübingen', 'Max Planck Institute for Intelligent Systems']\n",
      "9 : ['Heilbronn', 'Mannheim', 'Marshall Plan']\n",
      "10 : ['Germany', 'Hamburg', 'Hanover', 'Hesse', 'Johannes Kepler', 'Kim Bui', 'Mössingen', 'Mainz']\n",
      "11 : ['German rearmament', 'Hagelloch', 'Hechingen', 'Herrenberg', 'Hirrlingen', 'Hirschau (Tübingen)', 'Horb am Neckar', 'Intercity (Deutsche Bahn)', 'Leinfelden-Echterdingen', 'List of twin towns and sister cities in Germany']\n",
      "12 : ['Lutheranism', 'Lutheranism', 'Martin Luther']\n"
     ]
    }
   ],
   "source": [
    "n_topics = 13\n",
    "model = GaussianMixture(n_components=n_topics).fit(embeddings)\n",
    "labels = model.predict(embeddings)\n",
    "print_titles_in_topics(labels, n_topics)"
   ]
  },
  {
   "cell_type": "code",
   "execution_count": null,
   "id": "24bffcfd",
   "metadata": {},
   "outputs": [
    {
     "name": "stderr",
     "output_type": "stream",
     "text": [
      "c:\\Users\\csms\\miniconda3\\envs\\Modern-Search-Engines-Lecture\\Lib\\site-packages\\sklearn\\cluster\\_kmeans.py:1419: UserWarning: KMeans is known to have a memory leak on Windows with MKL, when there are less chunks than available threads. You can avoid it by setting the environment variable OMP_NUM_THREADS=1.\n",
      "  warnings.warn(\n"
     ]
    },
    {
     "name": "stdout",
     "output_type": "stream",
     "text": [
      "0 : ['List of dialling codes in Germany', 'List of twin towns and sister cities in Germany']\n",
      "1 : ['File:TuebingenStiftskirche.jpg', 'File:Wappen Tuebingen.svg']\n",
      "2 : ['Max Planck Society']\n",
      "3 : ['Georg Herwegh', 'Georg Wilhelm Friedrich Hegel', 'Immanuel Hermann Fichte']\n",
      "4 : ['Freiburg im Breisgau', 'Magdeburg']\n",
      "5 : ['Lutheranism', 'Lutheranism', 'Martin Luther']\n",
      "6 : ['Kingdom of Württemberg']\n",
      "7 : ['Franz Xaver von Funk', 'Friedrich Hölderlin', 'Friedrich List', 'Friedrich Miescher', 'Friedrich Silcher', 'Friedrich von Huene', 'Gustav Tschermak von Seysenegg', 'Johann Friedrich Cotta', 'Johann Friedrich Gmelin', 'Johann Georg Gmelin', 'Johann Ludwig Brassicanus']\n",
      "8 : ['Hans Mayer', 'Hermann Hesse', 'Hesse', 'Martin Walser']\n",
      "9 : ['Horb am Neckar', 'Mössingen', 'Marvin Compper']\n",
      "10 : ['Hagelloch', 'Hirschau (Tübingen)', 'Kilchberg, Zurich', 'Kilchberg (Tübingen)', 'Kunsthalle Tübingen', 'Lustnau']\n",
      "11 : ['Gerhard Anschütz', 'Hans-Peter Uhl', 'Hartmut Zinser', 'Helmut Haussmann', 'Horst Köhler', 'Kurt Georg Kiesinger', 'Ludwig Uhland', 'Max Hofmann']\n",
      "12 : ['German rearmament', 'Gudrun Ensslin', 'Marshall Plan']\n",
      "13 : ['Jews', 'Jews']\n",
      "14 : ['Max Planck Institute for Biological Cybernetics', 'Max Planck Institute for Biology', 'Max Planck Institute for Biology Tübingen', 'Max Planck Institute for Intelligent Systems']\n",
      "15 : ['Geschwister-Scholl-Schule (Tübingen)', 'Gymnasium (school)']\n",
      "16 : ['Germany', 'Hamburg', 'Hanover', 'Hans Küng', 'Kiel', 'Mainz', 'Mannheim']\n",
      "17 : ['Geoffrey Elton']\n",
      "18 : ['Gerhard Rohlfs', 'Manfred Korfmann']\n",
      "19 : ['Kim Bui']\n",
      "20 : ['Johann Gottlieb Friedrich von Bohnenberger', 'Johannes Kepler']\n",
      "21 : ['Friedrich Wilhelm Joseph Schelling', 'Johann Wolfgang von Goethe', 'Johann Wolfgang von Goethe', 'Johann Ludwig Krapf', 'Johann Reuchlin']\n",
      "22 : ['Gomaringen', 'Hirrlingen', 'Kirchentellinsfurt', 'Kusterdingen', 'Leinfelden-Echterdingen']\n",
      "23 : ['Hohenzollerische Landesbahn', 'Intercity (Deutsche Bahn)']\n",
      "24 : ['Jeremiah Meyer', 'Lothar Meyer']\n",
      "25 : ['Liberalism']\n",
      "26 : ['Hechingen', 'Heilbronn', 'Herrenberg']\n",
      "27 : ['Gottfried Heinrich Graf zu Pappenheim', 'Holy Roman Empire', 'Limes (Roman Empire)']\n"
     ]
    }
   ],
   "source": [
    "n_topics = 28\n",
    "model = GaussianMixture(n_components=n_topics).fit(embeddings)\n",
    "labels = model.predict(embeddings)\n",
    "print_titles_in_topics(labels, n_topics)"
   ]
  },
  {
   "cell_type": "code",
   "execution_count": 28,
   "id": "03f71d06",
   "metadata": {},
   "outputs": [
    {
     "name": "stdout",
     "output_type": "stream",
     "text": [
      "0 : ['Freiburg im Breisgau', 'Gymnasium (school)', 'Hermann Hesse', 'Herrenberg', 'Horb am Neckar', 'Horst Köhler', 'Jews', 'Jews', 'Kiel', 'Kingdom of Württemberg', 'Limes (Roman Empire)', 'Magdeburg']\n",
      "1 : ['Germany', 'Hamburg', 'Hanover', 'Heilbronn', 'Hesse', 'Holy Roman Empire', 'Liberalism', 'Lutheranism', 'Lutheranism', 'Mössingen', 'Mainz', 'Mannheim']\n",
      "2 : ['Intercity (Deutsche Bahn)', 'Kim Bui', 'List of dialling codes in Germany', 'List of twin towns and sister cities in Germany', 'Marshall Plan', 'Marvin Compper']\n",
      "3 : ['Franz Xaver von Funk', 'Geoffrey Elton', 'Georg Herwegh', 'Gerhard Anschütz', 'Gerhard Rohlfs', 'Geschwister-Scholl-Schule (Tübingen)', 'Gudrun Ensslin', 'Gustav Tschermak von Seysenegg', 'Hartmut Zinser', 'Helmut Haussmann', 'Immanuel Hermann Fichte', 'Jeremiah Meyer', 'Kilchberg (Tübingen)', 'Lothar Meyer', 'Manfred Korfmann']\n",
      "4 : ['File:TuebingenStiftskirche.jpg', 'File:Wappen Tuebingen.svg', 'German rearmament', 'Gomaringen', 'Gottfried Heinrich Graf zu Pappenheim', 'Hagelloch', 'Hechingen', 'Hirrlingen', 'Hirschau (Tübingen)', 'Hohenzollerische Landesbahn', 'Kilchberg, Zurich', 'Kirchentellinsfurt', 'Kunsthalle Tübingen', 'Kurt Georg Kiesinger', 'Kusterdingen', 'Leinfelden-Echterdingen', 'Ludwig Uhland', 'Lustnau', 'Max Hofmann']\n",
      "5 : ['Max Planck Society', 'Max Planck Institute for Biological Cybernetics', 'Max Planck Institute for Biology', 'Max Planck Institute for Biology Tübingen', 'Max Planck Institute for Intelligent Systems']\n",
      "6 : ['Johann Friedrich Cotta', 'Johann Friedrich Gmelin', 'Johann Georg Gmelin', 'Johann Gottlieb Friedrich von Bohnenberger', 'Johann Ludwig Brassicanus', 'Johann Ludwig Krapf', 'Johann Reuchlin']\n",
      "7 : ['Georg Wilhelm Friedrich Hegel', 'Johann Wolfgang von Goethe', 'Johann Wolfgang von Goethe', 'Johannes Kepler', 'Martin Luther', 'Martin Walser']\n",
      "8 : ['Friedrich Hölderlin', 'Friedrich List', 'Friedrich Miescher', 'Friedrich Silcher', 'Friedrich Wilhelm Joseph Schelling', 'Friedrich von Huene']\n",
      "9 : ['Hans-Peter Uhl', 'Hans Küng', 'Hans Mayer']\n"
     ]
    }
   ],
   "source": [
    "from sklearn.cluster import AgglomerativeClustering\n",
    "\n",
    "hierarchical_cluster = AgglomerativeClustering(n_clusters=10, linkage='ward')\n",
    "labels = hierarchical_cluster.fit_predict(embeddings)\n",
    "print_titles_in_topics(labels, n_topics)"
   ]
  },
  {
   "cell_type": "code",
   "execution_count": 29,
   "id": "b43e49b0",
   "metadata": {},
   "outputs": [
    {
     "name": "stdout",
     "output_type": "stream",
     "text": [
      "0 : ['File:TuebingenStiftskirche.jpg', 'File:Wappen Tuebingen.svg']\n",
      "1 : ['Friedrich Hölderlin', 'Friedrich List', 'Friedrich Silcher', 'Friedrich Wilhelm Joseph Schelling']\n",
      "2 : ['Franz Xaver von Funk', 'Friedrich von Huene', 'Geoffrey Elton', 'Georg Herwegh', 'Georg Wilhelm Friedrich Hegel', 'Gerhard Anschütz', 'Gerhard Rohlfs', 'Geschwister-Scholl-Schule (Tübingen)', 'Gudrun Ensslin', 'Gustav Tschermak von Seysenegg', 'Hartmut Zinser', 'Helmut Haussmann', 'Hohenzollerische Landesbahn', 'Immanuel Hermann Fichte', 'Jeremiah Meyer', 'Lothar Meyer', 'Manfred Korfmann', 'Martin Walser', 'Max Hofmann']\n",
      "3 : ['Johann Wolfgang von Goethe', 'Johann Wolfgang von Goethe', 'Hermann Hesse', 'Johannes Kepler']\n",
      "4 : ['Hans-Peter Uhl', 'Hans Küng', 'Hans Mayer', 'Marvin Compper']\n",
      "5 : ['German rearmament', 'Gomaringen', 'Hagelloch', 'Hechingen', 'Herrenberg', 'Hirrlingen', 'Hirschau (Tübingen)', 'Horb am Neckar', 'Intercity (Deutsche Bahn)', 'Kingdom of Württemberg', 'Kirchentellinsfurt', 'Kunsthalle Tübingen', 'Kurt Georg Kiesinger', 'Kusterdingen', 'Leinfelden-Echterdingen', 'Limes (Roman Empire)', 'List of twin towns and sister cities in Germany', 'Ludwig Uhland', 'Lustnau']\n",
      "6 : ['Friedrich Miescher', 'Gottfried Heinrich Graf zu Pappenheim', 'Horst Köhler', 'Johann Friedrich Cotta', 'Johann Friedrich Gmelin', 'Johann Georg Gmelin', 'Johann Gottlieb Friedrich von Bohnenberger', 'Johann Ludwig Brassicanus', 'Johann Ludwig Krapf', 'Johann Reuchlin']\n",
      "7 : ['Gymnasium (school)', 'Kilchberg, Zurich', 'Kilchberg (Tübingen)']\n",
      "8 : ['Lutheranism', 'Lutheranism', 'Martin Luther']\n",
      "9 : ['Freiburg im Breisgau', 'Germany', 'Hamburg', 'Hanover', 'Heilbronn', 'Hesse', 'Holy Roman Empire', 'Jews', 'Jews', 'Kiel', 'Kim Bui', 'Liberalism', 'List of dialling codes in Germany', 'Mössingen', 'Magdeburg', 'Mainz', 'Mannheim', 'Marshall Plan']\n",
      "10 : ['Max Planck Society', 'Max Planck Institute for Biological Cybernetics', 'Max Planck Institute for Biology', 'Max Planck Institute for Biology Tübingen', 'Max Planck Institute for Intelligent Systems']\n"
     ]
    }
   ],
   "source": [
    "from sklearn.cluster import AffinityPropagation\n",
    "\n",
    "hierarchical_cluster = AffinityPropagation()\n",
    "labels = hierarchical_cluster.fit_predict(embeddings)\n",
    "print_titles_in_topics(labels, n_topics)"
   ]
  },
  {
   "cell_type": "code",
   "execution_count": 30,
   "id": "32e75a0b",
   "metadata": {},
   "outputs": [
    {
     "name": "stdout",
     "output_type": "stream",
     "text": [
      "0 : ['File:TuebingenStiftskirche.jpg', 'File:Wappen Tuebingen.svg', 'Hohenzollerische Landesbahn', 'Kilchberg (Tübingen)', 'Max Hofmann']\n",
      "1 : ['Franz Xaver von Funk', 'Friedrich Miescher', 'Friedrich Silcher', 'Friedrich von Huene', 'Geoffrey Elton', 'Georg Herwegh', 'Gerhard Anschütz', 'Gerhard Rohlfs', 'Geschwister-Scholl-Schule (Tübingen)', 'Gudrun Ensslin', 'Gustav Tschermak von Seysenegg', 'Hans-Peter Uhl', 'Hans Mayer', 'Hartmut Zinser', 'Helmut Haussmann', 'Immanuel Hermann Fichte', 'Jeremiah Meyer', 'Johann Gottlieb Friedrich von Bohnenberger', 'Kim Bui', 'Lothar Meyer', 'Manfred Korfmann', 'Martin Walser']\n",
      "2 : ['Georg Wilhelm Friedrich Hegel', 'Germany', 'Hamburg', 'Hanover', 'Heilbronn', 'Hesse', 'Holy Roman Empire', 'Johannes Kepler', 'List of dialling codes in Germany', 'Lutheranism', 'Lutheranism', 'Mössingen', 'Mainz', 'Mannheim', 'Marshall Plan', 'Martin Luther']\n",
      "3 : ['Friedrich Hölderlin', 'Friedrich List', 'Johann Wolfgang von Goethe', 'Johann Wolfgang von Goethe', 'Gottfried Heinrich Graf zu Pappenheim', 'Hans Küng', 'Johann Friedrich Cotta', 'Johann Friedrich Gmelin', 'Johann Georg Gmelin', 'Johann Ludwig Brassicanus', 'Johann Ludwig Krapf', 'Johann Reuchlin']\n",
      "4 : ['Max Planck Society', 'Max Planck Institute for Biological Cybernetics', 'Max Planck Institute for Biology', 'Max Planck Institute for Biology Tübingen', 'Max Planck Institute for Intelligent Systems']\n",
      "5 : ['Intercity (Deutsche Bahn)']\n",
      "6 : ['Freiburg im Breisgau', 'Friedrich Wilhelm Joseph Schelling', 'Hermann Hesse', 'Horst Köhler', 'Jews', 'Jews', 'Kiel', 'Kingdom of Württemberg', 'Liberalism', 'Magdeburg']\n",
      "7 : ['German rearmament', 'Gomaringen', 'Gymnasium (school)', 'Hagelloch', 'Hechingen', 'Herrenberg', 'Hirrlingen', 'Hirschau (Tübingen)', 'Horb am Neckar', 'Kilchberg, Zurich', 'Kirchentellinsfurt', 'Kunsthalle Tübingen', 'Kurt Georg Kiesinger', 'Kusterdingen', 'Leinfelden-Echterdingen', 'Limes (Roman Empire)', 'List of twin towns and sister cities in Germany', 'Ludwig Uhland', 'Lustnau', 'Marvin Compper']\n"
     ]
    },
    {
     "name": "stderr",
     "output_type": "stream",
     "text": [
      "c:\\Users\\csms\\miniconda3\\envs\\Modern-Search-Engines-Lecture\\Lib\\site-packages\\sklearn\\cluster\\_kmeans.py:1419: UserWarning: KMeans is known to have a memory leak on Windows with MKL, when there are less chunks than available threads. You can avoid it by setting the environment variable OMP_NUM_THREADS=1.\n",
      "  warnings.warn(\n"
     ]
    }
   ],
   "source": [
    "from sklearn.cluster import KMeans\n",
    "\n",
    "hierarchical_cluster = KMeans()\n",
    "labels = hierarchical_cluster.fit_predict(embeddings)\n",
    "print_titles_in_topics(labels, n_topics)"
   ]
  },
  {
   "cell_type": "code",
   "execution_count": 25,
   "id": "6f8fabfd",
   "metadata": {},
   "outputs": [
    {
     "name": "stdout",
     "output_type": "stream",
     "text": [
      "0 : ['File:TuebingenStiftskirche.jpg', 'File:Wappen Tuebingen.svg', 'Gerhard Rohlfs', 'German rearmament', 'Gomaringen', 'Hagelloch', 'Hechingen', 'Hirrlingen', 'Hirschau (Tübingen)', 'Hohenzollerische Landesbahn', 'Intercity (Deutsche Bahn)', 'Kirchentellinsfurt', 'Kunsthalle Tübingen', 'Kusterdingen', 'Leinfelden-Echterdingen', 'Ludwig Uhland', 'Lustnau']\n",
      "1 : ['Johann Wolfgang von Goethe', 'Johann Wolfgang von Goethe', 'Gottfried Heinrich Graf zu Pappenheim', 'Hans-Peter Uhl', 'Hans Küng', 'Hans Mayer', 'Johann Friedrich Cotta', 'Johann Friedrich Gmelin', 'Johann Georg Gmelin', 'Johann Ludwig Brassicanus', 'Johann Ludwig Krapf', 'Johann Reuchlin', 'Kim Bui', 'Kurt Georg Kiesinger', 'Marvin Compper']\n",
      "2 : ['Max Planck Society', 'Max Planck Institute for Biological Cybernetics', 'Max Planck Institute for Biology', 'Max Planck Institute for Biology Tübingen', 'Max Planck Institute for Intelligent Systems']\n",
      "3 : ['Hamburg', 'Hanover', 'Heilbronn', 'Hesse', 'Holy Roman Empire', 'Johannes Kepler', 'List of dialling codes in Germany', 'List of twin towns and sister cities in Germany', 'Lutheranism', 'Lutheranism', 'Mainz', 'Mannheim', 'Marshall Plan']\n",
      "4 : ['Franz Xaver von Funk', 'Friedrich von Huene', 'Geoffrey Elton', 'Georg Herwegh', 'Georg Wilhelm Friedrich Hegel', 'Gerhard Anschütz', 'Gudrun Ensslin', 'Gustav Tschermak von Seysenegg', 'Hartmut Zinser', 'Helmut Haussmann', 'Hermann Hesse', 'Immanuel Hermann Fichte', 'Jeremiah Meyer', 'Johann Gottlieb Friedrich von Bohnenberger', 'Lothar Meyer', 'Manfred Korfmann', 'Martin Luther', 'Martin Walser', 'Max Hofmann']\n",
      "5 : ['Freiburg im Breisgau', 'Geschwister-Scholl-Schule (Tübingen)', 'Herrenberg', 'Kilchberg, Zurich', 'Kilchberg (Tübingen)', 'Magdeburg']\n",
      "6 : ['Friedrich Hölderlin', 'Friedrich List', 'Friedrich Miescher', 'Friedrich Silcher', 'Friedrich Wilhelm Joseph Schelling']\n",
      "7 : ['Germany', 'Gymnasium (school)', 'Horb am Neckar', 'Horst Köhler', 'Jews', 'Jews', 'Kiel', 'Kingdom of Württemberg', 'Liberalism', 'Limes (Roman Empire)', 'Mössingen']\n"
     ]
    },
    {
     "name": "stderr",
     "output_type": "stream",
     "text": [
      "c:\\Users\\csms\\miniconda3\\envs\\Modern-Search-Engines-Lecture\\Lib\\site-packages\\sklearn\\cluster\\_kmeans.py:1419: UserWarning: KMeans is known to have a memory leak on Windows with MKL, when there are less chunks than available threads. You can avoid it by setting the environment variable OMP_NUM_THREADS=1.\n",
      "  warnings.warn(\n"
     ]
    }
   ],
   "source": [
    "from sklearn.cluster import SpectralClustering\n",
    "\n",
    "hierarchical_cluster = SpectralClustering()\n",
    "labels = hierarchical_cluster.fit_predict(embeddings)\n",
    "print_titles_in_topics(labels, n_topics)"
   ]
  }
 ],
 "metadata": {
  "kernelspec": {
   "display_name": "Modern-Search-Engines-Lecture",
   "language": "python",
   "name": "python3"
  },
  "language_info": {
   "codemirror_mode": {
    "name": "ipython",
    "version": 3
   },
   "file_extension": ".py",
   "mimetype": "text/x-python",
   "name": "python",
   "nbconvert_exporter": "python",
   "pygments_lexer": "ipython3",
   "version": "3.13.3"
  }
 },
 "nbformat": 4,
 "nbformat_minor": 5
}
