{
 "cells": [
  {
   "cell_type": "markdown",
   "id": "79ec62dc",
   "metadata": {},
   "source": [
    "# Testing clustering algorithms to identify topics."
   ]
  },
  {
   "cell_type": "code",
   "execution_count": 1,
   "id": "2bfb03a8",
   "metadata": {},
   "outputs": [
    {
     "name": "stderr",
     "output_type": "stream",
     "text": [
      "c:\\Users\\csms\\miniconda3\\envs\\Modern-Search-Engines-Lecture\\Lib\\site-packages\\tqdm\\auto.py:21: TqdmWarning: IProgress not found. Please update jupyter and ipywidgets. See https://ipywidgets.readthedocs.io/en/stable/user_install.html\n",
      "  from .autonotebook import tqdm as notebook_tqdm\n",
      "Line: 100%|██████████| 5200/5200 [00:00<00:00, 82277.86it/s]\n"
     ]
    }
   ],
   "source": [
    "from project import SearchEngine\n",
    "\n",
    "engine = SearchEngine(\"data\")"
   ]
  },
  {
   "cell_type": "code",
   "execution_count": null,
   "id": "4807494d",
   "metadata": {},
   "outputs": [
    {
     "name": "stderr",
     "output_type": "stream",
     "text": [
      "Similarities: 100%|██████████| 4956/4956 [00:01<00:00, 4853.48it/s]\n"
     ]
    }
   ],
   "source": [
    "docs, embeddings, _ = engine.search(\"drinks and food\")"
   ]
  },
  {
   "cell_type": "code",
   "execution_count": 3,
   "id": "ade48bfe",
   "metadata": {},
   "outputs": [],
   "source": [
    "def print_titles_in_topics(labels, n_topics):\n",
    "    topics = [[] for _ in range(n_topics)]\n",
    "    for i, label in enumerate(labels):\n",
    "        topics[label].append(docs[i])\n",
    "    for i, topic in enumerate(topics):\n",
    "        if len(topic) != 0:\n",
    "            print(i, ':', [doc[\"title\"] for doc in topic])"
   ]
  },
  {
   "cell_type": "code",
   "execution_count": 4,
   "id": "37b6bb36",
   "metadata": {},
   "outputs": [],
   "source": [
    "# from sklearn.mixture import GaussianMixture\n",
    "# from sklearn.metrics import silhouette_score\n",
    "\n",
    "# scores = []\n",
    "# n_topic_candidates = range(2, len(embeddings), 1)\n",
    "\n",
    "# for n_topics in n_topic_candidates:\n",
    "#     model = GaussianMixture(n_components=n_topics).fit(embeddings)\n",
    "#     labels = model.predict(embeddings)\n",
    "#     scores.append(silhouette_score(embeddings, labels))"
   ]
  },
  {
   "cell_type": "code",
   "execution_count": 5,
   "id": "df3f4d07",
   "metadata": {},
   "outputs": [],
   "source": [
    "# import matplotlib.pyplot as plt\n",
    "# import numpy as np\n",
    "\n",
    "# plt.plot(n_topic_candidates, scores)\n",
    "# plt.vlines(list(n_topic_candidates)[np.argmax(scores)], 0, 0.1, colors='red')\n",
    "# np.argsort(-np.array(scores))+2"
   ]
  },
  {
   "cell_type": "code",
   "execution_count": 6,
   "id": "e6add299",
   "metadata": {},
   "outputs": [
    {
     "name": "stdout",
     "output_type": "stream",
     "text": [
      "0 : ['Shopping outlets', 'The 50 best restaurants to have dinner in Tubingen', 'Welcome at KONCEPT HOTEL International!', 'Christmas markets', 'Hotel Krone Tübingen - PrivateCityHotels.', 'Trumer Stube - PrivateCityHotels.', 'Tübingen - PrivateCityHotels.', 'Restaurant — Our Place | Die Wurstküche - die typisch schwäbische Gastwirtschaft in Tübingen in Tübingen', 'Restaurant in Tübingen | LUDWIGs in the Hotel Krone ']\n",
      "1 : ['Wine Hotels in Baden-Württemberg » Weinsüden Hotels', 'Weinsüden Events » Wine Festivals in Baden-Württemberg', 'Weinsüden Events » Wine Festivals in Baden-Württemberg', 'Beer from Baden-Württemberg » Breweries & Beer Culture', 'Experience Culture: Theatre & Festivals in Baden-Württemberg', 'Wine Villages in Baden-Württemberg » Weinsüden Villages', 'Current Events and Activities in Baden-Württemberg', 'Culture in Baden-Württemberg » Highlights and Events', '', 'The Best Museums & Exhibitions in Southwest Germany', 'Cycling Routes Baden-Württemberg » The Best Bike Tours', 'Museum of the University of Tübingen MUT Ancient Cultures', 'Award-Winning Wineries in Baden-Württemberg', 'Holidays in the Countryside', 'Holidays in the Countryside', 'Magazine » Tips & Stories from Southwest Germany', 'National Park and Nature Parks in Baden-Württemberg', 'Route Planner Baden-Württemberg » Cycling & Hiking Trails', 'Bbeautiful places in the countryside of Southwest Germany', 'The Fantastic Road', 'Family Vacation in Southwest Germany', '7x UNESCO World Heritage Sites in Baden-Württemberg', 'About Us', 'Accessible Travel in Baden-Württemberg » All the Details', 'UNESCO World Heritage Sites in Southwest Germany', 'Bebenhausen Monastery and Castle', 'Historical Sights in Baden-Württemberg', 'Regions and cities in Baden-Wuerttemberg']\n",
      "2 : ['Brandenburg: a beautiful, one-of-a-kind water world \\n\\t\\t\\t- Germany Travel\\n\\t\\t', 'City trips to Germany, Austria, and Switzerland', 'Best Things to Do in Stuttgart, Germany in 2025 - My Germany Vacation', 'Inspiring Germany \\n\\t\\t\\t- Germany Travel\\n\\t\\t', 'How to Plan a Family Trip to Germany in 2025 - My Germany Vacation', 'How to Plan a Family Trip to Germany in 2025 - My Germany Vacation', 'Stuttgart Starter Guide - My Germany Vacation', 'More than 150 dream roads for road trips, from the North Sea to the Alps \\n\\t\\t\\t- Germany Travel\\n\\t\\t', 'How to Plan Day Trips from Stuttgart, Germany | Germany vacation, Day trips, Trip', 'How to Plan Day Trips from Stuttgart, Germany | Germany vacation, Day trips, Trip', 'Best Day Trips & Weekend Trips from Stuttgart, Germany in 2025 - My Germany Vacation', 'Our hotel for nature - Your booking, one square meter']\n",
      "3 : ['Day Trips from Tubingen Archives - Visit Tubingen', 'Day Trips Near Tubingen - Visit Tubingen', 'Visit Tubingen Archives - Visit Tubingen', 'Tubingen Museums and Art Archives - Visit Tubingen', 'Things to do in Tubingen on the Neckar Archives - Visit Tubingen']\n",
      "4 : ['Tübingen – visit the charming town on the Neckar \\n\\t\\t\\t- Germany Travel\\n\\t\\t', 'Family holiday in Baden-Wuerttemberg', 'Hotel in Ingolstadt for your city trip to Bavaria', 'Introduction to Tubingen - Visit Tubingen', 'Theater, art & culture in Tübingen | Hotel Krone', 'Welcome to Tubingen - Visit Tubingen', 'Vienna city trip: privately owned hotels in Vienna', 'Innsbruck city trip: privately owned hotels in Innsbruck', 'Higher education: Ministerium für Wissenschaft, Forschung und Kunst Baden-Württemberg', 'Salzburg city trip: Baroque gem on the edge of the Alps', 'Zürich city trip: privately managed hotels in Zürich', 'Discover Private City Hotels in Bregenz', 'Hamburg city trip: Germany’s largest port city', 'Explore Kassel: Art, culture and world heritage \\n\\t\\t\\t- Germany Travel\\n\\t\\t', 'Single travellers', 'Graz city trip: privately owned hotels in Styria', 'Graduate Training Centre of Neuroscience: The UniverCity', 'Koblenz: a UNESCO World Heritage Site with the German Corner \\n\\t\\t\\t- Germany Travel\\n\\t\\t', 'City trips to Freiburg, the sunny pearl of the Black Forest']\n",
      "5 : [\"\\nThe world's best guest houses | Booking.com\\n\", 'The 10 best hotels close to University of Tübingen in Tübingen, Germany', 'The 10 best hotels close to University of Tübingen in Tübingen, Germany', 'Travel & Accommodation - Summer School', 'The 10 best guest houses in Tübingen, Germany | Booking.com', 'The 10 best hotels & places to stay in Tübingen, Germany - Tübingen hotels', 'Kapfenburg Castle Cultural Center in East Württemberg', 'Hotel Am Schloss *** Superior, Tübingen (updated prices 2025)', 'The 10 best hotels & places to stay in Tübingen, Germany - Tübingen hotels', 'DJH Youth Hostel Stuttgart Neckarpark - Offers + more - Baden-Württemberg, Germany', 'Hotel Restaurant Meteora, Tübingen (updated prices 2025)', 'Hotel Metropol, Tübingen (updated prices 2025)', 'Breakfast in Tübingen with breakfast buffet at Hotel Krone ', 'Private City Hotels - visit over 48 city hotels in Europe']\n",
      "6 : ['How to Save Money on Early Back-to-School Shopping in 2025', 'Food: Recipes, Cooking Tips, Celebrity Chef Ideas & Food News - TODAY.com | TODAY', 'Stuttgart Christmas Market Guide for 2025 - My Germany Vacation', 'Stuttgart Christmas Market Guide for 2025 - My Germany Vacation', 'Travel news, travel guides and reviews | The Guardian', '6 Hacks to Get More Out of Your Groceries and Save Money', 'Team - World History Encyclopedia']\n",
      "7 : [\"The Most Beautiful Beaches in Europe for 2024 - Europe's Best Destinations\", 'Events from 16. October 2019 – 23. June 2023 › Tübingen ›  – Historic Highlights of Germany', 'Events from 16. October 2019 – 23. June 2023 › Tübingen ›  – Historic Highlights of Germany', \"Book Cheap Airline Tickets to Porto Airport - Europe's Best Destinations\", \"Tourism in Tubingen, Germany - Europe's Best Destinations\", \"Travel Guides to visit Europe - Europe's Best Destinations\"]\n"
     ]
    },
    {
     "name": "stderr",
     "output_type": "stream",
     "text": [
      "c:\\Users\\csms\\miniconda3\\envs\\Modern-Search-Engines-Lecture\\Lib\\site-packages\\sklearn\\cluster\\_kmeans.py:1419: UserWarning: KMeans is known to have a memory leak on Windows with MKL, when there are less chunks than available threads. You can avoid it by setting the environment variable OMP_NUM_THREADS=1.\n",
      "  warnings.warn(\n"
     ]
    }
   ],
   "source": [
    "from sklearn.mixture import GaussianMixture\n",
    "\n",
    "n_topics = 8\n",
    "model = GaussianMixture(n_components=n_topics).fit(embeddings)\n",
    "labels = model.predict(embeddings)\n",
    "print_titles_in_topics(labels, n_topics)"
   ]
  },
  {
   "cell_type": "code",
   "execution_count": 7,
   "id": "5895afea",
   "metadata": {},
   "outputs": [
    {
     "name": "stderr",
     "output_type": "stream",
     "text": [
      "c:\\Users\\csms\\miniconda3\\envs\\Modern-Search-Engines-Lecture\\Lib\\site-packages\\sklearn\\cluster\\_kmeans.py:1419: UserWarning: KMeans is known to have a memory leak on Windows with MKL, when there are less chunks than available threads. You can avoid it by setting the environment variable OMP_NUM_THREADS=1.\n",
      "  warnings.warn(\n"
     ]
    },
    {
     "name": "stdout",
     "output_type": "stream",
     "text": [
      "0 : ['The 10 best hotels close to University of Tübingen in Tübingen, Germany', 'The 10 best hotels close to University of Tübingen in Tübingen, Germany', 'Travel & Accommodation - Summer School', 'The 10 best guest houses in Tübingen, Germany | Booking.com', 'The 10 best hotels & places to stay in Tübingen, Germany - Tübingen hotels', 'The 10 best hotels & places to stay in Tübingen, Germany - Tübingen hotels']\n",
      "1 : ['Wine Hotels in Baden-Württemberg » Weinsüden Hotels', 'Weinsüden Events » Wine Festivals in Baden-Württemberg', 'Weinsüden Events » Wine Festivals in Baden-Württemberg', 'Beer from Baden-Württemberg » Breweries & Beer Culture', 'Experience Culture: Theatre & Festivals in Baden-Württemberg', 'Wine Villages in Baden-Württemberg » Weinsüden Villages', 'Current Events and Activities in Baden-Württemberg', 'Culture in Baden-Württemberg » Highlights and Events', '', 'The Best Museums & Exhibitions in Southwest Germany', 'Cycling Routes Baden-Württemberg » The Best Bike Tours', 'Museum of the University of Tübingen MUT Ancient Cultures', 'Award-Winning Wineries in Baden-Württemberg', 'Holidays in the Countryside', 'Holidays in the Countryside', 'Magazine » Tips & Stories from Southwest Germany', 'National Park and Nature Parks in Baden-Württemberg', 'Route Planner Baden-Württemberg » Cycling & Hiking Trails', 'Bbeautiful places in the countryside of Southwest Germany', 'The Fantastic Road', 'Family Vacation in Southwest Germany', '7x UNESCO World Heritage Sites in Baden-Württemberg', 'About Us', 'Accessible Travel in Baden-Württemberg » All the Details', 'UNESCO World Heritage Sites in Southwest Germany', 'Bebenhausen Monastery and Castle', 'Historical Sights in Baden-Württemberg', 'Regions and cities in Baden-Wuerttemberg']\n",
      "2 : ['City trips to Germany, Austria, and Switzerland', 'Best Things to Do in Stuttgart, Germany in 2025 - My Germany Vacation', 'Stuttgart Starter Guide - My Germany Vacation', 'Best Day Trips & Weekend Trips from Stuttgart, Germany in 2025 - My Germany Vacation']\n",
      "3 : ['Hotel in Ingolstadt for your city trip to Bavaria', 'Vienna city trip: privately owned hotels in Vienna', 'Innsbruck city trip: privately owned hotels in Innsbruck', 'Salzburg city trip: Baroque gem on the edge of the Alps', 'Explore Kassel: Art, culture and world heritage \\n\\t\\t\\t- Germany Travel\\n\\t\\t', 'Graz city trip: privately owned hotels in Styria']\n",
      "4 : ['How to Save Money on Early Back-to-School Shopping in 2025', 'Food: Recipes, Cooking Tips, Celebrity Chef Ideas & Food News - TODAY.com | TODAY', 'Stuttgart Christmas Market Guide for 2025 - My Germany Vacation', 'Stuttgart Christmas Market Guide for 2025 - My Germany Vacation', 'Travel news, travel guides and reviews | The Guardian', '6 Hacks to Get More Out of Your Groceries and Save Money', 'Team - World History Encyclopedia']\n",
      "5 : ['Shopping outlets', 'Tübingen – visit the charming town on the Neckar \\n\\t\\t\\t- Germany Travel\\n\\t\\t', 'Family holiday in Baden-Wuerttemberg', 'Welcome at KONCEPT HOTEL International!', 'Christmas markets', 'Trumer Stube - PrivateCityHotels.', 'Higher education: Ministerium für Wissenschaft, Forschung und Kunst Baden-Württemberg', 'Single travellers', 'Restaurant — Our Place | Die Wurstküche - die typisch schwäbische Gastwirtschaft in Tübingen in Tübingen']\n",
      "6 : ['Introduction to Tubingen - Visit Tubingen', 'Welcome to Tubingen - Visit Tubingen', 'Graduate Training Centre of Neuroscience: The UniverCity']\n",
      "7 : ['Theater, art & culture in Tübingen | Hotel Krone', 'Zürich city trip: privately managed hotels in Zürich', 'Discover Private City Hotels in Bregenz', 'Hamburg city trip: Germany’s largest port city', 'Koblenz: a UNESCO World Heritage Site with the German Corner \\n\\t\\t\\t- Germany Travel\\n\\t\\t', 'City trips to Freiburg, the sunny pearl of the Black Forest']\n",
      "8 : ['Day Trips from Tubingen Archives - Visit Tubingen', 'Day Trips Near Tubingen - Visit Tubingen', 'Visit Tubingen Archives - Visit Tubingen', 'Tubingen Museums and Art Archives - Visit Tubingen', 'Things to do in Tubingen on the Neckar Archives - Visit Tubingen']\n",
      "9 : [\"The Most Beautiful Beaches in Europe for 2024 - Europe's Best Destinations\", \"Book Cheap Airline Tickets to Porto Airport - Europe's Best Destinations\", \"Tourism in Tubingen, Germany - Europe's Best Destinations\", \"Travel Guides to visit Europe - Europe's Best Destinations\"]\n",
      "10 : ['Brandenburg: a beautiful, one-of-a-kind water world \\n\\t\\t\\t- Germany Travel\\n\\t\\t', 'Inspiring Germany \\n\\t\\t\\t- Germany Travel\\n\\t\\t', 'How to Plan a Family Trip to Germany in 2025 - My Germany Vacation', 'How to Plan a Family Trip to Germany in 2025 - My Germany Vacation', 'More than 150 dream roads for road trips, from the North Sea to the Alps \\n\\t\\t\\t- Germany Travel\\n\\t\\t', 'How to Plan Day Trips from Stuttgart, Germany | Germany vacation, Day trips, Trip', 'How to Plan Day Trips from Stuttgart, Germany | Germany vacation, Day trips, Trip', 'Our hotel for nature - Your booking, one square meter']\n",
      "11 : [\"\\nThe world's best guest houses | Booking.com\\n\", 'Kapfenburg Castle Cultural Center in East Württemberg', 'Hotel Am Schloss *** Superior, Tübingen (updated prices 2025)', 'DJH Youth Hostel Stuttgart Neckarpark - Offers + more - Baden-Württemberg, Germany', 'Hotel Restaurant Meteora, Tübingen (updated prices 2025)', 'Hotel Metropol, Tübingen (updated prices 2025)']\n",
      "12 : ['The 50 best restaurants to have dinner in Tubingen', 'Hotel Krone Tübingen - PrivateCityHotels.', 'Tübingen - PrivateCityHotels.', 'Events from 16. October 2019 – 23. June 2023 › Tübingen ›  – Historic Highlights of Germany', 'Events from 16. October 2019 – 23. June 2023 › Tübingen ›  – Historic Highlights of Germany', 'Restaurant in Tübingen | LUDWIGs in the Hotel Krone ', 'Breakfast in Tübingen with breakfast buffet at Hotel Krone ', 'Private City Hotels - visit over 48 city hotels in Europe']\n"
     ]
    }
   ],
   "source": [
    "n_topics = 13\n",
    "model = GaussianMixture(n_components=n_topics).fit(embeddings)\n",
    "labels = model.predict(embeddings)\n",
    "print_titles_in_topics(labels, n_topics)"
   ]
  },
  {
   "cell_type": "code",
   "execution_count": 8,
   "id": "24bffcfd",
   "metadata": {},
   "outputs": [
    {
     "name": "stderr",
     "output_type": "stream",
     "text": [
      "c:\\Users\\csms\\miniconda3\\envs\\Modern-Search-Engines-Lecture\\Lib\\site-packages\\sklearn\\cluster\\_kmeans.py:1419: UserWarning: KMeans is known to have a memory leak on Windows with MKL, when there are less chunks than available threads. You can avoid it by setting the environment variable OMP_NUM_THREADS=1.\n",
      "  warnings.warn(\n"
     ]
    },
    {
     "name": "stdout",
     "output_type": "stream",
     "text": [
      "0 : ['Hotel Am Schloss *** Superior, Tübingen (updated prices 2025)', 'Hotel Restaurant Meteora, Tübingen (updated prices 2025)', 'Hotel Metropol, Tübingen (updated prices 2025)']\n",
      "1 : ['Wine Hotels in Baden-Württemberg » Weinsüden Hotels', 'Weinsüden Events » Wine Festivals in Baden-Württemberg', 'Weinsüden Events » Wine Festivals in Baden-Württemberg', 'Beer from Baden-Württemberg » Breweries & Beer Culture', 'Experience Culture: Theatre & Festivals in Baden-Württemberg', 'Wine Villages in Baden-Württemberg » Weinsüden Villages', 'Current Events and Activities in Baden-Württemberg', 'Culture in Baden-Württemberg » Highlights and Events', '', 'The Best Museums & Exhibitions in Southwest Germany', 'Cycling Routes Baden-Württemberg » The Best Bike Tours', 'Museum of the University of Tübingen MUT Ancient Cultures', 'Award-Winning Wineries in Baden-Württemberg', 'Holidays in the Countryside', 'Holidays in the Countryside', 'Magazine » Tips & Stories from Southwest Germany', 'National Park and Nature Parks in Baden-Württemberg', 'Route Planner Baden-Württemberg » Cycling & Hiking Trails', 'Bbeautiful places in the countryside of Southwest Germany', 'The Fantastic Road', 'Family Vacation in Southwest Germany', '7x UNESCO World Heritage Sites in Baden-Württemberg', 'About Us', 'Accessible Travel in Baden-Württemberg » All the Details', 'UNESCO World Heritage Sites in Southwest Germany', 'Bebenhausen Monastery and Castle', 'Historical Sights in Baden-Württemberg', 'Regions and cities in Baden-Wuerttemberg']\n",
      "2 : ['Zürich city trip: privately managed hotels in Zürich']\n",
      "3 : ['How to Plan Day Trips from Stuttgart, Germany | Germany vacation, Day trips, Trip', 'How to Plan Day Trips from Stuttgart, Germany | Germany vacation, Day trips, Trip']\n",
      "4 : ['Discover Private City Hotels in Bregenz', 'Hamburg city trip: Germany’s largest port city', 'Koblenz: a UNESCO World Heritage Site with the German Corner \\n\\t\\t\\t- Germany Travel\\n\\t\\t', 'City trips to Freiburg, the sunny pearl of the Black Forest']\n",
      "5 : ['Tübingen – visit the charming town on the Neckar \\n\\t\\t\\t- Germany Travel\\n\\t\\t', 'Theater, art & culture in Tübingen | Hotel Krone']\n",
      "6 : ['Day Trips from Tubingen Archives - Visit Tubingen']\n",
      "7 : [\"\\nThe world's best guest houses | Booking.com\\n\", 'The 10 best hotels & places to stay in Tübingen, Germany - Tübingen hotels', 'The 10 best hotels & places to stay in Tübingen, Germany - Tübingen hotels']\n",
      "8 : ['How to Save Money on Early Back-to-School Shopping in 2025', 'Food: Recipes, Cooking Tips, Celebrity Chef Ideas & Food News - TODAY.com | TODAY', 'Travel news, travel guides and reviews | The Guardian', '6 Hacks to Get More Out of Your Groceries and Save Money']\n",
      "9 : ['Our hotel for nature - Your booking, one square meter']\n",
      "10 : [\"The Most Beautiful Beaches in Europe for 2024 - Europe's Best Destinations\", \"Book Cheap Airline Tickets to Porto Airport - Europe's Best Destinations\", \"Tourism in Tubingen, Germany - Europe's Best Destinations\", \"Travel Guides to visit Europe - Europe's Best Destinations\"]\n",
      "11 : ['Brandenburg: a beautiful, one-of-a-kind water world \\n\\t\\t\\t- Germany Travel\\n\\t\\t', 'City trips to Germany, Austria, and Switzerland', 'Best Things to Do in Stuttgart, Germany in 2025 - My Germany Vacation', 'Stuttgart Starter Guide - My Germany Vacation', 'Best Day Trips & Weekend Trips from Stuttgart, Germany in 2025 - My Germany Vacation']\n",
      "12 : ['Higher education: Ministerium für Wissenschaft, Forschung und Kunst Baden-Württemberg']\n",
      "13 : ['The 50 best restaurants to have dinner in Tubingen', 'Hotel Krone Tübingen - PrivateCityHotels.', 'Tübingen - PrivateCityHotels.', 'Private City Hotels - visit over 48 city hotels in Europe']\n",
      "14 : ['Team - World History Encyclopedia']\n",
      "15 : ['Introduction to Tubingen - Visit Tubingen', 'Welcome to Tubingen - Visit Tubingen', 'Graduate Training Centre of Neuroscience: The UniverCity']\n",
      "16 : ['Restaurant — Our Place | Die Wurstküche - die typisch schwäbische Gastwirtschaft in Tübingen in Tübingen']\n",
      "17 : ['Events from 16. October 2019 – 23. June 2023 › Tübingen ›  – Historic Highlights of Germany', 'Events from 16. October 2019 – 23. June 2023 › Tübingen ›  – Historic Highlights of Germany']\n",
      "18 : ['The 10 best hotels close to University of Tübingen in Tübingen, Germany', 'The 10 best hotels close to University of Tübingen in Tübingen, Germany', 'Travel & Accommodation - Summer School', 'The 10 best guest houses in Tübingen, Germany | Booking.com']\n",
      "19 : ['Hotel in Ingolstadt for your city trip to Bavaria', 'Vienna city trip: privately owned hotels in Vienna', 'Innsbruck city trip: privately owned hotels in Innsbruck', 'Salzburg city trip: Baroque gem on the edge of the Alps', 'Graz city trip: privately owned hotels in Styria']\n",
      "20 : ['Restaurant in Tübingen | LUDWIGs in the Hotel Krone ', 'Breakfast in Tübingen with breakfast buffet at Hotel Krone ']\n",
      "21 : ['Stuttgart Christmas Market Guide for 2025 - My Germany Vacation', 'Stuttgart Christmas Market Guide for 2025 - My Germany Vacation']\n",
      "22 : ['Explore Kassel: Art, culture and world heritage \\n\\t\\t\\t- Germany Travel\\n\\t\\t']\n",
      "23 : ['Kapfenburg Castle Cultural Center in East Württemberg', 'DJH Youth Hostel Stuttgart Neckarpark - Offers + more - Baden-Württemberg, Germany']\n",
      "24 : ['Shopping outlets', 'Family holiday in Baden-Wuerttemberg', 'Christmas markets', 'Single travellers']\n",
      "25 : ['Inspiring Germany \\n\\t\\t\\t- Germany Travel\\n\\t\\t', 'How to Plan a Family Trip to Germany in 2025 - My Germany Vacation', 'How to Plan a Family Trip to Germany in 2025 - My Germany Vacation', 'More than 150 dream roads for road trips, from the North Sea to the Alps \\n\\t\\t\\t- Germany Travel\\n\\t\\t']\n",
      "26 : ['Day Trips Near Tubingen - Visit Tubingen', 'Visit Tubingen Archives - Visit Tubingen', 'Tubingen Museums and Art Archives - Visit Tubingen', 'Things to do in Tubingen on the Neckar Archives - Visit Tubingen']\n",
      "27 : ['Welcome at KONCEPT HOTEL International!', 'Trumer Stube - PrivateCityHotels.']\n"
     ]
    }
   ],
   "source": [
    "n_topics = 28\n",
    "model = GaussianMixture(n_components=n_topics).fit(embeddings)\n",
    "labels = model.predict(embeddings)\n",
    "print_titles_in_topics(labels, n_topics)"
   ]
  },
  {
   "cell_type": "code",
   "execution_count": 9,
   "id": "03f71d06",
   "metadata": {},
   "outputs": [
    {
     "name": "stdout",
     "output_type": "stream",
     "text": [
      "0 : ['Higher education: Ministerium für Wissenschaft, Forschung und Kunst Baden-Württemberg', \"The Most Beautiful Beaches in Europe for 2024 - Europe's Best Destinations\", \"Book Cheap Airline Tickets to Porto Airport - Europe's Best Destinations\", \"Tourism in Tubingen, Germany - Europe's Best Destinations\", 'Our hotel for nature - Your booking, one square meter', \"Travel Guides to visit Europe - Europe's Best Destinations\", 'Team - World History Encyclopedia']\n",
      "1 : ['The 50 best restaurants to have dinner in Tubingen', 'City trips to Germany, Austria, and Switzerland', 'Hotel Krone Tübingen - PrivateCityHotels.', 'Tübingen - PrivateCityHotels.', 'Restaurant — Our Place | Die Wurstküche - die typisch schwäbische Gastwirtschaft in Tübingen in Tübingen', 'Events from 16. October 2019 – 23. June 2023 › Tübingen ›  – Historic Highlights of Germany', 'Events from 16. October 2019 – 23. June 2023 › Tübingen ›  – Historic Highlights of Germany', 'Restaurant in Tübingen | LUDWIGs in the Hotel Krone ', 'Breakfast in Tübingen with breakfast buffet at Hotel Krone ', 'Private City Hotels - visit over 48 city hotels in Europe']\n",
      "2 : ['How to Save Money on Early Back-to-School Shopping in 2025', 'Food: Recipes, Cooking Tips, Celebrity Chef Ideas & Food News - TODAY.com | TODAY', 'Kapfenburg Castle Cultural Center in East Württemberg', 'Hotel Am Schloss *** Superior, Tübingen (updated prices 2025)', 'Stuttgart Christmas Market Guide for 2025 - My Germany Vacation', 'Stuttgart Christmas Market Guide for 2025 - My Germany Vacation', 'Travel news, travel guides and reviews | The Guardian', 'DJH Youth Hostel Stuttgart Neckarpark - Offers + more - Baden-Württemberg, Germany', '6 Hacks to Get More Out of Your Groceries and Save Money', 'Hotel Restaurant Meteora, Tübingen (updated prices 2025)', 'Hotel Metropol, Tübingen (updated prices 2025)']\n",
      "3 : ['Introduction to Tubingen - Visit Tubingen', 'Welcome to Tubingen - Visit Tubingen', 'Graduate Training Centre of Neuroscience: The UniverCity']\n",
      "4 : ['Shopping outlets', 'Tübingen – visit the charming town on the Neckar \\n\\t\\t\\t- Germany Travel\\n\\t\\t', 'Family holiday in Baden-Wuerttemberg', 'Welcome at KONCEPT HOTEL International!', 'Theater, art & culture in Tübingen | Hotel Krone', 'Christmas markets', 'Trumer Stube - PrivateCityHotels.', 'Single travellers']\n",
      "5 : [\"\\nThe world's best guest houses | Booking.com\\n\", 'The 10 best hotels close to University of Tübingen in Tübingen, Germany', 'The 10 best hotels close to University of Tübingen in Tübingen, Germany', 'Travel & Accommodation - Summer School', 'The 10 best guest houses in Tübingen, Germany | Booking.com', 'The 10 best hotels & places to stay in Tübingen, Germany - Tübingen hotels', 'The 10 best hotels & places to stay in Tübingen, Germany - Tübingen hotels']\n",
      "6 : ['Brandenburg: a beautiful, one-of-a-kind water world \\n\\t\\t\\t- Germany Travel\\n\\t\\t', 'Best Things to Do in Stuttgart, Germany in 2025 - My Germany Vacation', 'Inspiring Germany \\n\\t\\t\\t- Germany Travel\\n\\t\\t', 'How to Plan a Family Trip to Germany in 2025 - My Germany Vacation', 'How to Plan a Family Trip to Germany in 2025 - My Germany Vacation', 'Stuttgart Starter Guide - My Germany Vacation', 'More than 150 dream roads for road trips, from the North Sea to the Alps \\n\\t\\t\\t- Germany Travel\\n\\t\\t', 'How to Plan Day Trips from Stuttgart, Germany | Germany vacation, Day trips, Trip', 'How to Plan Day Trips from Stuttgart, Germany | Germany vacation, Day trips, Trip', 'Best Day Trips & Weekend Trips from Stuttgart, Germany in 2025 - My Germany Vacation']\n",
      "7 : ['Wine Hotels in Baden-Württemberg » Weinsüden Hotels', 'Weinsüden Events » Wine Festivals in Baden-Württemberg', 'Weinsüden Events » Wine Festivals in Baden-Württemberg', 'Beer from Baden-Württemberg » Breweries & Beer Culture', 'Experience Culture: Theatre & Festivals in Baden-Württemberg', 'Wine Villages in Baden-Württemberg » Weinsüden Villages', 'Current Events and Activities in Baden-Württemberg', 'Culture in Baden-Württemberg » Highlights and Events', '', 'The Best Museums & Exhibitions in Southwest Germany', 'Cycling Routes Baden-Württemberg » The Best Bike Tours', 'Museum of the University of Tübingen MUT Ancient Cultures', 'Award-Winning Wineries in Baden-Württemberg', 'Holidays in the Countryside', 'Holidays in the Countryside', 'Magazine » Tips & Stories from Southwest Germany', 'National Park and Nature Parks in Baden-Württemberg', 'Route Planner Baden-Württemberg » Cycling & Hiking Trails', 'Bbeautiful places in the countryside of Southwest Germany', 'The Fantastic Road', 'Family Vacation in Southwest Germany', '7x UNESCO World Heritage Sites in Baden-Württemberg', 'About Us', 'Accessible Travel in Baden-Württemberg » All the Details', 'UNESCO World Heritage Sites in Southwest Germany', 'Bebenhausen Monastery and Castle', 'Historical Sights in Baden-Württemberg', 'Regions and cities in Baden-Wuerttemberg']\n",
      "8 : ['Day Trips from Tubingen Archives - Visit Tubingen', 'Day Trips Near Tubingen - Visit Tubingen', 'Visit Tubingen Archives - Visit Tubingen', 'Tubingen Museums and Art Archives - Visit Tubingen', 'Things to do in Tubingen on the Neckar Archives - Visit Tubingen']\n",
      "9 : ['Hotel in Ingolstadt for your city trip to Bavaria', 'Vienna city trip: privately owned hotels in Vienna', 'Innsbruck city trip: privately owned hotels in Innsbruck', 'Salzburg city trip: Baroque gem on the edge of the Alps', 'Zürich city trip: privately managed hotels in Zürich', 'Discover Private City Hotels in Bregenz', 'Hamburg city trip: Germany’s largest port city', 'Explore Kassel: Art, culture and world heritage \\n\\t\\t\\t- Germany Travel\\n\\t\\t', 'Graz city trip: privately owned hotels in Styria', 'Koblenz: a UNESCO World Heritage Site with the German Corner \\n\\t\\t\\t- Germany Travel\\n\\t\\t', 'City trips to Freiburg, the sunny pearl of the Black Forest']\n"
     ]
    }
   ],
   "source": [
    "from sklearn.cluster import AgglomerativeClustering\n",
    "\n",
    "hierarchical_cluster = AgglomerativeClustering(n_clusters=10, linkage='ward')\n",
    "labels = hierarchical_cluster.fit_predict(embeddings)\n",
    "print_titles_in_topics(labels, n_topics)"
   ]
  },
  {
   "cell_type": "code",
   "execution_count": 10,
   "id": "b43e49b0",
   "metadata": {},
   "outputs": [
    {
     "name": "stdout",
     "output_type": "stream",
     "text": [
      "0 : ['The 10 best hotels close to University of Tübingen in Tübingen, Germany', 'The 10 best hotels close to University of Tübingen in Tübingen, Germany', 'The 10 best guest houses in Tübingen, Germany | Booking.com', 'Welcome at KONCEPT HOTEL International!']\n",
      "1 : ['Wine Hotels in Baden-Württemberg » Weinsüden Hotels', 'Weinsüden Events » Wine Festivals in Baden-Württemberg', 'Weinsüden Events » Wine Festivals in Baden-Württemberg', 'Beer from Baden-Württemberg » Breweries & Beer Culture', 'Experience Culture: Theatre & Festivals in Baden-Württemberg', 'Wine Villages in Baden-Württemberg » Weinsüden Villages', 'Current Events and Activities in Baden-Württemberg', 'Culture in Baden-Württemberg » Highlights and Events', '', 'The Best Museums & Exhibitions in Southwest Germany', 'Cycling Routes Baden-Württemberg » The Best Bike Tours', 'Museum of the University of Tübingen MUT Ancient Cultures', 'Award-Winning Wineries in Baden-Württemberg', 'Holidays in the Countryside', 'Holidays in the Countryside', 'Magazine » Tips & Stories from Southwest Germany', 'National Park and Nature Parks in Baden-Württemberg', 'Route Planner Baden-Württemberg » Cycling & Hiking Trails', 'Bbeautiful places in the countryside of Southwest Germany', 'The Fantastic Road', 'Family Vacation in Southwest Germany', '7x UNESCO World Heritage Sites in Baden-Württemberg', 'About Us', 'Accessible Travel in Baden-Württemberg » All the Details', 'UNESCO World Heritage Sites in Southwest Germany', 'Bebenhausen Monastery and Castle', 'Historical Sights in Baden-Württemberg', 'Regions and cities in Baden-Wuerttemberg']\n",
      "2 : ['How to Save Money on Early Back-to-School Shopping in 2025', 'Food: Recipes, Cooking Tips, Celebrity Chef Ideas & Food News - TODAY.com | TODAY', 'Stuttgart Christmas Market Guide for 2025 - My Germany Vacation', 'Stuttgart Christmas Market Guide for 2025 - My Germany Vacation', 'Travel news, travel guides and reviews | The Guardian', '6 Hacks to Get More Out of Your Groceries and Save Money']\n",
      "3 : [\"\\nThe world's best guest houses | Booking.com\\n\", 'Travel & Accommodation - Summer School', 'The 10 best hotels & places to stay in Tübingen, Germany - Tübingen hotels', 'The 10 best hotels & places to stay in Tübingen, Germany - Tübingen hotels', 'Breakfast in Tübingen with breakfast buffet at Hotel Krone ']\n",
      "4 : ['Introduction to Tubingen - Visit Tubingen', 'Welcome to Tubingen - Visit Tubingen', 'Graduate Training Centre of Neuroscience: The UniverCity']\n",
      "5 : ['Shopping outlets', 'Tübingen – visit the charming town on the Neckar \\n\\t\\t\\t- Germany Travel\\n\\t\\t', 'Family holiday in Baden-Wuerttemberg', 'Christmas markets', 'Higher education: Ministerium für Wissenschaft, Forschung und Kunst Baden-Württemberg', 'Single travellers', 'Restaurant — Our Place | Die Wurstküche - die typisch schwäbische Gastwirtschaft in Tübingen in Tübingen', 'Restaurant in Tübingen | LUDWIGs in the Hotel Krone ']\n",
      "6 : ['The 50 best restaurants to have dinner in Tubingen', 'City trips to Germany, Austria, and Switzerland', 'Hotel Krone Tübingen - PrivateCityHotels.', 'Trumer Stube - PrivateCityHotels.', 'Tübingen - PrivateCityHotels.', 'Private City Hotels - visit over 48 city hotels in Europe']\n",
      "7 : ['Hotel in Ingolstadt for your city trip to Bavaria', 'Theater, art & culture in Tübingen | Hotel Krone', 'Vienna city trip: privately owned hotels in Vienna', 'Innsbruck city trip: privately owned hotels in Innsbruck', 'Salzburg city trip: Baroque gem on the edge of the Alps', 'Zürich city trip: privately managed hotels in Zürich', 'Discover Private City Hotels in Bregenz', 'Hamburg city trip: Germany’s largest port city', 'Explore Kassel: Art, culture and world heritage \\n\\t\\t\\t- Germany Travel\\n\\t\\t', 'Graz city trip: privately owned hotels in Styria', 'Koblenz: a UNESCO World Heritage Site with the German Corner \\n\\t\\t\\t- Germany Travel\\n\\t\\t', 'City trips to Freiburg, the sunny pearl of the Black Forest']\n",
      "8 : ['Brandenburg: a beautiful, one-of-a-kind water world \\n\\t\\t\\t- Germany Travel\\n\\t\\t', 'Best Things to Do in Stuttgart, Germany in 2025 - My Germany Vacation', 'Inspiring Germany \\n\\t\\t\\t- Germany Travel\\n\\t\\t', 'How to Plan a Family Trip to Germany in 2025 - My Germany Vacation', 'How to Plan a Family Trip to Germany in 2025 - My Germany Vacation', 'Stuttgart Starter Guide - My Germany Vacation', 'More than 150 dream roads for road trips, from the North Sea to the Alps \\n\\t\\t\\t- Germany Travel\\n\\t\\t', 'How to Plan Day Trips from Stuttgart, Germany | Germany vacation, Day trips, Trip', 'How to Plan Day Trips from Stuttgart, Germany | Germany vacation, Day trips, Trip', 'Best Day Trips & Weekend Trips from Stuttgart, Germany in 2025 - My Germany Vacation', 'Our hotel for nature - Your booking, one square meter']\n",
      "9 : ['Day Trips from Tubingen Archives - Visit Tubingen', 'Day Trips Near Tubingen - Visit Tubingen', 'Visit Tubingen Archives - Visit Tubingen', 'Tubingen Museums and Art Archives - Visit Tubingen', 'Things to do in Tubingen on the Neckar Archives - Visit Tubingen']\n",
      "10 : [\"The Most Beautiful Beaches in Europe for 2024 - Europe's Best Destinations\", 'Events from 16. October 2019 – 23. June 2023 › Tübingen ›  – Historic Highlights of Germany', 'Events from 16. October 2019 – 23. June 2023 › Tübingen ›  – Historic Highlights of Germany', \"Book Cheap Airline Tickets to Porto Airport - Europe's Best Destinations\", \"Tourism in Tubingen, Germany - Europe's Best Destinations\", \"Travel Guides to visit Europe - Europe's Best Destinations\"]\n",
      "11 : ['Kapfenburg Castle Cultural Center in East Württemberg', 'Hotel Am Schloss *** Superior, Tübingen (updated prices 2025)', 'DJH Youth Hostel Stuttgart Neckarpark - Offers + more - Baden-Württemberg, Germany', 'Hotel Restaurant Meteora, Tübingen (updated prices 2025)', 'Hotel Metropol, Tübingen (updated prices 2025)']\n",
      "12 : ['Team - World History Encyclopedia']\n"
     ]
    }
   ],
   "source": [
    "from sklearn.cluster import AffinityPropagation\n",
    "\n",
    "hierarchical_cluster = AffinityPropagation()\n",
    "labels = hierarchical_cluster.fit_predict(embeddings)\n",
    "print_titles_in_topics(labels, n_topics)"
   ]
  },
  {
   "cell_type": "code",
   "execution_count": 11,
   "id": "32e75a0b",
   "metadata": {},
   "outputs": [
    {
     "name": "stdout",
     "output_type": "stream",
     "text": [
      "0 : ['The 50 best restaurants to have dinner in Tubingen', 'City trips to Germany, Austria, and Switzerland', 'Hotel Krone Tübingen - PrivateCityHotels.', 'Tübingen - PrivateCityHotels.', 'Private City Hotels - visit over 48 city hotels in Europe']\n",
      "1 : ['Wine Hotels in Baden-Württemberg » Weinsüden Hotels', 'Weinsüden Events » Wine Festivals in Baden-Württemberg', 'Weinsüden Events » Wine Festivals in Baden-Württemberg', 'Beer from Baden-Württemberg » Breweries & Beer Culture', 'Experience Culture: Theatre & Festivals in Baden-Württemberg', 'Wine Villages in Baden-Württemberg » Weinsüden Villages', 'Current Events and Activities in Baden-Württemberg', 'Culture in Baden-Württemberg » Highlights and Events', '', 'The Best Museums & Exhibitions in Southwest Germany', 'Cycling Routes Baden-Württemberg » The Best Bike Tours', 'Museum of the University of Tübingen MUT Ancient Cultures', 'Award-Winning Wineries in Baden-Württemberg', 'Holidays in the Countryside', 'Holidays in the Countryside', 'Magazine » Tips & Stories from Southwest Germany', 'National Park and Nature Parks in Baden-Württemberg', 'Route Planner Baden-Württemberg » Cycling & Hiking Trails', 'Bbeautiful places in the countryside of Southwest Germany', 'The Fantastic Road', 'Family Vacation in Southwest Germany', '7x UNESCO World Heritage Sites in Baden-Württemberg', 'About Us', 'Accessible Travel in Baden-Württemberg » All the Details', 'UNESCO World Heritage Sites in Southwest Germany', 'Bebenhausen Monastery and Castle', 'Historical Sights in Baden-Württemberg', 'Regions and cities in Baden-Wuerttemberg', \"The Most Beautiful Beaches in Europe for 2024 - Europe's Best Destinations\", 'Events from 16. October 2019 – 23. June 2023 › Tübingen ›  – Historic Highlights of Germany', 'Events from 16. October 2019 – 23. June 2023 › Tübingen ›  – Historic Highlights of Germany', \"Book Cheap Airline Tickets to Porto Airport - Europe's Best Destinations\", \"Tourism in Tubingen, Germany - Europe's Best Destinations\", \"Travel Guides to visit Europe - Europe's Best Destinations\"]\n",
      "2 : ['Introduction to Tubingen - Visit Tubingen', 'Day Trips from Tubingen Archives - Visit Tubingen', 'Welcome to Tubingen - Visit Tubingen', 'Day Trips Near Tubingen - Visit Tubingen', 'Visit Tubingen Archives - Visit Tubingen', 'Graduate Training Centre of Neuroscience: The UniverCity', 'Tubingen Museums and Art Archives - Visit Tubingen', 'Things to do in Tubingen on the Neckar Archives - Visit Tubingen']\n",
      "3 : [\"\\nThe world's best guest houses | Booking.com\\n\", 'The 10 best hotels close to University of Tübingen in Tübingen, Germany', 'The 10 best hotels close to University of Tübingen in Tübingen, Germany', 'Travel & Accommodation - Summer School', 'The 10 best guest houses in Tübingen, Germany | Booking.com', 'The 10 best hotels & places to stay in Tübingen, Germany - Tübingen hotels', 'The 10 best hotels & places to stay in Tübingen, Germany - Tübingen hotels', 'Restaurant in Tübingen | LUDWIGs in the Hotel Krone ', 'Breakfast in Tübingen with breakfast buffet at Hotel Krone ']\n",
      "4 : ['Brandenburg: a beautiful, one-of-a-kind water world \\n\\t\\t\\t- Germany Travel\\n\\t\\t', 'Best Things to Do in Stuttgart, Germany in 2025 - My Germany Vacation', 'Inspiring Germany \\n\\t\\t\\t- Germany Travel\\n\\t\\t', 'How to Plan a Family Trip to Germany in 2025 - My Germany Vacation', 'How to Plan a Family Trip to Germany in 2025 - My Germany Vacation', 'Stuttgart Starter Guide - My Germany Vacation', 'More than 150 dream roads for road trips, from the North Sea to the Alps \\n\\t\\t\\t- Germany Travel\\n\\t\\t', 'How to Plan Day Trips from Stuttgart, Germany | Germany vacation, Day trips, Trip', 'How to Plan Day Trips from Stuttgart, Germany | Germany vacation, Day trips, Trip', 'Best Day Trips & Weekend Trips from Stuttgart, Germany in 2025 - My Germany Vacation', 'Our hotel for nature - Your booking, one square meter']\n",
      "5 : ['How to Save Money on Early Back-to-School Shopping in 2025', 'Food: Recipes, Cooking Tips, Celebrity Chef Ideas & Food News - TODAY.com | TODAY', 'Kapfenburg Castle Cultural Center in East Württemberg', 'Hotel Am Schloss *** Superior, Tübingen (updated prices 2025)', 'Stuttgart Christmas Market Guide for 2025 - My Germany Vacation', 'Stuttgart Christmas Market Guide for 2025 - My Germany Vacation', 'Travel news, travel guides and reviews | The Guardian', 'DJH Youth Hostel Stuttgart Neckarpark - Offers + more - Baden-Württemberg, Germany', '6 Hacks to Get More Out of Your Groceries and Save Money', 'Hotel Restaurant Meteora, Tübingen (updated prices 2025)', 'Hotel Metropol, Tübingen (updated prices 2025)', 'Team - World History Encyclopedia']\n",
      "6 : ['Hotel in Ingolstadt for your city trip to Bavaria', 'Vienna city trip: privately owned hotels in Vienna', 'Innsbruck city trip: privately owned hotels in Innsbruck', 'Salzburg city trip: Baroque gem on the edge of the Alps', 'Zürich city trip: privately managed hotels in Zürich', 'Discover Private City Hotels in Bregenz', 'Hamburg city trip: Germany’s largest port city', 'Explore Kassel: Art, culture and world heritage \\n\\t\\t\\t- Germany Travel\\n\\t\\t', 'Graz city trip: privately owned hotels in Styria', 'Koblenz: a UNESCO World Heritage Site with the German Corner \\n\\t\\t\\t- Germany Travel\\n\\t\\t', 'City trips to Freiburg, the sunny pearl of the Black Forest']\n",
      "7 : ['Shopping outlets', 'Tübingen – visit the charming town on the Neckar \\n\\t\\t\\t- Germany Travel\\n\\t\\t', 'Family holiday in Baden-Wuerttemberg', 'Welcome at KONCEPT HOTEL International!', 'Theater, art & culture in Tübingen | Hotel Krone', 'Christmas markets', 'Trumer Stube - PrivateCityHotels.', 'Higher education: Ministerium für Wissenschaft, Forschung und Kunst Baden-Württemberg', 'Single travellers', 'Restaurant — Our Place | Die Wurstküche - die typisch schwäbische Gastwirtschaft in Tübingen in Tübingen']\n"
     ]
    },
    {
     "name": "stderr",
     "output_type": "stream",
     "text": [
      "c:\\Users\\csms\\miniconda3\\envs\\Modern-Search-Engines-Lecture\\Lib\\site-packages\\sklearn\\cluster\\_kmeans.py:1419: UserWarning: KMeans is known to have a memory leak on Windows with MKL, when there are less chunks than available threads. You can avoid it by setting the environment variable OMP_NUM_THREADS=1.\n",
      "  warnings.warn(\n"
     ]
    }
   ],
   "source": [
    "from sklearn.cluster import KMeans\n",
    "\n",
    "hierarchical_cluster = KMeans()\n",
    "labels = hierarchical_cluster.fit_predict(embeddings)\n",
    "print_titles_in_topics(labels, n_topics)"
   ]
  },
  {
   "cell_type": "code",
   "execution_count": 12,
   "id": "6f8fabfd",
   "metadata": {},
   "outputs": [
    {
     "name": "stderr",
     "output_type": "stream",
     "text": [
      "c:\\Users\\csms\\miniconda3\\envs\\Modern-Search-Engines-Lecture\\Lib\\site-packages\\sklearn\\cluster\\_kmeans.py:1419: UserWarning: KMeans is known to have a memory leak on Windows with MKL, when there are less chunks than available threads. You can avoid it by setting the environment variable OMP_NUM_THREADS=1.\n",
      "  warnings.warn(\n"
     ]
    },
    {
     "name": "stdout",
     "output_type": "stream",
     "text": [
      "0 : ['Kapfenburg Castle Cultural Center in East Württemberg', 'DJH Youth Hostel Stuttgart Neckarpark - Offers + more - Baden-Württemberg, Germany', \"The Most Beautiful Beaches in Europe for 2024 - Europe's Best Destinations\", \"Book Cheap Airline Tickets to Porto Airport - Europe's Best Destinations\", \"Tourism in Tubingen, Germany - Europe's Best Destinations\", \"Travel Guides to visit Europe - Europe's Best Destinations\"]\n",
      "1 : ['Wine Hotels in Baden-Württemberg » Weinsüden Hotels', 'Weinsüden Events » Wine Festivals in Baden-Württemberg', 'Weinsüden Events » Wine Festivals in Baden-Württemberg', 'Beer from Baden-Württemberg » Breweries & Beer Culture', 'Experience Culture: Theatre & Festivals in Baden-Württemberg', 'Wine Villages in Baden-Württemberg » Weinsüden Villages', 'Current Events and Activities in Baden-Württemberg', 'Culture in Baden-Württemberg » Highlights and Events', '', 'The Best Museums & Exhibitions in Southwest Germany', 'Cycling Routes Baden-Württemberg » The Best Bike Tours', 'Museum of the University of Tübingen MUT Ancient Cultures', 'Award-Winning Wineries in Baden-Württemberg', 'Holidays in the Countryside', 'Holidays in the Countryside', 'Magazine » Tips & Stories from Southwest Germany', 'National Park and Nature Parks in Baden-Württemberg', 'Route Planner Baden-Württemberg » Cycling & Hiking Trails', 'Bbeautiful places in the countryside of Southwest Germany', 'The Fantastic Road', 'Family Vacation in Southwest Germany', '7x UNESCO World Heritage Sites in Baden-Württemberg', 'About Us', 'Accessible Travel in Baden-Württemberg » All the Details', 'UNESCO World Heritage Sites in Southwest Germany', 'Bebenhausen Monastery and Castle', 'Historical Sights in Baden-Württemberg', 'Regions and cities in Baden-Wuerttemberg']\n",
      "2 : ['Introduction to Tubingen - Visit Tubingen', 'Day Trips from Tubingen Archives - Visit Tubingen', 'Welcome to Tubingen - Visit Tubingen', 'Day Trips Near Tubingen - Visit Tubingen', 'Visit Tubingen Archives - Visit Tubingen', 'Graduate Training Centre of Neuroscience: The UniverCity', 'Tubingen Museums and Art Archives - Visit Tubingen', 'Things to do in Tubingen on the Neckar Archives - Visit Tubingen']\n",
      "3 : ['Brandenburg: a beautiful, one-of-a-kind water world \\n\\t\\t\\t- Germany Travel\\n\\t\\t', 'City trips to Germany, Austria, and Switzerland', 'Best Things to Do in Stuttgart, Germany in 2025 - My Germany Vacation', 'Inspiring Germany \\n\\t\\t\\t- Germany Travel\\n\\t\\t', 'How to Plan a Family Trip to Germany in 2025 - My Germany Vacation', 'How to Plan a Family Trip to Germany in 2025 - My Germany Vacation', 'Stuttgart Starter Guide - My Germany Vacation', 'More than 150 dream roads for road trips, from the North Sea to the Alps \\n\\t\\t\\t- Germany Travel\\n\\t\\t', 'How to Plan Day Trips from Stuttgart, Germany | Germany vacation, Day trips, Trip', 'How to Plan Day Trips from Stuttgart, Germany | Germany vacation, Day trips, Trip', 'Best Day Trips & Weekend Trips from Stuttgart, Germany in 2025 - My Germany Vacation', 'Our hotel for nature - Your booking, one square meter']\n",
      "4 : ['Family holiday in Baden-Wuerttemberg', 'Hotel in Ingolstadt for your city trip to Bavaria', 'Vienna city trip: privately owned hotels in Vienna', 'Innsbruck city trip: privately owned hotels in Innsbruck', 'Higher education: Ministerium für Wissenschaft, Forschung und Kunst Baden-Württemberg', 'Salzburg city trip: Baroque gem on the edge of the Alps', 'Zürich city trip: privately managed hotels in Zürich', 'Discover Private City Hotels in Bregenz', 'Hamburg city trip: Germany’s largest port city', 'Explore Kassel: Art, culture and world heritage \\n\\t\\t\\t- Germany Travel\\n\\t\\t', 'Graz city trip: privately owned hotels in Styria', 'Koblenz: a UNESCO World Heritage Site with the German Corner \\n\\t\\t\\t- Germany Travel\\n\\t\\t', 'City trips to Freiburg, the sunny pearl of the Black Forest']\n",
      "5 : ['Shopping outlets', 'The 50 best restaurants to have dinner in Tubingen', 'Tübingen – visit the charming town on the Neckar \\n\\t\\t\\t- Germany Travel\\n\\t\\t', 'Welcome at KONCEPT HOTEL International!', 'Theater, art & culture in Tübingen | Hotel Krone', 'Christmas markets', 'Hotel Krone Tübingen - PrivateCityHotels.', 'Trumer Stube - PrivateCityHotels.', 'Tübingen - PrivateCityHotels.', 'Single travellers', 'Restaurant — Our Place | Die Wurstküche - die typisch schwäbische Gastwirtschaft in Tübingen in Tübingen', 'Events from 16. October 2019 – 23. June 2023 › Tübingen ›  – Historic Highlights of Germany', 'Events from 16. October 2019 – 23. June 2023 › Tübingen ›  – Historic Highlights of Germany', 'Restaurant in Tübingen | LUDWIGs in the Hotel Krone ', 'Breakfast in Tübingen with breakfast buffet at Hotel Krone ', 'Private City Hotels - visit over 48 city hotels in Europe']\n",
      "6 : [\"\\nThe world's best guest houses | Booking.com\\n\", 'The 10 best hotels close to University of Tübingen in Tübingen, Germany', 'The 10 best hotels close to University of Tübingen in Tübingen, Germany', 'Travel & Accommodation - Summer School', 'The 10 best guest houses in Tübingen, Germany | Booking.com', 'The 10 best hotels & places to stay in Tübingen, Germany - Tübingen hotels', 'The 10 best hotels & places to stay in Tübingen, Germany - Tübingen hotels']\n",
      "7 : ['How to Save Money on Early Back-to-School Shopping in 2025', 'Food: Recipes, Cooking Tips, Celebrity Chef Ideas & Food News - TODAY.com | TODAY', 'Hotel Am Schloss *** Superior, Tübingen (updated prices 2025)', 'Stuttgart Christmas Market Guide for 2025 - My Germany Vacation', 'Stuttgart Christmas Market Guide for 2025 - My Germany Vacation', 'Travel news, travel guides and reviews | The Guardian', '6 Hacks to Get More Out of Your Groceries and Save Money', 'Hotel Restaurant Meteora, Tübingen (updated prices 2025)', 'Hotel Metropol, Tübingen (updated prices 2025)', 'Team - World History Encyclopedia']\n"
     ]
    }
   ],
   "source": [
    "from sklearn.cluster import SpectralClustering\n",
    "\n",
    "hierarchical_cluster = SpectralClustering()\n",
    "labels = hierarchical_cluster.fit_predict(embeddings)\n",
    "print_titles_in_topics(labels, n_topics)"
   ]
  }
 ],
 "metadata": {
  "kernelspec": {
   "display_name": "Modern-Search-Engines-Lecture",
   "language": "python",
   "name": "python3"
  },
  "language_info": {
   "codemirror_mode": {
    "name": "ipython",
    "version": 3
   },
   "file_extension": ".py",
   "mimetype": "text/x-python",
   "name": "python",
   "nbconvert_exporter": "python",
   "pygments_lexer": "ipython3",
   "version": "3.13.3"
  }
 },
 "nbformat": 4,
 "nbformat_minor": 5
}
