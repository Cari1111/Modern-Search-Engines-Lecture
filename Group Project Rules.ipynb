{
 "cells": [
  {
   "attachments": {},
   "cell_type": "markdown",
   "metadata": {},
   "source": [
    "# INFO 4271 - Group Project\n",
    "\n",
    "Issued: June 17, 2025\n",
    "\n",
    "Due: July 21, 2025\n",
    "\n",
    "Please submit a link to your code repository (with a branch that does not change anymore after the submission deadline) and your 4-page report via email to carsten.eickhoff@uni-tuebingen.de by the due date. One submission per team.\n",
    "\n",
    "---"
   ]
  },
  {
   "attachments": {},
   "cell_type": "markdown",
   "metadata": {},
   "source": [
    "# 1. Web Crawling & Indexing\n",
    "Crawl the web to discover **English content related to Tübingen**. The crawled content should be stored locally. If interrupted, your crawler should be able to re-start and pick up the crawling process at any time."
   ]
  },
  {
   "cell_type": "code",
   "execution_count": null,
   "metadata": {},
   "outputs": [],
   "source": [
    "%load_ext autoreload\n",
    "%autoreload 2\n",
    "\n",
    "from project import Crawler\n",
    "import cProfile\n",
    "\n",
    "start_urls = []\n",
    "with open('seed.txt', 'r') as file:\n",
    "    for line in file: start_urls.append(line.strip())\n",
    "start_urls\n",
    "crawler = Crawler(urls=start_urls, max_workers=200, use_proxies=False)\n",
    "# snakeviz profiler.prof\n",
    "cProfile.run('crawler.run()', 'data/profiler.prof')"
   ]
  },
  {
   "cell_type": "code",
   "execution_count": 3,
   "metadata": {},
   "outputs": [
    {
     "name": "stdout",
     "output_type": "stream",
     "text": [
      "10365 34448\n"
     ]
    }
   ],
   "source": [
    "filtered = {p for p, d in crawler.visited_pages.items() if d[\"keywords_found\"] and d[\"is_english\"]}\n",
    "print(len(filtered), len(crawler.visited_pages))\n",
    "# filtered"
   ]
  },
  {
   "cell_type": "code",
   "execution_count": null,
   "metadata": {},
   "outputs": [
    {
     "data": {
      "text/plain": [
       "['https://sinzlab.org/projects/pose.html',\n",
       " 'http://www.encyclopedia.com/social-sciences/dictionaries-thesauruses-pictures-and-press-releases/gouldner-alvin-w',\n",
       " 'http://www.wikidata.org/wiki/Q12027957',\n",
       " 'https://xtools.wmflabs.org/topedits/commons.wikimedia.org/Sanbec/0/T%C3%BCbingen?uselang=tg-cyrl',\n",
       " 'https://en.wikipedia.org/wiki/ISO_3166-2:DE',\n",
       " 'https://necludov.github.io/',\n",
       " 'https://historicgermany.travel/events/list/page/2/?tribe-bar-date=2025-07-11',\n",
       " 'https://uni-tuebingen.de/en/fakultaeten/philosophische-fakultaet/fachbereiche/geschichtswissenschaft/seminareinstitute/geschichtsdidaktik-und-public-history/personen/buschhaus/vita/',\n",
       " 'https://en.wikipedia.org/wiki/Template_talk:OSCE',\n",
       " 'https://www.wikidata.org/wiki/Q30',\n",
       " 'http://www.uni-tuebingen.de/en/study/prospective-students/tuebingen-as-a-place-to-study/',\n",
       " 'https://www.nature.com/articles/s41467-024-51546-9?fromPaywallRec=true',\n",
       " 'https://github.com/wichmann-lab/trivial-or-impossible/blob/main/04_figure_4.ipynb',\n",
       " 'https://hotel.ebdestinations.com/searchresults.en.html?city=-1752234&aid=1269813&label=germany-hidden-gems',\n",
       " 'https://mloss.org/software/opsys/windows',\n",
       " 'https://wanderlog.com/drive/between/10578/9621/baden-baden-to-madrid-drive',\n",
       " 'https://tuebingenresearchcampus.com/en/research-in-tuebingen/tnc/people-of-the-tnc/category/Cognition#show',\n",
       " 'https://github.com/atkindel',\n",
       " 'http://www.encyclopedia.com/religion/encyclopedias-almanacs-transcripts-and-maps/jekeles',\n",
       " 'http://www.uni-tuebingen.de/en/international/studieren-im-ausland/vorbereitung/',\n",
       " 'http://www.encyclopedia.com/social-sciences-and-law/political-science-and-government/political-science-terms-and-concepts/civil#1G23045000192',\n",
       " 'https://hotel.ebdestinations.com/hotel/gb/the-edinburgh-grand.en.html?aid=808942&label=scotland-beaches',\n",
       " 'https://historicgermany.travel/events/カテゴリー/augsburg/day/2025-05-23/?outlook-ical=1',\n",
       " 'https://kids.britannica.com/scholars/article/Protestantism/109445',\n",
       " 'https://github.com/orgs/wichmann-lab/repositories',\n",
       " 'http://www.encyclopedia.com/people/social-sciences-and-law/economics-biographies/werner-sombart',\n",
       " 'https://historicgermany.travel/events/list/page/3/?tribe-bar-date=2025-05-16&outlook-ical=1#038;ical=1',\n",
       " 'https://www.google.com/maps/reviews/data=!4m8!14m7!1m6!2m5!1sChZDSUhNMG9nS0VJQ0FnSURCX19EQkhBEAE!2m1!1s0x4799c106ca5c693b:0x6d466bb59a0dfc04!3m1!1s2',\n",
       " 'https://en.wikipedia.org/wiki/Greek_language',\n",
       " 'https://scholar.google.com/citations?user=w3mzCiwAAAAJ',\n",
       " 'https://hotel.ebdestinations.com/hotel/fr/chalet-la-maison-blanche.html?aid=808942&label=stgervais-ski',\n",
       " 'https://uni-tuebingen.de/en/faculties/faculty-of-economics-and-social-sciences/subjects/department-of-social-sciences/education-sciences/units/school-education/staff-1/schreiber-felix-dr/',\n",
       " 'https://commons.wikimedia.org/wiki/User:SailE',\n",
       " 'https://www.literatursehen.com/',\n",
       " 'https://www.google.com/calendar/render?cid=webcal%3A%2F%2Fhistoricgermany.travel%2F%3Fpost_type%3Dtribe_events%26tribe-bar-date%3D2025-08-06%26ical%3D1%26eventDisplay%3Dlist',\n",
       " 'https://doi.org/10.1016/j.bbi.2020.01.018',\n",
       " 'https://www.wikidata.org/wiki/Q159626',\n",
       " 'https://www.google.com/maps/reviews/data=!4m8!14m7!1m6!2m5!1sChdDSUhNMG9nS0VJQ0FnSUNfd09xUV9RRRAB!2m1!1s0x4799c37700b2ed47:0x11c0bcda59851aed!3m1!1s2',\n",
       " 'https://github.com/mrtzh?direction=desc&language=c&sort=created&tab=stars&type=sponsorable',\n",
       " 'http://www.encyclopedia.com/social-sciences-and-law/economics-business-and-labor/businesses-and-occupations/innovation#1G23045000576',\n",
       " 'https://hotel.ebdestinations.com/hotel/tr/maison-dazur-alacati.en.html?aid=808942&label=turkey',\n",
       " 'https://wanderlog.com/place/details/7723243/restaurant-schoko',\n",
       " 'http://www.encyclopedia.com/science/encyclopedias-almanacs-transcripts-and-maps/bureau-investigation-paranormal-photographs',\n",
       " 'https://commons.wikimedia.org/w/index.php?title=Special:CreateAccount&returnto=T%C3%BCbingen',\n",
       " 'https://hotel.ebdestinations.com/searchresults.en.html?region=1406&aid=808942&label=spain-things',\n",
       " 'https://uni-tuebingen.de/en/einrichtungen/zentrum-fuer-datenverarbeitung/dienstleistungen/server/moodlepro/#ut-identifier--main-nav',\n",
       " 'https://github.com/vchoutas?language=julia&tab=stars',\n",
       " 'https://en.wikipedia.org/wiki/Thomas_Hunt_Morgan',\n",
       " 'https://www.doi.org/core/services/open-research-policies/green-open-access-policy-for-journals',\n",
       " 'https://wanderlog.com/list/geoMap/22764/laupheim-map',\n",
       " 'https://www.google.com/maps/reviews/data=!4m8!14m7!1m6!2m5!1sChdDSUhNMG9nS0VJQ0FnSUR6dXFuRDFBRRAB!2m1!1s0x479af71e9e23a5cf:0x66791ecdf5abaf21!3m1!1s2',\n",
       " 'https://github.com/boazbk/panbook/forks',\n",
       " 'https://github.com/mrtzh?direction=desc&language=css&sort=stars&tab=stars&type=fork',\n",
       " 'https://www.geschichtswerkstatt-tuebingen.de/en/projects/projekte-der-jungen-geschichtswerkstatt/erinnerung-an-sinti-und-roma',\n",
       " 'http://www.encyclopedia.com/environment/encyclopedias-almanacs-transcripts-and-maps/newton-isaac-1642-1727',\n",
       " 'https://github.com/mackelab/sbi-ice/issues',\n",
       " 'http://www.encyclopedia.com/history/modern-europe/treaties-and-alliances/treaty-rome',\n",
       " 'https://www.google.com/maps/reviews/data=!4m8!14m7!1m6!2m5!1sChdDSUhNMG9nS0VJQ0FnSUNMdmRtOTdnRRAB!2m1!1s0x4799d1be357bac1d:0x1eabbd889f7c8a2d!3m1!1s2',\n",
       " 'https://github.com/HavenFeng/TRUST/search?l=c%2B%2B',\n",
       " 'http://www.dzif.de/en/about-us/staff/prof-dr-maura-dandri',\n",
       " 'https://github.com/signup?ref_cta=Sign+up&ref_loc=header+logged+out&ref_page=%2F%3Cuser-name%3E%2F%3Crepo-name%3E%2Fblob%2Fshow&source=header-repo&source_repo=YuliangXiu%2FICON',\n",
       " 'http://scholar.google.com/scholar_lookup?author=D+Bergeron&author=K+Flynn&author=L+Verret&author=S+Poulin&author=RW+Bouchard&author=C+Bocti+&publication_year=2017&title=Multicenter+validation+of+an+MMSE-MoCA+conversion+table&journal=J+Am+Geriatr+Soc.&volume=65&pages=1067-72',\n",
       " 'https://en.wikipedia.org/wiki/Johann_Friedrich_Cotta_(theologian)',\n",
       " 'https://tuebingenresearchcampus.com/en/news/artikel/806-postponed-until-autumn-science-and-career-talk-workshop?start=24',\n",
       " 'https://www.google.com/calendar/render?cid=webcal%3A%2F%2Fhistoricgermany.travel%2F%3Fpost_type%3Dtribe_events%26tribe-bar-date%3D2025-07-23%26tribe_events_cat%3Dtrier%26ical%3D1%26eventDisplay%3Dlist',\n",
       " 'http://www.encyclopedia.com/science-and-technology/mathematics/mathematics/linear-programming',\n",
       " 'http://tuebingenresearchcampus.com/campus/partner-institutions/dzne/',\n",
       " 'https://www.wikidata.org/wiki/Q941023',\n",
       " 'https://github.com/vchoutas/torch-mesh-isect/stargazers/you_know',\n",
       " 'https://nexteinstein.org/?p=15553',\n",
       " 'https://en.wikivoyage.org/wiki/Category:Do_listing_with_no_coordinates',\n",
       " 'https://en.wikipedia.org/wiki/Law_enforcement_in_Germany',\n",
       " 'https://genomemedicine.biomedcentral.com/articles/10.1186/s13073-024-01341-4#ref-CR50',\n",
       " 'https://hotel.ebdestinations.com/hotel/es/aureaconventocapuchinosbyeurostarshotelcompany.en-gb.html?aid=808942&label=segovia',\n",
       " 'http://www.tuebingenresearchcampus.com/en/research-in-tuebingen/tnc/events/tnc-elevator-pitches-march-24-2025#end',\n",
       " 'http://www.encyclopedia.com/religion/encyclopedias-almanacs-transcripts-and-maps/rosenfeld-jonah',\n",
       " 'http://www.encyclopedia.com/people/philosophy-and-religion/philosophy-biographies/karl-jaspers',\n",
       " 'https://avatars.githubusercontent.com/u/5918727?v=4',\n",
       " 'https://a.jimdo.com/app/auth/signin/jumpcms/?page=1735892193',\n",
       " 'https://www.google.com/maps/reviews/data=!4m8!14m7!1m6!2m5!1sChdDSUhNMG9nS0VJQ0FnSURSMk5pYnFnRRAB!2m1!1s0x479721fff0e28441:0xe9f3bb4cc2e96286!3m1!1s2',\n",
       " 'https://hotel.ebdestinations.com/hotel/at/goldeneradler.html?aid=808942&label=city-innsbruck',\n",
       " 'https://hotel.ebdestinations.com/searchresults.en.html?city=-2589166&aid=808942&label=England-Gems',\n",
       " 'https://github.com/dsvilarkovic/dynamic_plane_convolutional_onet',\n",
       " 'https://github.com/saidwivedi/InteractVLM/actions',\n",
       " 'https://www.google.com/maps/reviews/data=!4m8!14m7!1m6!2m5!1sChdDSUhNMG9nS0VJQ0FnSUNqeGREXzBBRRAB!2m1!1s0x479966869b0bfadb:0xfc5e319fff537de9!3m1!1s2',\n",
       " 'https://historicgermany.travel/events/カテゴリー/freiburg/list/?tribe-bar-date=2025-07-14&eventDisplay=past',\n",
       " 'https://github.com/HavenFeng/ArtEq',\n",
       " 'https://uni-tuebingen.de/en/fakultaeten/mathematisch-naturwissenschaftliche-fakultaet/fachbereiche/informatik/lehrstuehle/neuronale-informationsverarbeitung/publications/conference-abstracts/details/#c1273992',\n",
       " 'https://github.com/ubtue/tuefind/issues/2396',\n",
       " 'https://service.weibo.com/share/share.php?url=https://www.cdebacco.com/publication/23/&title=Sustainable%20optimal%20transport%20in%20multilayer%20networks',\n",
       " 'https://arxiv.org/abs/1809.10504',\n",
       " 'https://xtools.wmflabs.org/topedits/commons.wikimedia.org/Kpjas/0/T%C3%BCbingen?uselang=nb',\n",
       " 'http://www.encyclopedia.com/humanities/encyclopedias-almanacs-transcripts-and-maps/sarmiento-domingo-faustino-1811-1888',\n",
       " 'https://www.uni-stuttgart.de/en/study/master-programs/',\n",
       " 'https://www.npr.org/tags/140934343/fruit-flies/archive?date=7-31-2012',\n",
       " 'https://hotel.ebdestinations.com/hotel/nl/eden-hotel-amsterdam.en.html?aid=808942&label=netherlands-castles',\n",
       " 'https://arxiv.org/abs/2106.04619',\n",
       " 'http://www.encyclopedia.com/humanities/encyclopedias-almanacs-transcripts-and-maps/jaspers-karl-1883-1969',\n",
       " 'http://www.uni-tuebingen.de/en/university/careers/postdocs-assistant-professors-junior-research-group-leaders/',\n",
       " \"http://scholar.google.com/scholar_lookup?author=T.+Schmader+&publication_year=2002&title=Gender+identification+moderates+stereotype+threat+effects+on+women's+math+performance&journal=J.+Exp.+Soc.+Psychol.&volume=38&pages=194-201\"]"
      ]
     },
     "metadata": {},
     "output_type": "display_data"
    }
   ],
   "source": [
    "display(list(crawler.urls_to_visit)[:100])"
   ]
  },
  {
   "cell_type": "code",
   "execution_count": 18,
   "metadata": {},
   "outputs": [
    {
     "name": "stdout",
     "output_type": "stream",
     "text": [
      "2945 0\n",
      "Counter({'google.com': 5167, 'encyclopedia.com': 4443, 'uni-tuebingen.de': 4354, 'ebdestinations.com': 4169, 'github.com': 3533, 'wmflabs.org': 3064, 'wanderlog.com': 2545, 'doi.org': 2242, 'historicgermany.travel': 1949, 'wikipedia.org': 1883, 'europeanbestdestinations.com': 1339, 'tuebingenresearchcampus.com': 1285, 'arxiv.org': 1157, 'mpg.de': 1070, 'wikidata.org': 866, 'github.io': 844, 'wikimedia.org': 803, 'dzif.de': 729, 'mloss.org': 616, 'co.uk': 508, 'youtube.com': 408, 'cyber-valley.de': 385, 'britannica.com': 381, 'nature.com': 352, 'uni-stuttgart.de': 342, 'wikivoyage.org': 337, 'studit-tuebingen.de': 335, 'hih-tuebingen.de': 335, 'civis.eu': 313, 'curevac.com': 257, 'npr.org': 227, 'frontiersin.org': 208, 'clarivate.com': 178, 'nexteinstein.org': 169, 'openreview.net': 169, 'bethgelab.org': 149, 'artist-info.com': 149, 'jneurosci.org': 135, 'biomedcentral.com': 134, 'igjr.org': 129, 'inaturalist.org': 123, 'my-stuwe.de': 109, 'plos.org': 108, 'medrxiv.org': 104, 'jmir.org': 95, 'worldhistory.org': 94, 'jci.org': 85, 'degruyter.com': 85, 'tscnlab.org': 79, 'ieee.org': 79, 'weibo.com': 61, 'pinterest.com': 60, 'bmj.com': 57, 'visit-bw.com': 50, 'cispa.saarland': 50, 'wikiquote.org': 50, 'cvlibs.net': 49, 'geschichtswerkstatt-tuebingen.de': 48, 'rhein-in-flammen.com': 46, 'immatics.com': 44, 'berkeley.edu': 43, 'dzne.de': 40, 'bingen.de': 38, 'sommerlab.org': 36, 'fortunacommunication.com': 34, 'eabw.org': 33, 'neuro-marseille.org': 33, 'distantvantagepoint.com': 32, 'studying-in-germany.org': 30, 'elsevier.com': 28, 'koncepthotels.com': 28, 'bihealth.org': 25, 'stanford.edu': 24, 'wurstkueche.com': 24, 'sinzlab.org': 23, 'ac.at': 23, 'tum.de': 22, 'nndb.com': 22, 'osf.io': 21, 'estherkuehn-science.org': 21, 'lebensphasenhaus.de': 21, 'wordpress.com': 21, 'eatbu.com': 19, 'probabilistic-numerics.org': 19, 'githubusercontent.com': 17, 'wikitree.com': 16, 'spotify.com': 15, 'content-select.com': 13, 'synovo.com': 13, 'edu.cn': 11, 'mackelab.org': 11, 'literatursehen.com': 9, 'tiktok.com': 9, 'meshcapade.com': 9, 'mohrsiebeck.com': 9, 'eveeno.com': 8, 'vimeo.com': 8, 'wissenschaftliche-weiterbildung.info': 7, 'scheringstiftung.de': 7, 'rsc.org': 6, 'steinbeis-smt.com': 6, 'faros-tuebingen.com': 6, 'kit.edu': 6, 'geneee.org': 5, 'jugendherberge.de': 5, 'robertgeirhos.com': 5, 'visitopatija.com': 5, 'bilibili.com': 4, 'metro.rest': 4, 'porsche.com': 4, 'blogspot.com': 3, 'apple.com': 2, 'csdn.net': 2, 'visitazores.com': 2, 'dasgehirn.info': 2, 'soundcloud.com': 2, 'oeffentlicher-dienst.info': 2, 'baden-baden.com': 2, 'biocompile.com': 2, 'pengsida.net': 2, 'cpaglobal.com': 2, 'endokrinologie.net': 2, 'dzpg.org': 2, 'unece.org': 2, 'kalliope-verbund.info': 2, 'jimdo.com': 1, 'leopoldina.org': 1, 'g.co': 1, 'gedenkstaettenverbund-gna.org': 1, 'kraas-lachmann.com': 1, 'smb.museum': 1, 'helmholtz-muenchen.de': 1, 'ecmlpkdd2016.org': 1, 'weltethos-institut.org': 1, 'irights.info': 1, 'stuttgart-airport.com': 1, 'frittenwerk.com': 1, 'siebengebirge.com': 1, 'it-for-kids.org': 1, 'archive.today': 1, 'kmk-pad.org': 1, 'zgbk.com': 1, 'faz.net': 1, 'pizza-pasta.net': 1, 'babelnet.org': 1, 'podigee.io': 1, 'treetop-walks.com': 1, 'psyarxiv.com': 1, 'lead.schule': 1, 'deananddavid.com': 1, 'com.ua': 1, 'bing.com': 1, 'beyondbots.com': 1, 'mlatgt.blog': 1, 'aix-jumelages.com': 1, 'tahititourisme.org': 1, 'europaeischerhof.com': 1, 'diabetesde.org': 1, 'chambao-heidelberg.com': 1, 'withgoogle.com': 1})\n",
      "160\n",
      "50078\n"
     ]
    }
   ],
   "source": [
    "from urllib.parse import urlparse\n",
    "from collections import Counter\n",
    "\n",
    "c = 0\n",
    "c2 = 0\n",
    "counter = Counter()\n",
    "for url in crawler.urls_to_visit:\n",
    "    t = url in crawler.visited_pages.keys()\n",
    "    c += t\n",
    "    domain = crawler.get_domain(urlparse(url))\n",
    "    c2 +=  crawler.domain_dict[domain][\"in_use\"]\n",
    "    counter[domain] += 1\n",
    "    # if t: print(url)\n",
    "print(c, c2)\n",
    "print(counter)\n",
    "print(len(counter))\n",
    "print(counter.total())"
   ]
  },
  {
   "attachments": {},
   "cell_type": "markdown",
   "metadata": {},
   "source": [
    "# 2. Query Processing \n",
    "Process a textual query and return the 100 most relevant documents from your index. Please incorporate **at least one retrieval model innovation** that goes beyond BM25 or TF-IDF. Please allow for queries to be entered either individually in an interactive user interface (see also #3 below), or via a batch file containing multiple queries at once. The batch file (see `queries.txt` for an example) will be formatted to have one query per line, listing the query number, and query text as tab-separated entries. An example of the batch file for the first two queries looks like this:\n",
    "\n",
    "```\n",
    "1   tübingen attractions\n",
    "2   food and drinks\n",
    "```"
   ]
  },
  {
   "cell_type": "code",
   "execution_count": null,
   "metadata": {},
   "outputs": [],
   "source": [
    "#Retrieve documents relevnt to a query. You need (at least) two parameters:\n",
    "\t#query: The user's search query\n",
    "\t#index: The location of the local index storing the discovered documents.\n",
    "def retrieve(query, index):\n",
    "    #TODO: Implement me\n",
    "\tpass"
   ]
  },
  {
   "attachments": {},
   "cell_type": "markdown",
   "metadata": {},
   "source": [
    "# 3. Search Result Presentation\n",
    "Once you have a result set, we want to return it to the searcher in two ways: a) in an interactive user interface. For this user interface, please think of **at least one innovation** that goes beyond the traditional 10-blue-links interface that most commercial search engines employ. b) as a text file used for batch performance evaluation. The text file should be formatted to produce one ranked result per line, listing the query number, rank position, document URL and relevance score as tab-separated entries. An example of the first three lines of such a text file looks like this:\n",
    "\n",
    "```\n",
    "1   1   https://www.tuebingen.de/en/3521.html   0.725\n",
    "1   2   https://www.komoot.com/guide/355570/castles-in-tuebingen-district   0.671\n",
    "1   3   https://www.unimuseum.uni-tuebingen.de/en/museum-at-hohentuebingen-castle   0.529\n",
    "...\n",
    "1   100 https://www.tuebingen.de/en/3536.html   0.178\n",
    "2   1   https://www.tuebingen.de/en/3773.html   0.956\n",
    "2   2   https://www.tuebingen.de/en/4456.html   0.797\n",
    "...\n",
    "```"
   ]
  },
  {
   "cell_type": "code",
   "execution_count": null,
   "metadata": {},
   "outputs": [],
   "source": [
    "#TODO: Implement an interactive user interface for part a of this exercise.\n",
    "\n",
    "#Produce a text file with 100 results per query in the format specified above.\n",
    "def batch(results):\n",
    "    #TODO: Implement me.    \n",
    "    pass"
   ]
  },
  {
   "attachments": {},
   "cell_type": "markdown",
   "metadata": {},
   "source": [
    "# 4. Performance Evaluation \n",
    "We will evaluate the performance of our search systems on the basis of five queries. Two of them are avilable to you now for engineering purposes:\n",
    "- `tübingen attractions`\n",
    "- `food and drinks`\n",
    "\n",
    "The remaining three queries will be given to you during our final session on July 22nd. Please be prepared to run your systems and produce a single result file for all five queries live in class. That means you should aim for processing times of no more than ~1 minute per query. We will ask you to send carsten.eickhoff@uni-tuebingen.de that file."
   ]
  },
  {
   "attachments": {},
   "cell_type": "markdown",
   "metadata": {},
   "source": [
    "# Grading\n",
    "Your final projects will be graded along the following criteria:\n",
    "- 25% Code correctness and quality (to be delivered on this sheet)\n",
    "- 25% Report (4 pages, PDF, explanation and justification of your design choices)\n",
    "- 25% System performance (based on how well your system performs on the 5 queries relative to the other teams in terms of nDCG)\n",
    "- 15% Creativity and innovativeness of your approach (in particular with respect to your search system #2 and user interface #3 innovations)\n",
    "- 10% Presentation quality and clarity"
   ]
  },
  {
   "attachments": {},
   "cell_type": "markdown",
   "metadata": {},
   "source": [
    "# Permissible libraries\n",
    "You can use any general-puprose ML and NLP libraries such as scipy, numpy, scikit-learn, spacy, nltk, but please stay away from dedicated web crawling or search engine toolkits such as scrapy, whoosh, lucene, terrier, galago and the likes. Pretrained models are fine to use as part of your system, as long as they have not been built/trained for retrieval. \n"
   ]
  }
 ],
 "metadata": {
  "kernelspec": {
   "display_name": "MSE",
   "language": "python",
   "name": "python3"
  },
  "language_info": {
   "codemirror_mode": {
    "name": "ipython",
    "version": 3
   },
   "file_extension": ".py",
   "mimetype": "text/x-python",
   "name": "python",
   "nbconvert_exporter": "python",
   "pygments_lexer": "ipython3",
   "version": "3.11.11"
  },
  "orig_nbformat": 4
 },
 "nbformat": 4,
 "nbformat_minor": 2
}
