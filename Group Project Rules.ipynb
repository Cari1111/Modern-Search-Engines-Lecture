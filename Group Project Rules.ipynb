{
 "cells": [
  {
   "attachments": {},
   "cell_type": "markdown",
   "metadata": {},
   "source": [
    "# INFO 4271 - Group Project\n",
    "\n",
    "Issued: June 17, 2025\n",
    "\n",
    "Due: July 21, 2025\n",
    "\n",
    "Please submit a link to your code repository (with a branch that does not change anymore after the submission deadline) and your 4-page report via email to carsten.eickhoff@uni-tuebingen.de by the due date. One submission per team.\n",
    "\n",
    "---"
   ]
  },
  {
   "attachments": {},
   "cell_type": "markdown",
   "metadata": {},
   "source": [
    "# 1. Web Crawling & Indexing\n",
    "Crawl the web to discover **English content related to Tübingen**. The crawled content should be stored locally. If interrupted, your crawler should be able to re-start and pick up the crawling process at any time."
   ]
  },
  {
   "cell_type": "code",
   "execution_count": 17,
   "metadata": {},
   "outputs": [
    {
     "name": "stderr",
     "output_type": "stream",
     "text": [
      "2025-07-19 15:47:06,934 INFO: Removed existing file: data/1\\crawler_state.json\n",
      "2025-07-19 15:47:06,935 INFO: Removed existing file: data/1\\indexed_docs.jsonl\n",
      "2025-07-19 15:47:06,936 INFO: Removed existing backup file: data/1/backup\\indexed_docs.jsonl\n",
      "2025-07-19 15:47:06,937 INFO: Removed existing file: data/1\\indexed_html.jsonl\n",
      "2025-07-19 15:47:06,937 INFO: Removed existing backup file: data/1/backup\\indexed_html.jsonl\n"
     ]
    },
    {
     "name": "stdout",
     "output_type": "stream",
     "text": [
      "The autoreload extension is already loaded. To reload it, use:\n",
      "  %reload_ext autoreload\n"
     ]
    },
    {
     "name": "stderr",
     "output_type": "stream",
     "text": [
      "2025-07-19 15:47:08,677 INFO: Frontier size: 22, Added 22/23 URLs from https://visit-tubingen.co.uk/\n",
      "2025-07-19 15:47:08,940 INFO: \u001b[32mActive threads: 12, Scheduled: 14, Domain dict size: 15, Visited: 2, Sites: ['https://visit-tubingen.co.uk/', 'https://tuebingenresearchcampus.com/en', 'https://www.mygermanyvacation.com/best-things-to-do-and-see-in-tubingen-germany/', 'https://historicgermany.travel/historic-germany/tubingen/', 'https://listium.com/@thedesigntourist/98696/15-must-visit-spots-in-tbingen-germany', 'https://en.wikipedia.org/wiki/T%C3%BCbingen', 'https://wanderlog.com/list/geoCategory/368520/', 'https://www.germany.travel/en/cities-culture/tuebingen.html', 'https://www.visit-bw.com/en/tips-and-stories/fantastic-road', 'https://en.wikivoyage.org/wiki/T%C3%BCbingen', 'https://www.britannica.com/place/Tubingen-Germany', 'https://www.thelocal.de/tag/tubingen', 'https://theculturetrip.com/europe/germany/articles/the-best-things-to-see-and-do-in-tubingen-germany', 'https://www.outdooractive.com/en/places-to-eat-and-drink/tuebingen/eat-and-drink-in-tuebingen/21873363/'] ...\u001b[0m\n",
      "2025-07-19 15:47:09,929 INFO: Appended 10 documents to data/1\\indexed_docs.jsonl\n",
      "2025-07-19 15:47:10,399 WARNING: Duplicate content detected: https://visit-tubingen.co.uk has same content as https://visit-tubingen.co.uk/\n",
      "2025-07-19 15:47:10,402 INFO: Frontier size: 119, Added 1/23 URLs from https://visit-tubingen.co.uk\n",
      "2025-07-19 15:47:10,756 INFO: Frontier size: 230, Added 52/61 URLs from https://www.germany.travel/en/cities-culture/tuebingen.html\n",
      "2025-07-19 15:47:10,873 INFO: Frontier size: 301, Added 69/73 URLs from https://tuebingenresearchcampus.com/en\n",
      "2025-07-19 15:47:10,952 INFO: \u001b[32mActive threads: 10, Scheduled: 14, Domain dict size: 52, Visited: 6, Sites: ['https://tuebingenresearchcampus.com/en', 'https://www.mygermanyvacation.com/best-things-to-do-and-see-in-tubingen-germany/', 'https://historicgermany.travel/historic-germany/tubingen/', 'https://listium.com/@thedesigntourist/98696/15-must-visit-spots-in-tbingen-germany', 'https://en.wikipedia.org/wiki/T%C3%BCbingen', 'https://wanderlog.com/list/geoCategory/368520/', 'https://www.germany.travel/en/cities-culture/tuebingen.html', 'https://www.visit-bw.com/en/tips-and-stories/fantastic-road', 'https://en.wikivoyage.org/wiki/T%C3%BCbingen', 'https://www.britannica.com/place/Tubingen-Germany', 'https://visit-tubingen.co.uk', 'https://www.thelocal.de/tag/tubingen', 'https://theculturetrip.com/europe/germany/articles/the-best-things-to-see-and-do-in-tubingen-germany', 'https://www.thelocal.it'] ...\u001b[0m\n",
      "2025-07-19 15:47:10,957 ERROR: Error crawling http://www.tuebingen-unishop.de/: HTTPConnectionPool(host='www.tuebingen-unishop.de', port=80): Max retries exceeded with url: / (Caused by NewConnectionError('<urllib3.connection.HTTPConnection object at 0x0000020BF5A0F650>: Failed to establish a new connection: [Errno 11001] getaddrinfo failed'))\n",
      "2025-07-19 15:47:11,010 INFO: Frontier size: 305, Added 75/82 URLs from https://www.britannica.com/place/Tubingen-Germany\n",
      "2025-07-19 15:47:11,063 ERROR: Error crawling https://www.tuebingen.de/en/1815.html: 404 Client Error: Not Found for url: https://www.tuebingen.de/en/1815.html\n",
      "2025-07-19 15:47:11,165 ERROR: Error crawling https://datos.bne.es/resource/XX461492: HTTPSConnectionPool(host='datos.bne.es', port=443): Max retries exceeded with url: /resource/XX461492 (Caused by SSLError(SSLCertVerificationError(1, '[SSL: CERTIFICATE_VERIFY_FAILED] certificate verify failed: unable to get local issuer certificate (_ssl.c:1006)')))\n",
      "2025-07-19 15:47:11,558 INFO: Frontier size: 387, Added 17/74 URLs from https://listium.com/@thedesigntourist/98696/15-must-visit-spots-in-tbingen-germany\n",
      "2025-07-19 15:47:11,688 INFO: Frontier size: 417, Added 39/65 URLs from https://historicgermany.travel/historic-germany/tubingen/\n",
      "2025-07-19 15:47:11,704 INFO: Frontier size: 441, Added 61/67 URLs from https://www.mygermanyvacation.com/best-things-to-do-and-see-in-tubingen-germany/\n",
      "2025-07-19 15:47:11,785 INFO: Frontier size: 469, Added 46/55 URLs from https://www.visit-bw.com/en/tips-and-stories/fantastic-road\n",
      "2025-07-19 15:47:12,580 WARNING: Duplicate content detected: https://visit-tubingen.co.uk has same content as https://visit-tubingen.co.uk/\n",
      "2025-07-19 15:47:12,584 INFO: Frontier size: 514, Added 0/23 URLs from https://visit-tubingen.co.uk\n",
      "2025-07-19 15:47:13,464 INFO: \u001b[32mActive threads: 18, Scheduled: 35, Domain dict size: 85, Visited: 22, Sites: ['https://www.thelaend.de/en/discover-the-laend/', 'https://en.wikisource.org/wiki/Encyclop%C3%A6dia_Britannica,_Ninth_Edition/Strauss,_David_Friedrich', 'https://www.outletcity.com/en/metzingen/', 'https://www.mygermanyvacation.com/best-things-to-do-and-see-in-tubingen-germany/', 'https://thedesigntourist.com/', 'https://www.pinterest.de/germanytourism/', 'https://wanderlog.com/list/geoCategory/368520/', 'https://apps.apple.com/app/the-local/id1078564301?ppid=6864b6b3-2124-4a78-a423-cc41f8f3b425', 'https://en.wikivoyage.org/wiki/T%C3%BCbingen', 'https://youtu.be/Txa7_XhYmlE', 'https://datos.bne.es/resource/XX461492', 'https://theculturetrip.com/europe/germany/articles/the-best-things-to-see-and-do-in-tubingen-germany', 'https://eveeno.com/510024561', 'https://uni-tuebingen.de/en/221946', 'https://www.tuebingen.de/en/1815.html', 'https://www.thelocal.se', 'https://historicgermany.travel/historic-germany/tubingen/', 'https://listium.com/@thedesigntourist/98696/15-must-visit-spots-in-tbingen-germany', 'https://en.wikipedia.org/wiki/T%C3%BCbingen', 'http://www.kyb.tuebingen.mpg.de/'] ...\u001b[0m\n",
      "2025-07-19 15:47:13,510 ERROR: Error crawling http://www.jazz-keller.eu/: HTTPConnectionPool(host='www.jazz-keller.eu', port=80): Max retries exceeded with url: / (Caused by NewConnectionError('<urllib3.connection.HTTPConnection object at 0x0000020BC7463F90>: Failed to establish a new connection: [Errno 11001] getaddrinfo failed'))\n",
      "2025-07-19 15:47:13,578 INFO: Frontier size: 508, Added 4/17 URLs from https://eveeno.com/510024561\n",
      "2025-07-19 15:47:13,784 ERROR: Error crawling https://www.adac.de/: 403 Client Error: Forbidden for url: https://www.adac.de/\n",
      "2025-07-19 15:47:13,876 WARNING: Duplicate content detected: https://tuebingenresearchcampus.com/ has same content as https://tuebingenresearchcampus.com/en\n",
      "2025-07-19 15:47:13,884 INFO: Frontier size: 658, Added 2/73 URLs from https://tuebingenresearchcampus.com/\n",
      "2025-07-19 15:47:14,032 ERROR: Error crawling https://bsky.app/profile/thelocalgermany.bsky.social: 404 Client Error: Not Found for url: https://bsky.app/profile/thelocalgermany.bsky.social\n",
      "2025-07-19 15:47:14,245 INFO: Frontier size: 682, Added 83/92 URLs from https://www.thelocal.de/tag/tubingen\n",
      "2025-07-19 15:47:14,553 INFO: Frontier size: 709, Added 135/143 URLs from https://uni-tuebingen.de/en/221946\n",
      "2025-07-19 15:47:14,750 ERROR: Error crawling http://www.tuebingen.de/en/: 404 Client Error: Not Found for url: https://www.tuebingen.de/en/\n",
      "2025-07-19 15:47:14,883 INFO: Frontier size: 746, Added 0/15 URLs from https://visit-tubingen.co.uk/bebenhausen-monastery-and-palace/\n",
      "2025-07-19 15:47:15,492 INFO: \u001b[32mActive threads: 17, Scheduled: 52, Domain dict size: 107, Visited: 57, Sites: ['http://www.tuebingen.de/en/', 'https://en.wikisource.org/wiki/Encyclop%C3%A6dia_Britannica,_Ninth_Edition/Strauss,_David_Friedrich', 'https://www.germany.travel/en/royal-palaces-castles/top-tips-for-special-holiday-experiences.html', 'https://visit-tubingen.co.uk/bebenhausen-monastery-and-palace/', 'https://thedesigntourist.com/', 'http://www.jazz-keller.eu/', 'https://www.pinterest.de/germanytourism/', 'https://www.thelocal.no', 'https://wanderlog.com/list/geoCategory/368520/', 'https://en.wikivoyage.org/wiki/T%C3%BCbingen', 'https://youtu.be/Txa7_XhYmlE', 'https://www.patreon.com/jayswanson', 'http://karte.immobilien-kompass.de/wohnen/tuebingen#details', 'https://int.bahn.de/en', 'http://www.wok-in.de/', 'https://www.europeanbestdestinations.com/european-best-destinations-2021/#new_tab', 'https://theculturetrip.com/europe/germany/articles/the-best-things-to-see-and-do-in-tubingen-germany', 'https://eveeno.com/510024561', 'https://bsky.app/profile/thelocalgermany.bsky.social', 'https://uni-tuebingen.de/en/221946'] ...\u001b[0m\n",
      "2025-07-19 15:47:15,638 ERROR: Error crawling http://www.neckarmüller.de: 500 Server Error: Internal Server Error for url: http://www.xn--neckarmller-zhb.de/\n",
      "2025-07-19 15:47:15,704 ERROR: Error crawling https://www.xing.com/app/user?op=share;url=https%3A%2F%2Feveeno.com%2F510024561: 404 Client Error: Not Found for url: https://www.xing.com/app/user?op=share;url=https%3A%2F%2Feveeno.com%2F510024561\n",
      "2025-07-19 15:47:15,913 ERROR: Error crawling https://globaltaxnews.ey.com/news/2023-0995-german-federal-administrative-court-confirms-legality-of-local-packaging-tax-in-city-of-tbingen: 404 Client Error: Not Found for url: https://globaltaxnews.ey.com/news/2023-0995-german-federal-administrative-court-confirms-legality-of-local-packaging-tax-in-city-of-tbingen\n",
      "2025-07-19 15:47:16,051 ERROR: Error crawling https://bsky.app/profile/unituebingen.bsky.social: 404 Client Error: Not Found for url: https://bsky.app/profile/unituebingen.bsky.social\n",
      "2025-07-19 15:47:16,190 INFO: Frontier size: 827, Added 27/68 URLs from https://en.wikisource.org/wiki/Encyclop%C3%A6dia_Britannica,_Ninth_Edition/Strauss,_David_Friedrich\n",
      "2025-07-19 15:47:17,049 ERROR: Error crawling https://theculturetrip.com/europe/germany/articles/the-best-things-to-see-and-do-in-tubingen-germany: HTTPSConnectionPool(host='theculturetrip.com', port=443): Read timed out. (read timeout=10)\n",
      "2025-07-19 15:47:17,072 WARNING: Duplicate content detected: https://www.mygermanyvacation.com/best-things-to-do-and-see-in-tubingen-germany/#respond has same content as https://www.mygermanyvacation.com/best-things-to-do-and-see-in-tubingen-germany/\n",
      "2025-07-19 15:47:17,078 INFO: Frontier size: 861, Added 1/67 URLs from https://www.mygermanyvacation.com/best-things-to-do-and-see-in-tubingen-germany/#respond\n",
      "2025-07-19 15:47:17,455 INFO: Frontier size: 896, Added 0/12 URLs from https://visit-tubingen.co.uk/category/things-to-do-in-tubingen/\n",
      "2025-07-19 15:47:17,496 INFO: \u001b[32mActive threads: 32, Scheduled: 53, Domain dict size: 120, Visited: 78, Sites: ['https://lux.collections.yale.edu/view/place/1cb410a7-4515-4d9b-9e4d-b8ba6c21c18a', 'https://visit-tubingen.co.uk/category/things-to-do-in-tubingen/', 'https://en.wikisource.org/wiki/Encyclop%C3%A6dia_Britannica,_Ninth_Edition/Strauss,_David_Friedrich', 'https://www.germany.travel/en/royal-palaces-castles/top-tips-for-special-holiday-experiences.html', 'http://www.eb.tuebingen.mpg.de/', 'https://www.tiktok.com/@eoin_and_aisling', 'https://bsky.app/profile/unituebingen.bsky.social', 'https://wanderlog.com/list/geoCategory/368520/', 'https://www.thelocal.de/jobs', 'https://en.wikivoyage.org/wiki/T%C3%BCbingen', 'http://karte.immobilien-kompass.de/wohnen/tuebingen#details', 'https://www.my-stuwe.de/en/refectory/', 'https://www.mediawiki.org/', 'https://d-nb.info/gnd/4061147-4', 'https://www.europeanbestdestinations.com/european-best-destinations-2021/#new_tab', 'https://theculturetrip.com/europe/germany/articles/the-best-things-to-see-and-do-in-tubingen-germany', 'https://jobs.thelocal.com/employers/', 'https://www.visit-bw.com/en/culture/cultural-heritage', 'https://stats.wikimedia.org/#/en.wikisource.org', 'https://tuebingenresearchcampus.com/en/campus/partner-institutions'] ...\u001b[0m\n",
      "2025-07-19 15:47:17,563 INFO: Frontier size: 889, Added 1/63 URLs from https://historicgermany.travel/historic-germany/tubingen/page/2/\n",
      "2025-07-19 15:47:17,751 INFO: Frontier size: 890, Added 1/1 URLs from https://xn--baw-joa.social/@unituebingen\n",
      "2025-07-19 15:47:19,185 INFO: Appended 10 documents to data/1\\indexed_docs.jsonl\n",
      "2025-07-19 15:47:19,226 INFO: Frontier size: 1044, Added 16/80 URLs from https://tuebingenresearchcampus.com/en/campus/partner-institutions\n",
      "2025-07-19 15:47:19,247 ERROR: Error crawling http://www.hotelamschloss.de/en/restaurants-tuebingen-en.html: 404 Client Error: Not Found for url: https://www.hotelamschloss.de/en/restaurants-tuebingen-en.html\n",
      "2025-07-19 15:47:20,079 INFO: Crawler is shutting down, performing cleanup...\n",
      "2025-07-19 15:47:20,144 INFO: Saved 20 documents to data/1/backup\\indexed_docs.jsonl and data/1/backup\\indexed_html.jsonl\n",
      "2025-07-19 15:47:20,147 INFO: Saved backup collection to data/1/backup\n",
      "2025-07-19 15:47:20,151 INFO: Final stats: {'total_documents': 20, 'visited_pages': 108, 'frontier': 1049}\n",
      "2025-07-19 15:47:20,155 INFO: Cleanup complete. Crawler has shut down gracefully.\n",
      "2025-07-19 15:47:20,167 INFO: Frontier size: 1119, Added 70/96 URLs from https://www.dai-tuebingen.de/en/about-the-institute\n",
      "2025-07-19 15:47:20,191 INFO: Frontier size: 1119, Added 0/9 URLs from https://visit-tubingen.co.uk/category/visit-tubingen/\n",
      "2025-07-19 15:47:20,304 INFO: Frontier size: 1139, Added 0/0 URLs from https://tools.wmflabs.org/wikivoyage/w/poi2gpx.php?print=gpx&lang=en&name=T%C3%BCbingen\n",
      "2025-07-19 15:47:20,812 INFO: Frontier size: 1515, Added 308/392 URLs from https://uni-tuebingen.de/en/\n",
      "2025-07-19 15:47:21,076 INFO: Frontier size: 1689, Added 112/118 URLs from https://www.my-stuwe.de/en/refectory/\n",
      "2025-07-19 15:47:21,268 INFO: Frontier size: 1871, Added 21/268 URLs from https://commons.wikimedia.org/wiki/T%C3%BCbingen\n",
      "2025-07-19 15:47:21,916 INFO: Frontier size: 2529, Added 891/1058 URLs from https://www.europeanbestdestinations.com/european-best-destinations-2021/#new_tab\n",
      "2025-07-19 15:47:22,093 INFO: Appended 10 documents to data/1\\indexed_docs.jsonl\n",
      "2025-07-19 15:47:22,183 INFO: Frontier size: 2594, Added 471/712 URLs from https://en.wikipedia.org/wiki/T%C3%BCbingen\n",
      "2025-07-19 15:47:22,987 INFO: Frontier size: 2686, Added 73/94 URLs from https://www.mygermanyvacation.com/hotel-krone-s-tubingen/\n",
      "2025-07-19 15:47:23,532 ERROR: Error crawling https://www.germany.travel/en/royal-palaces-castles/top-tips-for-special-holiday-experiences.html: HTTPSConnectionPool(host='www.germany.travel', port=443): Max retries exceeded with url: /en/royal-palaces-castles/top-tips-for-special-holiday-experiences.html (Caused by ConnectTimeoutError(<urllib3.connection.HTTPSConnection object at 0x0000020BE064D2D0>, 'Connection to www.germany.travel timed out. (connect timeout=10)'))\n",
      "2025-07-19 15:47:24,310 INFO: Frontier size: 2789, Added 46/100 URLs from https://www.visit-bw.com/en/culture/cultural-heritage\n",
      "2025-07-19 15:47:27,827 ERROR: Error crawling https://ws-export.wmcloud.org/?lang=en&title=Encyclop%C3%A6dia_Britannica%2C_Ninth_Edition%2FStrauss%2C_David_Friedrich: HTTPSConnectionPool(host='ws-export.wmcloud.org', port=443): Read timed out. (read timeout=10)\n",
      "2025-07-19 15:47:30,731 INFO: Frontier size: 3048, Added 93/232 URLs from https://en.wikivoyage.org/wiki/T%C3%BCbingen\n",
      "2025-07-19 15:47:32,709 INFO: Frontier size: 3109, Added 294/308 URLs from https://wanderlog.com/list/geoCategory/368520/\n",
      "2025-07-19 15:47:39,960 INFO: Frontier size: 3173, Added 258/461 URLs from https://www.wikidata.org/wiki/Q3806#identifiers\n"
     ]
    },
    {
     "ename": "KeyboardInterrupt",
     "evalue": "",
     "output_type": "error",
     "traceback": [
      "\u001b[31m---------------------------------------------------------------------------\u001b[39m",
      "\u001b[31mKeyboardInterrupt\u001b[39m                         Traceback (most recent call last)",
      "\u001b[36mCell\u001b[39m\u001b[36m \u001b[39m\u001b[32mIn[17]\u001b[39m\u001b[32m, line 14\u001b[39m\n\u001b[32m     11\u001b[39m crawler = Crawler(start_urls, max_workers=\u001b[32m200\u001b[39m, use_proxies=\u001b[38;5;28;01mFalse\u001b[39;00m, auto_resume=\u001b[38;5;28;01mFalse\u001b[39;00m, path=\u001b[33m\"\u001b[39m\u001b[33mdata/1\u001b[39m\u001b[33m\"\u001b[39m)\n\u001b[32m     12\u001b[39m \u001b[38;5;66;03m# snakeviz profiler.prof\u001b[39;00m\n\u001b[32m     13\u001b[39m \u001b[38;5;66;03m# cProfile.run('crawler.run()', 'data/profiler.prof')\u001b[39;00m\n\u001b[32m---> \u001b[39m\u001b[32m14\u001b[39m \u001b[43mcrawler\u001b[49m\u001b[43m.\u001b[49m\u001b[43mrun\u001b[49m\u001b[43m(\u001b[49m\u001b[43m)\u001b[49m\n",
      "\u001b[36mFile \u001b[39m\u001b[32mc:\\Users\\Simon\\Documents\\Ordner\\Uni\\Master\\25-Sommer\\Modern Search Engines\\Aufgaben\\project\\crawler\\crawler.py:416\u001b[39m, in \u001b[36mrun\u001b[39m\u001b[34m(self, amount)\u001b[39m\n\u001b[32m    414\u001b[39m \u001b[38;5;28;01mif\u001b[39;00m diff < \u001b[32m2\u001b[39m: time.sleep(\u001b[32m2\u001b[39m - diff)\n\u001b[32m    415\u001b[39m visiting = \u001b[38;5;28mlist\u001b[39m(\u001b[38;5;28mmap\u001b[39m(\u001b[38;5;28;01mlambda\u001b[39;00m x: x[\u001b[32m2\u001b[39m], futures))\n\u001b[32m--> \u001b[39m\u001b[32m416\u001b[39m \u001b[38;5;28;01mwith\u001b[39;00m \u001b[38;5;28mself\u001b[39m.visited_lock: amt_visited     = \u001b[38;5;28mlen\u001b[39m(\u001b[38;5;28mself\u001b[39m.visited_pages)\n\u001b[32m    417\u001b[39m \u001b[38;5;28;01mwith\u001b[39;00m \u001b[38;5;28mself\u001b[39m.domain_lock:  len_domain_dict = \u001b[38;5;28mlen\u001b[39m(\u001b[38;5;28mself\u001b[39m.domain_dict)\n\u001b[32m    418\u001b[39m logging.info(colored(\u001b[33mf\u001b[39m\u001b[33m'\u001b[39m\u001b[33mActive threads: \u001b[39m\u001b[38;5;132;01m{\u001b[39;00mexecutor.active_count\u001b[38;5;132;01m}\u001b[39;00m\u001b[33m, Scheduled: \u001b[39m\u001b[38;5;132;01m{\u001b[39;00m\u001b[38;5;28mlen\u001b[39m(futures)\u001b[38;5;132;01m}\u001b[39;00m\u001b[33m, Domain dict size: \u001b[39m\u001b[38;5;132;01m{\u001b[39;00mlen_domain_dict\u001b[38;5;132;01m}\u001b[39;00m\u001b[33m, \u001b[39m\u001b[33m'\u001b[39m\n\u001b[32m    419\u001b[39m                     \u001b[33mf\u001b[39m\u001b[33m'\u001b[39m\u001b[33mVisited: \u001b[39m\u001b[38;5;132;01m{\u001b[39;00mamt_visited\u001b[38;5;132;01m}\u001b[39;00m\u001b[33m, Sites: \u001b[39m\u001b[38;5;132;01m{\u001b[39;00mvisiting[:\u001b[32m20\u001b[39m]\u001b[38;5;132;01m}\u001b[39;00m\u001b[33m ...\u001b[39m\u001b[33m'\u001b[39m, \u001b[33m'\u001b[39m\u001b[33mgreen\u001b[39m\u001b[33m'\u001b[39m))\n",
      "\u001b[31mKeyboardInterrupt\u001b[39m: "
     ]
    }
   ],
   "source": [
    "%load_ext autoreload\n",
    "%autoreload 2\n",
    "\n",
    "from project import Crawler\n",
    "import cProfile\n",
    "\n",
    "start_urls = []\n",
    "with open('seed.txt', 'r') as file:\n",
    "    for line in file: start_urls.append(line.strip())\n",
    "start_urls\n",
    "crawler = Crawler(start_urls, max_workers=200, use_proxies=False, auto_resume=False, path=\"data/1\")\n",
    "# snakeviz profiler.prof\n",
    "# cProfile.run('crawler.run()', 'data/profiler.prof')\n",
    "crawler.run()"
   ]
  },
  {
   "cell_type": "code",
   "execution_count": 18,
   "metadata": {},
   "outputs": [
    {
     "data": {
      "text/plain": [
       "{'total_documents': 30, 'visited_pages': 129, 'frontier': 3173}"
      ]
     },
     "execution_count": 18,
     "metadata": {},
     "output_type": "execute_result"
    }
   ],
   "source": [
    "crawler.get_crawling_stats()"
   ]
  },
  {
   "attachments": {},
   "cell_type": "markdown",
   "metadata": {},
   "source": [
    "# 2. Query Processing \n",
    "Process a textual query and return the 100 most relevant documents from your index. Please incorporate **at least one retrieval model innovation** that goes beyond BM25 or TF-IDF. Please allow for queries to be entered either individually in an interactive user interface (see also #3 below), or via a batch file containing multiple queries at once. The batch file (see `queries.txt` for an example) will be formatted to have one query per line, listing the query number, and query text as tab-separated entries. An example of the batch file for the first two queries looks like this:\n",
    "\n",
    "```\n",
    "1   tübingen attractions\n",
    "2   food and drinks\n",
    "```"
   ]
  },
  {
   "cell_type": "code",
   "execution_count": null,
   "metadata": {},
   "outputs": [
    {
     "name": "stdout",
     "output_type": "stream",
     "text": [
      "The autoreload extension is already loaded. To reload it, use:\n",
      "  %reload_ext autoreload\n"
     ]
    },
    {
     "name": "stderr",
     "output_type": "stream",
     "text": [
      "Line: 100%|██████████| 30/30 [00:00<00:00, 1446.68it/s]\n"
     ]
    }
   ],
   "source": [
    "%load_ext autoreload\n",
    "%autoreload 2\n",
    "\n",
    "from project import retriever, HTML_FILE\n",
    "from tqdm import tqdm\n",
    "import os\n",
    "import json\n",
    "\n",
    "def load_data(path: str = \"data\"):\n",
    "    html_path = os.path.join(path, HTML_FILE)\n",
    "    if not os.path.exists(html_path):\n",
    "        raise FileNotFoundError(f\"HTML file not found at {html_path}\")\n",
    "\n",
    "    docs = {}\n",
    "    with open(html_path, 'r', encoding='utf-8') as f:\n",
    "        lines = f.readlines()\n",
    "        for line in tqdm(lines, \"Line\"): docs.update(json.loads(line.strip()))\n",
    "    return docs\n",
    "\n",
    "docs = load_data(retriever.model, path=\"data/1\")"
   ]
  },
  {
   "cell_type": "code",
   "execution_count": null,
   "metadata": {},
   "outputs": [
    {
     "data": {
      "text/plain": [
       "30"
      ]
     },
     "execution_count": 20,
     "metadata": {},
     "output_type": "execute_result"
    }
   ],
   "source": [
    "from project import SiglipStyleModel, ColSentenceModel\n",
    "from bs4 import BeautifulSoup\n",
    "\n",
    "def preprocess_html(html: str, seperator: str = ' ') -> str:\n",
    "    soup = BeautifulSoup(html, 'lxml')\n",
    "    text = soup.get_text(separator=' ', strip=True)\n",
    "    return text.strip()\n",
    "\n",
    "def generate_embeddings(model: SiglipStyleModel | ColSentenceModel, data_dict: dict):\n",
    "    embeddings = {}\n",
    "    for url, html in tqdm(data_dict.items(), \"Embedding\"):\n",
    "        html\n",
    "        try:\n",
    "            embedding = model.embed(html)\n",
    "            embeddings[url] = embedding\n",
    "        except Exception as e:\n",
    "            print(f\"Error embedding {url}: {e}\")\n",
    "\n",
    "model = SiglipStyleModel.load(r\"project\\retriever\\model_uploads\\bmini_ColSent_b128_marco_v1.safetensors\")\n",
    "embeddings = generate_embeddings(model, docs)"
   ]
  },
  {
   "cell_type": "code",
   "execution_count": null,
   "metadata": {},
   "outputs": [],
   "source": [
    "def retrieve(query, index): pass"
   ]
  },
  {
   "attachments": {},
   "cell_type": "markdown",
   "metadata": {},
   "source": [
    "# 3. Search Result Presentation\n",
    "Once you have a result set, we want to return it to the searcher in two ways: a) in an interactive user interface. For this user interface, please think of **at least one innovation** that goes beyond the traditional 10-blue-links interface that most commercial search engines employ. b) as a text file used for batch performance evaluation. The text file should be formatted to produce one ranked result per line, listing the query number, rank position, document URL and relevance score as tab-separated entries. An example of the first three lines of such a text file looks like this:\n",
    "\n",
    "```\n",
    "1   1   https://www.tuebingen.de/en/3521.html   0.725\n",
    "1   2   https://www.komoot.com/guide/355570/castles-in-tuebingen-district   0.671\n",
    "1   3   https://www.unimuseum.uni-tuebingen.de/en/museum-at-hohentuebingen-castle   0.529\n",
    "...\n",
    "1   100 https://www.tuebingen.de/en/3536.html   0.178\n",
    "2   1   https://www.tuebingen.de/en/3773.html   0.956\n",
    "2   2   https://www.tuebingen.de/en/4456.html   0.797\n",
    "...\n",
    "```"
   ]
  },
  {
   "cell_type": "code",
   "execution_count": null,
   "metadata": {},
   "outputs": [],
   "source": [
    "#TODO: Implement an interactive user interface for part a of this exercise.\n",
    "\n",
    "#Produce a text file with 100 results per query in the format specified above.\n",
    "def batch(results):\n",
    "    #TODO: Implement me.    \n",
    "    pass"
   ]
  },
  {
   "attachments": {},
   "cell_type": "markdown",
   "metadata": {},
   "source": [
    "# 4. Performance Evaluation \n",
    "We will evaluate the performance of our search systems on the basis of five queries. Two of them are avilable to you now for engineering purposes:\n",
    "- `tübingen attractions`\n",
    "- `food and drinks`\n",
    "\n",
    "The remaining three queries will be given to you during our final session on July 22nd. Please be prepared to run your systems and produce a single result file for all five queries live in class. That means you should aim for processing times of no more than ~1 minute per query. We will ask you to send carsten.eickhoff@uni-tuebingen.de that file."
   ]
  },
  {
   "attachments": {},
   "cell_type": "markdown",
   "metadata": {},
   "source": [
    "# Grading\n",
    "Your final projects will be graded along the following criteria:\n",
    "- 25% Code correctness and quality (to be delivered on this sheet)\n",
    "- 25% Report (4 pages, PDF, explanation and justification of your design choices)\n",
    "- 25% System performance (based on how well your system performs on the 5 queries relative to the other teams in terms of nDCG)\n",
    "- 15% Creativity and innovativeness of your approach (in particular with respect to your search system #2 and user interface #3 innovations)\n",
    "- 10% Presentation quality and clarity"
   ]
  },
  {
   "attachments": {},
   "cell_type": "markdown",
   "metadata": {},
   "source": [
    "# Permissible libraries\n",
    "You can use any general-puprose ML and NLP libraries such as scipy, numpy, scikit-learn, spacy, nltk, but please stay away from dedicated web crawling or search engine toolkits such as scrapy, whoosh, lucene, terrier, galago and the likes. Pretrained models are fine to use as part of your system, as long as they have not been built/trained for retrieval. \n"
   ]
  }
 ],
 "metadata": {
  "kernelspec": {
   "display_name": "MSE",
   "language": "python",
   "name": "python3"
  },
  "language_info": {
   "codemirror_mode": {
    "name": "ipython",
    "version": 3
   },
   "file_extension": ".py",
   "mimetype": "text/x-python",
   "name": "python",
   "nbconvert_exporter": "python",
   "pygments_lexer": "ipython3",
   "version": "3.11.11"
  },
  "orig_nbformat": 4
 },
 "nbformat": 4,
 "nbformat_minor": 2
}
