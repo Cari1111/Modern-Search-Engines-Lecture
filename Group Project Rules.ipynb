{
 "cells": [
  {
   "attachments": {},
   "cell_type": "markdown",
   "metadata": {},
   "source": [
    "# INFO 4271 - Group Project\n",
    "\n",
    "Issued: June 17, 2025\n",
    "\n",
    "Due: July 21, 2025\n",
    "\n",
    "Please submit a link to your code repository (with a branch that does not change anymore after the submission deadline) and your 4-page report via email to carsten.eickhoff@uni-tuebingen.de by the due date. One submission per team.\n",
    "\n",
    "---"
   ]
  },
  {
   "attachments": {},
   "cell_type": "markdown",
   "metadata": {},
   "source": [
    "# 1. Web Crawling & Indexing\n",
    "Crawl the web to discover **English content related to Tübingen**. The crawled content should be stored locally. If interrupted, your crawler should be able to re-start and pick up the crawling process at any time."
   ]
  },
  {
   "cell_type": "code",
   "execution_count": 1,
   "metadata": {},
   "outputs": [],
   "source": [
    "%load_ext autoreload\n",
    "%autoreload 2\n",
    "\n",
    "from project import Crawler\n",
    "\n",
    "start_urls = [\n",
    "    # r\"https://duckduckgo.com/html/?q=tübingen%20english\",\n",
    "    \"https://en.wikipedia.org/wiki/T%C3%BCbingen\",\n",
    "    # 'https://www.mygermanyvacation.com/best-things-to-do-and-see-in-tubingen-germany/',\n",
    "    # 'https://www.britannica.com/place/Tubingen-Germany',\n",
    "    # 'https://www.germany.travel/en/cities-culture/tuebingen.html',\n",
    "    # 'https://visit-tubingen.co.uk/',\n",
    "]\n",
    "crawler = Crawler(urls=start_urls, max_workers=30, use_proxies=False)\n",
    "# crawler.run()"
   ]
  },
  {
   "cell_type": "code",
   "execution_count": 2,
   "metadata": {},
   "outputs": [],
   "source": [
    "page = crawler.download_url(start_urls[0])"
   ]
  },
  {
   "cell_type": "code",
   "execution_count": 3,
   "metadata": {},
   "outputs": [
    {
     "name": "stdout",
     "output_type": "stream",
     "text": [
      "https://upload.wikimedia.org\n",
      "https://en.wikipedia.org\n",
      "https://en.wikisource.org\n",
      "https://viaf.org\n",
      "http://www.tuebingen.de\n",
      "https://commons.wikimedia.org\n",
      "https://geohack.toolforge.org/geohack.php?pagename=T%C3%BCbingen&params=48_31_12_N_09_03_20_E_type:city(91763)_region:DE-BW\n",
      "https://en.wiktionary.org\n",
      "https://zh-yue.wikipedia.org\n",
      "https://search.worldcat.org\n",
      "https://www.dai-tuebingen.de\n",
      "https://be-tarask.wikipedia.org\n",
      "https://developer.wikimedia.org\n",
      "https://foundation.wikimedia.org\n",
      "https://en.wikivoyage.org\n",
      "https://en.m.wikipedia.org/w/index.php?title=T%C3%BCbingen&mobileaction=toggle_view_mobile\n",
      "https://www.geschichtswerkstatt-tuebingen.de/en/projects/memorial-synagogenplatz#:~:text=The%20T%C3%BCbingen%20Jews%20belonged%20to,,%20lawyers,%20doctors%20and%20bankers.\n",
      "https://globaltaxnews.ey.com\n",
      "https://employability.uq.edu.au\n",
      "https://musicbrainz.org\n",
      "https://stats.wikimedia.org/#/en.wikipedia.org\n",
      "https://simple.wikipedia.org\n",
      "https://en.climate-data.org\n",
      "https://www.nli.org.il\n",
      "https://wikimediafoundation.org\n",
      "https://donate.wikimedia.org/?wmf_source=donate&wmf_medium=sidebar&wmf_campaign=en.wikipedia.org&uselang=en\n"
     ]
    },
    {
     "name": "stderr",
     "output_type": "stream",
     "text": [
      "2025-07-09 23:11:00,442 INFO: Assumed non english: ['https://www.steiner-verlag.de/Die-Universitaet-Tuebingen-im-Nationalsozialismus/9783515099745', 'https://kopkatalogs.lv/F?func=direct&local_base=lnc10&doc_number=000322839&P_CON_LNG=ENG', 'https://www.dwd.de/DE/leistungen/klimadatendeutschland/mittelwerte/temp_9120_SV_html.html?view=nasPublication&nn=771428', 'https://ro.wikipedia.org/wiki/T%C3%BCbingen', 'https://war.wikipedia.org/wiki/T%C3%BCbingen', 'https://id.worldcat.org/fast/1205517', 'https://af.wikipedia.org/wiki/T%C3%BCbingen', 'https://lb.wikipedia.org/wiki/T%C3%BCbingen', 'https://uk.wikipedia.org/wiki/%D0%A2%D1%8E%D0%B1%D1%96%D0%BD%D0%B3%D0%B5%D0%BD', 'https://www.wikidata.org/wiki/Q3806#identifiers', 'https://eu.wikipedia.org/wiki/T%C3%BCbingen', 'https://stq.wikipedia.org/wiki/T%C3%BCbingen', 'https://sr.wikipedia.org/wiki/%D0%A2%D0%B8%D0%B1%D0%B8%D0%BD%D0%B3%D0%B5%D0%BD', 'https://ko.wikipedia.org/wiki/%ED%8A%80%EB%B9%99%EA%B2%90', 'https://tuebingen.de/', 'https://la.wikipedia.org/wiki/Tubinga', 'https://www.wikidata.org/wiki/Special:EntityPage/Q3806', 'https://tw.wikipedia.org/wiki/T%C3%BCbingen', 'https://nl.wikipedia.org/wiki/T%C3%BCbingen_(stad)', 'https://zea.wikipedia.org/wiki/T%C3%BCbingen', 'https://www.tuebingen-info.de/attraktion/franzoesisches-viertel-81cb9d9080', 'https://vo.wikipedia.org/wiki/T%C3%BCbingen', 'https://www.dwd.de/DE/leistungen/klimadatendeutschland/mittelwerte/nieder_9120_SV_html.html?view=nasPublication&nn=771428', 'https://lmo.wikipedia.org/wiki/T%C3%BCbinga', 'https://os.wikipedia.org/wiki/%D0%A2%D1%8E%D0%B1%D0%B8%D0%BD%D0%B3%D0%B5%D0%BD', 'https://br.wikipedia.org/wiki/T%C3%BCbingen', 'https://www.tuebingen.de/7.html', 'https://ca.wikipedia.org/wiki/T%C3%BCbingen', 'https://lt.wikipedia.org/wiki/Tiubingenas', 'https://azb.wikipedia.org/wiki/%D8%AA%D9%88%D8%A8%DB%8C%D9%86%D9%82%D9%86', 'https://oc.wikipedia.org/wiki/T%C3%BCbingen', 'https://lv.wikipedia.org/wiki/T%C4%ABbingene', 'https://ban.wikipedia.org/wiki/T%C3%BCbingen', 'https://kg.wikipedia.org/wiki/T%C3%BCbingen', 'https://d-nb.info/gnd/4061147-4', 'https://th.wikipedia.org/wiki/%E0%B8%97%E0%B8%B7%E0%B8%AD%E0%B8%9A%E0%B8%B4%E0%B8%87%E0%B9%80%E0%B8%87%E0%B8%B4%E0%B8%99', 'https://zh.wikipedia.org/wiki/%E8%92%82%E5%AE%BE%E6%A0%B9', 'https://tt.wikipedia.org/wiki/%D0%A2%D2%AF%D0%B1%D0%B8%D0%BD%D0%B3%D0%B5%D0%BD', 'https://catalogue.bnf.fr/ark:/12148/cb11940575z', 'https://szl.wikipedia.org/wiki/T%C3%BCbingen', 'https://bg.wikipedia.org/wiki/%D0%A2%D1%8E%D0%B1%D0%B8%D0%BD%D0%B3%D0%B5%D0%BD', 'https://nn.wikipedia.org/wiki/T%C3%BCbingen', 'http://karte.immobilien-kompass.de/wohnen/tuebingen#details', 'https://gl.wikipedia.org/wiki/Tubinga', 'https://sah.wikipedia.org/wiki/%D0%A2%D2%AF%D0%B1%D0%B8%D0%BD%D0%B3%D0%B5%D0%BD', 'https://io.wikipedia.org/wiki/T%C3%BCbingen', 'https://cv.wikipedia.org/wiki/%D0%A2%D1%8E%D0%B1%D0%B8%D0%BD%D0%B3%D0%B5%D0%BD', 'https://et.wikipedia.org/wiki/T%C3%BCbingen', 'https://sco.wikipedia.org/wiki/T%C3%BCbingen', 'https://eo.wikipedia.org/wiki/T%C3%BCbingen', 'https://als.wikipedia.org/wiki/T%C3%BCbingen', 'https://sv.wikipedia.org/wiki/T%C3%BCbingen', 'https://datos.bne.es/resource/XX461492', 'https://www.stuttgarter-zeitung.de/inhalt.gemeinderatswahl-2024-bw-tuebingen-wahlergebnis.429ec11c-f45a-4333-8bb5-ea4e79abe5c3.html', 'https://it.wikipedia.org/wiki/Tubinga', 'https://ky.wikipedia.org/wiki/%D0%A2%D2%AF%D0%B1%D0%B8%D0%BD%D0%B3%D0%B5%D0%BD', 'https://sk.wikipedia.org/wiki/T%C3%BCbingen_(mesto)', 'https://www.tuebingen.de/29645.html', 'https://id.loc.gov/authorities/n79065962', 'https://www.schule-bw.de/faecher-und-schularten/gesellschaftswissenschaftliche-und-philosophische-faecher/landeskunde-landesgeschichte/module/bp_2016/kursstufe-streben-nach-partizipation-und-wohlstand-in-der-brd/die-studentenbewegung-1968-69-in-tuebingen/ab1.pdf', 'https://hi.wikipedia.org/wiki/%E0%A4%9F%E0%A5%8D%E0%A4%AF%E0%A5%81%E0%A4%AC%E0%A4%BF%E0%A4%A8%E0%A5%8D%E0%A4%97%E0%A4%A8', 'https://id.wikipedia.org/wiki/T%C3%BCbingen', 'https://ku.wikipedia.org/wiki/T%C3%BCbingen', 'https://kk.wikipedia.org/wiki/%D0%A2%D1%8E%D0%B1%D0%B8%D0%BD%D0%B3%D0%B5%D0%BD', 'https://hsb.wikipedia.org/wiki/T%C3%BCbingen', 'https://mk.wikipedia.org/wiki/%D0%A2%D0%B8%D0%B1%D0%B8%D0%BD%D0%B3%D0%B5%D0%BD', 'https://www.tuebingen.de/', 'https://hr.wikipedia.org/wiki/T%C3%BCbingen', 'https://www.uni-tuebingen.de/', 'https://ce.wikipedia.org/wiki/%D0%A2%D1%83%D1%8C%D0%B1%D0%B8%D0%BD%D0%B3%D0%B5%D0%BD', 'https://www.wikimedia.org/', 'https://ja.wikipedia.org/wiki/%E3%83%86%E3%83%A5%E3%83%BC%E3%83%93%E3%83%B3%E3%82%B2%E3%83%B3', 'https://aleph.nkp.cz/F/?func=find-c&local_base=aut&ccl_term=ica=ge131192&CON_LNG=ENG', 'https://www.academia.edu/38109471/Jews_at_the_University_of_T%C3%BCbingen_under_National_Socialism', 'https://ang.wikipedia.org/wiki/Tybingen', 'https://sl.wikipedia.org/wiki/T%C3%BCbingen', 'https://wuu.wikipedia.org/wiki/%E8%92%82%E5%AE%BE%E6%A0%B9', 'https://data.bnf.fr/ark:/12148/cb11940575z', 'https://he.wikipedia.org/wiki/%D7%98%D7%99%D7%91%D7%99%D7%A0%D7%92%D7%9F', 'https://www.tuebingen.de/Dateien/broschuere_klimaschutzprogramm.pdf', 'https://lld.wikipedia.org/wiki/T%C3%BCbingen', 'https://yo.wikipedia.org/wiki/T%C3%BCbingen', 'https://be.wikipedia.org/wiki/%D0%A6%D1%8E%D0%B1%D1%96%D0%BD%D0%B3%D0%B5%D0%BD', 'https://is.wikipedia.org/wiki/T%C3%BCbingen', 'https://www.ns-akteure-in-tuebingen.de/bereiche/tuebingen-im-nationalsozialismus', 'https://www.wikidata.org/wiki/Q3806#P856', 'https://hy.wikipedia.org/wiki/%D4%B9%D5%B5%D5%B8%D6%82%D5%A2%D5%AB%D5%B6%D5%A3%D5%A5%D5%B6', 'https://www.spiegel.de/panorama/leute/boris-palmer-zur-verpackungssteuer-wir-setzen-auf-den-trieb-des-menschen-steuern-zu-sparen-a-d4306d4e-2e48-449f-ba35-4391a6593744', 'https://arz.wikipedia.org/wiki/%D8%AA%D9%88%D8%A8%D9%8A%D9%86%D8%AC%D9%8A%D9%86', 'https://ru.wikipedia.org/wiki/%D0%A2%D1%8E%D0%B1%D0%B8%D0%BD%D0%B3%D0%B5%D0%BD', 'https://de.wikipedia.org/wiki/Stocherkahnrennen', 'https://www.dwd.de/DE/leistungen/klimadatendeutschland/mittelwerte/sonne_9120_SV_html.html?view=nasPublication&nn=771428', 'https://sw.wikipedia.org/wiki/T%C3%BCbingen', 'https://uni-tuebingen.de/index.php?eID=tx_nawsecuredl&u=0&file=fileadmin/Uni_Tuebingen/Dezernate/Dezernat_II/studentenstatistiken/statistik-ws-20132014.pdf&t=1396474438&hash=170226b5ae438eb3c10a4601bea8314bc4209582', 'https://www.staatsanzeiger.de/wahl/ob-wahl-tuebingen-2022/', 'https://da.wikipedia.org/wiki/T%C3%BCbingen', 'https://web.archive.org/web/20241209073713/https://employability.uq.edu.au/host/university-t%C3%BCbingen#qt-uq_university_profile_tabs-foundation-tabs-1', 'https://cs.wikipedia.org/wiki/T%C3%BCbingen', 'https://ceb.wikipedia.org/wiki/T%C3%BCbingen_(munisipyo)', 'http://www.grundschule-wiwo.de', 'https://no.wikipedia.org/wiki/T%C3%BCbingen', 'https://sh.wikipedia.org/wiki/T%C3%BCbingen', 'https://qu.wikipedia.org/wiki/T%C3%BCbingen', 'https://fi.wikipedia.org/wiki/T%C3%BCbingen', 'https://pt.wikipedia.org/wiki/Tubinga', 'https://web.archive.org/web/20090417002710/http://www.tuebingen.de/en/1560_1587.html', 'https://vep.wikipedia.org/wiki/T%C3%BCbingen', 'https://an.wikipedia.org/wiki/Tubinga', 'https://cy.wikipedia.org/wiki/T%C3%BCbingen', 'https://www.mediawiki.org/', 'https://es.wikipedia.org/wiki/Tubinga', 'https://pl.wikipedia.org/wiki/Tybinga', 'https://www.tuebingen.de/12.html', 'https://hu.wikipedia.org/wiki/T%C3%BCbingen', 'https://ms.wikipedia.org/wiki/T%C3%BCbingen', 'https://fr.wikipedia.org/wiki/T%C3%BCbingen', 'https://el.wikipedia.org/wiki/%CE%A4%CF%8D%CE%BC%CF%80%CE%B9%CE%BD%CE%B3%CE%BA%CE%B5%CE%BD', 'https://www.statistik-bw.de/BevoelkGebiet/Bevoelk_I_D_A_vj_FSZS22.csv', 'https://www.tuepedia.de/wiki/Corps_Suevia_T%C3%BCbingen', 'https://www.tuebingen.de/75.html', 'https://ext.wikipedia.org/wiki/Tubinga', 'https://uz.wikipedia.org/wiki/T%C3%BCbingen', 'https://vi.wikipedia.org/wiki/T%C3%BCbingen', 'https://mg.wikipedia.org/wiki/T%C3%BCbingen', 'https://ar.wikipedia.org/wiki/%D8%AA%D9%88%D8%A8%D9%8A%D9%86%D8%BA%D9%86', 'https://vec.wikipedia.org/wiki/Tubinga', 'https://www.idref.fr/027343189', 'https://de.wikipedia.org/wiki/Corps_Suevia_T%C3%BCbingen#cite_note-3', 'https://zu.wikipedia.org/wiki/IT%C3%BCbingen', 'https://jv.wikipedia.org/wiki/T%C3%BCbingen', 'https://de.wikipedia.org/wiki/T%C3%BCbingen', 'https://fa.wikipedia.org/wiki/%D8%AA%D9%88%D8%A8%DB%8C%D9%86%DA%AF%D9%86', 'https://www.wikidata.org/wiki/Special:EntityPage/Q3806#sitelinks-wikipedia', 'https://tr.wikipedia.org/wiki/T%C3%BCbingen', 'https://hls-dhs-dss.ch/fr/articles/006607', 'https://dsb.wikipedia.org/wiki/T%C3%BCbingen', 'https://tum.wikipedia.org/wiki/T%C3%BCbingen', 'https://pnb.wikipedia.org/wiki/%D9%B9%D9%88%D8%A8%D9%86%DA%AF%D9%86']\n"
     ]
    },
    {
     "data": {
      "text/plain": [
       "573"
      ]
     },
     "execution_count": 3,
     "metadata": {},
     "output_type": "execute_result"
    }
   ],
   "source": [
    "urls = list(crawler.get_linked_urls(start_urls[0], page.text))\n",
    "crawler.urls_to_visit = set()\n",
    "crawler.add_urls_to_visit(urls)"
   ]
  },
  {
   "cell_type": "code",
   "execution_count": 5,
   "metadata": {},
   "outputs": [
    {
     "name": "stdout",
     "output_type": "stream",
     "text": [
      "1\n"
     ]
    },
    {
     "data": {
      "text/plain": [
       "{np.str_('https://www.germany.travel/en/cities-culture/tuebingen.html')}"
      ]
     },
     "execution_count": 5,
     "metadata": {},
     "output_type": "execute_result"
    }
   ],
   "source": [
    "filtered = {p for p, d in crawler.visited_pages.items() if d[\"keywords_found\"] and d[\"is_english\"]}\n",
    "print(len(filtered))\n",
    "filtered"
   ]
  },
  {
   "attachments": {},
   "cell_type": "markdown",
   "metadata": {},
   "source": [
    "# 2. Query Processing \n",
    "Process a textual query and return the 100 most relevant documents from your index. Please incorporate **at least one retrieval model innovation** that goes beyond BM25 or TF-IDF. Please allow for queries to be entered either individually in an interactive user interface (see also #3 below), or via a batch file containing multiple queries at once. The batch file (see `queries.txt` for an example) will be formatted to have one query per line, listing the query number, and query text as tab-separated entries. An example of the batch file for the first two queries looks like this:\n",
    "\n",
    "```\n",
    "1   tübingen attractions\n",
    "2   food and drinks\n",
    "```"
   ]
  },
  {
   "cell_type": "code",
   "execution_count": null,
   "metadata": {},
   "outputs": [],
   "source": [
    "#Retrieve documents relevnt to a query. You need (at least) two parameters:\n",
    "\t#query: The user's search query\n",
    "\t#index: The location of the local index storing the discovered documents.\n",
    "def retrieve(query, index):\n",
    "    #TODO: Implement me\n",
    "\tpass"
   ]
  },
  {
   "attachments": {},
   "cell_type": "markdown",
   "metadata": {},
   "source": [
    "# 3. Search Result Presentation\n",
    "Once you have a result set, we want to return it to the searcher in two ways: a) in an interactive user interface. For this user interface, please think of **at least one innovation** that goes beyond the traditional 10-blue-links interface that most commercial search engines employ. b) as a text file used for batch performance evaluation. The text file should be formatted to produce one ranked result per line, listing the query number, rank position, document URL and relevance score as tab-separated entries. An example of the first three lines of such a text file looks like this:\n",
    "\n",
    "```\n",
    "1   1   https://www.tuebingen.de/en/3521.html   0.725\n",
    "1   2   https://www.komoot.com/guide/355570/castles-in-tuebingen-district   0.671\n",
    "1   3   https://www.unimuseum.uni-tuebingen.de/en/museum-at-hohentuebingen-castle   0.529\n",
    "...\n",
    "1   100 https://www.tuebingen.de/en/3536.html   0.178\n",
    "2   1   https://www.tuebingen.de/en/3773.html   0.956\n",
    "2   2   https://www.tuebingen.de/en/4456.html   0.797\n",
    "...\n",
    "```"
   ]
  },
  {
   "cell_type": "code",
   "execution_count": null,
   "metadata": {},
   "outputs": [],
   "source": [
    "#TODO: Implement an interactive user interface for part a of this exercise.\n",
    "\n",
    "#Produce a text file with 100 results per query in the format specified above.\n",
    "def batch(results):\n",
    "    #TODO: Implement me.    \n",
    "    pass"
   ]
  },
  {
   "attachments": {},
   "cell_type": "markdown",
   "metadata": {},
   "source": [
    "# 4. Performance Evaluation \n",
    "We will evaluate the performance of our search systems on the basis of five queries. Two of them are avilable to you now for engineering purposes:\n",
    "- `tübingen attractions`\n",
    "- `food and drinks`\n",
    "\n",
    "The remaining three queries will be given to you during our final session on July 22nd. Please be prepared to run your systems and produce a single result file for all five queries live in class. That means you should aim for processing times of no more than ~1 minute per query. We will ask you to send carsten.eickhoff@uni-tuebingen.de that file."
   ]
  },
  {
   "attachments": {},
   "cell_type": "markdown",
   "metadata": {},
   "source": [
    "# Grading\n",
    "Your final projects will be graded along the following criteria:\n",
    "- 25% Code correctness and quality (to be delivered on this sheet)\n",
    "- 25% Report (4 pages, PDF, explanation and justification of your design choices)\n",
    "- 25% System performance (based on how well your system performs on the 5 queries relative to the other teams in terms of nDCG)\n",
    "- 15% Creativity and innovativeness of your approach (in particular with respect to your search system #2 and user interface #3 innovations)\n",
    "- 10% Presentation quality and clarity"
   ]
  },
  {
   "attachments": {},
   "cell_type": "markdown",
   "metadata": {},
   "source": [
    "# Permissible libraries\n",
    "You can use any general-puprose ML and NLP libraries such as scipy, numpy, scikit-learn, spacy, nltk, but please stay away from dedicated web crawling or search engine toolkits such as scrapy, whoosh, lucene, terrier, galago and the likes. Pretrained models are fine to use as part of your system, as long as they have not been built/trained for retrieval. \n"
   ]
  }
 ],
 "metadata": {
  "kernelspec": {
   "display_name": "MSE",
   "language": "python",
   "name": "python3"
  },
  "language_info": {
   "codemirror_mode": {
    "name": "ipython",
    "version": 3
   },
   "file_extension": ".py",
   "mimetype": "text/x-python",
   "name": "python",
   "nbconvert_exporter": "python",
   "pygments_lexer": "ipython3",
   "version": "3.11.11"
  },
  "orig_nbformat": 4
 },
 "nbformat": 4,
 "nbformat_minor": 2
}
