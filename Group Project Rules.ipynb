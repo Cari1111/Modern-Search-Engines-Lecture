{
 "cells": [
  {
   "attachments": {},
   "cell_type": "markdown",
   "metadata": {},
   "source": [
    "# INFO 4271 - Group Project\n",
    "\n",
    "Issued: June 17, 2025\n",
    "\n",
    "Due: July 21, 2025\n",
    "\n",
    "Please submit a link to your code repository (with a branch that does not change anymore after the submission deadline) and your 4-page report via email to carsten.eickhoff@uni-tuebingen.de by the due date. One submission per team.\n",
    "\n",
    "---"
   ]
  },
  {
   "attachments": {},
   "cell_type": "markdown",
   "metadata": {},
   "source": [
    "# 1. Web Crawling & Indexing\n",
    "Crawl the web to discover **English content related to Tübingen**. The crawled content should be stored locally. If interrupted, your crawler should be able to re-start and pick up the crawling process at any time."
   ]
  },
  {
   "cell_type": "code",
   "execution_count": null,
   "metadata": {},
   "outputs": [],
   "source": [
    "%load_ext autoreload\n",
    "%autoreload 2\n",
    "\n",
    "from project import Crawler\n",
    "import cProfile\n",
    "\n",
    "start_urls = []\n",
    "with open('seed.txt', 'r') as file:\n",
    "    for line in file: start_urls.append(line.strip())\n",
    "start_urls\n",
    "crawler = Crawler(start_urls, max_workers=200, use_proxies=False, auto_resume=True, path=\"data\")\n",
    "# snakeviz profiler.prof\n",
    "# cProfile.run('crawler.run()', 'data/profiler.prof')\n",
    "crawler.run()"
   ]
  },
  {
   "attachments": {},
   "cell_type": "markdown",
   "metadata": {},
   "source": [
    "# 2. Query Processing \n",
    "Process a textual query and return the 100 most relevant documents from your index. Please incorporate **at least one retrieval model innovation** that goes beyond BM25 or TF-IDF. Please allow for queries to be entered either individually in an interactive user interface (see also #3 below), or via a batch file containing multiple queries at once. The batch file (see `queries.txt` for an example) will be formatted to have one query per line, listing the query number, and query text as tab-separated entries. An example of the batch file for the first two queries looks like this:\n",
    "\n",
    "```\n",
    "1   tübingen attractions\n",
    "2   food and drinks\n",
    "```"
   ]
  },
  {
   "cell_type": "code",
   "execution_count": 2,
   "metadata": {},
   "outputs": [
    {
     "name": "stderr",
     "output_type": "stream",
     "text": [
      "Line: 100%|██████████| 5190/5190 [00:02<00:00, 2263.85it/s]\n"
     ]
    }
   ],
   "source": [
    "%load_ext autoreload\n",
    "%autoreload 2\n",
    "\n",
    "from project import HTML_FILE\n",
    "from tqdm import tqdm\n",
    "import os\n",
    "import json\n",
    "\n",
    "def load_data(path: str = \"data\"):\n",
    "    html_path = os.path.join(path, HTML_FILE)\n",
    "    if not os.path.exists(html_path):\n",
    "        raise FileNotFoundError(f\"HTML file not found at {html_path}\")\n",
    "\n",
    "    docs = {}\n",
    "    with open(html_path, 'r', encoding='utf-8') as f:\n",
    "        lines = f.readlines()\n",
    "        for line in tqdm(lines, \"Line\"): docs.update(json.loads(line.strip()))\n",
    "    return docs\n",
    "\n",
    "docs = load_data(path=\"data\")"
   ]
  },
  {
   "cell_type": "code",
   "execution_count": 10,
   "metadata": {},
   "outputs": [],
   "source": [
    "from bs4 import BeautifulSoup\n",
    "\n",
    "def preprocess_html(html: str, seperator: str = ' ') -> str:\n",
    "    soup = BeautifulSoup(html, 'html.parser')\n",
    "    text = soup.get_text(separator=seperator, strip=True)\n",
    "    return text.strip()"
   ]
  },
  {
   "cell_type": "code",
   "execution_count": 11,
   "metadata": {},
   "outputs": [
    {
     "name": "stderr",
     "output_type": "stream",
     "text": [
      "[nltk_data] Downloading package punkt_tab to /home/jan-\n",
      "[nltk_data]     malte/nltk_data...\n",
      "[nltk_data]   Package punkt_tab is already up-to-date!\n",
      "Embedding: 100%|██████████| 4956/4956 [05:20<00:00, 15.47it/s]\n"
     ]
    }
   ],
   "source": [
    "from project import SiglipStyleModel, ColSentenceModel, MentorModel\n",
    "import torch\n",
    "\n",
    "def generate_embeddings(model: SiglipStyleModel | ColSentenceModel | MentorModel, data_dict: dict, batch_size: int = 1) -> dict:\n",
    "    embedding_dict = {}\n",
    "    items = list(data_dict.items())\n",
    "    for i in tqdm(range(0, len(data_dict), batch_size), \"Embedding\"):\n",
    "        htmls = [preprocess_html(item[1], \". \")[:10000] for item in items[i:i + batch_size]]\n",
    "        try:\n",
    "            embeddings = model.embed(htmls).detach().cpu()\n",
    "            for j, embedding in enumerate(embeddings):\n",
    "                embedding_dict[embedding] = items[i + j][0]\n",
    "            torch.cuda.empty_cache()\n",
    "        except Exception as e:\n",
    "            print(f\"Error embedding: {e}\")\n",
    "    return embedding_dict\n",
    "\n",
    "model = ColSentenceModel().load(\"clip/ColSent/bert-mini/b64_lr1E-06_microsoft/ms_marcov2.1/model.safetensors\")\n",
    "# model = SiglipStyleModel().load(r\"project/retriever/model_uploads/bert-mini_b32_marco_v1.safetensors\")\n",
    "# model = ColSentenceModel()\n",
    "embeddings = generate_embeddings(model, docs)"
   ]
  },
  {
   "cell_type": "code",
   "execution_count": 12,
   "metadata": {},
   "outputs": [],
   "source": [
    "import torch\n",
    "\n",
    "def save_embeddings(embeddings: dict, path: str = \"data/embeddings.pkl\"):\n",
    "    torch.save(embeddings, path)\n",
    "\n",
    "save_embeddings(embeddings, path=\"data/embeddings.pkl\")"
   ]
  },
  {
   "cell_type": "code",
   "execution_count": 13,
   "metadata": {},
   "outputs": [],
   "source": [
    "import torch\n",
    "\n",
    "def load_embeddings(path: str = \"data/embeddings.pkl\") -> dict:\n",
    "    return torch.load(path)\n",
    "\n",
    "embedding_dict = load_embeddings(path=\"data/embeddings.pkl\")"
   ]
  },
  {
   "cell_type": "code",
   "execution_count": 18,
   "metadata": {},
   "outputs": [
    {
     "name": "stderr",
     "output_type": "stream",
     "text": [
      "[nltk_data] Downloading package punkt_tab to /home/jan-\n",
      "[nltk_data]     malte/nltk_data...\n",
      "[nltk_data]   Package punkt_tab is already up-to-date!\n",
      "Similarities: 100%|██████████| 4956/4956 [00:00<00:00, 6920.93it/s]\n"
     ]
    },
    {
     "data": {
      "text/plain": [
       "array([['https://www.govdirectory.org/germany/', '0.5746084'],\n",
       "       ['https://hafedlab.org/2025/07/', '0.5296754'],\n",
       "       ['https://hafedlab.org/2016/02/', '0.5268632'],\n",
       "       ['https://hafedlab.org/2020/10/', '0.525901'],\n",
       "       ['https://hafedlab.org/2015/02/', '0.5253572'],\n",
       "       ['https://www.lawfin.uni-frankfurt.de/fellows/', '0.52497584'],\n",
       "       ['https://www.lawfin.uni-frankfurt.de/fellows/?L=0', '0.52497584'],\n",
       "       ['https://hafedlab.org/2014/10/', '0.523549'],\n",
       "       ['https://hafedlab.org/2016/07/', '0.5227303'],\n",
       "       ['https://hafedlab.org/2015/04/', '0.52252406'],\n",
       "       ['https://hafedlab.org/2017/05/', '0.52189964'],\n",
       "       ['https://hafedlab.org/2016/05/', '0.52115184'],\n",
       "       ['https://hafedlab.org/2023/04/', '0.5206082'],\n",
       "       ['https://hafedlab.org/2017/11/', '0.51897144'],\n",
       "       ['https://hafedlab.org/2023/11/', '0.51872355'],\n",
       "       ['http://www.cs.ucla.edu/~palsberg/h-number.html', '0.51866806'],\n",
       "       ['https://hafedlab.org/2018/01/', '0.5178626'],\n",
       "       ['http://ellis.eu/news', '0.517739'],\n",
       "       ['https://hafedlab.org/2015/12/', '0.51733714'],\n",
       "       ['https://eml-unitue.de/people/alumni', '0.5166356'],\n",
       "       ['https://hafedlab.org/2019/07/', '0.5142746'],\n",
       "       ['https://stanford.edu/~gordonwz/', '0.5138852'],\n",
       "       ['https://hafedlab.org/2014/03/', '0.51376677'],\n",
       "       ['https://hafedlab.org/2017/03/', '0.51371086'],\n",
       "       ['https://mlso.hao.ucar.edu/mlso_data_calendar.php?calyear=1980&calinst=smm',\n",
       "        '0.5115832'],\n",
       "       ['https://hafedlab.org/2015/12/09/test/', '0.51140815'],\n",
       "       ['https://hafedlab.org/2025/06/', '0.5110899'],\n",
       "       ['https://ellis.eu/news/phd', '0.5099463'],\n",
       "       ['https://www.tuebinger-erbe-lauf.de/en/galerie', '0.50866836'],\n",
       "       ['http://lucasjanson.fas.harvard.edu', '0.5079027']], dtype='<U864')"
      ]
     },
     "execution_count": 18,
     "metadata": {},
     "output_type": "execute_result"
    }
   ],
   "source": [
    "import numpy as np\n",
    "DISCOUNT_FACTOR = 0.7\n",
    "def retrieve(model: SiglipStyleModel | ColSentenceModel | MentorModel, query: str, index: dict[torch.Tensor, str]):\n",
    "    domain_level_discount = []\n",
    "    for url in index.values():\n",
    "        domain_level = url.count(\"/\") - 2\n",
    "        if \"/en/\" in url:\n",
    "            domain_level =- 2 # ignore en tags in discount calc\n",
    "        domain_level_discount.append(DISCOUNT_FACTOR**domain_level)\n",
    "    np.array(domain_level_discount)\n",
    "\n",
    "    similarities = []\n",
    "    query_embedding = model.embed(query)\n",
    "    for embedding, _ in tqdm(list(index.items()), \"Similarities\"):\n",
    "        similarity = model.resolve(query_embedding, embedding.cuda(), max_sim=False).squeeze()\n",
    "        similarities.append(similarity.detach().cpu().numpy())\n",
    "    vals = np.array(list(zip(index.values(), similarities)))\n",
    "    vals_weighted = np.array(list(zip(index.values(), np.array(similarities)*domain_level_discount)))\n",
    "    return vals[np.argsort(similarities)[::-1]], vals_weighted[np.argsort(np.array(similarities)*domain_level_discount)[::-1]]\n",
    "\n",
    "model = ColSentenceModel().load(r\"clip/ColSent/bert-mini/b64_lr1E-06_microsoft/ms_marcov2.1/model.safetensors\")\n",
    "# model = SiglipStyleModel().load(r\"project/retriever/model_uploads/bert-mini_b32_marco_v1.safetensors\")\n",
    "res, res_weighted = retrieve(model, \"University\", embedding_dict)\n",
    "res[:30]"
   ]
  },
  {
   "cell_type": "code",
   "execution_count": 19,
   "metadata": {},
   "outputs": [
    {
     "data": {
      "text/plain": [
       "array([['https://www.tuebinger-erbe-lauf.de/en/galerie',\n",
       "        '1.03809870019251'],\n",
       "       ['http://learning-systems.org/en/sign_in', '1.0184964355157347'],\n",
       "       ['https://www.qschina.cn/en/universities/eberhard-karls-universitat-tubingen/postgrad',\n",
       "        '0.971558690071106'],\n",
       "       ['https://www.qschina.cn/en/universities/eberhard-karls-universitat-tubingen',\n",
       "        '0.966626162431678'],\n",
       "       ['http://dw.de/en/headlines/headlines-en', '0.9664471052130874'],\n",
       "       ['https://www.qschina.cn/en/universities/eberhard-karls-universitat-tubingen/undergrad',\n",
       "        '0.9591182275694244'],\n",
       "       ['https://www.uni-stuttgart.de/en/', '0.9586578120990675'],\n",
       "       ['https://www.uni-stuttgart.de/en/university/news/all/From-the-Lindau-Nobel-Laureate-Meeting-to-Stuttgart-Chemistry/',\n",
       "        '0.9522028723541571'],\n",
       "       ['https://www.qschina.cn/en/universities/eberhard-karls-universitat-tubingen/more',\n",
       "        '0.9497168112774285'],\n",
       "       ['https://gerit.org/en/institutiondetail/573469898',\n",
       "        '0.9285321649239988'],\n",
       "       ['https://www.uni-stuttgart.de/en/research/early-career-researchers/doctoral-degree-studies/stipends-support/',\n",
       "        '0.9206669671194894'],\n",
       "       ['https://www.uni-stuttgart.de/en/university/news/all/Grand-opening-of-the-Bionic-Intelligence-Center-Tuebingen-Stuttgart-BITS/',\n",
       "        '0.9117485917344386'],\n",
       "       ['https://www.uni-stuttgart.de/en/university/forall/podcast/',\n",
       "        '0.9115618710615198'],\n",
       "       ['https://www.hih-tuebingen.de/en/about-us/annual-reports-and-print-material',\n",
       "        '0.9102020336657155'],\n",
       "       ['https://www.tuebinger-erbe-lauf.de/en/ergebnisse',\n",
       "        '0.9099634934444817'],\n",
       "       ['https://gerit.org/en/institutiondetail/10276',\n",
       "        '0.9027132574392825'],\n",
       "       ['https://www.uni-stuttgart.de/en/press/experts/Prof.-Sabine-Ludwigs/',\n",
       "        '0.9000780022874171'],\n",
       "       ['http://www.wissenschaftscampus-tuebingen.de/en/iwm/alumni',\n",
       "        '0.8972714750134215'],\n",
       "       ['http://www.iwm-tuebingen.de/en/iwm/alumni',\n",
       "        '0.8972714750134215'],\n",
       "       ['https://www.uni-stuttgart.de/en/university/news/all/The-new-Center-for-Bionic-Intelligence-Tuebingen-Stuttgart/',\n",
       "        '0.8953337158475604'],\n",
       "       ['http://www.dzne.de/en/sitemap/', '0.893003417521107'],\n",
       "       ['https://gerit.org/en/institutiondetail/574879568',\n",
       "        '0.8881798204110594'],\n",
       "       ['https://www.qschina.cn/en/where-to-study/europe/germany/top-universities-germany-subject',\n",
       "        '0.8870944076654863'],\n",
       "       ['https://www.weltethos.org/en/news/', '0.8856787365310046'],\n",
       "       ['http://www.iwm-tuebingen.de/en/research/talents/doctoralcandidates',\n",
       "        '0.8838553817904725'],\n",
       "       ['https://www.pik-potsdam.de/en/institute/departments/complexity-science/seminars',\n",
       "        '0.882545965058463'],\n",
       "       ['https://www.machinelearningforscience.de/en/new-directions-in-science-communication-the-themed-channel-ai-and-sustainability/',\n",
       "        '0.8817157575062343'],\n",
       "       ['https://www.hih-tuebingen.de/en/news', '0.8794236548092901'],\n",
       "       ['https://gerit.org/en/institutiondetail/564765005',\n",
       "        '0.8759136102637466'],\n",
       "       ['https://gerit.org/en/institutiondetail/10293',\n",
       "        '0.8730497287244213']], dtype='<U864')"
      ]
     },
     "execution_count": 19,
     "metadata": {},
     "output_type": "execute_result"
    }
   ],
   "source": [
    "res_weighted[:30]"
   ]
  },
  {
   "attachments": {},
   "cell_type": "markdown",
   "metadata": {},
   "source": [
    "# 3. Search Result Presentation\n",
    "Once you have a result set, we want to return it to the searcher in two ways: a) in an interactive user interface. For this user interface, please think of **at least one innovation** that goes beyond the traditional 10-blue-links interface that most commercial search engines employ. b) as a text file used for batch performance evaluation. The text file should be formatted to produce one ranked result per line, listing the query number, rank position, document URL and relevance score as tab-separated entries. An example of the first three lines of such a text file looks like this:\n",
    "\n",
    "```\n",
    "1   1   https://www.tuebingen.de/en/3521.html   0.725\n",
    "1   2   https://www.komoot.com/guide/355570/castles-in-tuebingen-district   0.671\n",
    "1   3   https://www.unimuseum.uni-tuebingen.de/en/museum-at-hohentuebingen-castle   0.529\n",
    "...\n",
    "1   100 https://www.tuebingen.de/en/3536.html   0.178\n",
    "2   1   https://www.tuebingen.de/en/3773.html   0.956\n",
    "2   2   https://www.tuebingen.de/en/4456.html   0.797\n",
    "...\n",
    "```"
   ]
  },
  {
   "cell_type": "code",
   "execution_count": null,
   "metadata": {},
   "outputs": [],
   "source": [
    "#TODO: Implement an interactive user interface for part a of this exercise.\n",
    "\n",
    "#Produce a text file with 100 results per query in the format specified above.\n",
    "def batch(results):\n",
    "    #TODO: Implement me.    \n",
    "    pass"
   ]
  },
  {
   "attachments": {},
   "cell_type": "markdown",
   "metadata": {},
   "source": [
    "# 4. Performance Evaluation \n",
    "We will evaluate the performance of our search systems on the basis of five queries. Two of them are avilable to you now for engineering purposes:\n",
    "- `tübingen attractions`\n",
    "- `food and drinks`\n",
    "\n",
    "The remaining three queries will be given to you during our final session on July 22nd. Please be prepared to run your systems and produce a single result file for all five queries live in class. That means you should aim for processing times of no more than ~1 minute per query. We will ask you to send carsten.eickhoff@uni-tuebingen.de that file."
   ]
  },
  {
   "attachments": {},
   "cell_type": "markdown",
   "metadata": {},
   "source": [
    "# Grading\n",
    "Your final projects will be graded along the following criteria:\n",
    "- 25% Code correctness and quality (to be delivered on this sheet)\n",
    "- 25% Report (4 pages, PDF, explanation and justification of your design choices)\n",
    "- 25% System performance (based on how well your system performs on the 5 queries relative to the other teams in terms of nDCG)\n",
    "- 15% Creativity and innovativeness of your approach (in particular with respect to your search system #2 and user interface #3 innovations)\n",
    "- 10% Presentation quality and clarity"
   ]
  },
  {
   "attachments": {},
   "cell_type": "markdown",
   "metadata": {},
   "source": [
    "# Permissible libraries\n",
    "You can use any general-puprose ML and NLP libraries such as scipy, numpy, scikit-learn, spacy, nltk, but please stay away from dedicated web crawling or search engine toolkits such as scrapy, whoosh, lucene, terrier, galago and the likes. Pretrained models are fine to use as part of your system, as long as they have not been built/trained for retrieval. \n"
   ]
  }
 ],
 "metadata": {
  "kernelspec": {
   "display_name": "modern_search_engines",
   "language": "python",
   "name": "python3"
  },
  "language_info": {
   "codemirror_mode": {
    "name": "ipython",
    "version": 3
   },
   "file_extension": ".py",
   "mimetype": "text/x-python",
   "name": "python",
   "nbconvert_exporter": "python",
   "pygments_lexer": "ipython3",
   "version": "3.13.5"
  },
  "orig_nbformat": 4
 },
 "nbformat": 4,
 "nbformat_minor": 2
}
