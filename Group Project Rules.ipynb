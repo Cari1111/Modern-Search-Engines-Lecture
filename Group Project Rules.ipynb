{
 "cells": [
  {
   "attachments": {},
   "cell_type": "markdown",
   "metadata": {},
   "source": [
    "# INFO 4271 - Group Project\n",
    "\n",
    "Issued: June 17, 2025\n",
    "\n",
    "Due: July 21, 2025\n",
    "\n",
    "Please submit a link to your code repository (with a branch that does not change anymore after the submission deadline) and your 4-page report via email to carsten.eickhoff@uni-tuebingen.de by the due date. One submission per team.\n",
    "\n",
    "---"
   ]
  },
  {
   "attachments": {},
   "cell_type": "markdown",
   "metadata": {},
   "source": [
    "# 1. Web Crawling & Indexing\n",
    "Crawl the web to discover **English content related to Tübingen**. The crawled content should be stored locally. If interrupted, your crawler should be able to re-start and pick up the crawling process at any time."
   ]
  },
  {
   "cell_type": "code",
   "execution_count": null,
   "metadata": {},
   "outputs": [],
   "source": [
    "%load_ext autoreload\n",
    "%autoreload 2\n",
    "\n",
    "from project import Crawler\n",
    "import cProfile\n",
    "\n",
    "start_urls = []\n",
    "with open('seed.txt', 'r') as file:\n",
    "    for line in file: start_urls.append(line.strip())\n",
    "start_urls\n",
    "crawler = Crawler(start_urls, max_workers=200, use_proxies=False, auto_resume=True, path=\"data\")\n",
    "# snakeviz profiler.prof\n",
    "# cProfile.run('crawler.run()', 'data/profiler.prof')\n",
    "crawler.run()"
   ]
  },
  {
   "attachments": {},
   "cell_type": "markdown",
   "metadata": {},
   "source": [
    "# 2. Query Processing \n",
    "Process a textual query and return the 100 most relevant documents from your index. Please incorporate **at least one retrieval model innovation** that goes beyond BM25 or TF-IDF. Please allow for queries to be entered either individually in an interactive user interface (see also #3 below), or via a batch file containing multiple queries at once. The batch file (see `queries.txt` for an example) will be formatted to have one query per line, listing the query number, and query text as tab-separated entries. An example of the batch file for the first two queries looks like this:\n",
    "\n",
    "```\n",
    "1   tübingen attractions\n",
    "2   food and drinks\n",
    "```"
   ]
  },
  {
   "cell_type": "code",
   "execution_count": null,
   "metadata": {},
   "outputs": [],
   "source": [
    "%load_ext autoreload\n",
    "%autoreload 2\n",
    "\n",
    "from project import HTML_FILE\n",
    "from tqdm import tqdm\n",
    "import os\n",
    "import json\n",
    "\n",
    "def load_data(path: str = \"data\"):\n",
    "    html_path = os.path.join(path, HTML_FILE)\n",
    "    if not os.path.exists(html_path):\n",
    "        raise FileNotFoundError(f\"HTML file not found at {html_path}\")\n",
    "\n",
    "    docs = {}\n",
    "    with open(html_path, 'r', encoding='utf-8') as f:\n",
    "        lines = f.readlines()\n",
    "        for line in tqdm(lines, \"Line\"): docs.update(json.loads(line.strip()))\n",
    "    return docs\n",
    "\n",
    "docs = load_data(path=\"data\")"
   ]
  },
  {
   "cell_type": "code",
   "execution_count": null,
   "metadata": {},
   "outputs": [],
   "source": [
    "from bs4 import BeautifulSoup\n",
    "\n",
    "def preprocess_html(html: str, seperator: str = ' ') -> str:\n",
    "    soup = BeautifulSoup(html, 'html.parser')\n",
    "    text = soup.get_text(separator=seperator, strip=True)\n",
    "    return text.strip()"
   ]
  },
  {
   "cell_type": "code",
   "execution_count": null,
   "metadata": {},
   "outputs": [],
   "source": [
    "from project import SiglipStyleModel, ColSentenceModel\n",
    "import torch\n",
    "\n",
    "def generate_embeddings(model: SiglipStyleModel | ColSentenceModel, data_dict: dict, batch_size: int = 1) -> dict:\n",
    "    embedding_dict = {}\n",
    "    items = list(data_dict.items())\n",
    "    for i in tqdm(range(0, len(data_dict), batch_size), \"Embedding\"):\n",
    "        htmls = [preprocess_html(item[1], \". \")[:10000] for item in items[i:i + batch_size]]\n",
    "        try:\n",
    "            embeddings = model.embed(htmls).detach().cpu()\n",
    "            for j, embedding in enumerate(embeddings):\n",
    "                embedding_dict[embedding] = items[i + j][0]\n",
    "            torch.cuda.empty_cache()\n",
    "        except Exception as e:\n",
    "            print(f\"Error embedding: {e}\")\n",
    "    return embedding_dict\n",
    "\n",
    "model = ColSentenceModel().load(\"clip/ColSent/bert-mini/b64_lr1E-06_microsoft/ms_marcov2.1/model.safetensors\")\n",
    "# model = SiglipStyleModel().load(r\"project/retriever/model_uploads/bert-mini_b32_marco_v1.safetensors\")\n",
    "embeddings = generate_embeddings(model, docs)"
   ]
  },
  {
   "cell_type": "code",
   "execution_count": null,
   "metadata": {},
   "outputs": [],
   "source": [
    "import torch\n",
    "\n",
    "def save_embeddings(embeddings: dict, path: str = \"data/embeddings.pkl\"):\n",
    "    torch.save(embeddings, path)\n",
    "\n",
    "save_embeddings(embeddings, path=\"data/embeddings.pkl\")"
   ]
  },
  {
   "cell_type": "code",
   "execution_count": null,
   "metadata": {},
   "outputs": [],
   "source": [
    "import torch\n",
    "\n",
    "def load_embeddings(path: str = \"data/embeddings.pkl\") -> dict:\n",
    "    return torch.load(path)\n",
    "\n",
    "embedding_dict = load_embeddings(path=\"data/embeddings.pkl\")"
   ]
  },
  {
   "cell_type": "code",
   "execution_count": 27,
   "metadata": {},
   "outputs": [
    {
     "name": "stderr",
     "output_type": "stream",
     "text": [
      "[nltk_data] Downloading package punkt_tab to /home/jan-\n",
      "[nltk_data]     malte/nltk_data...\n",
      "[nltk_data]   Package punkt_tab is already up-to-date!\n",
      "Similarities: 100%|██████████| 4956/4956 [00:00<00:00, 6501.62it/s]\n"
     ]
    },
    {
     "data": {
      "text/plain": [
       "array([['https://gerit.org/en/institutiondetail/565090035', '0.9645827'],\n",
       "       ['https://gerit.org/en/institutiondetail/563006092', '0.96458256'],\n",
       "       ['https://gerit.org/en/institutiondetail/10276', '0.96458256'],\n",
       "       ['https://gerit.org/en/institutiondetail/574217697', '0.96458244'],\n",
       "       ['https://www.alextong.net/#about', '0.9617628'],\n",
       "       ['https://www.ias.informatik.tu-darmstadt.de/Team/JanPeters',\n",
       "        '0.9617628'],\n",
       "       ['https://www.alextong.net/', '0.9617628'],\n",
       "       ['https://bmi.inf.ethz.ch/people/person/gunnar-raetsch',\n",
       "        '0.9617627'],\n",
       "       ['http://www.cmap.polytechnique.fr/~aymeric.dieuleveut/',\n",
       "        '0.9617627'],\n",
       "       ['http://www.cs.princeton.edu/~smr/', '0.96176267'],\n",
       "       ['https://www.humboldt-foundation.de/en/connect/explore-the-humboldt-network?tx_solr%5Bpage%5D=4',\n",
       "        '0.9579891'],\n",
       "       ['https://www.humboldt-foundation.de/en/connect/explore-the-humboldt-network?tx_solr%5Bsort%5D=titledesc+desc',\n",
       "        '0.9579891'],\n",
       "       ['https://www.humboldt-foundation.de/en/connect/explore-the-humboldt-network?tx_solr%5Bpage%5D=2',\n",
       "        '0.9579891'],\n",
       "       ['https://www.humboldt-foundation.de/en/connect/explore-the-humboldt-network',\n",
       "        '0.9579891'],\n",
       "       ['https://kait0.github.io/', '0.9570748'],\n",
       "       ['https://simons.berkeley.edu/programs/machinelearning2017',\n",
       "        '0.95454'],\n",
       "       ['http://www.di.ens.fr/~fbach/', '0.9513736'],\n",
       "       ['http://www.di.ens.fr/~fbach', '0.9513736'],\n",
       "       ['https://ninatu.github.io/', '0.9456179'],\n",
       "       ['http://www.cs.cmu.edu/~rsalakhu/', '0.9430568'],\n",
       "       ['https://www.machinelearningforscience.de/en/how-to-put-on-an-exhibition/',\n",
       "        '0.94274974'],\n",
       "       ['https://gerit.org/en/institutiondetail/573469898', '0.9417782'],\n",
       "       ['http://www.cs.toronto.edu/~urtasun/', '0.9360484'],\n",
       "       ['https://bamos.github.io/', '0.9273713'],\n",
       "       ['http://spenhouet.com', '0.92737126'],\n",
       "       ['http://markboss.me/#posts', '0.9243111'],\n",
       "       ['https://markboss.me', '0.9243111'],\n",
       "       ['http://www.hao-li.com/Hao_Li/Hao_Li_-_about_me.html',\n",
       "        '0.9237008'],\n",
       "       ['http://www.cs.ubbcluj.ro/~csatol', '0.92354274'],\n",
       "       ['https://machineclimate.de/about/around-us', '0.9226176']],\n",
       "      dtype='<U864')"
      ]
     },
     "execution_count": 27,
     "metadata": {},
     "output_type": "execute_result"
    }
   ],
   "source": [
    "import numpy as np\n",
    "DISCOUNT_FACTOR = 0.7\n",
    "def retrieve(model: SiglipStyleModel | ColSentenceModel, query: str, index: dict[torch.Tensor, str]):\n",
    "    domain_level_discount = []\n",
    "    for url in index.values():\n",
    "        domain_level = url.count(\"/\") - 2\n",
    "        if \"/en/\" in url:\n",
    "            domain_level =- 2 # ignore en tags in discount calc\n",
    "        domain_level_discount.append(DISCOUNT_FACTOR**domain_level)\n",
    "    np.array(domain_level_discount)\n",
    "\n",
    "    similarities = []\n",
    "    query_embedding = model.embed(query)\n",
    "    for embedding, _ in tqdm(list(index.items()), \"Similarities\"):\n",
    "        similarity = model.resolve(query_embedding, embedding.cuda()).squeeze()\n",
    "        similarities.append(similarity.detach().cpu().numpy())\n",
    "    vals = np.array(list(zip(index.values(), similarities)))\n",
    "    vals_weighted = np.array(list(zip(index.values(), np.array(similarities)*domain_level_discount)))\n",
    "    return vals[np.argsort(similarities)[::-1]], vals_weighted[np.argsort(np.array(similarities)*domain_level_discount)[::-1]]\n",
    "\n",
    "model = ColSentenceModel().load(r\"clip/ColSent/bert-mini/b64_lr1E-06_microsoft/ms_marcov2.1/model.safetensors\")\n",
    "# model = SiglipStyleModel().load(r\"project/retriever/model_uploads/bert-mini_b32_marco_v1.safetensors\")\n",
    "res, res_weighted = retrieve(model, \"University Computer Science\", embedding_dict)\n",
    "res[:30]"
   ]
  },
  {
   "cell_type": "code",
   "execution_count": 28,
   "metadata": {},
   "outputs": [
    {
     "data": {
      "text/plain": [
       "array([['https://gerit.org/en/institutiondetail/565090035',\n",
       "        '1.9685360850120077'],\n",
       "       ['https://gerit.org/en/institutiondetail/10276',\n",
       "        '1.9685358417277434'],\n",
       "       ['https://gerit.org/en/institutiondetail/563006092',\n",
       "        '1.9685358417277434'],\n",
       "       ['https://gerit.org/en/institutiondetail/574217697',\n",
       "        '1.968535598443479'],\n",
       "       ['https://www.humboldt-foundation.de/en/connect/explore-the-humboldt-network?tx_solr%5Bpage%5D=2',\n",
       "        '1.9550797890643685'],\n",
       "       ['https://www.humboldt-foundation.de/en/connect/explore-the-humboldt-network?tx_solr%5Bsort%5D=titledesc+desc',\n",
       "        '1.9550797890643685'],\n",
       "       ['https://www.humboldt-foundation.de/en/connect/explore-the-humboldt-network',\n",
       "        '1.9550797890643685'],\n",
       "       ['https://www.humboldt-foundation.de/en/connect/explore-the-humboldt-network?tx_solr%5Bpage%5D=4',\n",
       "        '1.9550797890643685'],\n",
       "       ['https://www.machinelearningforscience.de/en/how-to-put-on-an-exhibition/',\n",
       "        '1.9239790585576273'],\n",
       "       ['https://gerit.org/en/institutiondetail/573469898',\n",
       "        '1.921996291802854'],\n",
       "       ['https://tuebingenresearchcampus.com/en/research-in-tuebingen/research',\n",
       "        '1.8828924821347608'],\n",
       "       ['https://www.aalto.fi/en/news/peter-sarlins-substantial-donation-to-strengthen-ai-research-in-finland-13-new-professorships-in',\n",
       "        '1.8572422922873983'],\n",
       "       ['https://gerit.org/en/institutiondetail/572526075',\n",
       "        '1.837506221265209'],\n",
       "       ['https://gerit.org/en/institutiondetail/570307661',\n",
       "        '1.8375060996230768'],\n",
       "       ['https://gerit.org/en/institutiondetail/571728882',\n",
       "        '1.8375060996230768'],\n",
       "       ['https://bernstein-network.de/en/teaching-and-research/study-and-training/internships/',\n",
       "        '1.7941640347850567'],\n",
       "       ['https://gerit.org/en/institutiondetail/564765005',\n",
       "        '1.7892501792129205'],\n",
       "       ['https://gerit.org/en/institutiondetail/568721103',\n",
       "        '1.789249814286524'],\n",
       "       ['https://www.medizininformatik-initiative.de/en/consortia/medical-informatics-teaching-and-further-education',\n",
       "        '1.7816424369812012'],\n",
       "       ['https://gerit.org/en/institutiondetail/10125',\n",
       "        '1.7629560159177198'],\n",
       "       ['https://gerit.org/en/institutiondetail/10293',\n",
       "        '1.7456280941865883'],\n",
       "       ['https://mwk.baden-wuerttemberg.de/en/higher-education',\n",
       "        '1.7120490268785127'],\n",
       "       ['https://www.machinelearningforscience.de/en/debate/',\n",
       "        '1.6966046119222835'],\n",
       "       ['https://www.kloster-maulbronn.de/en/interesting-amusing/collections/water-management',\n",
       "        '1.6936173244398467'],\n",
       "       ['https://www.schloss-favorite-rastatt.de/en/interesting-amusing/collections/glassware-for-the-princess',\n",
       "        '1.6936173244398467'],\n",
       "       ['https://www.kloster-maulbronn.de/en/interesting-amusing/collections/the-maulbronn-2-euro-coin',\n",
       "        '1.6936170811555824'],\n",
       "       ['https://www.neues-schloss-meersburg.de/en/interesting-amusing/milestones',\n",
       "        '1.6936170811555824'],\n",
       "       ['http://www.botanischer-garten-karlsruhe.de/en/visitor-experience/the-gardens',\n",
       "        '1.6936170811555824'],\n",
       "       ['https://www.botanischer-garten-karlsruhe.de/en/interesting-amusing/anecdotes/blooming-agaves',\n",
       "        '1.6936170811555824'],\n",
       "       ['https://www.kloster-maulbronn.de/en/interesting-amusing/collections/the-eppingen-lines',\n",
       "        '1.6936170811555824']], dtype='<U864')"
      ]
     },
     "execution_count": 28,
     "metadata": {},
     "output_type": "execute_result"
    }
   ],
   "source": [
    "res_weighted[:30]"
   ]
  },
  {
   "attachments": {},
   "cell_type": "markdown",
   "metadata": {},
   "source": [
    "# 3. Search Result Presentation\n",
    "Once you have a result set, we want to return it to the searcher in two ways: a) in an interactive user interface. For this user interface, please think of **at least one innovation** that goes beyond the traditional 10-blue-links interface that most commercial search engines employ. b) as a text file used for batch performance evaluation. The text file should be formatted to produce one ranked result per line, listing the query number, rank position, document URL and relevance score as tab-separated entries. An example of the first three lines of such a text file looks like this:\n",
    "\n",
    "```\n",
    "1   1   https://www.tuebingen.de/en/3521.html   0.725\n",
    "1   2   https://www.komoot.com/guide/355570/castles-in-tuebingen-district   0.671\n",
    "1   3   https://www.unimuseum.uni-tuebingen.de/en/museum-at-hohentuebingen-castle   0.529\n",
    "...\n",
    "1   100 https://www.tuebingen.de/en/3536.html   0.178\n",
    "2   1   https://www.tuebingen.de/en/3773.html   0.956\n",
    "2   2   https://www.tuebingen.de/en/4456.html   0.797\n",
    "...\n",
    "```"
   ]
  },
  {
   "cell_type": "code",
   "execution_count": null,
   "metadata": {},
   "outputs": [],
   "source": [
    "#TODO: Implement an interactive user interface for part a of this exercise.\n",
    "\n",
    "#Produce a text file with 100 results per query in the format specified above.\n",
    "def batch(results):\n",
    "    #TODO: Implement me.    \n",
    "    pass"
   ]
  },
  {
   "attachments": {},
   "cell_type": "markdown",
   "metadata": {},
   "source": [
    "# 4. Performance Evaluation \n",
    "We will evaluate the performance of our search systems on the basis of five queries. Two of them are avilable to you now for engineering purposes:\n",
    "- `tübingen attractions`\n",
    "- `food and drinks`\n",
    "\n",
    "The remaining three queries will be given to you during our final session on July 22nd. Please be prepared to run your systems and produce a single result file for all five queries live in class. That means you should aim for processing times of no more than ~1 minute per query. We will ask you to send carsten.eickhoff@uni-tuebingen.de that file."
   ]
  },
  {
   "attachments": {},
   "cell_type": "markdown",
   "metadata": {},
   "source": [
    "# Grading\n",
    "Your final projects will be graded along the following criteria:\n",
    "- 25% Code correctness and quality (to be delivered on this sheet)\n",
    "- 25% Report (4 pages, PDF, explanation and justification of your design choices)\n",
    "- 25% System performance (based on how well your system performs on the 5 queries relative to the other teams in terms of nDCG)\n",
    "- 15% Creativity and innovativeness of your approach (in particular with respect to your search system #2 and user interface #3 innovations)\n",
    "- 10% Presentation quality and clarity"
   ]
  },
  {
   "attachments": {},
   "cell_type": "markdown",
   "metadata": {},
   "source": [
    "# Permissible libraries\n",
    "You can use any general-puprose ML and NLP libraries such as scipy, numpy, scikit-learn, spacy, nltk, but please stay away from dedicated web crawling or search engine toolkits such as scrapy, whoosh, lucene, terrier, galago and the likes. Pretrained models are fine to use as part of your system, as long as they have not been built/trained for retrieval. \n"
   ]
  }
 ],
 "metadata": {
  "kernelspec": {
   "display_name": "modern_search_engines",
   "language": "python",
   "name": "python3"
  },
  "language_info": {
   "codemirror_mode": {
    "name": "ipython",
    "version": 3
   },
   "file_extension": ".py",
   "mimetype": "text/x-python",
   "name": "python",
   "nbconvert_exporter": "python",
   "pygments_lexer": "ipython3",
   "version": "3.13.5"
  },
  "orig_nbformat": 4
 },
 "nbformat": 4,
 "nbformat_minor": 2
}
