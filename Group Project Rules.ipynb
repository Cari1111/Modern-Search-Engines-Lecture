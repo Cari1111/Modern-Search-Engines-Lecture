{
 "cells": [
  {
   "attachments": {},
   "cell_type": "markdown",
   "metadata": {},
   "source": [
    "# INFO 4271 - Group Project\n",
    "\n",
    "Issued: June 17, 2025\n",
    "\n",
    "Due: July 21, 2025\n",
    "\n",
    "Please submit a link to your code repository (with a branch that does not change anymore after the submission deadline) and your 4-page report via email to carsten.eickhoff@uni-tuebingen.de by the due date. One submission per team.\n",
    "\n",
    "---"
   ]
  },
  {
   "attachments": {},
   "cell_type": "markdown",
   "metadata": {},
   "source": [
    "# 1. Web Crawling & Indexing\n",
    "Crawl the web to discover **English content related to Tübingen**. The crawled content should be stored locally. If interrupted, your crawler should be able to re-start and pick up the crawling process at any time."
   ]
  },
  {
   "cell_type": "code",
   "execution_count": null,
   "metadata": {},
   "outputs": [],
   "source": [
    "%load_ext autoreload\n",
    "%autoreload 2\n",
    "\n",
    "from project import Crawler\n",
    "import cProfile\n",
    "\n",
    "start_urls = []\n",
    "with open('seed.txt', 'r') as file:\n",
    "    for line in file: start_urls.append(line.strip())\n",
    "start_urls\n",
    "crawler = Crawler(start_urls, max_workers=200, use_proxies=False, auto_resume=True, path=\"data\")\n",
    "# snakeviz profiler.prof\n",
    "# cProfile.run('crawler.run()', 'data/profiler.prof')\n",
    "crawler.run()"
   ]
  },
  {
   "attachments": {},
   "cell_type": "markdown",
   "metadata": {},
   "source": [
    "# 2. Query Processing \n",
    "Process a textual query and return the 100 most relevant documents from your index. Please incorporate **at least one retrieval model innovation** that goes beyond BM25 or TF-IDF. Please allow for queries to be entered either individually in an interactive user interface (see also #3 below), or via a batch file containing multiple queries at once. The batch file (see `queries.txt` for an example) will be formatted to have one query per line, listing the query number, and query text as tab-separated entries. An example of the batch file for the first two queries looks like this:\n",
    "\n",
    "```\n",
    "1   tübingen attractions\n",
    "2   food and drinks\n",
    "```"
   ]
  },
  {
   "cell_type": "code",
   "execution_count": 6,
   "metadata": {},
   "outputs": [
    {
     "name": "stdout",
     "output_type": "stream",
     "text": [
      "The autoreload extension is already loaded. To reload it, use:\n",
      "  %reload_ext autoreload\n"
     ]
    },
    {
     "name": "stderr",
     "output_type": "stream",
     "text": [
      "Line: 100%|██████████| 5200/5200 [00:04<00:00, 1252.07it/s]\n"
     ]
    }
   ],
   "source": [
    "%load_ext autoreload\n",
    "%autoreload 2\n",
    "\n",
    "HTML_FILE = \"indexed_html.jsonl\"\n",
    "from tqdm import tqdm\n",
    "import os\n",
    "import json\n",
    "\n",
    "def load_data(path: str = \"data\"):\n",
    "    html_path = os.path.join(path, HTML_FILE)\n",
    "    if not os.path.exists(html_path):\n",
    "        raise FileNotFoundError(f\"HTML file not found at {html_path}\")\n",
    "\n",
    "    docs = {}\n",
    "    with open(html_path, 'r', encoding='utf-8') as f:\n",
    "        lines = f.readlines()[:10000]\n",
    "        for line in tqdm(lines, \"Line\"): docs.update(json.loads(line.strip()))\n",
    "    return docs\n",
    "\n",
    "docs = load_data(path=\"data\")"
   ]
  },
  {
   "cell_type": "code",
   "execution_count": 8,
   "metadata": {},
   "outputs": [],
   "source": [
    "from bs4 import BeautifulSoup\n",
    "\n",
    "def preprocess_html(html: str, seperator: str = ' ') -> str:\n",
    "    soup = BeautifulSoup(html,  \"html.parser\")\n",
    "    text = soup.get_text(separator=seperator, strip=True)\n",
    "    return text.strip()"
   ]
  },
  {
   "cell_type": "code",
   "execution_count": null,
   "metadata": {},
   "outputs": [],
   "source": [
    "import torch\n",
    "from project import SiglipStyleModel, ColSentenceModel\n",
    "\n",
    "def generate_embeddings(model: SiglipStyleModel | ColSentenceModel, data_dict: dict, batch_size: int = 1, embed_to_url_result=True) -> dict:\n",
    "    embedding_dict = {}\n",
    "    items = list(data_dict.items())\n",
    "    for i in tqdm(range(0, len(data_dict), batch_size), \"Embedding\"):\n",
    "        htmls = [preprocess_html(item[1], \". \")[:3000] for item in items[i:i + batch_size]]\n",
    "        try:\n",
    "            embeddings = model.embed(htmls).detach().cpu()\n",
    "            for j, embedding in enumerate(embeddings):\n",
    "                if embed_to_url_result:\n",
    "                    embedding_dict[embedding] = items[i + j][0]\n",
    "                else:\n",
    "                    embedding_dict[items[i + j][0]] = embedding\n",
    "            torch.cuda.empty_cache()\n",
    "        except Exception as e:\n",
    "            print(f\"Error embedding: {e}\")\n",
    "    return embedding_dict\n",
    "\n",
    "def save_embeddings(embeddings: dict, path: str = \"data/embeddings.pkl\"):\n",
    "    torch.save(embeddings, path)"
   ]
  },
  {
   "cell_type": "code",
   "execution_count": null,
   "metadata": {},
   "outputs": [
    {
     "name": "stderr",
     "output_type": "stream",
     "text": [
      "[nltk_data] Downloading package punkt_tab to\n",
      "[nltk_data]     C:\\Users\\csms\\AppData\\Roaming\\nltk_data...\n",
      "[nltk_data]   Package punkt_tab is already up-to-date!\n",
      "Embedding: 100%|██████████| 4956/4956 [08:33<00:00,  9.65it/s]  \n"
     ]
    }
   ],
   "source": [
    "# Create sentence wise embeddings\n",
    "\n",
    "model = ColSentenceModel().load(r\"project\\retriever\\model_uploads\\bmini_ColSent_b128_marco_v1.safetensors\")\n",
    "embeddings = generate_embeddings(model, docs, embed_to_url_result=True)\n",
    "save_embeddings(embeddings, path=\"data/embeddings.pkl\")"
   ]
  },
  {
   "cell_type": "code",
   "execution_count": null,
   "metadata": {},
   "outputs": [
    {
     "name": "stderr",
     "output_type": "stream",
     "text": [
      "Embedding: 100%|██████████| 4956/4956 [06:20<00:00, 13.03it/s]  \n"
     ]
    }
   ],
   "source": [
    "# Create document wise embeddings for clustering\n",
    "\n",
    "model = SiglipStyleModel().load(\"project/retriever/model_uploads/bmini_Siglip_b128_marco_v1.safetensors\")\n",
    "suppl_embeddings = generate_embeddings(model, docs, embed_to_url_result=False)\n",
    "save_embeddings(suppl_embeddings, path=\"data/clustering_embeddings.pkl\")"
   ]
  },
  {
   "cell_type": "code",
   "execution_count": null,
   "metadata": {},
   "outputs": [],
   "source": [
    "import torch\n",
    "\n",
    "def load_embeddings(path: str = \"data/embeddings.pkl\") -> dict:\n",
    "    return torch.load(path)\n",
    "\n",
    "embedding_dict = load_embeddings(path=\"data/embeddings.pkl\")"
   ]
  },
  {
   "cell_type": "code",
   "execution_count": null,
   "metadata": {},
   "outputs": [],
   "source": [
    "import numpy as np\n",
    "\n",
    "def retrieve(model: SiglipStyleModel | ColSentenceModel, query: str, index: dict[torch.Tensor, str]):\n",
    "    similarities = []\n",
    "    query_embedding = model.embed(query)\n",
    "    for embedding, _ in tqdm(list(index.items()), \"Similarities\"):\n",
    "        similarity = model.resolve(query_embedding, embedding.cuda()).squeeze()\n",
    "        similarities.append(similarity.detach().cpu())\n",
    "    vals = np.array(list(zip(index.values(), similarities)))\n",
    "    return vals[np.argsort(similarities)[::-1]]\n",
    "\n",
    "model = ColSentenceModel().load(r\"project\\retriever\\model_uploads\\bmini_ColSent_b128_marco_v1.safetensors\")\n",
    "# model = SiglipStyleModel().load(r\"project/retriever/model_uploads/bert-mini_b32_marco_v1.safetensors\")\n",
    "res = retrieve(model, \"food and drinks\", embedding_dict)\n",
    "res[:30]"
   ]
  },
  {
   "attachments": {},
   "cell_type": "markdown",
   "metadata": {},
   "source": [
    "# 3. Search Result Presentation\n",
    "Once you have a result set, we want to return it to the searcher in two ways: a) in an interactive user interface. For this user interface, please think of **at least one innovation** that goes beyond the traditional 10-blue-links interface that most commercial search engines employ. b) as a text file used for batch performance evaluation. The text file should be formatted to produce one ranked result per line, listing the query number, rank position, document URL and relevance score as tab-separated entries. An example of the first three lines of such a text file looks like this:\n",
    "\n",
    "```\n",
    "1   1   https://www.tuebingen.de/en/3521.html   0.725\n",
    "1   2   https://www.komoot.com/guide/355570/castles-in-tuebingen-district   0.671\n",
    "1   3   https://www.unimuseum.uni-tuebingen.de/en/museum-at-hohentuebingen-castle   0.529\n",
    "...\n",
    "1   100 https://www.tuebingen.de/en/3536.html   0.178\n",
    "2   1   https://www.tuebingen.de/en/3773.html   0.956\n",
    "2   2   https://www.tuebingen.de/en/4456.html   0.797\n",
    "...\n",
    "```"
   ]
  },
  {
   "cell_type": "code",
   "execution_count": 13,
   "metadata": {},
   "outputs": [
    {
     "name": "stderr",
     "output_type": "stream",
     "text": [
      "2025-07-21 14:03:21,123 INFO: Processed indexed_docs.jsonl, Loaded 4956 documents.\n",
      "[nltk_data] Downloading package stopwords to\n",
      "[nltk_data]     C:\\Users\\csms\\AppData\\Roaming\\nltk_data...\n",
      "[nltk_data]   Package stopwords is already up-to-date!\n",
      "[nltk_data] Downloading package punkt_tab to\n",
      "[nltk_data]     C:\\Users\\csms\\AppData\\Roaming\\nltk_data...\n",
      "[nltk_data]   Package punkt_tab is already up-to-date!\n"
     ]
    }
   ],
   "source": [
    "from project import SearchEngine\n",
    "\n",
    "search_engine = SearchEngine()"
   ]
  },
  {
   "cell_type": "code",
   "execution_count": 17,
   "metadata": {},
   "outputs": [
    {
     "name": "stderr",
     "output_type": "stream",
     "text": [
      "Similarities: 100%|██████████| 4956/4956 [00:03<00:00, 1441.54it/s]\n",
      "2025-07-21 14:06:07,837 INFO: Searched for food drinks tuebingen (original: food and drinks)\n"
     ]
    },
    {
     "data": {
      "text/plain": [
       "([[Document(url='https://uni-tuebingen.de/en/1396', title='Auf der Morgenstelle 14 | University of Tübingen', author='', description='', site_type='', content_hash='dfac4e3108c91a496b6a154d2af54dae', html='', word_count=1349, sentence_count=3, paragraph_count=6, canonical_url='https://uni-tuebingen.de/en/1396', parent_url='https://uni-tuebingen.de/en/221946', domain='uni-tuebingen.de', subdomain='uni-tuebingen', path_depth=2, has_ssl=True, crawl_frequency=2, relevant_keywords=('t\\\\S+bingen', 'eberhard karl', 'palmer', 'lustnau', 's\\\\S+dstadt', 'neckarinsel', 'stocherkahn', 'bebenhausen'), relevance_score=2, last_crawl_timestamp=1752936414.4414868, soup=None),\n",
       "   Document(url='https://uni-tuebingen.de/en/1056', title='German courses | University of Tübingen', author='', description='', site_type='', content_hash='e5bd0087a3f9c9763af28bfe6552ddd0', html='', word_count=1360, sentence_count=6, paragraph_count=12, canonical_url='https://uni-tuebingen.de/en/1056', parent_url='https://employability.uq.edu.au/host/university-t%C3%BCbingen', domain='uni-tuebingen.de', subdomain='uni-tuebingen', path_depth=2, has_ssl=True, crawl_frequency=2, relevant_keywords=('t\\\\S+bingen', 'eberhard karl', 'palmer', 'lustnau', 's\\\\S+dstadt', 'neckarinsel', 'stocherkahn', 'bebenhausen'), relevance_score=2, last_crawl_timestamp=1752936637.458112, soup=None),\n",
       "   Document(url='https://uni-tuebingen.de/en/', title='Home | University of Tübingen', author='', description='', site_type='', content_hash='a567f221b28165ce4e1b012d92dbbafa', html='', word_count=1981, sentence_count=19, paragraph_count=11, canonical_url='https://uni-tuebingen.de/en/', parent_url='https://uni-tuebingen.de/en/221946', domain='uni-tuebingen.de', subdomain='uni-tuebingen', path_depth=1, has_ssl=True, crawl_frequency=2, relevant_keywords=('t\\\\S+bingen', 'eberhard karl', 'palmer', 'lustnau', 's\\\\S+dstadt', 'neckarinsel', 'stocherkahn', 'bebenhausen'), relevance_score=2, last_crawl_timestamp=1752936342.9278514, soup=None),\n",
       "   Document(url='https://uni-tuebingen.de/en/1088', title='Tandem Learning | University of Tübingen', author='', description='', site_type='', content_hash='ad09570b076bf1fb4fc12945bf919bc2', html='', word_count=2236, sentence_count=43, paragraph_count=22, canonical_url='https://uni-tuebingen.de/en/1088', parent_url='https://uni-tuebingen.de/en/1056', domain='uni-tuebingen.de', subdomain='uni-tuebingen', path_depth=2, has_ssl=True, crawl_frequency=2, relevant_keywords=('t\\\\S+bingen', 'eberhard karl', 'palmer', 'lustnau', 's\\\\S+dstadt', 'neckarinsel', 'stocherkahn', 'bebenhausen'), relevance_score=2, last_crawl_timestamp=1752943117.5771391, soup=None),\n",
       "   Document(url='http://www.uni-tuebingen.de/en/', title='Home | University of Tübingen', author='', description='', site_type='', content_hash='a567f221b28165ce4e1b012d92dbbafa', html='', word_count=1981, sentence_count=19, paragraph_count=11, canonical_url='http://www.uni-tuebingen.de/en/', parent_url='http://www.uni-tuebingen.de/en/', domain='www.uni-tuebingen.de', subdomain='www', path_depth=1, has_ssl=False, crawl_frequency=2, relevant_keywords=('t\\\\S+bingen', 'eberhard karl', 'palmer', 'lustnau', 's\\\\S+dstadt', 'neckarinsel', 'stocherkahn', 'bebenhausen'), relevance_score=2, last_crawl_timestamp=1752943445.6400912, soup=None),\n",
       "   Document(url='https://uni-tuebingen.de/en/1091', title='pre-semester courses | University of Tübingen', author='', description='', site_type='', content_hash='85e128b4b54b2bb8dbae9851fb319b09', html='', word_count=1399, sentence_count=3, paragraph_count=9, canonical_url='https://uni-tuebingen.de/en/1091', parent_url='https://uni-tuebingen.de/en/1056', domain='uni-tuebingen.de', subdomain='uni-tuebingen', path_depth=2, has_ssl=True, crawl_frequency=2, relevant_keywords=('t\\\\S+bingen', 'eberhard karl', 'palmer', 'lustnau', 's\\\\S+dstadt', 'neckarinsel', 'stocherkahn', 'bebenhausen'), relevance_score=2, last_crawl_timestamp=1752942949.1480405, soup=None),\n",
       "   Document(url='https://tuebingen.ai/wiki/communication', title='Phone Providers - Tübingen AI Center', author='', description='', site_type='', content_hash='4bccac0da51a88ba8de13f3079a1f573', html='', word_count=306, sentence_count=12, paragraph_count=8, canonical_url='https://tuebingen.ai/wiki/communication', parent_url='https://tuebingen.ai/wiki/getting-started', domain='tuebingen.ai', subdomain='tuebingen', path_depth=2, has_ssl=True, crawl_frequency=2, relevant_keywords=('t\\\\S+bingen', 'eberhard karl', 'palmer', 'lustnau', 's\\\\S+dstadt', 'neckarinsel', 'stocherkahn', 'bebenhausen'), relevance_score=2, last_crawl_timestamp=1752944156.1291716, soup=None),\n",
       "   Document(url='https://tuebingen.ai/wiki/getting-started', title='Getting started - Tübingen AI Center', author='', description='', site_type='', content_hash='46b979d6b012d53dcbe653d6b1c7576e', html='', word_count=474, sentence_count=16, paragraph_count=11, canonical_url='https://tuebingen.ai/wiki/getting-started', parent_url='https://tuebingen.ai', domain='tuebingen.ai', subdomain='tuebingen', path_depth=2, has_ssl=True, crawl_frequency=2, relevant_keywords=('t\\\\S+bingen', 'eberhard karl', 'palmer', 'lustnau', 's\\\\S+dstadt', 'neckarinsel', 'stocherkahn', 'bebenhausen'), relevance_score=2, last_crawl_timestamp=1752944083.6822782, soup=None),\n",
       "   Document(url='https://www.cvlibs.net/imprint.php', title='Andreas Geiger', author='', description='', site_type='', content_hash='ce5572a7370aedc77faf3cac837a5452', html='', word_count=1219, sentence_count=107, paragraph_count=21, canonical_url='https://www.cvlibs.net/imprint.php', parent_url='https://www.cvlibs.net', domain='www.cvlibs.net', subdomain='www', path_depth=1, has_ssl=True, crawl_frequency=2, relevant_keywords=('t\\\\S+bingen', 'eberhard karl', 'palmer', 'lustnau', 's\\\\S+dstadt', 'neckarinsel', 'stocherkahn', 'bebenhausen'), relevance_score=-20, last_crawl_timestamp=1752936880.056489, soup=None),\n",
       "   Document(url='https://www.hih-tuebingen.de/en/privacy-notice', title='Privacy notice: Hertie-Institut für klinische Hirnforschung', author='', description='', site_type='', content_hash='c917dc2075f768f4e908e486474f54b4', html='', word_count=3305, sentence_count=233, paragraph_count=108, canonical_url='https://www.hih-tuebingen.de/en/privacy-notice', parent_url='https://www.hih-tuebingen.de/en/career/career-opportunities/current-career-opportunities/', domain='www.hih-tuebingen.de', subdomain='www', path_depth=2, has_ssl=True, crawl_frequency=2, relevant_keywords=('t\\\\S+bingen', 'eberhard karl', 'palmer', 'lustnau', 's\\\\S+dstadt', 'neckarinsel', 'stocherkahn', 'bebenhausen'), relevance_score=2, last_crawl_timestamp=1752936827.1042116, soup=None),\n",
       "   Document(url='https://eg2023.saarland-informatics-campus.de/full-papers-ipc/', title='Full Papers IPC | Eurographics 2023', author='', description='', site_type='', content_hash='0983b4ee52f321b8e3688f0f12438885', html='', word_count=539, sentence_count=1, paragraph_count=4, canonical_url='https://eg2023.saarland-informatics-campus.de/full-papers-ipc/', parent_url='https://kellnhofer.xyz/', domain='eg2023.saarland-informatics-campus.de', subdomain='eg2023', path_depth=1, has_ssl=True, crawl_frequency=2, relevant_keywords=('t\\\\S+bingen', 'eberhard karl', 'palmer', 'lustnau', 's\\\\S+dstadt', 'neckarinsel', 'stocherkahn', 'bebenhausen'), relevance_score=-20, last_crawl_timestamp=1752937594.5361362, soup=None)],\n",
       "  [Document(url='https://www.biologia.unipd.it/people/?tx_wfqbe_pi1%5Baccount%5D=ildiko-szabo', title='DIPARTIMENTO DI BIOLOGIA (DiBio) : Scheda Docente - Università di Padova', author='', description='', site_type='', content_hash='f44f7cfdfda67d486cea1a82b89fddab', html='', word_count=1125, sentence_count=55, paragraph_count=4, canonical_url='https://www.biologia.unipd.it/people/?tx_wfqbe_pi1%5Baccount%5D=ildiko-szabo', parent_url='https://www.biologia.unipd.it/en/department/people/teacher-details/?tx_wfqbe_pi1%5Baccount%5D=ildiko-szabo', domain='www.biologia.unipd.it', subdomain='www', path_depth=1, has_ssl=True, crawl_frequency=2, relevant_keywords=('t\\\\S+bingen', 'eberhard karl', 'palmer', 'lustnau', 's\\\\S+dstadt', 'neckarinsel', 'stocherkahn', 'bebenhausen'), relevance_score=-20, last_crawl_timestamp=1752937628.1081576, soup=None),\n",
       "   Document(url='https://www.wurstkueche.com/en/drinks/', title='Drinks–thursty | Die Wurstküche - die typisch schwäbische Gastwirtschaft in Tübingen in Tübingen', author='', description='', site_type='', content_hash='93b057b52e5480dbb378933b35010519', html='', word_count=474, sentence_count=10, paragraph_count=41, canonical_url='https://www.wurstkueche.com/en/drinks/', parent_url='https://www.wurstkueche.com/en/restaurant-our-place/', domain='www.wurstkueche.com', subdomain='www', path_depth=2, has_ssl=True, crawl_frequency=2, relevant_keywords=('t\\\\S+bingen', 'eberhard karl', 'palmer', 'lustnau', 's\\\\S+dstadt', 'neckarinsel', 'stocherkahn', 'bebenhausen'), relevance_score=-20, last_crawl_timestamp=1752936474.5040085, soup=None),\n",
       "   Document(url='https://en.wikisource.org/wiki/1911_Encyclop%C3%A6dia_Britannica/Tubuai', title='1911 Encyclopædia Britannica/Tubuai - Wikisource, the free online library', author='', description='', site_type='', content_hash='abaad9a81233daec8746c45c20a08878', html='', word_count=549, sentence_count=25, paragraph_count=2, canonical_url='https://en.wikisource.org/wiki/1911_Encyclop%C3%A6dia_Britannica/Tubuai', parent_url='https://en.wikisource.org/wiki/1911_Encyclop%C3%A6dia_Britannica/T%C3%BCbingen', domain='en.wikisource.org', subdomain='en', path_depth=3, has_ssl=True, crawl_frequency=2, relevant_keywords=('t\\\\S+bingen', 'eberhard karl', 'palmer', 'lustnau', 's\\\\S+dstadt', 'neckarinsel', 'stocherkahn', 'bebenhausen'), relevance_score=-20, last_crawl_timestamp=1752937257.2484167, soup=None),\n",
       "   Document(url='https://en.wikisource.org/wiki/1911_Encyclop%C3%A6dia_Britannica/T%C3%BCbingen', title='1911 Encyclopædia Britannica/Tübingen - Wikisource, the free online library', author='', description='', site_type='', content_hash='d36b5182869c722de5004e7b13ba78b4', html='', word_count=766, sentence_count=34, paragraph_count=5, canonical_url='https://en.wikisource.org/wiki/1911_Encyclop%C3%A6dia_Britannica/T%C3%BCbingen', parent_url='https://en.wikisource.org/wiki/1911_Encyclop%C3%A6dia_Britannica/Uhland,_Johann_Ludwig', domain='en.wikisource.org', subdomain='en', path_depth=3, has_ssl=True, crawl_frequency=2, relevant_keywords=('t\\\\S+bingen', 'eberhard karl', 'palmer', 'lustnau', 's\\\\S+dstadt', 'neckarinsel', 'stocherkahn', 'bebenhausen'), relevance_score=2, last_crawl_timestamp=1752937191.5308719, soup=None),\n",
       "   Document(url='https://wirtschaftskoordination.de/en/partner/tuebingen-research-campus', title='Tübingen Research Campus | Wirtschaftskoordination der Universität Tübingen', author='', description='', site_type='', content_hash='77d98edb7f0e254d0487584309b1d84c', html='', word_count=487, sentence_count=20, paragraph_count=12, canonical_url='https://wirtschaftskoordination.de/en/partner/tuebingen-research-campus', parent_url='https://wirtschaftskoordination.de/en', domain='wirtschaftskoordination.de', subdomain='wirtschaftskoordination', path_depth=3, has_ssl=True, crawl_frequency=2, relevant_keywords=('t\\\\S+bingen', 'eberhard karl', 'palmer', 'lustnau', 's\\\\S+dstadt', 'neckarinsel', 'stocherkahn', 'bebenhausen'), relevance_score=2, last_crawl_timestamp=1752937880.3762007, soup=None),\n",
       "   Document(url='https://simple.wikipedia.org/wiki/T%C3%BCbingen', title='Tübingen - Simple English Wikipedia, the free encyclopedia', author='', description='', site_type='', content_hash='a7a8a8c172f21181772a878831385140', html='', word_count=786, sentence_count=35, paragraph_count=2, canonical_url='https://simple.wikipedia.org/wiki/T%C3%BCbingen', parent_url='https://en.wikipedia.org/wiki/T%C3%BCbingen', domain='simple.wikipedia.org', subdomain='simple', path_depth=2, has_ssl=True, crawl_frequency=2, relevant_keywords=('t\\\\S+bingen', 'eberhard karl', 'palmer', 'lustnau', 's\\\\S+dstadt', 'neckarinsel', 'stocherkahn', 'bebenhausen'), relevance_score=2, last_crawl_timestamp=1752943073.3328602, soup=None)],\n",
       "  [Document(url='https://www.wurstkueche.com/en/menu/', title='Menu — Discover our menu | Die Wurstküche - die typisch schwäbische Gastwirtschaft in Tübingen in Tübingen', author='', description='', site_type='', content_hash='2370f362f713c4231fff06a583f6565a', html='', word_count=549, sentence_count=10, paragraph_count=34, canonical_url='https://www.wurstkueche.com/en/menu/', parent_url='https://www.wurstkueche.com/en/restaurant-our-place/', domain='www.wurstkueche.com', subdomain='www', path_depth=2, has_ssl=True, crawl_frequency=2, relevant_keywords=('t\\\\S+bingen', 'eberhard karl', 'palmer', 'lustnau', 's\\\\S+dstadt', 'neckarinsel', 'stocherkahn', 'bebenhausen'), relevance_score=-20, last_crawl_timestamp=1752936444.2462003, soup=None),\n",
       "   Document(url='https://www.krone-tuebingen.de/en/restaurants/breakfast/', title='Breakfast in Tübingen with breakfast buffet at Hotel Krone ', author='', description='', site_type='', content_hash='6687f9b87db67ef320c931c310332f7d', html='', word_count=658, sentence_count=34, paragraph_count=8, canonical_url='https://www.krone-tuebingen.de/en/restaurants/breakfast/', parent_url='https://www.krone-tuebingen.de/en/', domain='www.krone-tuebingen.de', subdomain='www', path_depth=3, has_ssl=True, crawl_frequency=2, relevant_keywords=('t\\\\S+bingen', 'eberhard karl', 'palmer', 'lustnau', 's\\\\S+dstadt', 'neckarinsel', 'stocherkahn', 'bebenhausen'), relevance_score=2, last_crawl_timestamp=1752943688.0985613, soup=None),\n",
       "   Document(url='https://www.wurstkueche.com/en/frontpage-2/', title='Die Wurstküche - die typisch schwäbische Gastwirtschaft in Tübingen in Tübingen | Echte schwäbische Küche in der Tübinger Altstadt', author='', description='', site_type='', content_hash='a7d1c8e5a4c4929ac5d90bee4c7d264f', html='', word_count=363, sentence_count=22, paragraph_count=3, canonical_url='https://www.wurstkueche.com/en/frontpage-2/', parent_url='http://www.wurstkueche.com/', domain='www.wurstkueche.com', subdomain='www', path_depth=2, has_ssl=True, crawl_frequency=2, relevant_keywords=('t\\\\S+bingen', 'eberhard karl', 'palmer', 'lustnau', 's\\\\S+dstadt', 'neckarinsel', 'stocherkahn', 'bebenhausen'), relevance_score=-20, last_crawl_timestamp=1752936534.5837545, soup=None),\n",
       "   Document(url='https://www.krone-tuebingen.de/en/restaurants/', title='Gastronomy in Tübingen at the 4-star Hotel Krone ', author='', description='', site_type='', content_hash='8dfc4857ea43b62a4b1451bb66c4f9b4', html='', word_count=846, sentence_count=39, paragraph_count=10, canonical_url='https://www.krone-tuebingen.de/en/restaurants/', parent_url='https://www.krone-tuebingen.de/en/', domain='www.krone-tuebingen.de', subdomain='www', path_depth=2, has_ssl=True, crawl_frequency=2, relevant_keywords=('t\\\\S+bingen', 'eberhard karl', 'palmer', 'lustnau', 's\\\\S+dstadt', 'neckarinsel', 'stocherkahn', 'bebenhausen'), relevance_score=2, last_crawl_timestamp=1752937388.6135073, soup=None),\n",
       "   Document(url='https://www.krone-tuebingen.de/en/hotel/wellness/', title='Wellness hotel in Tübingen in the Swabian Alb | Hotel Krone ', author='', description='', site_type='', content_hash='c2631bebc832455d459999c622bde995', html='', word_count=2791, sentence_count=140, paragraph_count=33, canonical_url='https://www.krone-tuebingen.de/en/hotel/wellness/', parent_url='https://www.krone-tuebingen.de/en/', domain='www.krone-tuebingen.de', subdomain='www', path_depth=3, has_ssl=True, crawl_frequency=2, relevant_keywords=('t\\\\S+bingen', 'eberhard karl', 'palmer', 'lustnau', 's\\\\S+dstadt', 'neckarinsel', 'stocherkahn', 'bebenhausen'), relevance_score=2, last_crawl_timestamp=1752944118.4196084, soup=None),\n",
       "   Document(url='https://www.wikidata.org/wiki/Q3806#identifiers', title='Tübingen - Wikidata', author='', description='', site_type='', content_hash='08276480cbcfcffed7f70128e9026815', html='', word_count=2992, sentence_count=325, paragraph_count=1, canonical_url='https://www.wikidata.org/wiki/Q3806#identifiers', parent_url='https://en.wikipedia.org/wiki/T%C3%BCbingen', domain='www.wikidata.org', subdomain='www', path_depth=2, has_ssl=True, crawl_frequency=2, relevant_keywords=('t\\\\S+bingen', 'eberhard karl', 'palmer', 'lustnau', 's\\\\S+dstadt', 'neckarinsel', 'stocherkahn', 'bebenhausen'), relevance_score=-20, last_crawl_timestamp=1752936340.6090693, soup=None),\n",
       "   Document(url='https://www.krone-tuebingen.de/en/restaurants/ludwigs-vinothek/', title='Wine bar in Tübingen | Ludwigs Vinothek ', author='', description='', site_type='', content_hash='edd6f44bc7714743394e6d7c7fc4a4d9', html='', word_count=315, sentence_count=13, paragraph_count=3, canonical_url='https://www.krone-tuebingen.de/en/restaurants/ludwigs-vinothek/', parent_url='https://www.krone-tuebingen.de/en/', domain='www.krone-tuebingen.de', subdomain='www', path_depth=3, has_ssl=True, crawl_frequency=2, relevant_keywords=('t\\\\S+bingen', 'eberhard karl', 'palmer', 'lustnau', 's\\\\S+dstadt', 'neckarinsel', 'stocherkahn', 'bebenhausen'), relevance_score=2, last_crawl_timestamp=1752944563.3630762, soup=None)],\n",
       "  [Document(url='https://privatecityhotels.com/en/my-perfect-day/trumer-stube/', title='Trumer Stube - PrivateCityHotels.', author='', description='', site_type='', content_hash='2d2ad6fd7b8bcb6a352245c1f7104f84', html='', word_count=520, sentence_count=27, paragraph_count=10, canonical_url='https://privatecityhotels.com/en/my-perfect-day/trumer-stube/', parent_url='https://privatecityhotels.com/en/', domain='privatecityhotels.com', subdomain='privatecityhotels', path_depth=3, has_ssl=True, crawl_frequency=2, relevant_keywords=('t\\\\S+bingen', 'eberhard karl', 'palmer', 'lustnau', 's\\\\S+dstadt', 'neckarinsel', 'stocherkahn', 'bebenhausen'), relevance_score=-20, last_crawl_timestamp=1752944577.673361, soup=None),\n",
       "   Document(url='https://www.jugendherberge.de/en/baden-wuerttemberg/inspire-me/culture-and-society/christmas-markets/', title='Christmas markets', author='', description='', site_type='', content_hash='2ed4c52b7256d88db851c97d09369fa5', html='', word_count=668, sentence_count=25, paragraph_count=4, canonical_url='https://www.jugendherberge.de/en/baden-wuerttemberg/inspire-me/culture-and-society/christmas-markets/', parent_url='https://www.jugendherberge.de/en/baden-wuerttemberg/accessibility-statement', domain='www.jugendherberge.de', subdomain='www', path_depth=5, has_ssl=True, crawl_frequency=2, relevant_keywords=('t\\\\S+bingen', 'eberhard karl', 'palmer', 'lustnau', 's\\\\S+dstadt', 'neckarinsel', 'stocherkahn', 'bebenhausen'), relevance_score=-20, last_crawl_timestamp=1752943840.6795437, soup=None),\n",
       "   Document(url='https://www.germany.travel/en/cities-culture/tuebingen.html', title='Tübingen – visit the charming town on the Neckar \\n\\t\\t\\t- Germany Travel\\n\\t\\t', author='', description='', site_type='', content_hash='b0852f34bba04de9450564d88776fae0', html='', word_count=792, sentence_count=34, paragraph_count=11, canonical_url='https://www.germany.travel/en/cities-culture/tuebingen.html', parent_url='Seed', domain='www.germany.travel', subdomain='www', path_depth=3, has_ssl=True, crawl_frequency=2, relevant_keywords=('t\\\\S+bingen', 'eberhard karl', 'palmer', 'lustnau', 's\\\\S+dstadt', 'neckarinsel', 'stocherkahn', 'bebenhausen'), relevance_score=2, last_crawl_timestamp=1752962323.8808727, soup=None),\n",
       "   Document(url='https://www.visit-bw.com/en/taste/beer-culture', title='Beer from Baden-Württemberg » Breweries & Beer Culture', author='', description='', site_type='', content_hash='0a2483ba43bd1b2c0e9b65c53bd8c358', html='', word_count=639, sentence_count=22, paragraph_count=2, canonical_url='https://www.visit-bw.com/en/taste/beer-culture', parent_url='https://www.visit-bw.com/en/tips-and-stories/fantastic-road', domain='www.visit-bw.com', subdomain='www', path_depth=3, has_ssl=True, crawl_frequency=2, relevant_keywords=('t\\\\S+bingen', 'eberhard karl', 'palmer', 'lustnau', 's\\\\S+dstadt', 'neckarinsel', 'stocherkahn', 'bebenhausen'), relevance_score=-20, last_crawl_timestamp=1752936978.1838996, soup=None),\n",
       "   Document(url='https://www.jugendherberge.de/en/baden-wuerttemberg/inspire-me/culture-and-society/shopping-outlets/', title='Shopping outlets', author='', description='', site_type='', content_hash='8501e0004e197837907dfe961e365d34', html='', word_count=482, sentence_count=16, paragraph_count=2, canonical_url='https://www.jugendherberge.de/en/baden-wuerttemberg/inspire-me/culture-and-society/shopping-outlets/', parent_url='https://www.jugendherberge.de/en/baden-wuerttemberg/accessibility-statement', domain='www.jugendherberge.de', subdomain='www', path_depth=5, has_ssl=True, crawl_frequency=2, relevant_keywords=('t\\\\S+bingen', 'eberhard karl', 'palmer', 'lustnau', 's\\\\S+dstadt', 'neckarinsel', 'stocherkahn', 'bebenhausen'), relevance_score=-20, last_crawl_timestamp=1752944013.4144669, soup=None),\n",
       "   Document(url='http://sites-of-memory.de/main/theme.html', title='www.hatlie.de Sites of Memory By Theme', author='', description='', site_type='', content_hash='0c0b1f69e93d81cc06ed3d25002acd72', html='', word_count=1820, sentence_count=137, paragraph_count=28, canonical_url='http://sites-of-memory.de/main/theme.html', parent_url='http://sites-of-memory.de/main/lustnau.html', domain='sites-of-memory.de', subdomain='sites-of-memory', path_depth=2, has_ssl=False, crawl_frequency=2, relevant_keywords=('t\\\\S+bingen', 'eberhard karl', 'palmer', 'lustnau', 's\\\\S+dstadt', 'neckarinsel', 'stocherkahn', 'bebenhausen'), relevance_score=-20, last_crawl_timestamp=1752936532.523528, soup=None)],\n",
       "  [Document(url='https://tuewiml.github.io/contact.html', title='Tuebingen Women in ML', author='', description='', site_type='', content_hash='77a46e6617aa6dd13f67a3285fff27b3', html='', word_count=33, sentence_count=2, paragraph_count=1, canonical_url='https://tuewiml.github.io/contact.html', parent_url='https://tuewiml.github.io/', domain='tuewiml.github.io', subdomain='tuewiml', path_depth=1, has_ssl=True, crawl_frequency=2, relevant_keywords=('t\\\\S+bingen', 'eberhard karl', 'palmer', 'lustnau', 's\\\\S+dstadt', 'neckarinsel', 'stocherkahn', 'bebenhausen'), relevance_score=-20, last_crawl_timestamp=1752936378.5353634, soup=None),\n",
       "   Document(url='https://tuewiml.github.io/', title='Tuebingen Women in ML', author='', description='', site_type='', content_hash='c75ba0b5e6597f0a956c19514d75ff27', html='', word_count=223, sentence_count=9, paragraph_count=7, canonical_url='https://tuewiml.github.io/', parent_url='https://tuebingen.ai', domain='tuewiml.github.io', subdomain='tuewiml', path_depth=0, has_ssl=True, crawl_frequency=2, relevant_keywords=('t\\\\S+bingen', 'eberhard karl', 'palmer', 'lustnau', 's\\\\S+dstadt', 'neckarinsel', 'stocherkahn', 'bebenhausen'), relevance_score=-20, last_crawl_timestamp=1752936358.9926558, soup=None),\n",
       "   Document(url='https://tuewiml.github.io', title='Tuebingen Women in ML', author='', description='', site_type='', content_hash='c75ba0b5e6597f0a956c19514d75ff27', html='', word_count=223, sentence_count=9, paragraph_count=7, canonical_url='https://tuewiml.github.io', parent_url='https://petriconi.org/', domain='tuewiml.github.io', subdomain='tuewiml', path_depth=0, has_ssl=True, crawl_frequency=2, relevant_keywords=('t\\\\S+bingen', 'eberhard karl', 'palmer', 'lustnau', 's\\\\S+dstadt', 'neckarinsel', 'stocherkahn', 'bebenhausen'), relevance_score=-20, last_crawl_timestamp=1752944925.9633331, soup=None),\n",
       "   Document(url='https://onnoeberhard.com/2019/08/21/cool-logic.html', title='\\n         Cool logic in the face of fire · Onno Eberhard \\n    ', author='', description='', site_type='', content_hash='f9f71c2adc916e772889974e93dd028f', html='', word_count=842, sentence_count=30, paragraph_count=9, canonical_url='https://onnoeberhard.com/2019/08/21/cool-logic.html', parent_url='https://onnoeberhard.com/blog', domain='onnoeberhard.com', subdomain='onnoeberhard', path_depth=4, has_ssl=True, crawl_frequency=2, relevant_keywords=('t\\\\S+bingen', 'eberhard karl', 'palmer', 'lustnau', 's\\\\S+dstadt', 'neckarinsel', 'stocherkahn', 'bebenhausen'), relevance_score=-20, last_crawl_timestamp=1752937106.5993793, soup=None),\n",
       "   Document(url='https://docs.lib.purdue.edu/authors.html', title='\\nBrowse by Author | Purdue e-Pubs | Purdue University Scholarship Online\\n', author='', description='', site_type='', content_hash='8048ddee02253ba89c2447f5edaeca24', html='', word_count=473824, sentence_count=22966, paragraph_count=109539, canonical_url='https://docs.lib.purdue.edu/authors.html', parent_url='https://docs.lib.purdue.edu/modvis/2016/session09/3/', domain='docs.lib.purdue.edu', subdomain='docs', path_depth=1, has_ssl=True, crawl_frequency=2, relevant_keywords=('t\\\\S+bingen', 'eberhard karl', 'palmer', 'lustnau', 's\\\\S+dstadt', 'neckarinsel', 'stocherkahn', 'bebenhausen'), relevance_score=-20, last_crawl_timestamp=1752938036.2679522, soup=None)],\n",
       "  [Document(url='https://tuewiml.github.io/news.html', title='Tuebingen Women in ML', author='', description='', site_type='', content_hash='173c024cca44bc209d9a166be7eb0d40', html='', word_count=93, sentence_count=3, paragraph_count=6, canonical_url='https://tuewiml.github.io/news.html', parent_url='https://tuewiml.github.io/', domain='tuewiml.github.io', subdomain='tuewiml', path_depth=1, has_ssl=True, crawl_frequency=2, relevant_keywords=('t\\\\S+bingen', 'eberhard karl', 'palmer', 'lustnau', 's\\\\S+dstadt', 'neckarinsel', 'stocherkahn', 'bebenhausen'), relevance_score=-20, last_crawl_timestamp=1752936363.268358, soup=None),\n",
       "   Document(url='https://tuebingen.ai/privacy-policy', title='Privacy Policy - Tübingen AI Center', author='', description='', site_type='', content_hash='570c94b2fdc40899df3bcd80c1258fff', html='', word_count=10618, sentence_count=730, paragraph_count=281, canonical_url='https://tuebingen.ai/privacy-policy', parent_url='https://tuebingen.ai', domain='tuebingen.ai', subdomain='tuebingen', path_depth=1, has_ssl=True, crawl_frequency=2, relevant_keywords=('t\\\\S+bingen', 'eberhard karl', 'palmer', 'lustnau', 's\\\\S+dstadt', 'neckarinsel', 'stocherkahn', 'bebenhausen'), relevance_score=2, last_crawl_timestamp=1752937306.7835498, soup=None),\n",
       "   Document(url='https://tuebingen.ai/news', title='News - Tübingen AI Center', author='', description='', site_type='', content_hash='63d624e89d5273ee6792b833f6f6ce07', html='', word_count=378, sentence_count=9, paragraph_count=11, canonical_url='https://tuebingen.ai/news', parent_url='https://tuebingen.ai', domain='tuebingen.ai', subdomain='tuebingen', path_depth=1, has_ssl=True, crawl_frequency=2, relevant_keywords=('t\\\\S+bingen', 'eberhard karl', 'palmer', 'lustnau', 's\\\\S+dstadt', 'neckarinsel', 'stocherkahn', 'bebenhausen'), relevance_score=2, last_crawl_timestamp=1752936380.9253235, soup=None),\n",
       "   Document(url='https://tuebingen.ai/news/elllot-project-launches-to-advance-general-purpose-ai-under-horizon-europe', title='ELLlOT project launches to advance general-purpose AI under Horizon Europe - Tübingen AI Center', author='', description='', site_type='', content_hash='9864a1ffc681f943c97a7dbde0feac03', html='', word_count=311, sentence_count=12, paragraph_count=6, canonical_url='https://tuebingen.ai/news/elllot-project-launches-to-advance-general-purpose-ai-under-horizon-europe', parent_url='https://tuebingen.ai', domain='tuebingen.ai', subdomain='tuebingen', path_depth=2, has_ssl=True, crawl_frequency=2, relevant_keywords=('t\\\\S+bingen', 'eberhard karl', 'palmer', 'lustnau', 's\\\\S+dstadt', 'neckarinsel', 'stocherkahn', 'bebenhausen'), relevance_score=2, last_crawl_timestamp=1752944320.1233315, soup=None),\n",
       "   Document(url='https://www.tuebingen.ai/news/page-1', title='News - Tübingen AI Center', author='', description='', site_type='', content_hash='63d624e89d5273ee6792b833f6f6ce07', html='', word_count=378, sentence_count=9, paragraph_count=11, canonical_url='https://www.tuebingen.ai/news/page-1', parent_url='https://www.tuebingen.ai/news/page-4', domain='www.tuebingen.ai', subdomain='www', path_depth=2, has_ssl=True, crawl_frequency=2, relevant_keywords=('t\\\\S+bingen', 'eberhard karl', 'palmer', 'lustnau', 's\\\\S+dstadt', 'neckarinsel', 'stocherkahn', 'bebenhausen'), relevance_score=2, last_crawl_timestamp=1752943275.4449787, soup=None),\n",
       "   Document(url='https://tuebingen.ai/news/new-principal-investigators-to-join-ellis-institute-tuebingen-in-2025', title='New Principal Investigators to join ELLIS Institute Tübingen in 2025 - Tübingen AI Center', author='', description='', site_type='', content_hash='792831101439c99bbbc786c04975e66a', html='', word_count=225, sentence_count=11, paragraph_count=5, canonical_url='https://tuebingen.ai/news/new-principal-investigators-to-join-ellis-institute-tuebingen-in-2025', parent_url='https://tuebingen.ai/news', domain='tuebingen.ai', subdomain='tuebingen', path_depth=2, has_ssl=True, crawl_frequency=2, relevant_keywords=('t\\\\S+bingen', 'eberhard karl', 'palmer', 'lustnau', 's\\\\S+dstadt', 'neckarinsel', 'stocherkahn', 'bebenhausen'), relevance_score=2, last_crawl_timestamp=1752944771.413083, soup=None),\n",
       "   Document(url='https://tuebingen.ai/news/page-6', title='News - Tübingen AI Center', author='', description='', site_type='', content_hash='9261b6d541d472348cb5b359a87cc5b1', html='', word_count=379, sentence_count=10, paragraph_count=10, canonical_url='https://tuebingen.ai/news/page-6', parent_url='https://tuebingen.ai/news', domain='tuebingen.ai', subdomain='tuebingen', path_depth=2, has_ssl=True, crawl_frequency=2, relevant_keywords=('t\\\\S+bingen', 'eberhard karl', 'palmer', 'lustnau', 's\\\\S+dstadt', 'neckarinsel', 'stocherkahn', 'bebenhausen'), relevance_score=2, last_crawl_timestamp=1752936930.866519, soup=None),\n",
       "   Document(url='https://tuebingen.ai/news/page-4', title='News - Tübingen AI Center', author='', description='', site_type='', content_hash='e9947b64d946d354060096f61ab3e196', html='', word_count=354, sentence_count=8, paragraph_count=11, canonical_url='https://tuebingen.ai/news/page-4', parent_url='https://tuebingen.ai/news', domain='tuebingen.ai', subdomain='tuebingen', path_depth=2, has_ssl=True, crawl_frequency=2, relevant_keywords=('t\\\\S+bingen', 'eberhard karl', 'palmer', 'lustnau', 's\\\\S+dstadt', 'neckarinsel', 'stocherkahn', 'bebenhausen'), relevance_score=2, last_crawl_timestamp=1752936964.9434094, soup=None),\n",
       "   Document(url='https://www.tuebingen.ai/news/page-6', title='News - Tübingen AI Center', author='', description='', site_type='', content_hash='9261b6d541d472348cb5b359a87cc5b1', html='', word_count=379, sentence_count=10, paragraph_count=10, canonical_url='https://www.tuebingen.ai/news/page-6', parent_url='https://www.tuebingen.ai/news', domain='www.tuebingen.ai', subdomain='www', path_depth=2, has_ssl=True, crawl_frequency=2, relevant_keywords=('t\\\\S+bingen', 'eberhard karl', 'palmer', 'lustnau', 's\\\\S+dstadt', 'neckarinsel', 'stocherkahn', 'bebenhausen'), relevance_score=2, last_crawl_timestamp=1752943346.2573435, soup=None),\n",
       "   Document(url='https://www.tuebingen.ai/news/page-4', title='News - Tübingen AI Center', author='', description='', site_type='', content_hash='e9947b64d946d354060096f61ab3e196', html='', word_count=354, sentence_count=8, paragraph_count=11, canonical_url='https://www.tuebingen.ai/news/page-4', parent_url='https://www.tuebingen.ai/news', domain='www.tuebingen.ai', subdomain='www', path_depth=2, has_ssl=True, crawl_frequency=2, relevant_keywords=('t\\\\S+bingen', 'eberhard karl', 'palmer', 'lustnau', 's\\\\S+dstadt', 'neckarinsel', 'stocherkahn', 'bebenhausen'), relevance_score=2, last_crawl_timestamp=1752943194.8060224, soup=None),\n",
       "   Document(url='https://www.tuebingen.ai/careers#c144', title='Careers - Tübingen AI Center', author='', description='', site_type='', content_hash='727a37dbedd45461f26d4a81482a7802', html='', word_count=193, sentence_count=7, paragraph_count=3, canonical_url='https://www.tuebingen.ai/careers#c144', parent_url='https://www.tuebingen.ai/news/page-5', domain='www.tuebingen.ai', subdomain='www', path_depth=1, has_ssl=True, crawl_frequency=2, relevant_keywords=('t\\\\S+bingen', 'eberhard karl', 'palmer', 'lustnau', 's\\\\S+dstadt', 'neckarinsel', 'stocherkahn', 'bebenhausen'), relevance_score=2, last_crawl_timestamp=1752943680.9878826, soup=None),\n",
       "   Document(url='https://tuebingen.ai/news/announcement-tuebingen-ai-talk-series-launch-with-antonio-orvieto', title='Announcement: Tübingen AI Talk Series Launch with Antonio Orvieto - Tübingen AI Center', author='', description='', site_type='', content_hash='d212273c40c100528739579b15be62ed', html='', word_count=380, sentence_count=15, paragraph_count=9, canonical_url='https://tuebingen.ai/news/announcement-tuebingen-ai-talk-series-launch-with-antonio-orvieto', parent_url='https://tuebingen.ai/news/page-5', domain='tuebingen.ai', subdomain='tuebingen', path_depth=2, has_ssl=True, crawl_frequency=2, relevant_keywords=('t\\\\S+bingen', 'eberhard karl', 'palmer', 'lustnau', 's\\\\S+dstadt', 'neckarinsel', 'stocherkahn', 'bebenhausen'), relevance_score=2, last_crawl_timestamp=1752945084.6944954, soup=None),\n",
       "   Document(url='https://www.tuebingen.ai/news/page-5', title='News - Tübingen AI Center', author='', description='', site_type='', content_hash='174962e226e68af09a343371d6e6635e', html='', word_count=446, sentence_count=9, paragraph_count=11, canonical_url='https://www.tuebingen.ai/news/page-5', parent_url='https://www.tuebingen.ai/news', domain='www.tuebingen.ai', subdomain='www', path_depth=2, has_ssl=True, crawl_frequency=2, relevant_keywords=('t\\\\S+bingen', 'eberhard karl', 'palmer', 'lustnau', 's\\\\S+dstadt', 'neckarinsel', 'stocherkahn', 'bebenhausen'), relevance_score=2, last_crawl_timestamp=1752943594.05011, soup=None),\n",
       "   Document(url='https://tuebingen.ai/news/page-3', title='News - Tübingen AI Center', author='', description='', site_type='', content_hash='b2464f30e7fccc4776ead3d4669efb94', html='', word_count=350, sentence_count=7, paragraph_count=11, canonical_url='https://tuebingen.ai/news/page-3', parent_url='https://tuebingen.ai/news', domain='tuebingen.ai', subdomain='tuebingen', path_depth=2, has_ssl=True, crawl_frequency=2, relevant_keywords=('t\\\\S+bingen', 'eberhard karl', 'palmer', 'lustnau', 's\\\\S+dstadt', 'neckarinsel', 'stocherkahn', 'bebenhausen'), relevance_score=2, last_crawl_timestamp=1752936867.8025808, soup=None),\n",
       "   Document(url='https://tuebingen.ai/news/page-2', title='News - Tübingen AI Center', author='', description='', site_type='', content_hash='04f900dffcbe7e5f3063c48bfea0584d', html='', word_count=384, sentence_count=4, paragraph_count=11, canonical_url='https://tuebingen.ai/news/page-2', parent_url='https://tuebingen.ai/news', domain='tuebingen.ai', subdomain='tuebingen', path_depth=2, has_ssl=True, crawl_frequency=2, relevant_keywords=('t\\\\S+bingen', 'eberhard karl', 'palmer', 'lustnau', 's\\\\S+dstadt', 'neckarinsel', 'stocherkahn', 'bebenhausen'), relevance_score=2, last_crawl_timestamp=1752936903.3781242, soup=None),\n",
       "   Document(url='https://tuebingen.ai/news/page-5', title='News - Tübingen AI Center', author='', description='', site_type='', content_hash='174962e226e68af09a343371d6e6635e', html='', word_count=446, sentence_count=9, paragraph_count=11, canonical_url='https://tuebingen.ai/news/page-5', parent_url='https://tuebingen.ai/news', domain='tuebingen.ai', subdomain='tuebingen', path_depth=2, has_ssl=True, crawl_frequency=2, relevant_keywords=('t\\\\S+bingen', 'eberhard karl', 'palmer', 'lustnau', 's\\\\S+dstadt', 'neckarinsel', 'stocherkahn', 'bebenhausen'), relevance_score=2, last_crawl_timestamp=1752936831.5592914, soup=None),\n",
       "   Document(url='https://tuebingen.ai/news/tuebingen-ai-summer-poster-event-2025', title='Tübingen AI Summer Poster Event 2025 - Tübingen AI Center', author='', description='', site_type='', content_hash='418553169b0622826423583e20cc9e00', html='', word_count=260, sentence_count=9, paragraph_count=6, canonical_url='https://tuebingen.ai/news/tuebingen-ai-summer-poster-event-2025', parent_url='https://tuebingen.ai', domain='tuebingen.ai', subdomain='tuebingen', path_depth=2, has_ssl=True, crawl_frequency=2, relevant_keywords=('t\\\\S+bingen', 'eberhard karl', 'palmer', 'lustnau', 's\\\\S+dstadt', 'neckarinsel', 'stocherkahn', 'bebenhausen'), relevance_score=2, last_crawl_timestamp=1752944258.0606205, soup=None),\n",
       "   Document(url='https://tuebingen.ai/careers', title='Careers - Tübingen AI Center', author='', description='', site_type='', content_hash='727a37dbedd45461f26d4a81482a7802', html='', word_count=193, sentence_count=7, paragraph_count=3, canonical_url='https://tuebingen.ai/careers', parent_url='https://tuebingen.ai', domain='tuebingen.ai', subdomain='tuebingen', path_depth=1, has_ssl=True, crawl_frequency=2, relevant_keywords=('t\\\\S+bingen', 'eberhard karl', 'palmer', 'lustnau', 's\\\\S+dstadt', 'neckarinsel', 'stocherkahn', 'bebenhausen'), relevance_score=2, last_crawl_timestamp=1752936435.3408022, soup=None),\n",
       "   Document(url='https://tuebingen.ai/imprint', title='Imprint - Tübingen AI Center', author='', description='', site_type='', content_hash='c52099f4997ce0b62e80e47a70205662', html='', word_count=420, sentence_count=32, paragraph_count=15, canonical_url='https://tuebingen.ai/imprint', parent_url='https://tuebingen.ai', domain='tuebingen.ai', subdomain='tuebingen', path_depth=1, has_ssl=True, crawl_frequency=2, relevant_keywords=('t\\\\S+bingen', 'eberhard karl', 'palmer', 'lustnau', 's\\\\S+dstadt', 'neckarinsel', 'stocherkahn', 'bebenhausen'), relevance_score=2, last_crawl_timestamp=1752936428.4441872, soup=None),\n",
       "   Document(url='https://www.tuebingen.ai/news/page-3', title='News - Tübingen AI Center', author='', description='', site_type='', content_hash='b2464f30e7fccc4776ead3d4669efb94', html='', word_count=350, sentence_count=7, paragraph_count=11, canonical_url='https://www.tuebingen.ai/news/page-3', parent_url='https://www.tuebingen.ai/news', domain='www.tuebingen.ai', subdomain='www', path_depth=2, has_ssl=True, crawl_frequency=2, relevant_keywords=('t\\\\S+bingen', 'eberhard karl', 'palmer', 'lustnau', 's\\\\S+dstadt', 'neckarinsel', 'stocherkahn', 'bebenhausen'), relevance_score=2, last_crawl_timestamp=1752943434.673861, soup=None),\n",
       "   Document(url='https://www.tuebingen.ai/news/page-2', title='News - Tübingen AI Center', author='', description='', site_type='', content_hash='04f900dffcbe7e5f3063c48bfea0584d', html='', word_count=384, sentence_count=4, paragraph_count=11, canonical_url='https://www.tuebingen.ai/news/page-2', parent_url='https://www.tuebingen.ai/news', domain='www.tuebingen.ai', subdomain='www', path_depth=2, has_ssl=True, crawl_frequency=2, relevant_keywords=('t\\\\S+bingen', 'eberhard karl', 'palmer', 'lustnau', 's\\\\S+dstadt', 'neckarinsel', 'stocherkahn', 'bebenhausen'), relevance_score=2, last_crawl_timestamp=1752943520.746783, soup=None),\n",
       "   Document(url='https://www.wikidata.org/wiki/Q153978#identifiers', title='University of Tübingen - Wikidata', author='', description='', site_type='', content_hash='011552b6935b443832f84fbfc65f4d56', html='', word_count=3695, sentence_count=181, paragraph_count=1, canonical_url='https://www.wikidata.org/wiki/Q153978#identifiers', parent_url='https://en.wikipedia.org/wiki/Eberhard_Karls_University_of_T%C3%BCbingen', domain='www.wikidata.org', subdomain='www', path_depth=2, has_ssl=True, crawl_frequency=2, relevant_keywords=('t\\\\S+bingen', 'eberhard karl', 'palmer', 'lustnau', 's\\\\S+dstadt', 'neckarinsel', 'stocherkahn', 'bebenhausen'), relevance_score=-20, last_crawl_timestamp=1752937776.1849315, soup=None)],\n",
       "  [Document(url='https://tuebingen.ai/news/want-an-apple', title='Polybot - regenerative, biodiverse, affordable agriculture with AI - Tübingen AI Center', author='', description='', site_type='', content_hash='682eef5d7134d7c5727f6e712741b647', html='', word_count=226, sentence_count=9, paragraph_count=4, canonical_url='https://tuebingen.ai/news/want-an-apple', parent_url='https://tuebingen.ai/news/page-6', domain='tuebingen.ai', subdomain='tuebingen', path_depth=2, has_ssl=True, crawl_frequency=2, relevant_keywords=('t\\\\S+bingen', 'eberhard karl', 'palmer', 'lustnau', 's\\\\S+dstadt', 'neckarinsel', 'stocherkahn', 'bebenhausen'), relevance_score=2, last_crawl_timestamp=1752943794.9854097, soup=None),\n",
       "   Document(url='https://tuebingen.ai/research/provably-learning-object-centric-representations-featured', title='Provably Learning Object-Centric Representations - Tübingen AI Center', author='', description='', site_type='', content_hash='4352648142e773310ba1c853596b8660', html='', word_count=307, sentence_count=14, paragraph_count=4, canonical_url='https://tuebingen.ai/research/provably-learning-object-centric-representations-featured', parent_url='https://tuebingen.ai', domain='tuebingen.ai', subdomain='tuebingen', path_depth=2, has_ssl=True, crawl_frequency=2, relevant_keywords=('t\\\\S+bingen', 'eberhard karl', 'palmer', 'lustnau', 's\\\\S+dstadt', 'neckarinsel', 'stocherkahn', 'bebenhausen'), relevance_score=2, last_crawl_timestamp=1752944205.0075917, soup=None),\n",
       "   Document(url='http://www.dzif.de/en/about_us/partner_sites/tuebingen/', title='Tübingen | German Center for Infection Research', author='', description='', site_type='', content_hash='ca423b20b606102899bc350bcb21c867', html='', word_count=2740, sentence_count=116, paragraph_count=22, canonical_url='http://www.dzif.de/en/about_us/partner_sites/tuebingen/', parent_url='https://wirtschaftskoordination.de/en/partner/tuebingen-research-campus', domain='www.dzif.de', subdomain='www', path_depth=4, has_ssl=False, crawl_frequency=2, relevant_keywords=('t\\\\S+bingen', 'eberhard karl', 'palmer', 'lustnau', 's\\\\S+dstadt', 'neckarinsel', 'stocherkahn', 'bebenhausen'), relevance_score=2, last_crawl_timestamp=1752937919.3597195, soup=None),\n",
       "   Document(url='https://www.dzif.de/en/partner-sites/tubingen', title='Tübingen | German Center for Infection Research', author='', description='', site_type='', content_hash='ca423b20b606102899bc350bcb21c867', html='', word_count=2740, sentence_count=116, paragraph_count=22, canonical_url='https://www.dzif.de/en/partner-sites/tubingen', parent_url='http://www.dzif.de/en/about_us/partner_sites/tuebingen/', domain='www.dzif.de', subdomain='www', path_depth=3, has_ssl=True, crawl_frequency=2, relevant_keywords=('t\\\\S+bingen', 'eberhard karl', 'palmer', 'lustnau', 's\\\\S+dstadt', 'neckarinsel', 'stocherkahn', 'bebenhausen'), relevance_score=2, last_crawl_timestamp=1752943266.3775325, soup=None),\n",
       "   Document(url='http://www.dzne.de/en/research/research-areas/clinical-research/tuebingen/overview/', title='DZNE Tübingen\\xa0>\\xa0Site Tübingen ', author='', description='', site_type='', content_hash='59a706b6dee57aaf6f6f83819cf6bf3a', html='', word_count=389, sentence_count=26, paragraph_count=4, canonical_url='http://www.dzne.de/en/research/research-areas/clinical-research/tuebingen/overview/', parent_url='http://www.dzne.de/en/sites/tuebingen.html', domain='www.dzne.de', subdomain='www', path_depth=6, has_ssl=False, crawl_frequency=2, relevant_keywords=('t\\\\S+bingen', 'eberhard karl', 'palmer', 'lustnau', 's\\\\S+dstadt', 'neckarinsel', 'stocherkahn', 'bebenhausen'), relevance_score=2, last_crawl_timestamp=1752937091.0387707, soup=None),\n",
       "   Document(url='https://www.dzne.de/en/research/research-areas/clinical-research/tuebingen/overview/', title='DZNE Tübingen\\xa0>\\xa0Site Tübingen ', author='', description='', site_type='', content_hash='59a706b6dee57aaf6f6f83819cf6bf3a', html='', word_count=389, sentence_count=26, paragraph_count=4, canonical_url='https://www.dzne.de/en/research/research-areas/clinical-research/tuebingen/overview/', parent_url='https://www.dzne.de/en/about-us/sites/tuebingen/', domain='www.dzne.de', subdomain='www', path_depth=6, has_ssl=True, crawl_frequency=2, relevant_keywords=('t\\\\S+bingen', 'eberhard karl', 'palmer', 'lustnau', 's\\\\S+dstadt', 'neckarinsel', 'stocherkahn', 'bebenhausen'), relevance_score=2, last_crawl_timestamp=1752943937.0171824, soup=None)],\n",
       "  [Document(url='https://cvml.tuebingen.ai/imprint', title='Imprint - CVML - Tübingen AI Center', author='', description='', site_type='', content_hash='b383b25cc0c8d9b83dc086bd77f3deed', html='', word_count=340, sentence_count=23, paragraph_count=10, canonical_url='https://cvml.tuebingen.ai/imprint', parent_url='https://cvml.tuebingen.ai/', domain='cvml.tuebingen.ai', subdomain='cvml', path_depth=1, has_ssl=True, crawl_frequency=2, relevant_keywords=('t\\\\S+bingen', 'eberhard karl', 'palmer', 'lustnau', 's\\\\S+dstadt', 'neckarinsel', 'stocherkahn', 'bebenhausen'), relevance_score=2, last_crawl_timestamp=1752937022.9391963, soup=None),\n",
       "   Document(url='https://cvml.tuebingen.ai/team', title='Team - CVML - Tübingen AI Center', author='', description='', site_type='', content_hash='a933b0b57316705804ef58d780063066', html='', word_count=118, sentence_count=4, paragraph_count=19, canonical_url='https://cvml.tuebingen.ai/team', parent_url='https://cvml.tuebingen.ai/', domain='cvml.tuebingen.ai', subdomain='cvml', path_depth=1, has_ssl=True, crawl_frequency=2, relevant_keywords=('t\\\\S+bingen', 'eberhard karl', 'palmer', 'lustnau', 's\\\\S+dstadt', 'neckarinsel', 'stocherkahn', 'bebenhausen'), relevance_score=2, last_crawl_timestamp=1752936750.2387905, soup=None),\n",
       "   Document(url='http://www.shogun-toolbox.org/gsoc/ideas-2011.html', title='shogun | A Large Scale Machine Learning Toolbox', author='', description='', site_type='', content_hash='03a44a52f74b7d2678b0d94090a2ad15', html='', word_count=3327, sentence_count=227, paragraph_count=0, canonical_url='http://www.shogun-toolbox.org/gsoc/ideas-2011.html', parent_url='http://www.shogun-toolbox.org/gsoc-ideas.html', domain='www.shogun-toolbox.org', subdomain='www', path_depth=2, has_ssl=False, crawl_frequency=2, relevant_keywords=('t\\\\S+bingen', 'eberhard karl', 'palmer', 'lustnau', 's\\\\S+dstadt', 'neckarinsel', 'stocherkahn', 'bebenhausen'), relevance_score=-20, last_crawl_timestamp=1752937666.4315917, soup=None),\n",
       "   Document(url='http://www.shogun-toolbox.org', title='shogun | A Large Scale Machine Learning Toolbox', author='', description='', site_type='', content_hash='af49b1bbe65ab3e8cd237940ccc02416', html='', word_count=2815, sentence_count=325, paragraph_count=19, canonical_url='http://www.shogun-toolbox.org', parent_url='http://sonnenburgs.de/soeren', domain='www.shogun-toolbox.org', subdomain='www', path_depth=0, has_ssl=False, crawl_frequency=2, relevant_keywords=('t\\\\S+bingen', 'eberhard karl', 'palmer', 'lustnau', 's\\\\S+dstadt', 'neckarinsel', 'stocherkahn', 'bebenhausen'), relevance_score=-20, last_crawl_timestamp=1752937084.0926843, soup=None),\n",
       "   Document(url='https://www.conftool.com/cpconf2025/copyright.php', title='CPCONF 2025 - ConfTool Pro - Copyright', author='', description='', site_type='', content_hash='600875f377f7fea2e0ab1576688e05a9', html='', word_count=282, sentence_count=18, paragraph_count=0, canonical_url='https://www.conftool.com/cpconf2025/copyright.php', parent_url='https://www.conftool.com/cpconf2025/', domain='www.conftool.com', subdomain='www', path_depth=2, has_ssl=True, crawl_frequency=2, relevant_keywords=('t\\\\S+bingen', 'eberhard karl', 'palmer', 'lustnau', 's\\\\S+dstadt', 'neckarinsel', 'stocherkahn', 'bebenhausen'), relevance_score=-20, last_crawl_timestamp=1752936802.744944, soup=None),\n",
       "   Document(url='https://www.conftool.com/cpconf2025/about.php', title='CPCONF 2025 - ConfTool Pro - About', author='', description='', site_type='', content_hash='4ccd3694fdc6c8c50e1d6ebe10594d50', html='', word_count=159, sentence_count=13, paragraph_count=3, canonical_url='https://www.conftool.com/cpconf2025/about.php', parent_url='https://www.conftool.com/cpconf2025/', domain='www.conftool.com', subdomain='www', path_depth=2, has_ssl=True, crawl_frequency=2, relevant_keywords=('t\\\\S+bingen', 'eberhard karl', 'palmer', 'lustnau', 's\\\\S+dstadt', 'neckarinsel', 'stocherkahn', 'bebenhausen'), relevance_score=-20, last_crawl_timestamp=1752936870.3286602, soup=None),\n",
       "   Document(url='https://www.conftool.com/cpconf2025/index.php?page=about&print=yes&doprint=yes', title='Computational Psychiatry Conference 2025 - ConfTool Pro Printout', author='', description='', site_type='', content_hash='4ecb33b93d609dc07b2a0efbb5a9b4a7', html='', word_count=110, sentence_count=7, paragraph_count=3, canonical_url='https://www.conftool.com/cpconf2025/index.php?page=about&print=yes&doprint=yes', parent_url='https://www.conftool.com/cpconf2025/about.php', domain='www.conftool.com', subdomain='www', path_depth=2, has_ssl=True, crawl_frequency=2, relevant_keywords=('t\\\\S+bingen', 'eberhard karl', 'palmer', 'lustnau', 's\\\\S+dstadt', 'neckarinsel', 'stocherkahn', 'bebenhausen'), relevance_score=-20, last_crawl_timestamp=1752936920.3319936, soup=None)],\n",
       "  [Document(url='https://www.jugendherberge.de/en/youth-hostels/tuebingen-113/portrait/', title='DJH Youth Hostel Tuebingen - Offers + more - Baden-Württemberg, Germany', author='', description='', site_type='', content_hash='0c4901df4508f77dd3457776c05e1b48', html='', word_count=1486, sentence_count=94, paragraph_count=8, canonical_url='https://www.jugendherberge.de/en/youth-hostels/tuebingen-113/portrait/', parent_url='https://summerschool.lizhaoping.org/accommodation/', domain='www.jugendherberge.de', subdomain='www', path_depth=4, has_ssl=True, crawl_frequency=2, relevant_keywords=('t\\\\S+bingen', 'eberhard karl', 'palmer', 'lustnau', 's\\\\S+dstadt', 'neckarinsel', 'stocherkahn', 'bebenhausen'), relevance_score=2, last_crawl_timestamp=1752937789.0205348, soup=None),\n",
       "   Document(url='https://www.jugendherberge.de/en/youth-hostels/tuebingen/?mobile=0', title='DJH Youth Hostel Tuebingen - Offers + more - Baden-Württemberg, Germany', author='', description='', site_type='', content_hash='0c4901df4508f77dd3457776c05e1b48', html='', word_count=1486, sentence_count=94, paragraph_count=8, canonical_url='https://www.jugendherberge.de/en/youth-hostels/tuebingen/?mobile=0', parent_url='https://www.jugendherberge.de/en/baden-wuerttemberg/inspire-me/culture-and-society/shopping-outlets/', domain='www.jugendherberge.de', subdomain='www', path_depth=3, has_ssl=True, crawl_frequency=2, relevant_keywords=('t\\\\S+bingen', 'eberhard karl', 'palmer', 'lustnau', 's\\\\S+dstadt', 'neckarinsel', 'stocherkahn', 'bebenhausen'), relevance_score=2, last_crawl_timestamp=1752944223.4408693, soup=None)],\n",
       "  [Document(url='https://www.probnumschool.org/pages/home.html', title='ProbNum School 2024', author='', description='', site_type='', content_hash='31f51a13e1acb8c0da81be0c28642b0a', html='', word_count=447, sentence_count=19, paragraph_count=19, canonical_url='https://www.probnumschool.org/pages/home.html', parent_url='http://www.probabilistic-numerics.org/meetings/2023_SpringSchool/', domain='www.probnumschool.org', subdomain='www', path_depth=2, has_ssl=True, crawl_frequency=2, relevant_keywords=('t\\\\S+bingen', 'eberhard karl', 'palmer', 'lustnau', 's\\\\S+dstadt', 'neckarinsel', 'stocherkahn', 'bebenhausen'), relevance_score=-20, last_crawl_timestamp=1752936968.3334098, soup=None),\n",
       "   Document(url='http://www.dzne.de/en/research/studies/clinical-studies/standorte/tuebingen/', title='DZNE \\xa0>\\xa0Tübingen ', author='', description='', site_type='', content_hash='71ee45694d4a52e620486de205d4d54d', html='', word_count=1248, sentence_count=36, paragraph_count=3, canonical_url='http://www.dzne.de/en/research/studies/clinical-studies/standorte/tuebingen/', parent_url='http://www.dzne.de/en/sites/tuebingen.html', domain='www.dzne.de', subdomain='www', path_depth=6, has_ssl=False, crawl_frequency=2, relevant_keywords=('t\\\\S+bingen', 'eberhard karl', 'palmer', 'lustnau', 's\\\\S+dstadt', 'neckarinsel', 'stocherkahn', 'bebenhausen'), relevance_score=2, last_crawl_timestamp=1752937166.9954903, soup=None),\n",
       "   Document(url='https://www.dzne.de/en/research/studies/clinical-studies/standorte/tuebingen/', title='DZNE \\xa0>\\xa0Tübingen ', author='', description='', site_type='', content_hash='71ee45694d4a52e620486de205d4d54d', html='', word_count=1248, sentence_count=36, paragraph_count=3, canonical_url='https://www.dzne.de/en/research/studies/clinical-studies/standorte/tuebingen/', parent_url='https://www.dzne.de/en/about-us/sites/tuebingen/', domain='www.dzne.de', subdomain='www', path_depth=6, has_ssl=True, crawl_frequency=2, relevant_keywords=('t\\\\S+bingen', 'eberhard karl', 'palmer', 'lustnau', 's\\\\S+dstadt', 'neckarinsel', 'stocherkahn', 'bebenhausen'), relevance_score=2, last_crawl_timestamp=1752943789.3620305, soup=None)],\n",
       "  [Document(url='https://hertie.ai/imprint', title='Imprint', author='', description='', site_type='', content_hash='4b55fdb688478f3fbe4047ad2f10a6e0', html='', word_count=445, sentence_count=33, paragraph_count=7, canonical_url='https://hertie.ai/imprint', parent_url='https://hertie.ai/', domain='hertie.ai', subdomain='hertie', path_depth=1, has_ssl=True, crawl_frequency=2, relevant_keywords=('t\\\\S+bingen', 'eberhard karl', 'palmer', 'lustnau', 's\\\\S+dstadt', 'neckarinsel', 'stocherkahn', 'bebenhausen'), relevance_score=-20, last_crawl_timestamp=1752936415.1270962, soup=None),\n",
       "   Document(url='https://braunlab.wordpress.com/people/', title='People – Braun Lab', author='', description='', site_type='', content_hash='d2ed1c0f552c30a7af826be6e68bc797', html='', word_count=727, sentence_count=62, paragraph_count=19, canonical_url='https://braunlab.wordpress.com/people/', parent_url='https://cherish-network.eu/all-projects-cochlear-implant-spatial-hearing-eu-msca/project-1-tactile-sound-localization-cochlear-implant/', domain='braunlab.wordpress.com', subdomain='braunlab', path_depth=1, has_ssl=True, crawl_frequency=2, relevant_keywords=('t\\\\S+bingen', 'eberhard karl', 'palmer', 'lustnau', 's\\\\S+dstadt', 'neckarinsel', 'stocherkahn', 'bebenhausen'), relevance_score=-20, last_crawl_timestamp=1752936880.472122, soup=None),\n",
       "   Document(url='https://cris.fau.de/organisations/ext/137309146/projects', title='\\nUniversitätsklinikum Tübingen - FAU CRIS\\n', author='', description='', site_type='', content_hash='66a29fce47c8c8eabc3c29add817528c', html='', word_count=232, sentence_count=10, paragraph_count=16, canonical_url='https://cris.fau.de/organisations/ext/137309146/projects', parent_url='https://cris.fau.de/organisations/ext/137309146/', domain='cris.fau.de', subdomain='cris', path_depth=4, has_ssl=True, crawl_frequency=2, relevant_keywords=('t\\\\S+bingen', 'eberhard karl', 'palmer', 'lustnau', 's\\\\S+dstadt', 'neckarinsel', 'stocherkahn', 'bebenhausen'), relevance_score=-20, last_crawl_timestamp=1752944887.9881816, soup=None),\n",
       "   Document(url='https://www.eye-tuebingen.de/labs/clinical-research-labs/trauzettel-klosinski-lab/collaborations', title='Collaborations', author='', description='', site_type='', content_hash='9f8d3dde02607698c1e4d01560014d21', html='', word_count=394, sentence_count=23, paragraph_count=2, canonical_url='https://www.eye-tuebingen.de/labs/clinical-research-labs/trauzettel-klosinski-lab/collaborations', parent_url='https://www.eye-tuebingen.de/labs/clinical-research-labs/trauzettel-klosinski-lab', domain='www.eye-tuebingen.de', subdomain='www', path_depth=4, has_ssl=True, crawl_frequency=2, relevant_keywords=('t\\\\S+bingen', 'eberhard karl', 'palmer', 'lustnau', 's\\\\S+dstadt', 'neckarinsel', 'stocherkahn', 'bebenhausen'), relevance_score=2, last_crawl_timestamp=1752944775.1314461, soup=None),\n",
       "   Document(url='https://cris.fau.de/organisations/ext/137309146/', title='\\nUniversitätsklinikum Tübingen - FAU CRIS\\n', author='', description='', site_type='', content_hash='248251ce6933684c0dd6410ef09cf352', html='', word_count=467, sentence_count=14, paragraph_count=15, canonical_url='https://cris.fau.de/organisations/ext/137309146/', parent_url='https://cris.fau.de/publications/248700448/', domain='cris.fau.de', subdomain='cris', path_depth=3, has_ssl=True, crawl_frequency=2, relevant_keywords=('t\\\\S+bingen', 'eberhard karl', 'palmer', 'lustnau', 's\\\\S+dstadt', 'neckarinsel', 'stocherkahn', 'bebenhausen'), relevance_score=-20, last_crawl_timestamp=1752944523.633846, soup=None),\n",
       "   Document(url='https://thot.philo.ulg.ac.be/concept/thot-4536', title='Thot - Thesauri and Ontology for Ancient Egyptian Resources', author='', description='', site_type='', content_hash='cb404b61c05ca479efb1ce1f848341b2', html='', word_count=155, sentence_count=10, paragraph_count=0, canonical_url='https://thot.philo.ulg.ac.be/concept/thot-4536', parent_url='https://thesaurus-linguae-aegyptiae.de/thesaurus/OOJEZSFYEVC3DJQUOYVEAHDML4', domain='thot.philo.ulg.ac.be', subdomain='thot', path_depth=2, has_ssl=True, crawl_frequency=2, relevant_keywords=('t\\\\S+bingen', 'eberhard karl', 'palmer', 'lustnau', 's\\\\S+dstadt', 'neckarinsel', 'stocherkahn', 'bebenhausen'), relevance_score=-20, last_crawl_timestamp=1752936355.555021, soup=None),\n",
       "   Document(url='https://snarc-llgc.wikibase.cloud/wiki/Item:Q47913', title='Tübingen - Semantic Name Authority Repository Cymru', author='', description='', site_type='', content_hash='fe9c9fad8b27512f538a41cb064249f1', html='', word_count=183, sentence_count=11, paragraph_count=0, canonical_url='https://snarc-llgc.wikibase.cloud/wiki/Item:Q47913', parent_url='https://www.wikidata.org/wiki/Q3806#identifiers', domain='snarc-llgc.wikibase.cloud', subdomain='snarc-llgc', path_depth=2, has_ssl=True, crawl_frequency=2, relevant_keywords=('t\\\\S+bingen', 'eberhard karl', 'palmer', 'lustnau', 's\\\\S+dstadt', 'neckarinsel', 'stocherkahn', 'bebenhausen'), relevance_score=-20, last_crawl_timestamp=1752936374.5325592, soup=None)],\n",
       "  [Document(url='http://www.fantasyliterature.com/fantasy-author/maassarahj/', title='Sarah J. Maas | Fantasy Literature: Fantasy and Science Fiction Book and Audiobook Reviews', author='', description='', site_type='', content_hash='f725c6d6757eb6e1b4d5a27681df5732', html='', word_count=7107, sentence_count=606, paragraph_count=33, canonical_url='http://www.fantasyliterature.com/fantasy-author/maassarahj/', parent_url='http://www.fantasyliterature.com/reviews/shorts-hill-osborne-towles-buckell-palmer/', domain='www.fantasyliterature.com', subdomain='www', path_depth=2, has_ssl=False, crawl_frequency=2, relevant_keywords=('t\\\\S+bingen', 'eberhard karl', 'palmer', 'lustnau', 's\\\\S+dstadt', 'neckarinsel', 'stocherkahn', 'bebenhausen'), relevance_score=-20, last_crawl_timestamp=1752944513.0440078, soup=None),\n",
       "   Document(url='http://www.fantasyliterature.com/fantasy-author/murdockcatherinegilbert/', title='Catherine Gilbert Murdock | Fantasy Literature: Fantasy and Science Fiction Book and Audiobook Reviews', author='', description='', site_type='', content_hash='31c4b6000ef39e0cc730aa07cc00b591', html='', word_count=6026, sentence_count=558, paragraph_count=11, canonical_url='http://www.fantasyliterature.com/fantasy-author/murdockcatherinegilbert/', parent_url='http://www.fantasyliterature.com/reviews/shorts-hill-osborne-towles-buckell-palmer/', domain='www.fantasyliterature.com', subdomain='www', path_depth=2, has_ssl=False, crawl_frequency=2, relevant_keywords=('t\\\\S+bingen', 'eberhard karl', 'palmer', 'lustnau', 's\\\\S+dstadt', 'neckarinsel', 'stocherkahn', 'bebenhausen'), relevance_score=-20, last_crawl_timestamp=1752942924.0613377, soup=None),\n",
       "   Document(url='http://www.fantasyliterature.com/reviews/shorts-hill-osborne-towles-buckell-palmer/', title='SHORTS: Hill, Osborne, Towles, Buckell, Palmer | Fantasy Literature: Fantasy and Science Fiction Book and Audiobook Reviews', author='', description='', site_type='', content_hash='23f75906d9042b82fc1bd388fcce7507', html='', word_count=7581, sentence_count=625, paragraph_count=30, canonical_url='http://www.fantasyliterature.com/reviews/shorts-hill-osborne-towles-buckell-palmer/', parent_url='https://www.goodreads.com/book/show/43801817-full-throttle', domain='www.fantasyliterature.com', subdomain='www', path_depth=2, has_ssl=False, crawl_frequency=2, relevant_keywords=('t\\\\S+bingen', 'eberhard karl', 'palmer', 'lustnau', 's\\\\S+dstadt', 'neckarinsel', 'stocherkahn', 'bebenhausen'), relevance_score=2, last_crawl_timestamp=1752937356.2427366, soup=None),\n",
       "   Document(url='https://oripress.com', title=' Ori Press', author='', description='', site_type='', content_hash='4ee3db5f89cb6e4f5619e7d07b55f03a', html='', word_count=4865, sentence_count=103, paragraph_count=4, canonical_url='https://oripress.com', parent_url='http://bethgelab.org/people', domain='oripress.com', subdomain='oripress', path_depth=0, has_ssl=True, crawl_frequency=2, relevant_keywords=('t\\\\S+bingen', 'eberhard karl', 'palmer', 'lustnau', 's\\\\S+dstadt', 'neckarinsel', 'stocherkahn', 'bebenhausen'), relevance_score=-20, last_crawl_timestamp=1752936455.3929157, soup=None)],\n",
       "  [Document(url='http://cordis.europa.eu/project/id/749068?format=xml', title='Understanding the impact of parental occupation on gender differences in field of study choice in Germany', author='', description='', site_type='', content_hash='5a47a18b7c1a6d7a6704d041ac22a40a', html='', word_count=751, sentence_count=54, paragraph_count=0, canonical_url='http://cordis.europa.eu/project/id/749068?format=xml', parent_url='http://cordis.europa.eu/projects/749068', domain='cordis.europa.eu', subdomain='cordis', path_depth=3, has_ssl=False, crawl_frequency=2, relevant_keywords=('t\\\\S+bingen', 'eberhard karl', 'palmer', 'lustnau', 's\\\\S+dstadt', 'neckarinsel', 'stocherkahn', 'bebenhausen'), relevance_score=-20, last_crawl_timestamp=1752944501.2417362, soup=None)],\n",
       "  [Document(url='http://sites-of-memory.de/main/tuebingenwarmemorial.html', title='hatlie.de Tuebingen War Memorial', author='', description='', site_type='', content_hash='ece7d91733f2f8a7768032d7309e452c', html='', word_count=573, sentence_count=39, paragraph_count=15, canonical_url='http://sites-of-memory.de/main/tuebingenwarmemorial.html', parent_url='http://sites-of-memory.de/main/location.html', domain='sites-of-memory.de', subdomain='sites-of-memory', path_depth=2, has_ssl=False, crawl_frequency=2, relevant_keywords=('t\\\\S+bingen', 'eberhard karl', 'palmer', 'lustnau', 's\\\\S+dstadt', 'neckarinsel', 'stocherkahn', 'bebenhausen'), relevance_score=2, last_crawl_timestamp=1752937795.6714811, soup=None),\n",
       "   Document(url='http://sites-of-memory.de/main/location.html', title='www.hatlie.de Sites of Memory By Location', author='', description='', site_type='', content_hash='00d8ca76629b0b42ab6e45d619d7a7cd', html='', word_count=4481, sentence_count=419, paragraph_count=15, canonical_url='http://sites-of-memory.de/main/location.html', parent_url='http://sites-of-memory.de/main/lustnau.html', domain='sites-of-memory.de', subdomain='sites-of-memory', path_depth=2, has_ssl=False, crawl_frequency=2, relevant_keywords=('t\\\\S+bingen', 'eberhard karl', 'palmer', 'lustnau', 's\\\\S+dstadt', 'neckarinsel', 'stocherkahn', 'bebenhausen'), relevance_score=-20, last_crawl_timestamp=1752936652.5959065, soup=None),\n",
       "   Document(url='http://sites-of-memory.de/main/tuebingenww1cemetery.html', title='hatlie.de Tuebingen WW1 Cemetery', author='', description='', site_type='', content_hash='79943ab5e668b8a1d5982484871e58b7', html='', word_count=756, sentence_count=45, paragraph_count=16, canonical_url='http://sites-of-memory.de/main/tuebingenww1cemetery.html', parent_url='http://sites-of-memory.de/main/location.html', domain='sites-of-memory.de', subdomain='sites-of-memory', path_depth=2, has_ssl=False, crawl_frequency=2, relevant_keywords=('t\\\\S+bingen', 'eberhard karl', 'palmer', 'lustnau', 's\\\\S+dstadt', 'neckarinsel', 'stocherkahn', 'bebenhausen'), relevance_score=2, last_crawl_timestamp=1752937823.8275979, soup=None)],\n",
       "  [Document(url='http://www.cs.ubbcluj.ro/~csatol', title='Lehel Csató', author='', description='', site_type='', content_hash='835a84ceb8de6ea48e36f3960dbb7ca6', html='', word_count=863, sentence_count=52, paragraph_count=7, canonical_url='http://www.cs.ubbcluj.ro/~csatol', parent_url='http://mlg.eng.cam.ac.uk/carl/', domain='www.cs.ubbcluj.ro', subdomain='www', path_depth=1, has_ssl=False, crawl_frequency=2, relevant_keywords=('t\\\\S+bingen', 'eberhard karl', 'palmer', 'lustnau', 's\\\\S+dstadt', 'neckarinsel', 'stocherkahn', 'bebenhausen'), relevance_score=-20, last_crawl_timestamp=1752936492.5791163, soup=None),\n",
       "   Document(url='https://sketchfab.com/philipweb/followings', title='People following philip weber (@philipweb) - Sketchfab', author='', description='', site_type='', content_hash='305037a406d90a8ea835ec03e646c619', html='', word_count=372, sentence_count=5, paragraph_count=2, canonical_url='https://sketchfab.com/philipweb/followings', parent_url='https://sketchfab.com/philipweb', domain='sketchfab.com', subdomain='sketchfab', path_depth=2, has_ssl=True, crawl_frequency=2, relevant_keywords=('t\\\\S+bingen', 'eberhard karl', 'palmer', 'lustnau', 's\\\\S+dstadt', 'neckarinsel', 'stocherkahn', 'bebenhausen'), relevance_score=-20, last_crawl_timestamp=1752943278.488213, soup=None),\n",
       "   Document(url='https://icml.cc/Conferences/2022/Reviewers', title='ICML 2022 Reviewers', author='', description='', site_type='', content_hash='194a9cd739821aedf593ed1254c0d48f', html='', word_count=17615, sentence_count=68, paragraph_count=8, canonical_url='https://icml.cc/Conferences/2022/Reviewers', parent_url='https://bamos.github.io/', domain='icml.cc', subdomain='icml', path_depth=3, has_ssl=True, crawl_frequency=2, relevant_keywords=('t\\\\S+bingen', 'eberhard karl', 'palmer', 'lustnau', 's\\\\S+dstadt', 'neckarinsel', 'stocherkahn', 'bebenhausen'), relevance_score=-20, last_crawl_timestamp=1752937012.5621352, soup=None),\n",
       "   Document(url='https://www.tuebinger-erbe-lauf.de/en/impressum', title='Impressum', author='', description='', site_type='', content_hash='cdbad6bb3bcd336e1ba52e1ec0e99b4a', html='', word_count=1036, sentence_count=50, paragraph_count=27, canonical_url='https://www.tuebinger-erbe-lauf.de/en/impressum', parent_url='https://www.tuebinger-erbe-lauf.de/en', domain='www.tuebinger-erbe-lauf.de', subdomain='www', path_depth=2, has_ssl=True, crawl_frequency=2, relevant_keywords=('t\\\\S+bingen', 'eberhard karl', 'palmer', 'lustnau', 's\\\\S+dstadt', 'neckarinsel', 'stocherkahn', 'bebenhausen'), relevance_score=-20, last_crawl_timestamp=1752937119.1465564, soup=None),\n",
       "   Document(url='https://www.conftool.com/cpconf2025/index.php?page=login&ismobile=true&skipautoswitch=true', title='CPCONF 2025 - ConfTool Pro - Login', author='', description='', site_type='', content_hash='ca9821b8ca86f9c67edc199310e2486c', html='', word_count=115, sentence_count=10, paragraph_count=0, canonical_url='https://www.conftool.com/cpconf2025/index.php?page=login&ismobile=true&skipautoswitch=true', parent_url='https://www.conftool.com/cpconf2025/', domain='www.conftool.com', subdomain='www', path_depth=2, has_ssl=True, crawl_frequency=2, relevant_keywords=('t\\\\S+bingen', 'eberhard karl', 'palmer', 'lustnau', 's\\\\S+dstadt', 'neckarinsel', 'stocherkahn', 'bebenhausen'), relevance_score=-20, last_crawl_timestamp=1752936790.135885, soup=None),\n",
       "   Document(url='https://www.conftool.com/cpconf2025/index.php?page=login&ismobile=false&skipautoswitch=true', title='CPCONF 2025 - ConfTool Pro - Login', author='', description='', site_type='', content_hash='400cc67d2a4cb2103ae198832db0a2f1', html='', word_count=120, sentence_count=10, paragraph_count=0, canonical_url='https://www.conftool.com/cpconf2025/index.php?page=login&ismobile=false&skipautoswitch=true', parent_url='https://www.conftool.com/cpconf2025/index.php?page=login&ismobile=true&skipautoswitch=true', domain='www.conftool.com', subdomain='www', path_depth=2, has_ssl=True, crawl_frequency=2, relevant_keywords=('t\\\\S+bingen', 'eberhard karl', 'palmer', 'lustnau', 's\\\\S+dstadt', 'neckarinsel', 'stocherkahn', 'bebenhausen'), relevance_score=-20, last_crawl_timestamp=1752936879.0929523, soup=None),\n",
       "   Document(url='https://www.conftool.com/cpconf2025/index.php?page=sendPassword', title='CPCONF 2025 - ConfTool Pro - SendPassword', author='', description='', site_type='', content_hash='2e2da92557e8d8ef358cbd547400972c', html='', word_count=108, sentence_count=9, paragraph_count=0, canonical_url='https://www.conftool.com/cpconf2025/index.php?page=sendPassword', parent_url='https://www.conftool.com/cpconf2025/', domain='www.conftool.com', subdomain='www', path_depth=2, has_ssl=True, crawl_frequency=2, relevant_keywords=('t\\\\S+bingen', 'eberhard karl', 'palmer', 'lustnau', 's\\\\S+dstadt', 'neckarinsel', 'stocherkahn', 'bebenhausen'), relevance_score=-20, last_crawl_timestamp=1752936839.2539315, soup=None),\n",
       "   Document(url='https://www.conftool.com/cpconf2025/index.php?page=sendUsername', title='CPCONF 2025 - ConfTool Pro - SendUsername', author='', description='', site_type='', content_hash='172f944e4da5049ee84b15a326721b5d', html='', word_count=99, sentence_count=9, paragraph_count=0, canonical_url='https://www.conftool.com/cpconf2025/index.php?page=sendUsername', parent_url='https://www.conftool.com/cpconf2025/', domain='www.conftool.com', subdomain='www', path_depth=2, has_ssl=True, crawl_frequency=2, relevant_keywords=('t\\\\S+bingen', 'eberhard karl', 'palmer', 'lustnau', 's\\\\S+dstadt', 'neckarinsel', 'stocherkahn', 'bebenhausen'), relevance_score=-20, last_crawl_timestamp=1752936859.891494, soup=None),\n",
       "   Document(url='https://www.conftool.com/cpconf2025/index.php?page=logout', title='CPCONF 2025 - ConfTool Pro - Login', author='', description='', site_type='', content_hash='4b86ead3ba484802fc34475655ca5c8a', html='', word_count=120, sentence_count=10, paragraph_count=0, canonical_url='https://www.conftool.com/cpconf2025/index.php?page=logout', parent_url='https://www.conftool.com/cpconf2025/copyright.php', domain='www.conftool.com', subdomain='www', path_depth=2, has_ssl=True, crawl_frequency=2, relevant_keywords=('t\\\\S+bingen', 'eberhard karl', 'palmer', 'lustnau', 's\\\\S+dstadt', 'neckarinsel', 'stocherkahn', 'bebenhausen'), relevance_score=-20, last_crawl_timestamp=1752936901.1766706, soup=None),\n",
       "   Document(url='https://www.conftool.com/cpconf2025/', title='CPCONF 2025 - ConfTool Pro - Login', author='', description='', site_type='', content_hash='a0534c7a2e2778ad071fc2598fca874e', html='', word_count=120, sentence_count=10, paragraph_count=0, canonical_url='https://www.conftool.com/cpconf2025/', parent_url='https://www.cpconf.org/', domain='www.conftool.com', subdomain='www', path_depth=1, has_ssl=True, crawl_frequency=2, relevant_keywords=('t\\\\S+bingen', 'eberhard karl', 'palmer', 'lustnau', 's\\\\S+dstadt', 'neckarinsel', 'stocherkahn', 'bebenhausen'), relevance_score=-20, last_crawl_timestamp=1752936778.3730938, soup=None)]],\n",
       " {np.str_('https://uni-tuebingen.de/en/1396'): -0.014992639422416687,\n",
       "  np.str_('https://uni-tuebingen.de/en/1056'): -0.016966257244348526,\n",
       "  np.str_('https://uni-tuebingen.de/en/'): -0.0169859416782856,\n",
       "  np.str_('https://uni-tuebingen.de/en/1088'): -0.017364203929901123,\n",
       "  np.str_('http://www.uni-tuebingen.de/en/'): -0.016985952854156494,\n",
       "  np.str_('https://uni-tuebingen.de/en/1091'): -0.017102468758821487,\n",
       "  np.str_('https://www.biologia.unipd.it/people/?tx_wfqbe_pi1%5Baccount%5D=ildiko-szabo'): 0.37340787053108215,\n",
       "  np.str_('https://www.wurstkueche.com/en/drinks/'): 0.2922782301902771,\n",
       "  np.str_('https://www.wurstkueche.com/en/menu/'): 0.37811553478240967,\n",
       "  np.str_('https://privatecityhotels.com/en/my-perfect-day/trumer-stube/'): 0.18893304467201233,\n",
       "  np.str_('https://www.krone-tuebingen.de/en/restaurants/breakfast/'): 0.14521534740924835,\n",
       "  np.str_('https://tuewiml.github.io/contact.html'): 0.003926875069737434,\n",
       "  np.str_('https://en.wikisource.org/wiki/1911_Encyclop%C3%A6dia_Britannica/Tubuai'): -0.01983577385544777,\n",
       "  np.str_('https://www.wurstkueche.com/en/frontpage-2/'): 0.13427671790122986,\n",
       "  np.str_('https://tuewiml.github.io/news.html'): -0.003905010409653187,\n",
       "  np.str_('https://tuewiml.github.io/'): 0.0019675735384225845,\n",
       "  np.str_('https://tuewiml.github.io'): 0.0008589410572312772,\n",
       "  np.str_('https://en.wikisource.org/wiki/1911_Encyclop%C3%A6dia_Britannica/T%C3%BCbingen'): -0.023829106241464615,\n",
       "  np.str_('https://tuebingen.ai/privacy-policy'): -0.01977067068219185,\n",
       "  np.str_('https://tuebingen.ai/wiki/communication'): -0.035139281302690506,\n",
       "  np.str_('https://tuebingen.ai/news'): 0.09120382368564606,\n",
       "  np.str_('https://tuebingen.ai/news/elllot-project-launches-to-advance-general-purpose-ai-under-horizon-europe'): 0.006152695044875145,\n",
       "  np.str_('https://www.tuebingen.ai/news/page-1'): 0.032345544546842575,\n",
       "  np.str_('https://tuebingen.ai/news/new-principal-investigators-to-join-ellis-institute-tuebingen-in-2025'): 0.010536818765103817,\n",
       "  np.str_('https://tuebingen.ai/news/page-6'): 0.005215395241975784,\n",
       "  np.str_('https://tuebingen.ai/news/page-4'): 0.03630160912871361,\n",
       "  np.str_('https://www.tuebingen.ai/news/page-6'): 0.007151009514927864,\n",
       "  np.str_('https://www.tuebingen.ai/news/page-4'): 0.027703864499926567,\n",
       "  np.str_('https://www.tuebingen.ai/careers#c144'): 0.007472936064004898,\n",
       "  np.str_('https://tuebingen.ai/wiki/getting-started'): -0.0068528056144714355,\n",
       "  np.str_('https://tuebingen.ai/news/announcement-tuebingen-ai-talk-series-launch-with-antonio-orvieto'): 0.00484723225235939,\n",
       "  np.str_('https://www.tuebingen.ai/news/page-5'): -0.000909280963242054,\n",
       "  np.str_('https://tuebingen.ai/news/page-3'): 0.06598244607448578,\n",
       "  np.str_('https://tuebingen.ai/news/want-an-apple'): -0.0006782915443181992,\n",
       "  np.str_('https://tuebingen.ai/news/page-2'): -0.019194427877664566,\n",
       "  np.str_('https://tuebingen.ai/news/page-5'): -0.001559714786708355,\n",
       "  np.str_('https://cvml.tuebingen.ai/imprint'): -0.08680762350559235,\n",
       "  np.str_('https://tuebingen.ai/news/tuebingen-ai-summer-poster-event-2025'): 0.047276001423597336,\n",
       "  np.str_('https://tuebingen.ai/careers'): 0.030247598886489868,\n",
       "  np.str_('https://tuebingen.ai/imprint'): 0.026428865268826485,\n",
       "  np.str_('https://tuebingen.ai/research/provably-learning-object-centric-representations-featured'): -0.015108086168766022,\n",
       "  np.str_('https://www.tuebingen.ai/news/page-3'): 0.06598242372274399,\n",
       "  np.str_('https://www.tuebingen.ai/news/page-2'): -0.014449737966060638,\n",
       "  np.str_('http://www.dzif.de/en/about_us/partner_sites/tuebingen/'): 0.05784456431865692,\n",
       "  np.str_('https://www.dzif.de/en/partner-sites/tubingen'): 0.05968675762414932,\n",
       "  np.str_('https://www.jugendherberge.de/en/youth-hostels/tuebingen-113/portrait/'): -0.0303470678627491,\n",
       "  np.str_('https://www.jugendherberge.de/en/youth-hostels/tuebingen/?mobile=0'): -0.03117283061146736,\n",
       "  np.str_('https://www.jugendherberge.de/en/baden-wuerttemberg/inspire-me/culture-and-society/christmas-markets/'): 0.056659452617168427,\n",
       "  np.str_('https://www.probnumschool.org/pages/home.html'): -0.0477076917886734,\n",
       "  np.str_('https://hertie.ai/imprint'): -0.022959228605031967,\n",
       "  np.str_('https://www.cvlibs.net/imprint.php'): 0.010305840522050858,\n",
       "  np.str_('https://braunlab.wordpress.com/people/'): 0.04231572896242142,\n",
       "  np.str_('http://www.fantasyliterature.com/fantasy-author/maassarahj/'): 0.06333132088184357,\n",
       "  np.str_('http://www.fantasyliterature.com/fantasy-author/murdockcatherinegilbert/'): 0.04797058552503586,\n",
       "  np.str_('http://www.fantasyliterature.com/reviews/shorts-hill-osborne-towles-buckell-palmer/'): 0.05846421793103218,\n",
       "  np.str_('https://cvml.tuebingen.ai/team'): -0.0007439660839736462,\n",
       "  np.str_('https://cris.fau.de/organisations/ext/137309146/projects'): 0.019561201333999634,\n",
       "  np.str_('https://www.hih-tuebingen.de/en/privacy-notice'): 0.05002264678478241,\n",
       "  np.str_('http://www.dzne.de/en/research/research-areas/clinical-research/tuebingen/overview/'): -0.009305787272751331,\n",
       "  np.str_('https://www.eye-tuebingen.de/labs/clinical-research-labs/trauzettel-klosinski-lab/collaborations'): 0.017413580790162086,\n",
       "  np.str_('https://www.dzne.de/en/research/research-areas/clinical-research/tuebingen/overview/'): -0.019469553604722023,\n",
       "  np.str_('https://cris.fau.de/organisations/ext/137309146/'): 0.006412964314222336,\n",
       "  np.str_('https://www.wikidata.org/wiki/Q153978#identifiers'): 0.023138144984841347,\n",
       "  np.str_('https://www.germany.travel/en/cities-culture/tuebingen.html'): 0.019735580310225487,\n",
       "  np.str_('https://www.visit-bw.com/en/taste/beer-culture'): 0.20773297548294067,\n",
       "  np.str_('https://wirtschaftskoordination.de/en/partner/tuebingen-research-campus'): 0.07161229848861694,\n",
       "  np.str_('https://www.krone-tuebingen.de/en/restaurants/'): 0.09813504666090012,\n",
       "  np.str_('https://onnoeberhard.com/2019/08/21/cool-logic.html'): 0.00763104110956192,\n",
       "  np.str_('https://www.krone-tuebingen.de/en/hotel/wellness/'): 0.09678120166063309,\n",
       "  np.str_('http://www.dzne.de/en/research/studies/clinical-studies/standorte/tuebingen/'): -0.10399248450994492,\n",
       "  np.str_('https://www.jugendherberge.de/en/baden-wuerttemberg/inspire-me/culture-and-society/shopping-outlets/'): 0.0026783309876918793,\n",
       "  np.str_('https://www.wikidata.org/wiki/Q3806#identifiers'): 0.0011751241981983185,\n",
       "  np.str_('http://sites-of-memory.de/main/tuebingenwarmemorial.html'): -0.0890534445643425,\n",
       "  np.str_('http://sites-of-memory.de/main/theme.html'): -0.052897389978170395,\n",
       "  np.str_('https://www.dzne.de/en/research/studies/clinical-studies/standorte/tuebingen/'): -0.06864863634109497,\n",
       "  np.str_('http://www.cs.ubbcluj.ro/~csatol'): -0.03818953037261963,\n",
       "  np.str_('https://thot.philo.ulg.ac.be/concept/thot-4536'): 0.01998680830001831,\n",
       "  np.str_('http://sites-of-memory.de/main/location.html'): -0.015009410679340363,\n",
       "  np.str_('http://cordis.europa.eu/project/id/749068?format=xml'): -0.00755896745249629,\n",
       "  np.str_('https://snarc-llgc.wikibase.cloud/wiki/Item:Q47913'): -0.010260965675115585,\n",
       "  np.str_('https://docs.lib.purdue.edu/authors.html'): 0.0808148980140686,\n",
       "  np.str_('https://sketchfab.com/philipweb/followings'): -0.1273733377456665,\n",
       "  np.str_('https://eg2023.saarland-informatics-campus.de/full-papers-ipc/'): 0.050166722387075424,\n",
       "  np.str_('https://www.krone-tuebingen.de/en/restaurants/ludwigs-vinothek/'): 0.09364259243011475,\n",
       "  np.str_('https://icml.cc/Conferences/2022/Reviewers'): 0.045245833694934845,\n",
       "  np.str_('http://sites-of-memory.de/main/tuebingenww1cemetery.html'): -0.02384071797132492,\n",
       "  np.str_('https://www.tuebinger-erbe-lauf.de/en/impressum'): -0.02984313853085041,\n",
       "  np.str_('https://simple.wikipedia.org/wiki/T%C3%BCbingen'): 0.08570131659507751,\n",
       "  np.str_('http://www.shogun-toolbox.org/gsoc/ideas-2011.html'): -0.031627193093299866,\n",
       "  np.str_('http://www.shogun-toolbox.org'): -0.0112813301384449,\n",
       "  np.str_('https://oripress.com'): 0.03576957806944847,\n",
       "  np.str_('https://www.conftool.com/cpconf2025/index.php?page=login&ismobile=true&skipautoswitch=true'): -0.021344678476452827,\n",
       "  np.str_('https://www.conftool.com/cpconf2025/index.php?page=login&ismobile=false&skipautoswitch=true'): -0.06365202367305756,\n",
       "  np.str_('https://www.conftool.com/cpconf2025/index.php?page=sendPassword'): -0.03187405318021774,\n",
       "  np.str_('https://www.conftool.com/cpconf2025/copyright.php'): -0.03431015461683273,\n",
       "  np.str_('https://www.conftool.com/cpconf2025/about.php'): -0.029704624786973,\n",
       "  np.str_('https://www.conftool.com/cpconf2025/index.php?page=about&print=yes&doprint=yes'): -0.02585781365633011,\n",
       "  np.str_('https://www.conftool.com/cpconf2025/index.php?page=sendUsername'): -0.027260854840278625,\n",
       "  np.str_('https://www.conftool.com/cpconf2025/index.php?page=logout'): -0.045341163873672485,\n",
       "  np.str_('https://www.conftool.com/cpconf2025/'): -0.02546081133186817})"
      ]
     },
     "execution_count": 17,
     "metadata": {},
     "output_type": "execute_result"
    }
   ],
   "source": [
    "from sklearn.cluster import AffinityPropagation\n",
    "\n",
    "search_engine.search_and_cluster(\"food and drinks\", AffinityPropagation())"
   ]
  },
  {
   "cell_type": "code",
   "execution_count": null,
   "metadata": {},
   "outputs": [],
   "source": [
    "#TODO: Implement an interactive user interface for part a of this exercise.\n",
    "\n",
    "#Produce a text file with 100 results per query in the format specified above.\n",
    "def batch(results):\n",
    "    #TODO: Implement me.    \n",
    "    pass"
   ]
  },
  {
   "attachments": {},
   "cell_type": "markdown",
   "metadata": {},
   "source": [
    "# 4. Performance Evaluation \n",
    "We will evaluate the performance of our search systems on the basis of five queries. Two of them are avilable to you now for engineering purposes:\n",
    "- `tübingen attractions`\n",
    "- `food and drinks`\n",
    "\n",
    "The remaining three queries will be given to you during our final session on July 22nd. Please be prepared to run your systems and produce a single result file for all five queries live in class. That means you should aim for processing times of no more than ~1 minute per query. We will ask you to send carsten.eickhoff@uni-tuebingen.de that file."
   ]
  },
  {
   "attachments": {},
   "cell_type": "markdown",
   "metadata": {},
   "source": [
    "# Grading\n",
    "Your final projects will be graded along the following criteria:\n",
    "- 25% Code correctness and quality (to be delivered on this sheet)\n",
    "- 25% Report (4 pages, PDF, explanation and justification of your design choices)\n",
    "- 25% System performance (based on how well your system performs on the 5 queries relative to the other teams in terms of nDCG)\n",
    "- 15% Creativity and innovativeness of your approach (in particular with respect to your search system #2 and user interface #3 innovations)\n",
    "- 10% Presentation quality and clarity"
   ]
  },
  {
   "attachments": {},
   "cell_type": "markdown",
   "metadata": {},
   "source": [
    "# Permissible libraries\n",
    "You can use any general-puprose ML and NLP libraries such as scipy, numpy, scikit-learn, spacy, nltk, but please stay away from dedicated web crawling or search engine toolkits such as scrapy, whoosh, lucene, terrier, galago and the likes. Pretrained models are fine to use as part of your system, as long as they have not been built/trained for retrieval. \n"
   ]
  }
 ],
 "metadata": {
  "kernelspec": {
   "display_name": "modern_search_engines",
   "language": "python",
   "name": "python3"
  },
  "language_info": {
   "codemirror_mode": {
    "name": "ipython",
    "version": 3
   },
   "file_extension": ".py",
   "mimetype": "text/x-python",
   "name": "python",
   "nbconvert_exporter": "python",
   "pygments_lexer": "ipython3",
   "version": "3.13.5"
  },
  "orig_nbformat": 4
 },
 "nbformat": 4,
 "nbformat_minor": 2
}
