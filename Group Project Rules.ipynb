{
 "cells": [
  {
   "attachments": {},
   "cell_type": "markdown",
   "metadata": {},
   "source": [
    "# INFO 4271 - Group Project\n",
    "\n",
    "Issued: June 17, 2025\n",
    "\n",
    "Due: July 21, 2025\n",
    "\n",
    "Please submit a link to your code repository (with a branch that does not change anymore after the submission deadline) and your 4-page report via email to carsten.eickhoff@uni-tuebingen.de by the due date. One submission per team.\n",
    "\n",
    "---"
   ]
  },
  {
   "attachments": {},
   "cell_type": "markdown",
   "metadata": {},
   "source": [
    "# 1. Web Crawling & Indexing\n",
    "Crawl the web to discover **English content related to Tübingen**. The crawled content should be stored locally. If interrupted, your crawler should be able to re-start and pick up the crawling process at any time."
   ]
  },
  {
   "cell_type": "code",
   "execution_count": 13,
   "metadata": {},
   "outputs": [
    {
     "name": "stdout",
     "output_type": "stream",
     "text": [
      "The autoreload extension is already loaded. To reload it, use:\n",
      "  %reload_ext autoreload\n",
      "cannot scrape\n"
     ]
    }
   ],
   "source": [
    "%load_ext autoreload\n",
    "%autoreload 2\n",
    "\n",
    "import urllib.robotparser as urobot\n",
    "import urllib.request\n",
    "from bs4 import BeautifulSoup\n",
    "\n",
    "url = \"http://google.com/\"\n",
    "rp = urobot.RobotFileParser()\n",
    "rp.set_url(url + \"robots.txt\")\n",
    "rp.read()\n",
    "if rp.can_fetch(\"*\", url + \"catalogs/about\"):\n",
    "    site = urllib.request.urlopen(url)\n",
    "    sauce = site.read()\n",
    "    soup = BeautifulSoup(sauce, \"html.parser\")\n",
    "    actual_url = site.geturl()[:site.geturl().rfind('/')]\n",
    "    \n",
    "    my_list = soup.find_all(\"a\", href=True)\n",
    "    for i in my_list:\n",
    "        # rather than != \"#\" you can control your list before loop over it\n",
    "        if i != \"#\":\n",
    "            newurl = str(actual_url)+\"/\"+str(i)\n",
    "            try:\n",
    "                if rp.can_fetch(\"*\", newurl):\n",
    "                    site = urllib.request.urlopen(newurl)\n",
    "                    # do what you want on each authorized webpage\n",
    "            except:\n",
    "                pass\n",
    "else:\n",
    "    print(\"cannot scrape\")"
   ]
  },
  {
   "cell_type": "code",
   "execution_count": null,
   "metadata": {},
   "outputs": [
    {
     "name": "stderr",
     "output_type": "stream",
     "text": [
      "2025-06-28 19:01:52,136 INFO:Cleaning up old proxies...\n",
      "2025-06-28 19:01:52,136 INFO:Fetching proxies list...\n",
      "2025-06-28 19:01:52,349 INFO:Found 300 candidate proxies. Testing...\n",
      "2025-06-28 19:02:17,047 INFO:27 proxies valid after testing.\n",
      "2025-06-28 19:02:18,263 INFO:Visited 1 pages (Visited https://www.britannica.com/place/Tubingen-Germany, english=True, keywords_found=True)\n",
      "2025-06-28 19:02:19,130 INFO:Visited 2 pages (Visited https://en.wikipedia.org/wiki/T%C3%BCbingen, english=True, keywords_found=True)\n",
      "2025-06-28 19:02:19,825 INFO:Visited 3 pages (Visited https://www.mygermanyvacation.com/best-things-to-do-and-see-in-tubingen-germany/, english=True, keywords_found=True)\n"
     ]
    }
   ],
   "source": [
    "%load_ext autoreload\n",
    "%autoreload 2\n",
    "\n",
    "import project\n",
    "\n",
    "start_urls = [\"https://duckduckgo.com/?q=tübingen\",\n",
    "              \"https://en.wikipedia.org/wiki/T%C3%BCbingen\",\n",
    "              'https://www.mygermanyvacation.com/best-things-to-do-and-see-in-tubingen-germany/',\n",
    "              'https://www.britannica.com/place/Tubingen-Germany',\n",
    "              'https://www.germany.travel/en/cities-culture/tuebingen.html',]\n",
    "crawler = project.Crawler(urls=start_urls)\n",
    "crawler.run()"
   ]
  },
  {
   "cell_type": "code",
   "execution_count": 7,
   "metadata": {},
   "outputs": [
    {
     "data": {
      "text/plain": [
       "{'https://af.wikipedia.org/wiki/T%C3%BCbingen',\n",
       " 'https://als.wikipedia.org/wiki/T%C3%BCbingen',\n",
       " 'https://an.wikipedia.org/wiki/Tubinga',\n",
       " 'https://ang.wikipedia.org/wiki/Tybingen',\n",
       " 'https://ar.wikipedia.org/wiki/%D8%AA%D9%88%D8%A8%D9%8A%D9%86%D8%BA%D9%86',\n",
       " 'https://arz.wikipedia.org/wiki/%D8%AA%D9%88%D8%A8%D9%8A%D9%86%D8%AC%D9%8A%D9%86',\n",
       " 'https://azb.wikipedia.org/wiki/%D8%AA%D9%88%D8%A8%DB%8C%D9%86%D9%82%D9%86',\n",
       " 'https://ban.wikipedia.org/wiki/T%C3%BCbingen',\n",
       " 'https://be-tarask.wikipedia.org/wiki/%D0%A2%D1%83%D0%B1%D1%96%D0%BD%D0%B3%D0%B5%D0%BD',\n",
       " 'https://be.wikipedia.org/wiki/%D0%A6%D1%8E%D0%B1%D1%96%D0%BD%D0%B3%D0%B5%D0%BD',\n",
       " 'https://bg.wikipedia.org/wiki/%D0%A2%D1%8E%D0%B1%D0%B8%D0%BD%D0%B3%D0%B5%D0%BD',\n",
       " 'https://br.wikipedia.org/wiki/T%C3%BCbingen',\n",
       " 'https://ca.wikipedia.org/wiki/T%C3%BCbingen',\n",
       " 'https://ce.wikipedia.org/wiki/%D0%A2%D1%83%D1%8C%D0%B1%D0%B8%D0%BD%D0%B3%D0%B5%D0%BD',\n",
       " 'https://ceb.wikipedia.org/wiki/T%C3%BCbingen_(munisipyo)',\n",
       " 'https://commons.wikimedia.org/wiki/T%C3%BCbingen',\n",
       " 'https://cs.wikipedia.org/wiki/T%C3%BCbingen',\n",
       " 'https://cv.wikipedia.org/wiki/%D0%A2%D1%8E%D0%B1%D0%B8%D0%BD%D0%B3%D0%B5%D0%BD',\n",
       " 'https://cy.wikipedia.org/wiki/T%C3%BCbingen',\n",
       " 'https://da.wikipedia.org/wiki/T%C3%BCbingen',\n",
       " 'https://de.wikipedia.org/wiki/T%C3%BCbingen',\n",
       " 'https://dsb.wikipedia.org/wiki/T%C3%BCbingen',\n",
       " 'https://duckduckgo.com/?q=tübingen',\n",
       " 'https://el.wikipedia.org/wiki/%CE%A4%CF%8D%CE%BC%CF%80%CE%B9%CE%BD%CE%B3%CE%BA%CE%B5%CE%BD',\n",
       " 'https://en.wikipedia.org/w/index.php?title=Special:CiteThisPage&page=T%C3%BCbingen&id=1281200712&wpFormIdentifier=titleform',\n",
       " 'https://en.wikipedia.org/w/index.php?title=Special:DownloadAsPdf&page=T%C3%BCbingen&action=show-download-screen',\n",
       " 'https://en.wikipedia.org/w/index.php?title=Special:QrCode&url=https%3A%2F%2Fen.wikipedia.org%2Fwiki%2FT%25C3%25BCbingen',\n",
       " 'https://en.wikipedia.org/w/index.php?title=Special:UrlShortener&url=https%3A%2F%2Fen.wikipedia.org%2Fwiki%2FT%25C3%25BCbingen',\n",
       " 'https://en.wikipedia.org/w/index.php?title=Special:UserLogin&returnto=T%C3%BCbingen',\n",
       " 'https://en.wikipedia.org/w/index.php?title=T%C3%BCbingen&action=edit',\n",
       " 'https://en.wikipedia.org/w/index.php?title=T%C3%BCbingen&action=history',\n",
       " 'https://en.wikipedia.org/w/index.php?title=T%C3%BCbingen&action=info',\n",
       " 'https://en.wikipedia.org/w/index.php?title=T%C3%BCbingen&oldid=1281200712',\n",
       " 'https://en.wikipedia.org/w/index.php?title=T%C3%BCbingen&printable=yes',\n",
       " 'https://en.wikipedia.org/wiki/Baden-W%C3%BCrttemberg',\n",
       " 'https://en.wikipedia.org/wiki/Boris_Palmer',\n",
       " 'https://en.wikipedia.org/wiki/File:Altstadt-tuebingen-1.jpg',\n",
       " 'https://en.wikipedia.org/wiki/File:Baden-W%C3%BCrttemberg_location_map.svg',\n",
       " 'https://en.wikipedia.org/wiki/File:Germany_adm_location_map.svg',\n",
       " 'https://en.wikipedia.org/wiki/File:Wappen_Tuebingen.svg',\n",
       " 'https://en.wikipedia.org/wiki/Germany',\n",
       " 'https://en.wikipedia.org/wiki/List_of_dialling_codes_in_Germany',\n",
       " 'https://en.wikipedia.org/wiki/Postal_codes_in_Germany',\n",
       " 'https://en.wikipedia.org/wiki/Regierungsbezirk',\n",
       " 'https://en.wikipedia.org/wiki/Special:RecentChangesLinked/T%C3%BCbingen',\n",
       " 'https://en.wikipedia.org/wiki/Special:WhatLinksHere/T%C3%BCbingen',\n",
       " 'https://en.wikipedia.org/wiki/States_of_Germany',\n",
       " 'https://en.wikipedia.org/wiki/T%C3%BCbingen',\n",
       " 'https://en.wikipedia.org/wiki/T%C3%BCbingen_(district)',\n",
       " 'https://en.wikipedia.org/wiki/T%C3%BCbingen_(region)',\n",
       " 'https://en.wikipedia.org/wiki/Talk:T%C3%BCbingen',\n",
       " 'https://en.wikipedia.org/wiki/Town#Germany',\n",
       " 'https://en.wikipedia.org/wiki/Vehicle_registration_plates_of_Germany',\n",
       " 'https://en.wikivoyage.org/wiki/T%C3%BCbingen',\n",
       " 'https://eo.wikipedia.org/wiki/T%C3%BCbingen',\n",
       " 'https://es.wikipedia.org/wiki/Tubinga',\n",
       " 'https://et.wikipedia.org/wiki/T%C3%BCbingen',\n",
       " 'https://eu.wikipedia.org/wiki/T%C3%BCbingen',\n",
       " 'https://ext.wikipedia.org/wiki/Tubinga',\n",
       " 'https://fa.wikipedia.org/wiki/%D8%AA%D9%88%D8%A8%DB%8C%D9%86%DA%AF%D9%86',\n",
       " 'https://fi.wikipedia.org/wiki/T%C3%BCbingen',\n",
       " 'https://fr.wikipedia.org/wiki/T%C3%BCbingen',\n",
       " 'https://geohack.toolforge.org/geohack.php?pagename=T%C3%BCbingen&params=48_31_12_N_09_03_20_E_type:city(91763)_region:DE-BW',\n",
       " 'https://gl.wikipedia.org/wiki/Tubinga',\n",
       " 'https://he.wikipedia.org/wiki/%D7%98%D7%99%D7%91%D7%99%D7%A0%D7%92%D7%9F',\n",
       " 'https://hi.wikipedia.org/wiki/%E0%A4%9F%E0%A5%8D%E0%A4%AF%E0%A5%81%E0%A4%AC%E0%A4%BF%E0%A4%A8%E0%A5%8D%E0%A4%97%E0%A4%A8',\n",
       " 'https://hr.wikipedia.org/wiki/T%C3%BCbingen',\n",
       " 'https://hsb.wikipedia.org/wiki/T%C3%BCbingen',\n",
       " 'https://hu.wikipedia.org/wiki/T%C3%BCbingen',\n",
       " 'https://hy.wikipedia.org/wiki/%D4%B9%D5%B5%D5%B8%D6%82%D5%A2%D5%AB%D5%B6%D5%A3%D5%A5%D5%B6',\n",
       " 'https://id.wikipedia.org/wiki/T%C3%BCbingen',\n",
       " 'https://io.wikipedia.org/wiki/T%C3%BCbingen',\n",
       " 'https://is.wikipedia.org/wiki/T%C3%BCbingen',\n",
       " 'https://it.wikipedia.org/wiki/Tubinga',\n",
       " 'https://ja.wikipedia.org/wiki/%E3%83%86%E3%83%A5%E3%83%BC%E3%83%93%E3%83%B3%E3%82%B2%E3%83%B3',\n",
       " 'https://jv.wikipedia.org/wiki/T%C3%BCbingen',\n",
       " 'https://kg.wikipedia.org/wiki/T%C3%BCbingen',\n",
       " 'https://kk.wikipedia.org/wiki/%D0%A2%D1%8E%D0%B1%D0%B8%D0%BD%D0%B3%D0%B5%D0%BD',\n",
       " 'https://ko.wikipedia.org/wiki/%ED%8A%80%EB%B9%99%EA%B2%90',\n",
       " 'https://ku.wikipedia.org/wiki/T%C3%BCbingen',\n",
       " 'https://ky.wikipedia.org/wiki/%D0%A2%D2%AF%D0%B1%D0%B8%D0%BD%D0%B3%D0%B5%D0%BD',\n",
       " 'https://la.wikipedia.org/wiki/Tubinga',\n",
       " 'https://lb.wikipedia.org/wiki/T%C3%BCbingen',\n",
       " 'https://lld.wikipedia.org/wiki/T%C3%BCbingen',\n",
       " 'https://lmo.wikipedia.org/wiki/T%C3%BCbinga',\n",
       " 'https://lt.wikipedia.org/wiki/Tiubingenas',\n",
       " 'https://lv.wikipedia.org/wiki/T%C4%ABbingene',\n",
       " 'https://mg.wikipedia.org/wiki/T%C3%BCbingen',\n",
       " 'https://mk.wikipedia.org/wiki/%D0%A2%D0%B8%D0%B1%D0%B8%D0%BD%D0%B3%D0%B5%D0%BD',\n",
       " 'https://ms.wikipedia.org/wiki/T%C3%BCbingen',\n",
       " 'https://nl.wikipedia.org/wiki/T%C3%BCbingen_(stad)',\n",
       " 'https://nn.wikipedia.org/wiki/T%C3%BCbingen',\n",
       " 'https://no.wikipedia.org/wiki/T%C3%BCbingen',\n",
       " 'https://oc.wikipedia.org/wiki/T%C3%BCbingen',\n",
       " 'https://os.wikipedia.org/wiki/%D0%A2%D1%8E%D0%B1%D0%B8%D0%BD%D0%B3%D0%B5%D0%BD',\n",
       " 'https://pl.wikipedia.org/wiki/Tybinga',\n",
       " 'https://pnb.wikipedia.org/wiki/%D9%B9%D9%88%D8%A8%D9%86%DA%AF%D9%86',\n",
       " 'https://pt.wikipedia.org/wiki/Tubinga',\n",
       " 'https://qu.wikipedia.org/wiki/T%C3%BCbingen',\n",
       " 'https://ro.wikipedia.org/wiki/T%C3%BCbingen',\n",
       " 'https://ru.wikipedia.org/wiki/%D0%A2%D1%8E%D0%B1%D0%B8%D0%BD%D0%B3%D0%B5%D0%BD',\n",
       " 'https://sah.wikipedia.org/wiki/%D0%A2%D2%AF%D0%B1%D0%B8%D0%BD%D0%B3%D0%B5%D0%BD',\n",
       " 'https://sco.wikipedia.org/wiki/T%C3%BCbingen',\n",
       " 'https://sh.wikipedia.org/wiki/T%C3%BCbingen',\n",
       " 'https://simple.wikipedia.org/wiki/T%C3%BCbingen',\n",
       " 'https://sk.wikipedia.org/wiki/T%C3%BCbingen_(mesto)',\n",
       " 'https://sl.wikipedia.org/wiki/T%C3%BCbingen',\n",
       " 'https://sr.wikipedia.org/wiki/%D0%A2%D0%B8%D0%B1%D0%B8%D0%BD%D0%B3%D0%B5%D0%BD',\n",
       " 'https://stq.wikipedia.org/wiki/T%C3%BCbingen',\n",
       " 'https://sv.wikipedia.org/wiki/T%C3%BCbingen',\n",
       " 'https://sw.wikipedia.org/wiki/T%C3%BCbingen',\n",
       " 'https://szl.wikipedia.org/wiki/T%C3%BCbingen',\n",
       " 'https://th.wikipedia.org/wiki/%E0%B8%97%E0%B8%B7%E0%B8%AD%E0%B8%9A%E0%B8%B4%E0%B8%87%E0%B9%80%E0%B8%87%E0%B8%B4%E0%B8%99',\n",
       " 'https://tr.wikipedia.org/wiki/T%C3%BCbingen',\n",
       " 'https://tt.wikipedia.org/wiki/%D0%A2%D2%AF%D0%B1%D0%B8%D0%BD%D0%B3%D0%B5%D0%BD',\n",
       " 'https://tum.wikipedia.org/wiki/T%C3%BCbingen',\n",
       " 'https://tw.wikipedia.org/wiki/T%C3%BCbingen',\n",
       " 'https://uk.wikipedia.org/wiki/%D0%A2%D1%8E%D0%B1%D1%96%D0%BD%D0%B3%D0%B5%D0%BD',\n",
       " 'https://uz.wikipedia.org/wiki/T%C3%BCbingen',\n",
       " 'https://vec.wikipedia.org/wiki/Tubinga',\n",
       " 'https://vep.wikipedia.org/wiki/T%C3%BCbingen',\n",
       " 'https://vi.wikipedia.org/wiki/T%C3%BCbingen',\n",
       " 'https://vo.wikipedia.org/wiki/T%C3%BCbingen',\n",
       " 'https://war.wikipedia.org/wiki/T%C3%BCbingen',\n",
       " 'https://wuu.wikipedia.org/wiki/%E8%92%82%E5%AE%BE%E6%A0%B9',\n",
       " 'https://www.britannica.com/place/Tubingen-Germany',\n",
       " 'https://www.germany.travel/de/staedte-kultur/tuebingen.html',\n",
       " 'https://www.germany.travel/en/cities-culture/historic-highlights-of-germany.html',\n",
       " 'https://www.germany.travel/en/cities-culture/towns-cities.html',\n",
       " 'https://www.germany.travel/en/cities-culture/tuebingen.html',\n",
       " 'https://www.germany.travel/en/experience-enjoy/wine-growing-regions.html',\n",
       " 'https://www.germany.travel/en/inspiring-germany/overview.html',\n",
       " 'https://www.germany.travel/en/nature-outdoor-activities/gravel-bike-regions.html',\n",
       " 'https://www.germany.travel/en/nature-outdoor-activities/scenic-routes.html',\n",
       " 'https://www.germany.travel/en/royal-palaces-castles/16-highlights-in-germany.html',\n",
       " 'https://www.germany.travel/en/royal-palaces-castles/dine-and-sleep-in-regal-style.html',\n",
       " 'https://www.germany.travel/es/ciudades-y-cultura/tubinga.html',\n",
       " 'https://www.germany.travel/fr/villes-et-culture/tuebingen.html',\n",
       " 'https://www.mygermanyvacation.com/best-things-to-do-and-see-in-tubingen-germany/',\n",
       " 'https://www.tuebingen.de/en/1815.html',\n",
       " 'https://www.wikidata.org/wiki/Special:EntityPage/Q3806',\n",
       " 'https://www.wikidata.org/wiki/Special:EntityPage/Q3806#sitelinks-wikipedia',\n",
       " 'https://yo.wikipedia.org/wiki/T%C3%BCbingen',\n",
       " 'https://zea.wikipedia.org/wiki/T%C3%BCbingen',\n",
       " 'https://zh-yue.wikipedia.org/wiki/%E5%9C%9F%E4%B8%99%E6%A0%B9',\n",
       " 'https://zh.wikipedia.org/wiki/%E8%92%82%E5%AE%BE%E6%A0%B9',\n",
       " 'https://zu.wikipedia.org/wiki/IT%C3%BCbingen'}"
      ]
     },
     "execution_count": 7,
     "metadata": {},
     "output_type": "execute_result"
    }
   ],
   "source": [
    "{p for p, d in crawler.visited_pages.items() if d[\"keywords_found\"]}"
   ]
  },
  {
   "attachments": {},
   "cell_type": "markdown",
   "metadata": {},
   "source": [
    "# 2. Query Processing \n",
    "Process a textual query and return the 100 most relevant documents from your index. Please incorporate **at least one retrieval model innovation** that goes beyond BM25 or TF-IDF. Please allow for queries to be entered either individually in an interactive user interface (see also #3 below), or via a batch file containing multiple queries at once. The batch file (see `queries.txt` for an example) will be formatted to have one query per line, listing the query number, and query text as tab-separated entries. An example of the batch file for the first two queries looks like this:\n",
    "\n",
    "```\n",
    "1   tübingen attractions\n",
    "2   food and drinks\n",
    "```"
   ]
  },
  {
   "cell_type": "code",
   "execution_count": null,
   "metadata": {},
   "outputs": [],
   "source": [
    "#Retrieve documents relevnt to a query. You need (at least) two parameters:\n",
    "\t#query: The user's search query\n",
    "\t#index: The location of the local index storing the discovered documents.\n",
    "def retrieve(query, index):\n",
    "    #TODO: Implement me\n",
    "\tpass"
   ]
  },
  {
   "attachments": {},
   "cell_type": "markdown",
   "metadata": {},
   "source": [
    "# 3. Search Result Presentation\n",
    "Once you have a result set, we want to return it to the searcher in two ways: a) in an interactive user interface. For this user interface, please think of **at least one innovation** that goes beyond the traditional 10-blue-links interface that most commercial search engines employ. b) as a text file used for batch performance evaluation. The text file should be formatted to produce one ranked result per line, listing the query number, rank position, document URL and relevance score as tab-separated entries. An example of the first three lines of such a text file looks like this:\n",
    "\n",
    "```\n",
    "1   1   https://www.tuebingen.de/en/3521.html   0.725\n",
    "1   2   https://www.komoot.com/guide/355570/castles-in-tuebingen-district   0.671\n",
    "1   3   https://www.unimuseum.uni-tuebingen.de/en/museum-at-hohentuebingen-castle   0.529\n",
    "...\n",
    "1   100 https://www.tuebingen.de/en/3536.html   0.178\n",
    "2   1   https://www.tuebingen.de/en/3773.html   0.956\n",
    "2   2   https://www.tuebingen.de/en/4456.html   0.797\n",
    "...\n",
    "```"
   ]
  },
  {
   "cell_type": "code",
   "execution_count": 1,
   "metadata": {},
   "outputs": [],
   "source": [
    "#TODO: Implement an interactive user interface for part a of this exercise.\n",
    "\n",
    "#Produce a text file with 100 results per query in the format specified above.\n",
    "def batch(results):\n",
    "    #TODO: Implement me.    \n",
    "    pass"
   ]
  },
  {
   "attachments": {},
   "cell_type": "markdown",
   "metadata": {},
   "source": [
    "# 4. Performance Evaluation \n",
    "We will evaluate the performance of our search systems on the basis of five queries. Two of them are avilable to you now for engineering purposes:\n",
    "- `tübingen attractions`\n",
    "- `food and drinks`\n",
    "\n",
    "The remaining three queries will be given to you during our final session on July 22nd. Please be prepared to run your systems and produce a single result file for all five queries live in class. That means you should aim for processing times of no more than ~1 minute per query. We will ask you to send carsten.eickhoff@uni-tuebingen.de that file."
   ]
  },
  {
   "attachments": {},
   "cell_type": "markdown",
   "metadata": {},
   "source": [
    "# Grading\n",
    "Your final projects will be graded along the following criteria:\n",
    "- 25% Code correctness and quality (to be delivered on this sheet)\n",
    "- 25% Report (4 pages, PDF, explanation and justification of your design choices)\n",
    "- 25% System performance (based on how well your system performs on the 5 queries relative to the other teams in terms of nDCG)\n",
    "- 15% Creativity and innovativeness of your approach (in particular with respect to your search system #2 and user interface #3 innovations)\n",
    "- 10% Presentation quality and clarity"
   ]
  },
  {
   "attachments": {},
   "cell_type": "markdown",
   "metadata": {},
   "source": [
    "# Permissible libraries\n",
    "You can use any general-puprose ML and NLP libraries such as scipy, numpy, scikit-learn, spacy, nltk, but please stay away from dedicated web crawling or search engine toolkits such as scrapy, whoosh, lucene, terrier, galago and the likes. Pretrained models are fine to use as part of your system, as long as they have not been built/trained for retrieval. \n"
   ]
  }
 ],
 "metadata": {
  "kernelspec": {
   "display_name": "MSE",
   "language": "python",
   "name": "python3"
  },
  "language_info": {
   "codemirror_mode": {
    "name": "ipython",
    "version": 3
   },
   "file_extension": ".py",
   "mimetype": "text/x-python",
   "name": "python",
   "nbconvert_exporter": "python",
   "pygments_lexer": "ipython3",
   "version": "3.11.11"
  },
  "orig_nbformat": 4
 },
 "nbformat": 4,
 "nbformat_minor": 2
}
