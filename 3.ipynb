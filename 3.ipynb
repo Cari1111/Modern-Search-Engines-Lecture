{
 "cells": [
  {
   "attachments": {},
   "cell_type": "markdown",
   "metadata": {},
   "source": [
    "# INFO 4271 - Exercise 3 - Indexing\n",
    "\n",
    "Issued: April 30, 2024\n",
    "\n",
    "Due: May 6, 2024\n",
    "\n",
    "Please submit this filled sheet via Ilias by the due date.\n",
    "\n",
    "---"
   ]
  },
  {
   "attachments": {},
   "cell_type": "markdown",
   "metadata": {},
   "source": [
    "# 1. Skip Pointers\n",
    "Skip pointers can be used to accelerate posting list intersection, allowing pointers to be moved either to the next sequential list position or to the position of the skip pointer if one is available.\n",
    "\n",
    "a) Implement the `intersect\\_skip()` function sketched below. Each time you would ordinarily increment a pointer by one, you can alternatively follow a skip pointer, if one is available at the position."
   ]
  },
  {
   "cell_type": "code",
   "execution_count": 19,
   "metadata": {},
   "outputs": [
    {
     "name": "stdout",
     "output_type": "stream",
     "text": [
      "Increments used:  9\n",
      "[12, 23]\n",
      "Increments used:  11\n",
      "[12, 23]\n"
     ]
    }
   ],
   "source": [
    "#Intersect two sorted posting lists that contain skip pointers\n",
    "def intersect_skip(A, B, skip=True):\n",
    "    result = []\n",
    "    i, j = 0, 0\n",
    "    incs = 0\n",
    "\n",
    "    while i < len(A) and j < len(B):\n",
    "        docID_A = A[i][0]\n",
    "        docID_B = B[j][0]\n",
    "\n",
    "        if skip:\n",
    "            if i < len(A) and A[i][1] is not None:\n",
    "                skip_index_A = A[i][1]\n",
    "                if A[i][2] <= docID_B:\n",
    "                    i = skip_index_A\n",
    "                    continue\n",
    "\n",
    "            if j < len(B) and B[j][1] is not None:\n",
    "                skip_index_B = B[j][1]\n",
    "                if B[j][2] <= docID_A:\n",
    "                    j = skip_index_B\n",
    "                    continue\n",
    "\n",
    "        if docID_A == docID_B:\n",
    "            result.append(docID_A)\n",
    "            i += 1\n",
    "            j += 1\n",
    "            incs += 2\n",
    "        elif docID_A < docID_B:\n",
    "            i += 1\n",
    "            incs += 1\n",
    "        else:\n",
    "            j += 1\n",
    "            incs += 1\n",
    "\n",
    "    print(\"Increments used: \", incs)\n",
    "    return result\n",
    "\n",
    "#Posting lists with skip pointers.\n",
    "#Entries take the form [docID, index to skip to, docID at that index]\n",
    "times_skip = [[2, 3, 16], [12, None, None], [15, None, None], [16, 6, 27], [17, None, None], [23, None, None], [27, None, None]]\n",
    "square_skip = [[3, 2, 12], [8, None, None], [12, 4, 23], [19, None, None], [23, None, None]]\n",
    "\n",
    "print(intersect_skip(times_skip, square_skip))\n",
    "print(intersect_skip(times_skip, square_skip, skip=False))"
   ]
  },
  {
   "attachments": {},
   "cell_type": "markdown",
   "metadata": {},
   "source": [
    "b) How many pointer increment operations did you need to intersect the two posting lists with the given skip pointers? How many operations would it have been for the same lists without skip pointers?"
   ]
  },
  {
   "attachments": {},
   "cell_type": "markdown",
   "metadata": {},
   "source": [
    "With skipping 9 increments are used without skipping 11 are used."
   ]
  },
  {
   "attachments": {},
   "cell_type": "markdown",
   "metadata": {},
   "source": [
    "# 2. Positional Indices\n",
    "Positional indices include for each posting the exact positions at which the term can be found in the document. This information allows us to satisfy two previously impossible types of queries. 1) Phrase queries require terms to occur adjacently to one another in a specific order. 2) Range queries allow for more leeway between term positions, merely requiring the two terms to appear within a specified number of tokens.\n",
    "\n",
    "Implement the `intersect\\_range()` function sketched in the code base. Each time you would ordinarily have reported a match, you will now need to check whether the range requirement is satisfied. As an optional addition, think about making this range check efficient using some of the techniques discussed for general posting list intersection."
   ]
  },
  {
   "cell_type": "code",
   "execution_count": 20,
   "metadata": {},
   "outputs": [
    {
     "name": "stdout",
     "output_type": "stream",
     "text": [
      "[12, 23]\n"
     ]
    }
   ],
   "source": [
    "import numpy as np\n",
    "\n",
    "#Intersect two sorted posting lists with document-internal proximity requirements.\n",
    "def intersect_range(A, B, range):\n",
    "    result = []\n",
    "    i, j = 0, 0\n",
    "    incs = 0\n",
    "\n",
    "    while i < len(A) and j < len(B):\n",
    "        docID_A = A[i][0]\n",
    "        docID_B = B[j][0]\n",
    "\n",
    "        if docID_A == docID_B:\n",
    "            a = np.array(A[i][1])\n",
    "            b = np.array(B[j][1])\n",
    "            diff = np.abs(a - b.reshape(-1, 1))\n",
    "            if diff.min() <= range:\n",
    "                result.append(docID_A)\n",
    "            i += 1\n",
    "            j += 1\n",
    "            incs += 2\n",
    "        elif docID_A < docID_B:\n",
    "            i += 1\n",
    "            incs += 1\n",
    "        else:\n",
    "            j += 1\n",
    "            incs += 1\n",
    "\n",
    "    return result\n",
    "\n",
    "#Posting lists with document-internal positional information.\n",
    "#Entries take the form [docID, [pos1, pos2, ...]]\n",
    "times_range = [[2, [15, 128]], [12, [6, 45, 89, 942]], [15, [13]], [16, [1276, 1500]], [17, [13, 89, 90]], [23, [17, 64]], [27, [456, 629]]]\n",
    "square_range = [[3, [65, 90]], [8, [67, 94]], [12, [3]], [19, [18, 81, 1881]], [23, [63]]]\n",
    "\n",
    "print(intersect_range(times_range, square_range, 3))"
   ]
  },
  {
   "attachments": {},
   "cell_type": "markdown",
   "metadata": {},
   "source": [
    "# 3. Paper Pick\n",
    "Don't forget to submit your paper pick at https://forms.gle/SFYUKxiMXZKbs5XCA."
   ]
  }
 ],
 "metadata": {
  "kernelspec": {
   "display_name": "MSE",
   "language": "python",
   "name": "python3"
  },
  "language_info": {
   "codemirror_mode": {
    "name": "ipython",
    "version": 3
   },
   "file_extension": ".py",
   "mimetype": "text/x-python",
   "name": "python",
   "nbconvert_exporter": "python",
   "pygments_lexer": "ipython3",
   "version": "3.11.11"
  },
  "orig_nbformat": 4
 },
 "nbformat": 4,
 "nbformat_minor": 2
}
