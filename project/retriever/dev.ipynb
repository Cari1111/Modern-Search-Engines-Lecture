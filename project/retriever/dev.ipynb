{
 "cells": [
  {
   "cell_type": "code",
   "execution_count": null,
   "id": "5df29839",
   "metadata": {},
   "outputs": [
    {
     "name": "stderr",
     "output_type": "stream",
     "text": [
      "c:\\Users\\Simon\\miniconda3\\envs\\MSE\\Lib\\site-packages\\tqdm\\auto.py:21: TqdmWarning: IProgress not found. Please update jupyter and ipywidgets. See https://ipywidgets.readthedocs.io/en/stable/user_install.html\n",
      "  from .autonotebook import tqdm as notebook_tqdm\n"
     ]
    }
   ],
   "source": [
    "%load_ext autoreload\n",
    "%autoreload 2\n",
    "\n",
    "from model import RetrieverModel\n",
    "from datasets import load_dataset\n",
    "from tqdm import tqdm\n",
    "\n",
    "model = RetrieverModel()\n",
    "dataset = load_dataset(\"microsoft/ms_marco\", \"v1.1\")"
   ]
  },
  {
   "cell_type": "code",
   "execution_count": 8,
   "id": "0d1fbc90",
   "metadata": {},
   "outputs": [
    {
     "name": "stderr",
     "output_type": "stream",
     "text": [
      "100%|██████████| 824/824 [00:24<00:00, 33.24it/s]\n"
     ]
    }
   ],
   "source": [
    "import numpy as np\n",
    "\n",
    "def get_relevant(passages):\n",
    "    passage = np.array(passages[\"passage_text\"])[np.array(passages[\"is_selected\"], bool)]\n",
    "    return passage[0] if len(passage) > 0 else \"\"\n",
    "\n",
    "def encode(inp):\n",
    "    tokens = model.tokenize(inp)\n",
    "    model.encoder(**tokens)\n",
    "\n",
    "for d in tqdm(dataset[\"train\"].batch(100)):\n",
    "    encode(d[\"query\"])\n",
    "    encode([get_relevant(p) for p in d[\"passages\"]])"
   ]
  }
 ],
 "metadata": {
  "kernelspec": {
   "display_name": "MSE",
   "language": "python",
   "name": "python3"
  },
  "language_info": {
   "codemirror_mode": {
    "name": "ipython",
    "version": 3
   },
   "file_extension": ".py",
   "mimetype": "text/x-python",
   "name": "python",
   "nbconvert_exporter": "python",
   "pygments_lexer": "ipython3",
   "version": "3.11.11"
  }
 },
 "nbformat": 4,
 "nbformat_minor": 5
}
