{
 "cells": [
  {
   "cell_type": "code",
   "execution_count": null,
   "id": "7990e11a",
   "metadata": {},
   "outputs": [
    {
     "name": "stderr",
     "output_type": "stream",
     "text": [
      "c:\\Users\\Simon\\miniconda3\\envs\\MSE\\Lib\\site-packages\\tqdm\\auto.py:21: TqdmWarning: IProgress not found. Please update jupyter and ipywidgets. See https://ipywidgets.readthedocs.io/en/stable/user_install.html\n",
      "  from .autonotebook import tqdm as notebook_tqdm\n"
     ]
    },
    {
     "name": "stdout",
     "output_type": "stream",
     "text": [
      "clip/Siglip/bert-mini/b128_lr1E-06_microsoft/ms_marcov1.1\n",
      "Dataset({\n",
      "    features: ['answers', 'passages', 'query', 'query_id', 'query_type', 'wellFormedAnswers'],\n",
      "    num_rows: 82326\n",
      "})\n",
      "{'microsoft/ms_marcov1.1': Dataset({\n",
      "    features: ['answers', 'passages', 'query', 'query_id', 'query_type', 'wellFormedAnswers'],\n",
      "    num_rows: 5000\n",
      "}), 'microsoft/ms_marcov2.1': Dataset({\n",
      "    features: ['answers', 'passages', 'query', 'query_id', 'query_type', 'wellFormedAnswers'],\n",
      "    num_rows: 5000\n",
      "})}\n"
     ]
    }
   ],
   "source": [
    "%load_ext autoreload\n",
    "%autoreload 2\n",
    "\n",
    "from model import SiglipStyleModel, ColSentenceModel\n",
    "from utils import get_train_and_test_data\n",
    "\n",
    "# loss = \"siglip\"\n",
    "loss = \"clip\"\n",
    "batch_size = 128\n",
    "# epochs = 2 * batch_size\n",
    "epochs = 10\n",
    "lr = 1e-6\n",
    "eval_batch = 250\n",
    "architecture = \"ColSent\"\n",
    "\n",
    "models = {\n",
    "    \"ColSent\": ColSentenceModel,\n",
    "    \"Siglip\": SiglipStyleModel,\n",
    "}\n",
    "# model = RetrieverModel(loss_type=loss)\n",
    "model = models[architecture](loss_type=loss)\n",
    "model.use_max_sim = False\n",
    "\n",
    "data_paths = [\n",
    "    (\"microsoft/ms_marco\", \"v1.1\"),\n",
    "    (\"microsoft/ms_marco\", \"v2.1\"),\n",
    "]\n",
    "train_data, test_data = get_train_and_test_data(data_paths)\n",
    "\n",
    "lr_n = \"\" if lr == 1e-7 else f\"lr{lr:.0E}_\"\n",
    "b_n = \"\" if batch_size == 2 else f\"b{batch_size}_\"\n",
    "\n",
    "model_name = model.model_name.split(\"/\")[-1]\n",
    "model_path = f\"{loss}/{architecture}/{model_name}/{b_n}{lr_n}{data_paths[0][0]}{data_paths[0][1]}\"\n",
    "print(model_path)\n",
    "print(train_data)\n",
    "print(test_data)"
   ]
  },
  {
   "cell_type": "code",
   "execution_count": null,
   "id": "04618d1a",
   "metadata": {},
   "outputs": [
    {
     "name": "stderr",
     "output_type": "stream",
     "text": [
      "\u001b[34m\u001b[1mwandb\u001b[0m: Currently logged in as: \u001b[33msimon-doehl\u001b[0m (\u001b[33msimon-doehl-ai\u001b[0m) to \u001b[32mhttps://api.wandb.ai\u001b[0m. Use \u001b[1m`wandb login --relogin`\u001b[0m to force relogin\n"
     ]
    },
    {
     "data": {
      "text/html": [
       "creating run (0.7s)"
      ],
      "text/plain": [
       "<IPython.core.display.HTML object>"
      ]
     },
     "metadata": {},
     "output_type": "display_data"
    },
    {
     "data": {
      "text/html": [
       "Tracking run with wandb version 0.21.0"
      ],
      "text/plain": [
       "<IPython.core.display.HTML object>"
      ]
     },
     "metadata": {},
     "output_type": "display_data"
    },
    {
     "data": {
      "text/html": [
       "Run data is saved locally in <code>c:\\Users\\Simon\\Documents\\Ordner\\Uni\\Master\\25-Sommer\\Modern Search Engines\\Aufgaben\\project\\retriever\\wandb\\run-20250718_160644-38hav8mk</code>"
      ],
      "text/plain": [
       "<IPython.core.display.HTML object>"
      ]
     },
     "metadata": {},
     "output_type": "display_data"
    },
    {
     "data": {
      "text/html": [
       "Syncing run <strong><a href='https://wandb.ai/mse-jan-simon/MSE/runs/38hav8mk' target=\"_blank\">clip/Siglip/bert-mini/b128_lr1E-06_microsoft/ms_marcov1.1</a></strong> to <a href='https://wandb.ai/mse-jan-simon/MSE' target=\"_blank\">Weights & Biases</a> (<a href='https://wandb.me/developer-guide' target=\"_blank\">docs</a>)<br>"
      ],
      "text/plain": [
       "<IPython.core.display.HTML object>"
      ]
     },
     "metadata": {},
     "output_type": "display_data"
    },
    {
     "data": {
      "text/html": [
       " View project at <a href='https://wandb.ai/mse-jan-simon/MSE' target=\"_blank\">https://wandb.ai/mse-jan-simon/MSE</a>"
      ],
      "text/plain": [
       "<IPython.core.display.HTML object>"
      ]
     },
     "metadata": {},
     "output_type": "display_data"
    },
    {
     "data": {
      "text/html": [
       " View run at <a href='https://wandb.ai/mse-jan-simon/MSE/runs/38hav8mk' target=\"_blank\">https://wandb.ai/mse-jan-simon/MSE/runs/38hav8mk</a>"
      ],
      "text/plain": [
       "<IPython.core.display.HTML object>"
      ]
     },
     "metadata": {},
     "output_type": "display_data"
    },
    {
     "name": "stderr",
     "output_type": "stream",
     "text": [
      "\u001b[34m\u001b[1mwandb\u001b[0m: \u001b[33mWARNING\u001b[0m The `run_name` is currently set to the same value as `TrainingArguments.output_dir`. If this was not intended, please specify a different run name by setting the `TrainingArguments.run_name` parameter.\n"
     ]
    },
    {
     "data": {
      "text/html": [
       "\n",
       "    <div>\n",
       "      \n",
       "      <progress value='6440' max='6440' style='width:300px; height:20px; vertical-align: middle;'></progress>\n",
       "      [6440/6440 07:15, Epoch 10/10]\n",
       "    </div>\n",
       "    "
      ],
      "text/plain": [
       "<IPython.core.display.HTML object>"
      ]
     },
     "metadata": {},
     "output_type": "display_data"
    },
    {
     "data": {
      "text/plain": [
       "TrainOutput(global_step=6440, training_loss=4.274845905185487, metrics={'train_runtime': 438.0636, 'train_samples_per_second': 1879.316, 'train_steps_per_second': 14.701, 'total_flos': 0.0, 'train_loss': 4.274845905185487, 'epoch': 10.0})"
      ]
     },
     "execution_count": 2,
     "metadata": {},
     "output_type": "execute_result"
    }
   ],
   "source": [
    "import os\n",
    "from transformers import Trainer, TrainingArguments\n",
    "from callbacks import NotebookProgressCallbackNoTable\n",
    "from transformers.utils.notebook import NotebookProgressCallback\n",
    "from evaluation import compute_metrics\n",
    "import wandb\n",
    "from utils import collate_fn\n",
    "from transformers.training_args import OptimizerNames\n",
    "\n",
    "os.environ[\"WANDB_PROJECT\"] = \"MSE\"\n",
    "os.environ[\"WANDB_LOG_MODEL\"] = \"false\"\n",
    "wandb.init(entity=\"mse-jan-simon\", name=model_path)\n",
    "\n",
    "training_args = TrainingArguments(\n",
    "    output_dir=\"models/\" + model_path,\n",
    "    per_device_train_batch_size=batch_size,\n",
    "    num_train_epochs=epochs,\n",
    "    learning_rate=lr,\n",
    "    save_steps=1000,\n",
    "    save_total_limit=1,\n",
    "    remove_unused_columns=False,\n",
    "    bf16=True,\n",
    "    optim=OptimizerNames.ADAMW_8BIT,\n",
    "    logging_steps=100,\n",
    "    eval_steps=200,\n",
    "    eval_strategy=\"steps\",\n",
    "    eval_on_start=True,\n",
    "    per_device_eval_batch_size=eval_batch,\n",
    "    report_to='wandb',\n",
    "    lr_scheduler_type='constant_with_warmup',\n",
    "    warmup_steps=500,\n",
    "    # max_steps=2000,\n",
    ")\n",
    "\n",
    "trainer = Trainer(\n",
    "    model,\n",
    "    training_args,\n",
    "    train_dataset=train_data,\n",
    "    eval_dataset=test_data,\n",
    "    data_collator=collate_fn,\n",
    "    compute_metrics=compute_metrics\n",
    ")\n",
    "\n",
    "trainer.remove_callback(NotebookProgressCallback)\n",
    "trainer.add_callback(NotebookProgressCallbackNoTable)\n",
    "\n",
    "# trainer.evaluate()\n",
    "trainer.train()\n",
    "# try: trainer.train(resume_from_checkpoint=True)\n",
    "# except: trainer.train(resume_from_checkpoint=False)"
   ]
  }
 ],
 "metadata": {
  "kernelspec": {
   "display_name": "MSE",
   "language": "python",
   "name": "python3"
  },
  "language_info": {
   "codemirror_mode": {
    "name": "ipython",
    "version": 3
   },
   "file_extension": ".py",
   "mimetype": "text/x-python",
   "name": "python",
   "nbconvert_exporter": "python",
   "pygments_lexer": "ipython3",
   "version": "3.11.11"
  }
 },
 "nbformat": 4,
 "nbformat_minor": 5
}
