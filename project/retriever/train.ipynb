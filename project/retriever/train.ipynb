{
 "cells": [
  {
   "cell_type": "code",
   "execution_count": 2,
   "id": "7990e11a",
   "metadata": {},
   "outputs": [
    {
     "name": "stdout",
     "output_type": "stream",
     "text": [
      "The autoreload extension is already loaded. To reload it, use:\n",
      "  %reload_ext autoreload\n"
     ]
    },
    {
     "name": "stderr",
     "output_type": "stream",
     "text": [
      "[nltk_data] Downloading package punkt_tab to /home/jan-\n",
      "[nltk_data]     malte/nltk_data...\n",
      "[nltk_data]   Package punkt_tab is already up-to-date!\n"
     ]
    },
    {
     "name": "stdout",
     "output_type": "stream",
     "text": [
      "clip/ColSent/bert-mini/b128_lr1E-06_microsoft/ms_marcov1.1\n",
      "Dataset({\n",
      "    features: ['answers', 'passages', 'query', 'query_id', 'query_type', 'wellFormedAnswers'],\n",
      "    num_rows: 82326\n",
      "})\n",
      "{'microsoft/ms_marcov1.1': Dataset({\n",
      "    features: ['answers', 'passages', 'query', 'query_id', 'query_type', 'wellFormedAnswers'],\n",
      "    num_rows: 5000\n",
      "}), 'microsoft/ms_marcov2.1': Dataset({\n",
      "    features: ['answers', 'passages', 'query', 'query_id', 'query_type', 'wellFormedAnswers'],\n",
      "    num_rows: 5000\n",
      "})}\n"
     ]
    }
   ],
   "source": [
    "%load_ext autoreload\n",
    "%autoreload 2\n",
    "\n",
    "from model import SiglipStyleModel, ColSentenceModel\n",
    "from utils import get_train_and_test_data\n",
    "\n",
    "# loss = \"siglip\"\n",
    "loss = \"clip\"\n",
    "batch_size = 128\n",
    "# epochs = 2 * batch_size\n",
    "epochs = 10\n",
    "lr = 1e-6\n",
    "eval_batch = 250\n",
    "architecture = \"ColSent\"\n",
    "\n",
    "models = {\n",
    "    \"ColSent\": ColSentenceModel,\n",
    "    \"Siglip\": SiglipStyleModel,\n",
    "}\n",
    "# model = RetrieverModel(loss_type=loss)\n",
    "model = models[architecture](loss_type=loss)\n",
    "model.load(\"../../clip/ColSent/bert-mini/b64_lr1E-06_microsoft/ms_marcov2.1/model.safetensors\")\n",
    "model.use_max_sim = False\n",
    "\n",
    "data_paths = [\n",
    "    (\"microsoft/ms_marco\", \"v1.1\"),\n",
    "    (\"microsoft/ms_marco\", \"v2.1\"),\n",
    "]\n",
    "train_data, test_data = get_train_and_test_data(data_paths)\n",
    "\n",
    "lr_n = \"\" if lr == 1e-7 else f\"lr{lr:.0E}_\"\n",
    "b_n = \"\" if batch_size == 2 else f\"b{batch_size}_\"\n",
    "\n",
    "model_name = model.model_name.split(\"/\")[-1]\n",
    "model_path = f\"{loss}/{architecture}/{model_name}/{b_n}{lr_n}{data_paths[0][0]}{data_paths[0][1]}\"\n",
    "print(model_path)\n",
    "print(train_data)\n",
    "print(test_data)"
   ]
  },
  {
   "cell_type": "code",
   "execution_count": 3,
   "id": "04618d1a",
   "metadata": {},
   "outputs": [
    {
     "name": "stderr",
     "output_type": "stream",
     "text": [
      "\u001b[34m\u001b[1mwandb\u001b[0m: Currently logged in as: \u001b[33mjanmaltegiannikos\u001b[0m to \u001b[32mhttps://api.wandb.ai\u001b[0m. Use \u001b[1m`wandb login --relogin`\u001b[0m to force relogin\n"
     ]
    },
    {
     "data": {
      "text/html": [
       "Tracking run with wandb version 0.21.0"
      ],
      "text/plain": [
       "<IPython.core.display.HTML object>"
      ]
     },
     "metadata": {},
     "output_type": "display_data"
    },
    {
     "data": {
      "text/html": [
       "Run data is saved locally in <code>/home/jan-malte/Modern-Search-Engines-Lecture/project/retriever/wandb/run-20250720_155150-yueh6pyo</code>"
      ],
      "text/plain": [
       "<IPython.core.display.HTML object>"
      ]
     },
     "metadata": {},
     "output_type": "display_data"
    },
    {
     "data": {
      "text/html": [
       "Syncing run <strong><a href='https://wandb.ai/mse-jan-simon/MSE/runs/yueh6pyo' target=\"_blank\">clip/ColSent/bert-mini/b128_lr1E-06_microsoft/ms_marcov1.1</a></strong> to <a href='https://wandb.ai/mse-jan-simon/MSE' target=\"_blank\">Weights & Biases</a> (<a href='https://wandb.me/developer-guide' target=\"_blank\">docs</a>)<br>"
      ],
      "text/plain": [
       "<IPython.core.display.HTML object>"
      ]
     },
     "metadata": {},
     "output_type": "display_data"
    },
    {
     "data": {
      "text/html": [
       " View project at <a href='https://wandb.ai/mse-jan-simon/MSE' target=\"_blank\">https://wandb.ai/mse-jan-simon/MSE</a>"
      ],
      "text/plain": [
       "<IPython.core.display.HTML object>"
      ]
     },
     "metadata": {},
     "output_type": "display_data"
    },
    {
     "data": {
      "text/html": [
       " View run at <a href='https://wandb.ai/mse-jan-simon/MSE/runs/yueh6pyo' target=\"_blank\">https://wandb.ai/mse-jan-simon/MSE/runs/yueh6pyo</a>"
      ],
      "text/plain": [
       "<IPython.core.display.HTML object>"
      ]
     },
     "metadata": {},
     "output_type": "display_data"
    },
    {
     "data": {
      "text/html": [
       "\n",
       "    <div>\n",
       "      \n",
       "      <progress value='40' max='20' style='width:300px; height:20px; vertical-align: middle;'></progress>\n",
       "      [20/20 00:13]\n",
       "    </div>\n",
       "    "
      ],
      "text/plain": [
       "<IPython.core.display.HTML object>"
      ]
     },
     "metadata": {},
     "output_type": "display_data"
    },
    {
     "name": "stderr",
     "output_type": "stream",
     "text": [
      "\u001b[34m\u001b[1mwandb\u001b[0m: \u001b[33mWARNING\u001b[0m The `run_name` is currently set to the same value as `TrainingArguments.output_dir`. If this was not intended, please specify a different run name by setting the `TrainingArguments.run_name` parameter.\n"
     ]
    },
    {
     "data": {
      "text/plain": [
       "{'eval_microsoft/ms_marcov1.1_loss': 5.336982250213623,\n",
       " 'eval_microsoft/ms_marcov1.1_model_preparation_time': 0.0016,\n",
       " 'eval_microsoft/ms_marcov1.1_recall@1': 0.1682,\n",
       " 'eval_microsoft/ms_marcov1.1_recall@2': 0.2708,\n",
       " 'eval_microsoft/ms_marcov1.1_recall@4': 0.3898,\n",
       " 'eval_microsoft/ms_marcov1.1_recall@8': 0.5294,\n",
       " 'eval_microsoft/ms_marcov1.1_recall@16': 0.6676,\n",
       " 'eval_microsoft/ms_marcov1.1_recall@32': 0.8108,\n",
       " 'eval_microsoft/ms_marcov1.1_mean_rank': 18.5364,\n",
       " 'eval_microsoft/ms_marcov1.1_median_rank': 6.0,\n",
       " 'eval_microsoft/ms_marcov1.1_mean_rank_norm': 0.0741456,\n",
       " 'eval_microsoft/ms_marcov1.1_median_rank_norm': 0.024,\n",
       " 'eval_microsoft/ms_marcov1.1_min_rank': 213,\n",
       " 'eval_microsoft/ms_marcov1.1_min_rank_norm': 0.852,\n",
       " 'eval_microsoft/ms_marcov1.1_recall@1%': 0.3428,\n",
       " 'eval_microsoft/ms_marcov1.1_recall@2%': 0.4322,\n",
       " 'eval_microsoft/ms_marcov1.1_recall@5%': 0.6282,\n",
       " 'eval_microsoft/ms_marcov1.1_recall@10%': 0.7646,\n",
       " 'eval_microsoft/ms_marcov1.1_recall@25%': 0.924,\n",
       " 'eval_microsoft/ms_marcov1.1_recall@50%': 0.9818,\n",
       " 'eval_microsoft/ms_marcov1.1_best_threshold': 0.53515625,\n",
       " 'eval_microsoft/ms_marcov1.1_best_score': 1.6939830780029297,\n",
       " 'eval_microsoft/ms_marcov1.1_runtime': 8.35,\n",
       " 'eval_microsoft/ms_marcov1.1_samples_per_second': 598.805,\n",
       " 'eval_microsoft/ms_marcov1.1_steps_per_second': 2.395,\n",
       " 'eval_microsoft/ms_marcov2.1_loss': 5.421209335327148,\n",
       " 'eval_microsoft/ms_marcov2.1_model_preparation_time': 0.0016,\n",
       " 'eval_microsoft/ms_marcov2.1_recall@1': 0.0832,\n",
       " 'eval_microsoft/ms_marcov2.1_recall@2': 0.145,\n",
       " 'eval_microsoft/ms_marcov2.1_recall@4': 0.2356,\n",
       " 'eval_microsoft/ms_marcov2.1_recall@8': 0.3596,\n",
       " 'eval_microsoft/ms_marcov2.1_recall@16': 0.514,\n",
       " 'eval_microsoft/ms_marcov2.1_recall@32': 0.667,\n",
       " 'eval_microsoft/ms_marcov2.1_mean_rank': 32.4112,\n",
       " 'eval_microsoft/ms_marcov2.1_median_rank': 14.5,\n",
       " 'eval_microsoft/ms_marcov2.1_mean_rank_norm': 0.1296448,\n",
       " 'eval_microsoft/ms_marcov2.1_median_rank_norm': 0.058,\n",
       " 'eval_microsoft/ms_marcov2.1_min_rank': 249,\n",
       " 'eval_microsoft/ms_marcov2.1_min_rank_norm': 0.996,\n",
       " 'eval_microsoft/ms_marcov2.1_recall@1%': 0.1952,\n",
       " 'eval_microsoft/ms_marcov2.1_recall@2%': 0.271,\n",
       " 'eval_microsoft/ms_marcov2.1_recall@5%': 0.4654,\n",
       " 'eval_microsoft/ms_marcov2.1_recall@10%': 0.608,\n",
       " 'eval_microsoft/ms_marcov2.1_recall@25%': 0.8364,\n",
       " 'eval_microsoft/ms_marcov2.1_recall@50%': 0.9438,\n",
       " 'eval_microsoft/ms_marcov2.1_best_threshold': 0.5172119140625,\n",
       " 'eval_microsoft/ms_marcov2.1_best_score': 1.564347743988037,\n",
       " 'eval_microsoft/ms_marcov2.1_runtime': 6.6195,\n",
       " 'eval_microsoft/ms_marcov2.1_samples_per_second': 755.343,\n",
       " 'eval_microsoft/ms_marcov2.1_steps_per_second': 3.021}"
      ]
     },
     "execution_count": 3,
     "metadata": {},
     "output_type": "execute_result"
    }
   ],
   "source": [
    "import os\n",
    "from transformers import Trainer, TrainingArguments\n",
    "from callbacks import NotebookProgressCallbackNoTable\n",
    "from transformers.utils.notebook import NotebookProgressCallback\n",
    "from evaluation import compute_metrics\n",
    "import wandb\n",
    "from utils import collate_fn\n",
    "from transformers.training_args import OptimizerNames\n",
    "\n",
    "os.environ[\"WANDB_PROJECT\"] = \"MSE\"\n",
    "os.environ[\"WANDB_LOG_MODEL\"] = \"false\"\n",
    "wandb.init(entity=\"mse-jan-simon\", name=model_path)\n",
    "\n",
    "training_args = TrainingArguments(\n",
    "    output_dir=\"models/\" + model_path,\n",
    "    per_device_train_batch_size=batch_size,\n",
    "    num_train_epochs=epochs,\n",
    "    learning_rate=lr,\n",
    "    save_steps=1000,\n",
    "    save_total_limit=1,\n",
    "    remove_unused_columns=False,\n",
    "    bf16=True,\n",
    "    optim=OptimizerNames.ADAMW_8BIT,\n",
    "    logging_steps=100,\n",
    "    eval_steps=200,\n",
    "    eval_strategy=\"steps\",\n",
    "    eval_on_start=True,\n",
    "    per_device_eval_batch_size=eval_batch,\n",
    "    report_to='wandb',\n",
    "    lr_scheduler_type='constant_with_warmup',\n",
    "    warmup_steps=500,\n",
    "    # max_steps=2000,\n",
    ")\n",
    "\n",
    "trainer = Trainer(\n",
    "    model,\n",
    "    training_args,\n",
    "    train_dataset=train_data,\n",
    "    eval_dataset=test_data,\n",
    "    data_collator=collate_fn,\n",
    "    compute_metrics=compute_metrics\n",
    ")\n",
    "\n",
    "trainer.remove_callback(NotebookProgressCallback)\n",
    "trainer.add_callback(NotebookProgressCallbackNoTable)\n",
    "\n",
    "trainer.evaluate()\n",
    "# trainer.train()\n",
    "# try: trainer.train(resume_from_checkpoint=True)\n",
    "# except: trainer.train(resume_from_checkpoint=False)"
   ]
  }
 ],
 "metadata": {
  "kernelspec": {
   "display_name": "modern_search_engines",
   "language": "python",
   "name": "python3"
  },
  "language_info": {
   "codemirror_mode": {
    "name": "ipython",
    "version": 3
   },
   "file_extension": ".py",
   "mimetype": "text/x-python",
   "name": "python",
   "nbconvert_exporter": "python",
   "pygments_lexer": "ipython3",
   "version": "3.13.5"
  }
 },
 "nbformat": 4,
 "nbformat_minor": 5
}
