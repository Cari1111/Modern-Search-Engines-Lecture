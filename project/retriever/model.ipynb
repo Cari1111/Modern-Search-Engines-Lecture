{
 "cells": [
  {
   "cell_type": "code",
   "execution_count": null,
   "id": "7990e11a",
   "metadata": {},
   "outputs": [
    {
     "name": "stderr",
     "output_type": "stream",
     "text": [
      "c:\\Users\\Simon\\miniconda3\\envs\\MSE\\Lib\\site-packages\\tqdm\\auto.py:21: TqdmWarning: IProgress not found. Please update jupyter and ipywidgets. See https://ipywidgets.readthedocs.io/en/stable/user_install.html\n",
      "  from .autonotebook import tqdm as notebook_tqdm\n"
     ]
    }
   ],
   "source": [
    "%load_ext autoreload\n",
    "%autoreload 2\n",
    "\n",
    "from model import RetrieverModel\n",
    "from datasets import load_dataset\n",
    "\n",
    "# loss = \"siglip\"\n",
    "loss = \"clip\"\n",
    "batch_size = 32\n",
    "# epochs = 2 * batch_size\n",
    "epochs = 1\n",
    "lr = 1e-7\n",
    "eval_batch = 1000\n",
    "\n",
    "model = RetrieverModel(loss_type=loss)\n",
    "dataset = load_dataset(\"microsoft/ms_marco\", \"v2.1\")\n",
    "\n",
    "lr_n = \"\" if lr == 1e-7 else f\"lr{lr:.0E}_\"\n",
    "b_n = \"\" if batch_size == 2 else f\"b{batch_size}\"\n",
    "\n",
    "model_name = model.model_name.split(\"/\")[-1]\n",
    "model_path = f\"{loss}/{model_name}/{b_n + lr_n}\"\n",
    "print(model_path)\n",
    "print(dataset)"
   ]
  },
  {
   "cell_type": "code",
   "execution_count": null,
   "id": "04618d1a",
   "metadata": {},
   "outputs": [
    {
     "name": "stderr",
     "output_type": "stream",
     "text": [
      "\u001b[34m\u001b[1mwandb\u001b[0m: Currently logged in as: \u001b[33msimon-doehl\u001b[0m (\u001b[33msimon-doehl-ai\u001b[0m) to \u001b[32mhttps://api.wandb.ai\u001b[0m. Use \u001b[1m`wandb login --relogin`\u001b[0m to force relogin\n"
     ]
    },
    {
     "data": {
      "text/html": [
       "Tracking run with wandb version 0.21.0"
      ],
      "text/plain": [
       "<IPython.core.display.HTML object>"
      ]
     },
     "metadata": {},
     "output_type": "display_data"
    },
    {
     "data": {
      "text/html": [
       "Run data is saved locally in <code>c:\\Users\\Simon\\Documents\\Ordner\\Uni\\Master\\25-Sommer\\Modern Search Engines\\Aufgaben\\project\\retriever\\wandb\\run-20250711_130331-ljlgq87j</code>"
      ],
      "text/plain": [
       "<IPython.core.display.HTML object>"
      ]
     },
     "metadata": {},
     "output_type": "display_data"
    },
    {
     "data": {
      "text/html": [
       "Syncing run <strong><a href='https://wandb.ai/simon-doehl-ai/MSE/runs/ljlgq87j' target=\"_blank\">clip/bert-mini/b32_</a></strong> to <a href='https://wandb.ai/simon-doehl-ai/MSE' target=\"_blank\">Weights & Biases</a> (<a href='https://wandb.me/developer-guide' target=\"_blank\">docs</a>)<br>"
      ],
      "text/plain": [
       "<IPython.core.display.HTML object>"
      ]
     },
     "metadata": {},
     "output_type": "display_data"
    },
    {
     "data": {
      "text/html": [
       " View project at <a href='https://wandb.ai/simon-doehl-ai/MSE' target=\"_blank\">https://wandb.ai/simon-doehl-ai/MSE</a>"
      ],
      "text/plain": [
       "<IPython.core.display.HTML object>"
      ]
     },
     "metadata": {},
     "output_type": "display_data"
    },
    {
     "data": {
      "text/html": [
       " View run at <a href='https://wandb.ai/simon-doehl-ai/MSE/runs/ljlgq87j' target=\"_blank\">https://wandb.ai/simon-doehl-ai/MSE/runs/ljlgq87j</a>"
      ],
      "text/plain": [
       "<IPython.core.display.HTML object>"
      ]
     },
     "metadata": {},
     "output_type": "display_data"
    },
    {
     "data": {
      "text/html": [
       "\n",
       "    <div>\n",
       "      \n",
       "      <progress value='25730' max='25730' style='width:300px; height:20px; vertical-align: middle;'></progress>\n",
       "      [25730/25730 46:58, Epoch 10/10]\n",
       "    </div>\n",
       "    "
      ],
      "text/plain": [
       "<IPython.core.display.HTML object>"
      ]
     },
     "metadata": {},
     "output_type": "display_data"
    },
    {
     "data": {
      "text/plain": [
       "TrainOutput(global_step=25730, training_loss=3.094243464078877, metrics={'train_runtime': 2835.6683, 'train_samples_per_second': 290.323, 'train_steps_per_second': 9.074, 'total_flos': 0.0, 'train_loss': 3.094243464078877, 'epoch': 10.0})"
      ]
     },
     "execution_count": 3,
     "metadata": {},
     "output_type": "execute_result"
    }
   ],
   "source": [
    "import os\n",
    "from transformers import Trainer, TrainingArguments\n",
    "from callbacks import NotebookProgressCallbackNoTable\n",
    "from transformers.utils.notebook import NotebookProgressCallback\n",
    "from evaluation import compute_metrics\n",
    "import numpy as np\n",
    "\n",
    "os.environ[\"WANDB_PROJECT\"] = \"MSE\"\n",
    "os.environ[\"WANDB_LOG_MODEL\"] = \"false\"\n",
    "\n",
    "training_args = TrainingArguments(\n",
    "    output_dir=\"models/\" + model_path,\n",
    "    per_device_train_batch_size=batch_size,\n",
    "    num_train_epochs=epochs,\n",
    "    learning_rate=lr,\n",
    "    save_steps=1000,\n",
    "    save_total_limit=1,\n",
    "    remove_unused_columns=False,\n",
    "    bf16=True,\n",
    "    optim=\"adamw_bnb_8bit\",\n",
    "    logging_steps=100,\n",
    "    eval_steps=200,\n",
    "    eval_strategy=\"steps\",\n",
    "    eval_on_start=True,\n",
    "    per_device_eval_batch_size=eval_batch,\n",
    "    run_name=model_path,\n",
    "    report_to='wandb',\n",
    "    # max_steps=1000,\n",
    ")\n",
    "\n",
    "def collate_fn(batch):\n",
    "    def get_relevant(passages):\n",
    "        passage = np.array(passages[\"passage_text\"])[np.array(passages[\"is_selected\"], bool)]\n",
    "        return passage[0] if len(passage) > 0 else \"\"\n",
    "    res = {\n",
    "        \"query\": [ex[\"query\"] for ex in batch],\n",
    "        # \"answer\": [ex[\"answers\"][0] if ex[\"answers\"] else \"\" for ex in batch],\n",
    "        \"answer\": [get_relevant(ex[\"passages\"]) for ex in batch],\n",
    "    }\n",
    "    return res\n",
    "\n",
    "trainer = Trainer(\n",
    "    model,\n",
    "    training_args,\n",
    "    train_dataset=dataset[\"train\"],\n",
    "    eval_dataset=dataset[\"test\"],\n",
    "    data_collator=collate_fn,\n",
    "    compute_metrics=compute_metrics\n",
    ")\n",
    "\n",
    "trainer.remove_callback(NotebookProgressCallback)\n",
    "trainer.add_callback(NotebookProgressCallbackNoTable)\n",
    "\n",
    "# trainer.evaluate()\n",
    "trainer.train()\n",
    "# try: trainer.train(resume_from_checkpoint=True)\n",
    "# except: trainer.train(resume_from_checkpoint=False)"
   ]
  }
 ],
 "metadata": {
  "kernelspec": {
   "display_name": "MSE",
   "language": "python",
   "name": "python3"
  },
  "language_info": {
   "codemirror_mode": {
    "name": "ipython",
    "version": 3
   },
   "file_extension": ".py",
   "mimetype": "text/x-python",
   "name": "python",
   "nbconvert_exporter": "python",
   "pygments_lexer": "ipython3",
   "version": "3.11.11"
  }
 },
 "nbformat": 4,
 "nbformat_minor": 5
}
