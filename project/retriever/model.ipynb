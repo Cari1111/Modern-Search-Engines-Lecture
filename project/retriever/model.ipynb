{
 "cells": [
  {
   "cell_type": "code",
   "execution_count": null,
   "id": "7990e11a",
   "metadata": {},
   "outputs": [
    {
     "name": "stderr",
     "output_type": "stream",
     "text": [
      "c:\\Users\\Simon\\miniconda3\\envs\\MSE\\Lib\\site-packages\\tqdm\\auto.py:21: TqdmWarning: IProgress not found. Please update jupyter and ipywidgets. See https://ipywidgets.readthedocs.io/en/stable/user_install.html\n",
      "  from .autonotebook import tqdm as notebook_tqdm\n"
     ]
    },
    {
     "name": "stdout",
     "output_type": "stream",
     "text": [
      "siglip/bert-mini/b128_lr1E-08_microsoft/ms_marcov2.1\n",
      "DatasetDict({\n",
      "    validation: Dataset({\n",
      "        features: ['answers', 'passages', 'query', 'query_id', 'query_type', 'wellFormedAnswers'],\n",
      "        num_rows: 101093\n",
      "    })\n",
      "    train: Dataset({\n",
      "        features: ['answers', 'passages', 'query', 'query_id', 'query_type', 'wellFormedAnswers'],\n",
      "        num_rows: 808731\n",
      "    })\n",
      "    test: Dataset({\n",
      "        features: ['answers', 'passages', 'query', 'query_id', 'query_type', 'wellFormedAnswers'],\n",
      "        num_rows: 101092\n",
      "    })\n",
      "})\n"
     ]
    }
   ],
   "source": [
    "%load_ext autoreload\n",
    "%autoreload 2\n",
    "\n",
    "from model import RetrieverModel\n",
    "from datasets import load_dataset\n",
    "\n",
    "# loss = \"siglip\"\n",
    "loss = \"clip\"\n",
    "batch_size = 128\n",
    "# epochs = 2 * batch_size\n",
    "epochs = 1\n",
    "lr = 1e-8\n",
    "eval_batch = 1000\n",
    "\n",
    "model = RetrieverModel(loss_type=loss)\n",
    "dataset_name = \"microsoft/ms_marco\"\n",
    "dir_name = \"v2.1\"\n",
    "dataset = load_dataset(dataset_name, dir_name)\n",
    "\n",
    "lr_n = \"\" if lr == 1e-7 else f\"lr{lr:.0E}_\"\n",
    "b_n = \"\" if batch_size == 2 else f\"b{batch_size}_\"\n",
    "\n",
    "model_name = model.model_name.split(\"/\")[-1]\n",
    "model_path = f\"{loss}/{model_name}/{b_n}{lr_n}{dataset_name}{dir_name}\"\n",
    "print(model_path)\n",
    "print(dataset)"
   ]
  },
  {
   "cell_type": "code",
   "execution_count": 2,
   "id": "04618d1a",
   "metadata": {},
   "outputs": [
    {
     "name": "stderr",
     "output_type": "stream",
     "text": [
      "\u001b[34m\u001b[1mwandb\u001b[0m: Currently logged in as: \u001b[33msimon-doehl\u001b[0m (\u001b[33msimon-doehl-ai\u001b[0m) to \u001b[32mhttps://api.wandb.ai\u001b[0m. Use \u001b[1m`wandb login --relogin`\u001b[0m to force relogin\n"
     ]
    },
    {
     "data": {
      "text/html": [
       "Tracking run with wandb version 0.21.0"
      ],
      "text/plain": [
       "<IPython.core.display.HTML object>"
      ]
     },
     "metadata": {},
     "output_type": "display_data"
    },
    {
     "data": {
      "text/html": [
       "Run data is saved locally in <code>c:\\Users\\Simon\\Documents\\Ordner\\Uni\\Master\\25-Sommer\\Modern Search Engines\\Aufgaben\\project\\retriever\\wandb\\run-20250712_150557-x1lvd7s9</code>"
      ],
      "text/plain": [
       "<IPython.core.display.HTML object>"
      ]
     },
     "metadata": {},
     "output_type": "display_data"
    },
    {
     "data": {
      "text/html": [
       "Syncing run <strong><a href='https://wandb.ai/simon-doehl-ai/MSE/runs/x1lvd7s9' target=\"_blank\">siglip/bert-mini/b128_lr1E-08_microsoft/ms_marcov2.1</a></strong> to <a href='https://wandb.ai/simon-doehl-ai/MSE' target=\"_blank\">Weights & Biases</a> (<a href='https://wandb.me/developer-guide' target=\"_blank\">docs</a>)<br>"
      ],
      "text/plain": [
       "<IPython.core.display.HTML object>"
      ]
     },
     "metadata": {},
     "output_type": "display_data"
    },
    {
     "data": {
      "text/html": [
       " View project at <a href='https://wandb.ai/simon-doehl-ai/MSE' target=\"_blank\">https://wandb.ai/simon-doehl-ai/MSE</a>"
      ],
      "text/plain": [
       "<IPython.core.display.HTML object>"
      ]
     },
     "metadata": {},
     "output_type": "display_data"
    },
    {
     "data": {
      "text/html": [
       " View run at <a href='https://wandb.ai/simon-doehl-ai/MSE/runs/x1lvd7s9' target=\"_blank\">https://wandb.ai/simon-doehl-ai/MSE/runs/x1lvd7s9</a>"
      ],
      "text/plain": [
       "<IPython.core.display.HTML object>"
      ]
     },
     "metadata": {},
     "output_type": "display_data"
    },
    {
     "data": {
      "text/html": [
       "\n",
       "    <div>\n",
       "      \n",
       "      <progress value='6319' max='6319' style='width:300px; height:20px; vertical-align: middle;'></progress>\n",
       "      [6319/6319 14:46, Epoch 1/1]\n",
       "    </div>\n",
       "    "
      ],
      "text/plain": [
       "<IPython.core.display.HTML object>"
      ]
     },
     "metadata": {},
     "output_type": "display_data"
    },
    {
     "data": {
      "text/plain": [
       "TrainOutput(global_step=6319, training_loss=144.9327565860401, metrics={'train_runtime': 904.2008, 'train_samples_per_second': 894.415, 'train_steps_per_second': 6.988, 'total_flos': 0.0, 'train_loss': 144.9327565860401, 'epoch': 1.0})"
      ]
     },
     "execution_count": 2,
     "metadata": {},
     "output_type": "execute_result"
    }
   ],
   "source": [
    "import os\n",
    "from transformers import Trainer, TrainingArguments\n",
    "from callbacks import NotebookProgressCallbackNoTable\n",
    "from transformers.utils.notebook import NotebookProgressCallback\n",
    "from evaluation import compute_metrics\n",
    "import numpy as np\n",
    "\n",
    "os.environ[\"WANDB_PROJECT\"] = \"MSE\"\n",
    "os.environ[\"WANDB_LOG_MODEL\"] = \"false\"\n",
    "\n",
    "training_args = TrainingArguments(\n",
    "    output_dir=\"models/\" + model_path,\n",
    "    per_device_train_batch_size=batch_size,\n",
    "    num_train_epochs=epochs,\n",
    "    learning_rate=lr,\n",
    "    save_steps=1000,\n",
    "    save_total_limit=1,\n",
    "    remove_unused_columns=False,\n",
    "    bf16=True,\n",
    "    optim=\"adamw_bnb_8bit\",\n",
    "    logging_steps=100,\n",
    "    eval_steps=200,\n",
    "    eval_strategy=\"steps\",\n",
    "    eval_on_start=True,\n",
    "    per_device_eval_batch_size=eval_batch,\n",
    "    run_name=model_path,\n",
    "    report_to='wandb',\n",
    "    # max_steps=1000,\n",
    ")\n",
    "\n",
    "def collate_fn(batch):\n",
    "    def get_relevant(passages):\n",
    "        passage = np.array(passages[\"passage_text\"])[np.array(passages[\"is_selected\"], bool)]\n",
    "        return passage[0] if len(passage) > 0 else \"\"\n",
    "    res = {\n",
    "        \"query\": [ex[\"query\"] for ex in batch],\n",
    "        # \"answer\": [ex[\"answers\"][0] if ex[\"answers\"] else \"\" for ex in batch],\n",
    "        \"answer\": [get_relevant(ex[\"passages\"]) for ex in batch],\n",
    "    }\n",
    "    return res\n",
    "\n",
    "trainer = Trainer(\n",
    "    model,\n",
    "    training_args,\n",
    "    train_dataset=dataset[\"train\"],\n",
    "    eval_dataset=dataset[\"test\"].take(10000),\n",
    "    data_collator=collate_fn,\n",
    "    compute_metrics=compute_metrics\n",
    ")\n",
    "\n",
    "trainer.remove_callback(NotebookProgressCallback)\n",
    "trainer.add_callback(NotebookProgressCallbackNoTable)\n",
    "\n",
    "# trainer.evaluate()\n",
    "trainer.train()\n",
    "# try: trainer.train(resume_from_checkpoint=True)\n",
    "# except: trainer.train(resume_from_checkpoint=False)"
   ]
  }
 ],
 "metadata": {
  "kernelspec": {
   "display_name": "MSE",
   "language": "python",
   "name": "python3"
  },
  "language_info": {
   "codemirror_mode": {
    "name": "ipython",
    "version": 3
   },
   "file_extension": ".py",
   "mimetype": "text/x-python",
   "name": "python",
   "nbconvert_exporter": "python",
   "pygments_lexer": "ipython3",
   "version": "3.11.11"
  }
 },
 "nbformat": 4,
 "nbformat_minor": 5
}
